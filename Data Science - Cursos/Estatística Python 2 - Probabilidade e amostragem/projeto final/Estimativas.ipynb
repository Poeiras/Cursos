{
 "cells": [
  {
   "cell_type": "markdown",
   "metadata": {
    "colab_type": "text",
    "id": "WvMflodMjQKe"
   },
   "source": [
    "***\n",
    "# <font color=green size=10>CURSO DE ESTATÍSTICA - PARTE 2</font>\n",
    "***\n",
    "\n",
    "## Trabalho sobre Probabilidades, Amostragem e Estimações\n",
    "\n",
    "Utilizando os conhecimentos adquiridos em nosso treinamento execute as tarefas abaixo. Siga o roteiro proposto e vá completando as células vazias."
   ]
  },
  {
   "cell_type": "markdown",
   "metadata": {
    "colab_type": "text",
    "id": "cVgsZ_E3jQKg"
   },
   "source": [
    "# <font color=green>DATASET DO PROJETO</font>\n",
    "***"
   ]
  },
  {
   "cell_type": "markdown",
   "metadata": {
    "colab_type": "text",
    "id": "iN1gIbaKjQKh"
   },
   "source": [
    "### Pesquisa Nacional por Amostra de Domicílios - 2015\n",
    "\n",
    "A <b>Pesquisa Nacional por Amostra de Domicílios - PNAD</b> investiga anualmente, de forma permanente, características gerais da população, de educação, trabalho, rendimento e habitação e outras, com periodicidade variável, de acordo com as necessidades de informação para o país, como as características sobre migração, fecundidade, nupcialidade, saúde, segurança alimentar, entre outros temas. O levantamento dessas estatísticas constitui, ao longo dos 49 anos de realização da pesquisa, um importante instrumento para formulação, validação e avaliação de políticas orientadas para o desenvolvimento socioeconômico e a melhoria das condições de vida no Brasil."
   ]
  },
  {
   "cell_type": "markdown",
   "metadata": {
    "colab_type": "text",
    "id": "U6V7br1RjQKi"
   },
   "source": [
    "### Fonte dos Dados\n",
    "\n",
    "https://ww2.ibge.gov.br/home/estatistica/populacao/trabalhoerendimento/pnad2015/microdados.shtm"
   ]
  },
  {
   "cell_type": "markdown",
   "metadata": {
    "colab_type": "text",
    "id": "r0Fe_qnzjQKj"
   },
   "source": [
    "### Variáveis utilizadas\n",
    "\n",
    "> ### Renda\n",
    "> ***\n",
    "\n",
    "Rendimento mensal do trabalho principal para pessoas de 10 anos ou mais de idade.\n",
    "\n",
    "> ### Idade\n",
    "> ***\n",
    "\n",
    "Idade do morador na data de referência em anos.\n",
    "\n",
    "> ### Altura (elaboração própria)\n",
    "> ***\n",
    "\n",
    "Altura do morador em metros.\n",
    "\n",
    "> ### UF\n",
    "> ***\n",
    "\n",
    "|Código|Descrição|\n",
    "|---|---|\n",
    "|11|Rondônia|\n",
    "|12|Acre|\n",
    "|13|Amazonas|\n",
    "|14|Roraima|\n",
    "|15|Pará|\n",
    "|16|Amapá|\n",
    "|17|Tocantins|\n",
    "|21|Maranhão|\n",
    "|22|Piauí|\n",
    "|23|Ceará|\n",
    "|24|Rio Grande do Norte|\n",
    "|25|Paraíba|\n",
    "|26|Pernambuco|\n",
    "|27|Alagoas|\n",
    "|28|Sergipe|\n",
    "|29|Bahia|\n",
    "|31|Minas Gerais|\n",
    "|32|Espírito Santo|\n",
    "|33|Rio de Janeiro|\n",
    "|35|São Paulo|\n",
    "|41|Paraná|\n",
    "|42|Santa Catarina|\n",
    "|43|Rio Grande do Sul|\n",
    "|50|Mato Grosso do Sul|\n",
    "|51|Mato Grosso|\n",
    "|52|Goiás|\n",
    "|53|Distrito Federal|\n",
    "\n",
    "> ### Sexo\t\n",
    "> ***\n",
    "\n",
    "|Código|Descrição|\n",
    "|---|---|\n",
    "|0|Masculino|\n",
    "|1|Feminino|\n",
    "\n",
    "> ### Anos de Estudo\n",
    "> ***\n",
    "\n",
    "|Código|Descrição|\n",
    "|---|---|\n",
    "|1|Sem instrução e menos de 1 ano|\n",
    "|2|1 ano|\n",
    "|3|2 anos|\n",
    "|4|3 anos|\n",
    "|5|4 anos|\n",
    "|6|5 anos|\n",
    "|7|6 anos|\n",
    "|8|7 anos|\n",
    "|9|8 anos|\n",
    "|10|9 anos|\n",
    "|11|10 anos|\n",
    "|12|11 anos|\n",
    "|13|12 anos|\n",
    "|14|13 anos|\n",
    "|15|14 anos|\n",
    "|16|15 anos ou mais|\n",
    "|17|Não determinados| \n",
    "||Não aplicável|\n",
    "\n",
    "> ### Cor\n",
    "> ***\n",
    "\n",
    "|Código|Descrição|\n",
    "|---|---|\n",
    "|0|Indígena|\n",
    "|2|Branca|\n",
    "|4|Preta|\n",
    "|6|Amarela|\n",
    "|8|Parda|\n",
    "|9|Sem declaração|"
   ]
  },
  {
   "cell_type": "markdown",
   "metadata": {
    "colab_type": "text",
    "id": "OK1IQH5cX7Gb"
   },
   "source": [
    "#### <font color='red'>Observação</font>\n",
    "***\n",
    "> Os seguintes tratamentos foram realizados nos dados originais:\n",
    "> 1. Foram eliminados os registros onde a <b>Renda</b> era inválida (999 999 999 999);\n",
    "> 2. Foram eliminados os registros onde a <b>Renda</b> era missing;\n",
    "> 3. Foram considerados somente os registros das <b>Pessoas de Referência</b> de cada domicílio (responsável pelo domicílio)."
   ]
  },
  {
   "cell_type": "markdown",
   "metadata": {
    "colab_type": "text",
    "id": "ZIqLOffNTg1Y"
   },
   "source": [
    "***\n",
    "***"
   ]
  },
  {
   "cell_type": "markdown",
   "metadata": {
    "colab_type": "text",
    "id": "8Rw70V6ojQKk"
   },
   "source": [
    "### Utilize a célula abaixo para importar as bibliotecas que precisar para executar as tarefas\n",
    "#### <font color='red'>Sugestões: pandas, numpy, scipy etc.</font>"
   ]
  },
  {
   "cell_type": "code",
   "execution_count": 1,
   "metadata": {
    "colab": {},
    "colab_type": "code",
    "id": "itHvj-WRKa86"
   },
   "outputs": [],
   "source": [
    "import pandas as pd \n",
    "import numpy as np \n",
    "import scipy \n",
    "from scipy.stats import binom\n",
    "from scipy.stats import norm\n",
    "from scipy.special import comb"
   ]
  },
  {
   "cell_type": "markdown",
   "metadata": {
    "colab_type": "text",
    "id": "2a-gvBvCULwt"
   },
   "source": [
    "### Importe o dataset e armazene o conteúdo em uma DataFrame"
   ]
  },
  {
   "cell_type": "code",
   "execution_count": 2,
   "metadata": {
    "colab": {},
    "colab_type": "code",
    "id": "ufRZ7TLwjQKo"
   },
   "outputs": [],
   "source": [
    "dados = pd.read_csv('dados.csv')"
   ]
  },
  {
   "cell_type": "markdown",
   "metadata": {
    "colab_type": "text",
    "id": "Oq3CKHCmTg1j"
   },
   "source": [
    "### Visualize o conteúdo do DataFrame"
   ]
  },
  {
   "cell_type": "code",
   "execution_count": 3,
   "metadata": {
    "colab": {},
    "colab_type": "code",
    "id": "GsC_WhLFjQKq",
    "scrolled": true
   },
   "outputs": [
    {
     "output_type": "stream",
     "name": "stdout",
     "text": [
      "<class 'pandas.core.frame.DataFrame'>\nRangeIndex: 76840 entries, 0 to 76839\nData columns (total 7 columns):\n #   Column          Non-Null Count  Dtype  \n---  ------          --------------  -----  \n 0   UF              76840 non-null  int64  \n 1   Sexo            76840 non-null  int64  \n 2   Idade           76840 non-null  int64  \n 3   Cor             76840 non-null  int64  \n 4   Anos de Estudo  76840 non-null  int64  \n 5   Renda           76840 non-null  int64  \n 6   Altura          76840 non-null  float64\ndtypes: float64(1), int64(6)\nmemory usage: 4.1 MB\n"
     ]
    }
   ],
   "source": [
    "dados.info()"
   ]
  },
  {
   "cell_type": "markdown",
   "metadata": {
    "colab_type": "text",
    "id": "Aa401USPKa9H"
   },
   "source": [
    "# <font color='green'>Problema A</font>"
   ]
  },
  {
   "cell_type": "markdown",
   "metadata": {
    "colab_type": "text",
    "id": "yUQqpvW6Ka9I"
   },
   "source": [
    "Avaliando nosso dataset é possível verificar que a **proporção de homens** como chefes de domicílios é de quase **70%**. Precisamos **selecionar aleatoriamente grupos de 10 indivíduos** para verificar as diferenças entre os rendimentos em cada grupo. Qual a **probabilidade de selecionamos um grupo que apresente a mesma proporção da população**, ou seja, selecionarmos um grupo que seja **composto por 7 homens e 3 mulheres**?\n",
    "\n",
    "#### <font color='blue'>Como tarefa extra, verifique a real proporção de homens e mulheres em nosso dataset (vimos como fazer isso em nosso primeiro curso de estatística).</font>\n",
    "\n",
    "#### <font color='red'>Verifique que tipo de distribuição de probabilidade se encaixa neste experimento.</font>"
   ]
  },
  {
   "cell_type": "markdown",
   "metadata": {
    "colab_type": "text",
    "id": "sD1EHuhrKa9I"
   },
   "source": [
    "### Solução"
   ]
  },
  {
   "cell_type": "code",
   "execution_count": 4,
   "metadata": {
    "colab": {},
    "colab_type": "code",
    "id": "lbDcyHPTKa9J"
   },
   "outputs": [
    {
     "output_type": "execute_result",
     "data": {
      "text/plain": [
       "Sexo       Frequencia  Porcentagem\n",
       "Masculino       53250     0.692998\n",
       "Feminino        23590     0.307002"
      ],
      "text/html": "<div>\n<style scoped>\n    .dataframe tbody tr th:only-of-type {\n        vertical-align: middle;\n    }\n\n    .dataframe tbody tr th {\n        vertical-align: top;\n    }\n\n    .dataframe thead th {\n        text-align: right;\n    }\n</style>\n<table border=\"1\" class=\"dataframe\">\n  <thead>\n    <tr style=\"text-align: right;\">\n      <th>Sexo</th>\n      <th>Frequencia</th>\n      <th>Porcentagem</th>\n    </tr>\n  </thead>\n  <tbody>\n    <tr>\n      <th>Masculino</th>\n      <td>53250</td>\n      <td>0.692998</td>\n    </tr>\n    <tr>\n      <th>Feminino</th>\n      <td>23590</td>\n      <td>0.307002</td>\n    </tr>\n  </tbody>\n</table>\n</div>"
     },
     "metadata": {},
     "execution_count": 4
    }
   ],
   "source": [
    "# Criando a tabela de frequências\n",
    "frequencia = dados['Sexo'].value_counts()\n",
    "porcentagem = dados['Sexo'].value_counts(normalize = True)\n",
    "df_sexo = pd.DataFrame({'Frequencia' : frequencia, 'Porcentagem': porcentagem})\n",
    "df_sexo.rename(index = {0 : 'Masculino', 1 : 'Feminino'}, inplace = True)\n",
    "df_sexo.rename_axis('Sexo', axis = 'columns', inplace = True )\n",
    "df_sexo"
   ]
  },
  {
   "cell_type": "code",
   "execution_count": 5,
   "metadata": {
    "colab": {},
    "colab_type": "code",
    "id": "0_4L_QOnKa9L"
   },
   "outputs": [],
   "source": [
    "# Probabilidade de um grupo ter 7h e 3m \n",
    "# Aplicação de uma distribuição binomial\n",
    "# Separação dos dados\n",
    "proporcao_de_homens = (df_sexo.Porcentagem['Masculino'])\n",
    "total_de_individuos = df_sexo.Frequencia.sum()\n",
    "total_de_equipes = total_de_individuos / 10\n",
    "tamanho_da_equipe = 10\n",
    "chance_acerto = 0.5\n",
    "eventos_sucesso = 7"
   ]
  },
  {
   "cell_type": "code",
   "execution_count": 6,
   "metadata": {},
   "outputs": [],
   "source": [
    "# p é chance de acerto, um acerto em duas possibilidades\n",
    "# n é o tamanho da equipe, o número de ensaios\n",
    "# k é a quantidade de acertos dentro de N\n",
    "p = proporcao_de_homens\n",
    "n = tamanho_da_equipe\n",
    "q = 1 - proporcao_de_homens\n",
    "k = eventos_sucesso"
   ]
  },
  {
   "cell_type": "code",
   "execution_count": 7,
   "metadata": {},
   "outputs": [
    {
     "output_type": "stream",
     "name": "stdout",
     "text": [
      "Total de individuos: 76840\nProporção de homens: p: 0.7\nTamanho da equipe: n: 10\nChance de acerto: q: 0.3\nEvento de sucesso: k: 7\n"
     ]
    }
   ],
   "source": [
    "# Conferindo variáveis\n",
    "print('Total de individuos: ' + '%0.0f' % total_de_individuos)\n",
    "print('Proporção de homens: p: ' + '%0.1f' %  proporcao_de_homens)\n",
    "print('Tamanho da equipe: n: ' + '%0.0f' % tamanho_da_equipe)\n",
    "print('Chance de acerto: q: ' + '%0.1f' % q)\n",
    "print('Evento de sucesso: k: ' + '%0.0f' % eventos_sucesso)"
   ]
  },
  {
   "cell_type": "code",
   "execution_count": 8,
   "metadata": {
    "colab": {},
    "colab_type": "code",
    "id": "rl7sfPTYKa9N"
   },
   "outputs": [
    {
     "output_type": "stream",
     "name": "stdout",
     "text": [
      "0.2665193783299737\n26.65\nTotal de equipes com formato 7h e 3m: 2048\n"
     ]
    }
   ],
   "source": [
    "# Cálculo com numpy  de distribuição binomial\n",
    "probabilidade = binom.pmf(k,n,p)\n",
    "print(probabilidade)\n",
    "print('%0.2f' % (probabilidade * 100))\n",
    "ne1 = (total_de_equipes * probabilidade).round(0)\n",
    "print('Total de equipes com formato 7h e 3m: ' + '%0.0f' % ne1)"
   ]
  },
  {
   "cell_type": "code",
   "execution_count": 9,
   "metadata": {},
   "outputs": [
    {
     "output_type": "stream",
     "name": "stdout",
     "text": [
      "0.26651938\n"
     ]
    }
   ],
   "source": [
    "# Cálculo completo de distribuição binomial\n",
    "# ERRADO\n",
    "a1 = comb(n, k)\n",
    "a2 = p ** k\n",
    "a3 = q ** (n - k)\n",
    "probabilidade2 = (a1 * a2 * a3 )\n",
    "print('%0.8f' % probabilidade2)"
   ]
  },
  {
   "cell_type": "markdown",
   "metadata": {
    "colab_type": "text",
    "id": "xhpA2dSYKa9R"
   },
   "source": [
    "# <font color='green'>Problema B</font>"
   ]
  },
  {
   "cell_type": "markdown",
   "metadata": {
    "colab_type": "text",
    "id": "fSu7XWKnKa9S"
   },
   "source": [
    "Ainda sobre a questão anterior, **quantos grupos de 10 indivíduos** nós precisaríamos selecionar, de forma aleatória, para conseguir **100 grupos compostos por 7 homens e 3 mulheres**?\n",
    "\n",
    "#### <font color='red'>Lembre-se da forma de cálculo da média de uma distribuição binomial</font>"
   ]
  },
  {
   "cell_type": "markdown",
   "metadata": {
    "colab_type": "text",
    "id": "Q3wWq7z2Ka9S"
   },
   "source": [
    "### Solução"
   ]
  },
  {
   "cell_type": "code",
   "execution_count": 10,
   "metadata": {
    "colab": {},
    "colab_type": "code",
    "id": "F27eIYXzKa9T"
   },
   "outputs": [
    {
     "output_type": "stream",
     "name": "stdout",
     "text": [
      "Serão necessários: 375 grupos!\n"
     ]
    }
   ],
   "source": [
    "# O valor esperado ou a média da distribuição binomial é igual ao número de experimentos realizados multiplicado pela chance de ocorrência do evento.\n",
    "# média  = numero de ensaios * probabilidade | u = n * p\n",
    "# 100(valor objetivo) = n (a descobrir quantos necessários) * probabilidade já calculada de grupos 7h3m\n",
    "media_binomial = 100/(probabilidade)\n",
    "media_binomial.round(0)\n",
    "print('Serão necessários: ' + '%0.0f' % media_binomial + ' grupos!')"
   ]
  },
  {
   "cell_type": "markdown",
   "metadata": {
    "colab_type": "text",
    "id": "5OKBEMUNKa9V"
   },
   "source": [
    "# <font color='green'>Problema C</font>"
   ]
  },
  {
   "cell_type": "markdown",
   "metadata": {
    "colab_type": "text",
    "id": "xEpjzbwBKa9W"
   },
   "source": [
    "Um cliente nos encomendou um estudo para avaliar o **rendimento dos chefes de domicílio no Brasil**. Para isso precisamos realizar uma nova coleta de dados, isto é, uma nova pesquisa de campo. Após reunião com o cliente foi possível elencar o seguinte conjunto de informações:\n",
    "\n",
    "> A. O resultado da pesquisa precisa estar pronto em **2 meses**;\n",
    "\n",
    "> B. Teremos somente **R$\\$$ 150.000,00** de recursos para realização da pesquisa de campo; e\n",
    "    \n",
    "> C. Seria interessante uma **margem de erro não superior a 10% em relação a média estimada**.\n",
    "\n",
    "Em nossa experiência com estudos deste tipo, sabemos que o **custo médio por indivíduo entrevistado fica em torno de R$\\$$ 100,00**. Com este conjunto de fatos avalie e obtenha o seguinte conjunto de informações para passar ao cliente:\n",
    "\n",
    "\n",
    "> 1. Para obter uma estimativa para os parâmetros da população (renda dos chefes de domicílio no Brasil), realize uma amostragem aleatória simples em nosso conjunto de dados. Essa amostra deve conter 200 elementos (utilize random_state = 101 para garantir que o mesmo experimento posso ser realizado novamente). Obtenha a média e o desvio-padrão dessa amostra.\n",
    "    \n",
    "> 2. Para a **margem de erro** especificada pelo cliente obtenha os **tamanhos de amostra** necessários para garantir os **níveis de confiança de 90%, 95% e 99%**.\n",
    "    \n",
    "> 3. Obtenha o **custo da pesquisa** para os três níveis de confiança.\n",
    "    \n",
    "> 4. Para o maior nível de confiança viável (dentro do orçamento disponível), obtenha um **intervalo de confiança para a média da população**.\n",
    "    \n",
    "> 5. Assumindo o **nível de confiança escolhido no item anterior**, qual **margem de erro** pode ser considerada utilizando todo o recurso disponibilizado pelo cliente?\n",
    "    \n",
    "> 6. Assumindo um **nível de confiança de 95%**, **quanto a pesquisa custaria ao cliente** caso fosse considerada uma **margem de erro de apenas 5%** em relação a média estimada?\n"
   ]
  },
  {
   "cell_type": "markdown",
   "metadata": {
    "colab_type": "text",
    "id": "fB8NAJsMKa9f"
   },
   "source": [
    "## Dados do problema"
   ]
  },
  {
   "cell_type": "code",
   "execution_count": 11,
   "metadata": {},
   "outputs": [],
   "source": [
    "# A e B  Unidade: R$\n",
    "# Unidade: meses\n",
    "# Erro maximo da média estimada\n",
    "orcamento = 150000\n",
    "custo_individual = 100\n",
    "tempo = 2\n",
    "erro_max = 0.1"
   ]
  },
  {
   "cell_type": "markdown",
   "metadata": {
    "colab_type": "text",
    "id": "m4qMQ4kdKa9W"
   },
   "source": [
    "# <font color='blue'>Solução do item 1</font>\n",
    "\n",
    "### Para obter uma estimativa para os parâmetros da população (renda dos chefes de domicílio no Brasil), realize uma amostragem aleatória simples em nosso conjunto de dados. Essa amostra deve conter 200 elementos (utilize random_state = 101 para garantir que o mesmo experimento posso ser realizado novamente). Obtenha a média e o desvio-padrão dessa amostra."
   ]
  },
  {
   "cell_type": "markdown",
   "metadata": {
    "colab_type": "text",
    "id": "fNb4Yb3RKa9X"
   },
   "source": [
    "### Seleção de uma amostra aleatório simples\n",
    "\n",
    "#### <font color='red'>Lembre-se de utilizar *random_state = 101*</font>"
   ]
  },
  {
   "cell_type": "code",
   "execution_count": 12,
   "metadata": {
    "colab": {},
    "colab_type": "code",
    "id": "_HxUH0AhKa9X"
   },
   "outputs": [
    {
     "output_type": "execute_result",
     "data": {
      "text/plain": [
       "29042     480\n",
       "62672     250\n",
       "29973     788\n",
       "22428    1680\n",
       "55145    2500\n",
       "         ... \n",
       "50497    3400\n",
       "3668      780\n",
       "4872     1000\n",
       "38670    1000\n",
       "71730     600\n",
       "Name: Renda, Length: 200, dtype: int64"
      ]
     },
     "metadata": {},
     "execution_count": 12
    }
   ],
   "source": [
    "# Criando o data frame das amostras\n",
    "amostra = dados.Renda.sample(n = 200, random_state= 101)\n",
    "amostra"
   ]
  },
  {
   "cell_type": "code",
   "execution_count": 13,
   "metadata": {
    "colab": {},
    "colab_type": "code",
    "id": "fJBYID7pKa9Z"
   },
   "outputs": [
    {
     "output_type": "stream",
     "name": "stdout",
     "text": [
      "1964.205\n3139.8855167452093\n"
     ]
    }
   ],
   "source": [
    "# Calculando média e desvio padrão\n",
    "media = amostra.mean()\n",
    "desvio = amostra.std()\n",
    "print(media)\n",
    "print(desvio)"
   ]
  },
  {
   "source": [
    "# <font color='blue'>Solução do item 2</font>\n",
    "### Para a margem de erro especificada pelo cliente obtenha os tamanhos de amostra necessários para garantir os níveis de confiança de 90%, 95% e 99%."
   ],
   "cell_type": "markdown",
   "metadata": {
    "colab_type": "text",
    "id": "waULC4fmKa9i"
   }
  },
  {
   "cell_type": "markdown",
   "metadata": {
    "colab_type": "text",
    "id": "dIFt1F2AKa9i"
   },
   "source": [
    "### Obtenha a margem de erro\n",
    "\n",
    "#### <font color='red'>Lembre-se que a margem de erro deve estar na mesma unidade da variável que está sendo estudada (R$)</font>"
   ]
  },
  {
   "cell_type": "markdown",
   "metadata": {
    "colab_type": "text",
    "id": "pLoYC--IKa9l"
   },
   "source": [
    "### Tamanho da amostra ($1 - \\alpha = 90\\%$)"
   ]
  },
  {
   "cell_type": "code",
   "execution_count": 14,
   "metadata": {
    "colab": {},
    "colab_type": "code",
    "id": "2d8PcF9iKa9o",
    "outputId": "8c21a0d7-43c3-4f68-b166-072cb5f19c0f"
   },
   "outputs": [
    {
     "output_type": "execute_result",
     "data": {
      "text/plain": [
       "691.0"
      ]
     },
     "metadata": {},
     "execution_count": 14
    }
   ],
   "source": [
    "# função Z\n",
    "confianca = 0.9\n",
    "erro_max = 0.1\n",
    "area = confianca /2 \n",
    "area_z = area + 0.5 \n",
    "z = norm.ppf(area_z)\n",
    "\n",
    "# erro percentual\n",
    "erro_percentual = media * erro_max\n",
    "\n",
    "# Tamanho\n",
    "amostra90 = (z * (desvio/erro_percentual)) ** 2\n",
    "amostra90.round(0)"
   ]
  },
  {
   "cell_type": "markdown",
   "metadata": {
    "colab_type": "text",
    "id": "brh0CpeSKa9q"
   },
   "source": [
    "### Tamanho da amostra ($1 - \\alpha = 95\\%$)"
   ]
  },
  {
   "cell_type": "code",
   "execution_count": 15,
   "metadata": {
    "colab": {},
    "colab_type": "code",
    "id": "8NtV47kVKa9q"
   },
   "outputs": [
    {
     "output_type": "execute_result",
     "data": {
      "text/plain": [
       "982.0"
      ]
     },
     "metadata": {},
     "execution_count": 15
    }
   ],
   "source": [
    "# função Z\n",
    "confianca = 0.95\n",
    "erro_max = 0.1\n",
    "area = confianca /2 \n",
    "area_z = area + 0.5 \n",
    "z = norm.ppf(area_z)\n",
    "\n",
    "# erro percentual\n",
    "erro_percentual = media * erro_max\n",
    "\n",
    "# Tamanho\n",
    "amostra95 = (z * (desvio/erro_percentual)) ** 2\n",
    "amostra95.round(0)"
   ]
  },
  {
   "cell_type": "markdown",
   "metadata": {
    "colab_type": "text",
    "id": "rAEX9_qFKa9y"
   },
   "source": [
    "### Tamanho da amostra ($1 - \\alpha = 99\\%$)"
   ]
  },
  {
   "cell_type": "code",
   "execution_count": 16,
   "metadata": {
    "colab": {},
    "colab_type": "code",
    "id": "keyN_N8xKa9w"
   },
   "outputs": [
    {
     "output_type": "execute_result",
     "data": {
      "text/plain": [
       "1695.0"
      ]
     },
     "metadata": {},
     "execution_count": 16
    }
   ],
   "source": [
    "# função Z\n",
    "confianca = 0.99\n",
    "erro_max = 0.10\n",
    "area = confianca /2 \n",
    "area_z = area + 0.5 \n",
    "z = norm.ppf(area_z)\n",
    "\n",
    "# erro percentual\n",
    "erro_percentual = media * erro_max\n",
    "\n",
    "# Tamanho\n",
    "amostra99 = (z * (desvio/erro_percentual)) ** 2\n",
    "amostra99.round(0)"
   ]
  },
  {
   "cell_type": "markdown",
   "metadata": {
    "colab_type": "text",
    "id": "n3dILIrGKa93"
   },
   "source": [
    "# <font color='blue'>Solução do item 3</font>\n",
    "### Obtenha o custo da pesquisa para os três níveis de confiança."
   ]
  },
  {
   "cell_type": "markdown",
   "metadata": {
    "colab_type": "text",
    "id": "SzkxkOB6Ka93"
   },
   "source": [
    "### Custo da pesquisa para o nível de confiança de 90%"
   ]
  },
  {
   "cell_type": "code",
   "execution_count": 17,
   "metadata": {
    "colab": {},
    "colab_type": "code",
    "id": "j_0BpUBMKa95"
   },
   "outputs": [
    {
     "output_type": "execute_result",
     "data": {
      "text/plain": [
       "69136.68"
      ]
     },
     "metadata": {},
     "execution_count": 17
    }
   ],
   "source": [
    "custo_90 = amostra90 * custo_individual\r\n",
    "custo_90.round(2)"
   ]
  },
  {
   "cell_type": "markdown",
   "metadata": {
    "colab_type": "text",
    "id": "DdoUIGXkKa97"
   },
   "source": [
    "### Custo da pesquisa para o nível de confiança de 95%"
   ]
  },
  {
   "cell_type": "code",
   "execution_count": 18,
   "metadata": {
    "colab": {},
    "colab_type": "code",
    "id": "R4YQV7_EKa97"
   },
   "outputs": [
    {
     "output_type": "execute_result",
     "data": {
      "text/plain": [
       "98163.53"
      ]
     },
     "metadata": {},
     "execution_count": 18
    }
   ],
   "source": [
    "custo_95 = amostra95 * custo_individual\n",
    "custo_95.round(2)"
   ]
  },
  {
   "cell_type": "markdown",
   "metadata": {
    "colab_type": "text",
    "id": "f4SppXkOKa9-"
   },
   "source": [
    "### Custo da pesquisa para o nível de confiança de 99%"
   ]
  },
  {
   "cell_type": "code",
   "execution_count": 19,
   "metadata": {
    "colab": {},
    "colab_type": "code",
    "id": "7fZucTJIKa9-"
   },
   "outputs": [
    {
     "output_type": "execute_result",
     "data": {
      "text/plain": [
       "169546.24"
      ]
     },
     "metadata": {},
     "execution_count": 19
    }
   ],
   "source": [
    "custo_99 = amostra99 * custo_individual\n",
    "custo_99.round(2)"
   ]
  },
  {
   "cell_type": "markdown",
   "metadata": {
    "colab_type": "text",
    "id": "0HVhFFfMKa-A"
   },
   "source": [
    "# <font color='blue'>Solução do item 4</font>\n",
    "### Para o maior nível de confiança viável (dentro do orçamento disponível), obtenha um intervalo de confiança para a média da população."
   ]
  },
  {
   "cell_type": "code",
   "execution_count": 20,
   "metadata": {},
   "outputs": [],
   "source": [
    "# Cálculo z\n",
    "area95 = 0.95 / 2\n",
    "area_z95 = area95 + 0.5\n",
    "z95 = norm.ppf(area_z95)"
   ]
  },
  {
   "cell_type": "code",
   "execution_count": 21,
   "metadata": {},
   "outputs": [],
   "source": [
    "# Erro inferencial\n",
    "raiz = np.sqrt(amostra)\n",
    "sigma = desvio / raiz \n",
    "erro_inferencial = z95 * sigma"
   ]
  },
  {
   "cell_type": "code",
   "execution_count": 22,
   "metadata": {},
   "outputs": [
    {
     "output_type": "execute_result",
     "data": {
      "text/plain": [
       "(1767.7845, 2160.6255)"
      ]
     },
     "metadata": {},
     "execution_count": 22
    }
   ],
   "source": [
    "# Intervalo de confiança - a escala é o desvio padrão pela divisão de n\n",
    "escala = desvio / np.sqrt(amostra95)\n",
    "intervalo95 = norm.interval(alpha = 0.95, loc = media, scale = escala)\n",
    "intervalo95"
   ]
  },
  {
   "source": [
    "# <font color='blue'>Solução do item 5</font>\n",
    "\n",
    "### Assumindo o nível de confiança escolhido no item anterior, qual margem de erro pode ser considerada utilizando todo o recurso disponibilizado pelo cliente?"
   ],
   "cell_type": "markdown",
   "metadata": {
    "colab_type": "text",
    "id": "n8uxkOcPKa-D"
   }
  },
  {
   "cell_type": "code",
   "execution_count": 25,
   "metadata": {},
   "outputs": [
    {
     "output_type": "execute_result",
     "data": {
      "text/plain": [
       "158.89721122673703"
      ]
     },
     "metadata": {},
     "execution_count": 25
    }
   ],
   "source": [
    "# Nível 95% - erro\n",
    "total_entrevistas_possiveis = orcamento / custo_individual\n",
    "tep = total_entrevistas_possiveis\n",
    "z = norm.ppf(.975)\n",
    "erro = z * (desvio/ np.sqrt(tep))\n",
    "erro"
   ]
  },
  {
   "cell_type": "code",
   "execution_count": 30,
   "metadata": {},
   "outputs": [
    {
     "output_type": "stream",
     "name": "stdout",
     "text": [
      "Nova margem de erro: 8.09%\n"
     ]
    }
   ],
   "source": [
    "# Erro percentual\n",
    "erro_percentual = erro / media\n",
    "erro_percentual = erro_percentual * 100\n",
    "print('Nova margem de erro: ' + '%0.2f' % erro_percentual + '%')"
   ]
  },
  {
   "cell_type": "markdown",
   "metadata": {
    "colab_type": "text",
    "id": "ood3yi8mKa-K"
   },
   "source": [
    "# <font color='blue'>Solução do item 6</font>\n",
    "### Assumindo um nível de confiança de 95%, quanto a pesquisa custaria ao cliente caso fosse considerada uma margem de erro de apenas 5% em relação a média estimada?"
   ]
  },
  {
   "cell_type": "code",
   "execution_count": 31,
   "metadata": {},
   "outputs": [
    {
     "output_type": "stream",
     "name": "stdout",
     "text": [
      "A margem de erro é de R$98.21 para mais ou menos reais\n"
     ]
    }
   ],
   "source": [
    "erro = 0.05 * media\n",
    "print('A margem de erro é de R$' + '%0.2f' % erro + ' para mais ou menos reais')"
   ]
  },
  {
   "cell_type": "code",
   "execution_count": 32,
   "metadata": {},
   "outputs": [
    {
     "output_type": "stream",
     "name": "stdout",
     "text": [
      "Para um nível de confiança de 95% devemos selecionar uma amostra de 3927 elementos.\n"
     ]
    }
   ],
   "source": [
    "z = norm.ppf(.975)\n",
    "nivel95 = (z * (desvio / erro)) ** 2\n",
    "nivel95 = int(nivel95.round(0))\n",
    "print('Para um nível de confiança de 95%% devemos selecionar uma amostra de %s elementos.' %nivel95)"
   ]
  },
  {
   "cell_type": "code",
   "execution_count": 34,
   "metadata": {},
   "outputs": [
    {
     "output_type": "stream",
     "name": "stdout",
     "text": [
      "O custo para uma pesquisa com 95% de confiança seria:R$ 392700.00\n"
     ]
    }
   ],
   "source": [
    "custo_confianca95 = nivel95 * custo_individual\n",
    "print('O custo para uma pesquisa com 95% de confiança seria:R$ ' + '%0.2f' % custo_confianca95 )"
   ]
  }
 ],
 "metadata": {
  "colab": {
   "name": "Estimativas.ipynb",
   "provenance": [],
   "toc_visible": true,
   "version": "0.3.2"
  },
  "kernelspec": {
   "name": "python388jvsc74a57bd0b3ba2566441a7c06988d0923437866b63cedc61552a5af99d1f4fb67d367b25f",
   "display_name": "Python 3.8.8 64-bit ('base': conda)"
  },
  "language_info": {
   "codemirror_mode": {
    "name": "ipython",
    "version": 3
   },
   "file_extension": ".py",
   "mimetype": "text/x-python",
   "name": "python",
   "nbconvert_exporter": "python",
   "pygments_lexer": "ipython3",
   "version": "3.8.8"
  }
 },
 "nbformat": 4,
 "nbformat_minor": 1
}