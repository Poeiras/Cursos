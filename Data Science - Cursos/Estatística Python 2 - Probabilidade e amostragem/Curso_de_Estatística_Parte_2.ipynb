{
 "cells": [
  {
   "cell_type": "markdown",
   "metadata": {
    "colab_type": "text",
    "id": "WvMflodMjQKe"
   },
   "source": [
    "***\n",
    "# <font color=green size=10>CURSO DE ESTATÍSTICA - PARTE 2</font>\n",
    "***"
   ]
  },
  {
   "cell_type": "markdown",
   "metadata": {
    "colab_type": "text",
    "id": "cVgsZ_E3jQKg"
   },
   "source": [
    "# <font color=green>1 CONHECENDO OS DADOS</font>\n",
    "***"
   ]
  },
  {
   "cell_type": "markdown",
   "metadata": {
    "colab_type": "text",
    "id": "TDjqYYNojQKh"
   },
   "source": [
    "## <font color=green>1.1 Dataset do projeto</font>\n",
    "***"
   ]
  },
  {
   "cell_type": "markdown",
   "metadata": {
    "colab_type": "text",
    "id": "iN1gIbaKjQKh"
   },
   "source": [
    "### Pesquisa Nacional por Amostra de Domicílios - 2015\n",
    "\n",
    "A **Pesquisa Nacional por Amostra de Domicílios - PNAD** investiga anualmente, de forma permanente, características gerais da população, de educação, trabalho, rendimento e habitação e outras, com periodicidade variável, de acordo com as necessidades de informação para o país, como as características sobre migração, fecundidade, nupcialidade, saúde, segurança alimentar, entre outros temas. O levantamento dessas estatísticas constitui, ao longo dos 49 anos de realização da pesquisa, um importante instrumento para formulação, validação e avaliação de políticas orientadas para o desenvolvimento socioeconômico e a melhoria das condições de vida no Brasil."
   ]
  },
  {
   "cell_type": "markdown",
   "metadata": {
    "colab_type": "text",
    "id": "U6V7br1RjQKi"
   },
   "source": [
    "### Fonte dos Dados\n",
    "\n",
    "https://ww2.ibge.gov.br/home/estatistica/populacao/trabalhoerendimento/pnad2015/microdados.shtm"
   ]
  },
  {
   "cell_type": "markdown",
   "metadata": {
    "colab_type": "text",
    "id": "r0Fe_qnzjQKj"
   },
   "source": [
    "### Variáveis utilizadas\n",
    "\n",
    "> ### Renda\n",
    "> ***\n",
    "\n",
    "Rendimento mensal do trabalho principal para pessoas de 10 anos ou mais de idade.\n",
    "\n",
    "> ### Idade\n",
    "> ***\n",
    "\n",
    "Idade do morador na data de referência em anos.\n",
    "\n",
    "> ### Altura (elaboração própria)\n",
    "> ***\n",
    "\n",
    "Altura do morador em metros.\n",
    "\n",
    "> ### UF\n",
    "> ***\n",
    "\n",
    "|Código|Descrição|\n",
    "|---|---|\n",
    "|11|Rondônia|\n",
    "|12|Acre|\n",
    "|13|Amazonas|\n",
    "|14|Roraima|\n",
    "|15|Pará|\n",
    "|16|Amapá|\n",
    "|17|Tocantins|\n",
    "|21|Maranhão|\n",
    "|22|Piauí|\n",
    "|23|Ceará|\n",
    "|24|Rio Grande do Norte|\n",
    "|25|Paraíba|\n",
    "|26|Pernambuco|\n",
    "|27|Alagoas|\n",
    "|28|Sergipe|\n",
    "|29|Bahia|\n",
    "|31|Minas Gerais|\n",
    "|32|Espírito Santo|\n",
    "|33|Rio de Janeiro|\n",
    "|35|São Paulo|\n",
    "|41|Paraná|\n",
    "|42|Santa Catarina|\n",
    "|43|Rio Grande do Sul|\n",
    "|50|Mato Grosso do Sul|\n",
    "|51|Mato Grosso|\n",
    "|52|Goiás|\n",
    "|53|Distrito Federal|\n",
    "\n",
    "> ### Sexo\t\n",
    "> ***\n",
    "\n",
    "|Código|Descrição|\n",
    "|---|---|\n",
    "|0|Masculino|\n",
    "|1|Feminino|\n",
    "\n",
    "> ### Anos de Estudo\n",
    "> ***\n",
    "\n",
    "|Código|Descrição|\n",
    "|---|---|\n",
    "|1|Sem instrução e menos de 1 ano|\n",
    "|2|1 ano|\n",
    "|3|2 anos|\n",
    "|4|3 anos|\n",
    "|5|4 anos|\n",
    "|6|5 anos|\n",
    "|7|6 anos|\n",
    "|8|7 anos|\n",
    "|9|8 anos|\n",
    "|10|9 anos|\n",
    "|11|10 anos|\n",
    "|12|11 anos|\n",
    "|13|12 anos|\n",
    "|14|13 anos|\n",
    "|15|14 anos|\n",
    "|16|15 anos ou mais|\n",
    "|17|Não determinados| \n",
    "||Não aplicável|\n",
    "\n",
    "> ### Cor\n",
    "> ***\n",
    "\n",
    "|Código|Descrição|\n",
    "|---|---|\n",
    "|0|Indígena|\n",
    "|2|Branca|\n",
    "|4|Preta|\n",
    "|6|Amarela|\n",
    "|8|Parda|\n",
    "|9|Sem declaração|"
   ]
  },
  {
   "cell_type": "markdown",
   "metadata": {
    "colab_type": "text",
    "id": "OK1IQH5cX7Gb"
   },
   "source": [
    "#### <font color='red'>Observação</font>\n",
    "***\n",
    "> Os seguintes tratamentos foram realizados nos dados originais:\n",
    "> 1. Foram eliminados os registros onde a **Renda** era inválida (999 999 999 999);\n",
    "> 2. Foram eliminados os registros onde a **Renda** era missing;\n",
    "> 3. Foram considerados somente os registros das **Pessoas de Referência** de cada domicílio (responsável pelo domicílio)."
   ]
  },
  {
   "cell_type": "markdown",
   "metadata": {
    "colab_type": "text",
    "id": "8Rw70V6ojQKk"
   },
   "source": [
    "### Importando pandas e lendo o dataset do projeto\n",
    "\n",
    "https://pandas.pydata.org/"
   ]
  },
  {
   "cell_type": "code",
   "execution_count": 1,
   "metadata": {
    "colab": {},
    "colab_type": "code",
    "id": "8QgOpE-wjQKl"
   },
   "outputs": [],
   "source": [
    "import pandas as pd\n",
    "import numpy as np\n",
    "import seaborn as sns\n",
    "import matplotlib.pyplot as plt"
   ]
  },
  {
   "cell_type": "code",
   "execution_count": 2,
   "metadata": {
    "colab": {},
    "colab_type": "code",
    "id": "ufRZ7TLwjQKo"
   },
   "outputs": [
    {
     "output_type": "stream",
     "name": "stdout",
     "text": [
      "<class 'pandas.core.frame.DataFrame'>\nRangeIndex: 76840 entries, 0 to 76839\nData columns (total 7 columns):\n #   Column          Non-Null Count  Dtype  \n---  ------          --------------  -----  \n 0   UF              76840 non-null  int64  \n 1   Sexo            76840 non-null  int64  \n 2   Idade           76840 non-null  int64  \n 3   Cor             76840 non-null  int64  \n 4   Anos de Estudo  76840 non-null  int64  \n 5   Renda           76840 non-null  int64  \n 6   Altura          76840 non-null  float64\ndtypes: float64(1), int64(6)\nmemory usage: 4.1 MB\n"
     ]
    }
   ],
   "source": [
    "dados = pd.read_csv('dados.csv')\n",
    "dados.info()"
   ]
  },
  {
   "cell_type": "markdown",
   "metadata": {
    "colab_type": "text",
    "id": "-z3bLQIUG3Hv"
   },
   "source": [
    "---\n",
    "---"
   ]
  },
  {
   "cell_type": "markdown",
   "metadata": {
    "colab_type": "text",
    "id": "tL9xVLwTX07g"
   },
   "source": [
    "# <font color=green>2 DISTRIBUIÇÕES DE PROBABILIDADE</font>\n",
    "***"
   ]
  },
  {
   "cell_type": "markdown",
   "metadata": {
    "colab_type": "text",
    "id": "3nlvC-5qG3Bj"
   },
   "source": [
    "## <font color=red>Problema</font>\n",
    "***"
   ]
  },
  {
   "cell_type": "markdown",
   "metadata": {
    "colab_type": "text",
    "id": "8CclIz9oG3Bk"
   },
   "source": [
    "Em um concurso para preencher uma vaga de cientista de dados temos um total de **10 questões** de múltipla escolha com **3 alternativas possíveis** em cada questão. **Cada questão tem o mesmo valor.** Suponha que um candidato resolva se aventurar sem ter estudado absolutamente nada. Ele resolve fazer a prova de olhos vendados e chutar todas as resposta. Assumindo que a prova **vale 10 pontos e a nota de corte seja 5**, obtenha a probabilidade deste candidato **acertar 5 questões** e também a probabilidade deste candidato **passar para a próxima etapa do processo seletivo**."
   ]
  },
  {
   "cell_type": "markdown",
   "metadata": {
    "colab_type": "text",
    "id": "KJxd2KFSYLML"
   },
   "source": [
    "## <font color=green>2.1 Distribuição Binomial</font>\n",
    "***"
   ]
  },
  {
   "cell_type": "markdown",
   "metadata": {
    "colab_type": "text",
    "id": "mcbl3KbnG3Bq"
   },
   "source": [
    "Um evento **binomial** é caracterizado pela possibilidade de ocorrência de apenas duas categorias. Estas categorias somadas representam todo o espaço amostral, sendo também mutuamente excludentes, ou seja, a ocorrência de uma implica na não ocorrência da outra.\n",
    "\n",
    "Em análises estatísticas o uso mais comum da distribuição binomial é na solução de problemas que envolvem situações de **sucesso** e **fracasso**."
   ]
  },
  {
   "cell_type": "markdown",
   "metadata": {
    "colab_type": "text",
    "id": "iLoYAuJ9G3Bs"
   },
   "source": [
    "# $$P(k)=\\binom{n}{k} p^k q^{n-k}$$\n",
    "\n",
    "Onde:\n",
    "\n",
    "$p$ = probabilidade de sucesso\n",
    "\n",
    "$q = (1 - p)$ = probabilidade de fracasso\n",
    "\n",
    "$n$ = número de eventos estudados\n",
    "\n",
    "$k$ = número de eventos desejados que tenham sucesso"
   ]
  },
  {
   "cell_type": "markdown",
   "metadata": {
    "colab_type": "text",
    "id": "PxEgWbFdG3Bt"
   },
   "source": [
    "### Experimento Binomial"
   ]
  },
  {
   "cell_type": "markdown",
   "metadata": {
    "colab_type": "text",
    "id": "eqQK3Ny-G3Bv"
   },
   "source": [
    "1. Realização de $n$ ensaios idênticos.\n",
    "\n",
    "2. Os ensaios são independentes.\n",
    "\n",
    "3. Somente dois resultados são possíveis, exemplo: Verdadeiro ou falso; Cara ou coroa; Sucesso ou fracasso.\n",
    "\n",
    "4. A probabilidade de sucesso é representada por $p$ e a de fracasso por $1-p=q$. Estas probabilidades não se modificam de ensaio para ensaio."
   ]
  },
  {
   "cell_type": "markdown",
   "metadata": {
    "colab_type": "text",
    "id": "mT77udQ0G3Bx"
   },
   "source": [
    "### Média da distribuição binomial"
   ]
  },
  {
   "cell_type": "markdown",
   "metadata": {
    "colab_type": "text",
    "id": "EGiuemgqG3By"
   },
   "source": [
    "O valor esperado ou a média da distribuição binomial é igual ao número de experimentos realizados multiplicado pela chance de ocorrência do evento.\n",
    "\n",
    "# $$\\mu = n \\times p$$"
   ]
  },
  {
   "cell_type": "markdown",
   "metadata": {
    "colab_type": "text",
    "id": "1fDLi96OG3Bz"
   },
   "source": [
    "### Desvio padrão da distribuição binomial"
   ]
  },
  {
   "cell_type": "markdown",
   "metadata": {
    "colab_type": "text",
    "id": "EZojizotG3B1"
   },
   "source": [
    "O desvio padrão é o produto entre o número de experimentos, a probabilidade de sucesso e a probabilidade de fracasso.\n",
    "\n",
    "# $$\\sigma = \\sqrt{n \\times p \\times q}$$"
   ]
  },
  {
   "cell_type": "markdown",
   "metadata": {
    "colab_type": "text",
    "id": "udqnjFnsG3B2"
   },
   "source": [
    "### Importando bibliotecas\n",
    "https://docs.scipy.org/doc/scipy/reference/generated/scipy.special.comb.html"
   ]
  },
  {
   "cell_type": "code",
   "execution_count": 3,
   "metadata": {
    "colab": {},
    "colab_type": "code",
    "id": "-U2sGssNG3B4"
   },
   "outputs": [],
   "source": [
    "from scipy.special import comb"
   ]
  },
  {
   "cell_type": "markdown",
   "metadata": {
    "colab_type": "text",
    "id": "MxxuJNSwG3B7"
   },
   "source": [
    "### Combinações\n",
    "\n",
    "Número de combinações de $n$ objetos, tomados $k$ a cada vez, é:\n",
    "\n",
    "# $$C_{k}^{n} = \\binom{n}{k} = \\frac{n!}{k!(n - k)!}$$\n",
    "\n",
    "Onde\n",
    "\n",
    "## $$n! = n\\times(n-1)\\times(n-2)\\times...\\times(2)\\times(1)$$\n",
    "## $$k! = k\\times(k-1)\\times(k-2)\\times...\\times(2)\\times(1)$$\n",
    "\n",
    "Por definição\n",
    "\n",
    "## $$0! = 1$$"
   ]
  },
  {
   "cell_type": "markdown",
   "metadata": {
    "colab_type": "text",
    "id": "Udz87Pq3G3B8"
   },
   "source": [
    "## <font color='blue'>Exemplo: Mega Sena</font>"
   ]
  },
  {
   "cell_type": "markdown",
   "metadata": {
    "colab_type": "text",
    "id": "h1Mo9AxyG3B8"
   },
   "source": [
    "Em um volante de loteria da Mega Sena temos um total de **60 números** para escolher onde a aposta mínima é de **seis números**. Você que é curiosa(o) resolve calcular a probabilidade de se acertar na Mega Sena com apenas **um jogo**. Para isso precisamos saber quantas **combinações de seis números podem ser formadas com os 60 números disponíveis**.\n",
    "\n",
    "### $$C_{6}^{60} = \\binom{60}{6} = \\frac{60!}{6!(60 - 6)!}$$"
   ]
  },
  {
   "cell_type": "code",
   "execution_count": 4,
   "metadata": {
    "colab": {
     "base_uri": "https://localhost:8080/",
     "height": 34
    },
    "colab_type": "code",
    "id": "c2t7yHl7G3B9",
    "outputId": "6d1e9337-9d68-4866-9e48-3dbb3f81d07d"
   },
   "outputs": [
    {
     "output_type": "execute_result",
     "data": {
      "text/plain": [
       "50063860.0"
      ]
     },
     "metadata": {},
     "execution_count": 4
    }
   ],
   "source": [
    "# O espaço amostral é de 60, e o número de marcações 6\n",
    "combinacoes = comb(60,6)\n",
    "combinacoes"
   ]
  },
  {
   "cell_type": "code",
   "execution_count": 5,
   "metadata": {
    "colab": {
     "base_uri": "https://localhost:8080/",
     "height": 34
    },
    "colab_type": "code",
    "id": "LpioeTSXG3CB",
    "outputId": "d1e0ab82-be84-423c-e206-a9f8e1437df4"
   },
   "outputs": [
    {
     "output_type": "stream",
     "name": "stdout",
     "text": [
      "0.000000019974489\n"
     ]
    }
   ],
   "source": [
    "# A probilidade de acerto é a razão entre tentativa/combinações\n",
    "probabilidade = 1 / combinacoes\n",
    "print('%0.15f' %probabilidade)"
   ]
  },
  {
   "cell_type": "markdown",
   "metadata": {
    "colab_type": "text",
    "id": "t1rA1yJpG3CF"
   },
   "source": [
    "## <font color='blue'>Exemplo: Concurso para cientista de dados</font>"
   ]
  },
  {
   "cell_type": "markdown",
   "metadata": {
    "colab_type": "text",
    "id": "K0DPDD37G3CG"
   },
   "source": [
    "Em um concurso para preencher uma vaga de cientista de dados temos um total de **10 questões** de múltipla escolha com **3 alternativas possíveis** em cada questão. **Cada questão tem o mesmo valor.** Suponha que um candidato resolva se aventurar sem ter estudado absolutamente nada. Ele resolve fazer a prova de olhos vendados e chutar todas as resposta. Assumindo que a prova **vale 10 pontos e a nota de corte seja 5**, obtenha a probabilidade deste candidato **acertar 5 questões** e também a probabilidade deste candidato **passar para a próxima etapa do processo seletivo**."
   ]
  },
  {
   "cell_type": "markdown",
   "metadata": {
    "colab_type": "text",
    "id": "sf-NMPfxG3CH"
   },
   "source": [
    "### Qual o número de ensaios ($n$)?"
   ]
  },
  {
   "cell_type": "code",
   "execution_count": 6,
   "metadata": {
    "colab": {
     "base_uri": "https://localhost:8080/",
     "height": 34
    },
    "colab_type": "code",
    "id": "WmnjMTnYG3CH",
    "outputId": "859f37e5-992a-4ccf-fbfb-4e2cf52c4373"
   },
   "outputs": [],
   "source": [
    "# O número de ensaios é de 10 questões, com 3 alternativas\n",
    "n = 10"
   ]
  },
  {
   "cell_type": "markdown",
   "metadata": {
    "colab_type": "text",
    "id": "1USf9Ro8G3CK"
   },
   "source": [
    "### Os ensaios são independentes?"
   ]
  },
  {
   "cell_type": "markdown",
   "metadata": {
    "colab_type": "text",
    "id": "82xf2XIkG3CM"
   },
   "source": [
    "Sim. A opção escolhida em uma questão não influencia em nada a opção escolhida em outra questão."
   ]
  },
  {
   "cell_type": "markdown",
   "metadata": {
    "colab_type": "text",
    "id": "7jN0H5e7G3CN"
   },
   "source": [
    "### Somente dois resultados são possíveis em cada ensaio?"
   ]
  },
  {
   "cell_type": "markdown",
   "metadata": {
    "colab_type": "text",
    "id": "gGxcY7K8G3CO"
   },
   "source": [
    "Sim. O candidato tem duas possibilidades, ACERTA ou ERRAR uma questão. "
   ]
  },
  {
   "cell_type": "markdown",
   "metadata": {
    "colab_type": "text",
    "id": "MZw2LDQjG3CR"
   },
   "source": [
    "### Qual a probabilidade de sucesso ($p$)?"
   ]
  },
  {
   "cell_type": "code",
   "execution_count": 7,
   "metadata": {
    "colab": {
     "base_uri": "https://localhost:8080/",
     "height": 34
    },
    "colab_type": "code",
    "id": "AazGDtt0G3CS",
    "outputId": "ccb9e561-0413-43c8-c462-ebea4b6c1097"
   },
   "outputs": [
    {
     "output_type": "execute_result",
     "data": {
      "text/plain": [
       "0.3333333333333333"
      ]
     },
     "metadata": {},
     "execution_count": 7
    }
   ],
   "source": [
    "numero_de_alternativas_por_questao = 3\n",
    "p = 1/numero_de_alternativas_por_questao\n",
    "p"
   ]
  },
  {
   "cell_type": "markdown",
   "metadata": {
    "colab_type": "text",
    "id": "KPCw41OlG3CX"
   },
   "source": [
    "### Qual a probabilidade de fracasso ($q$)?"
   ]
  },
  {
   "cell_type": "code",
   "execution_count": 8,
   "metadata": {
    "colab": {
     "base_uri": "https://localhost:8080/",
     "height": 34
    },
    "colab_type": "code",
    "id": "FRhmjCnpG3CZ",
    "outputId": "f521f041-ecf4-4c4c-b696-da7b949d657a"
   },
   "outputs": [
    {
     "output_type": "execute_result",
     "data": {
      "text/plain": [
       "0.6666666666666667"
      ]
     },
     "metadata": {},
     "execution_count": 8
    }
   ],
   "source": [
    "q = 1 - p\n",
    "q"
   ]
  },
  {
   "cell_type": "markdown",
   "metadata": {
    "colab_type": "text",
    "id": "W2htpmzaG3Ce"
   },
   "source": [
    "### Qual o total de eventos que se deseja obter sucesso ($k$)?"
   ]
  },
  {
   "cell_type": "code",
   "execution_count": 9,
   "metadata": {
    "colab": {
     "base_uri": "https://localhost:8080/",
     "height": 34
    },
    "colab_type": "code",
    "id": "MmHpiIIuG3Cj",
    "outputId": "6975cb4f-5cd3-4234-f7b0-b5d01ceb0430"
   },
   "outputs": [],
   "source": [
    "k = 5"
   ]
  },
  {
   "cell_type": "markdown",
   "metadata": {
    "colab_type": "text",
    "id": "r8TZ6DSuG3Cm"
   },
   "source": [
    "### Solução 1"
   ]
  },
  {
   "cell_type": "code",
   "execution_count": 10,
   "metadata": {
    "colab": {
     "base_uri": "https://localhost:8080/",
     "height": 34
    },
    "colab_type": "code",
    "id": "tZBbMIzKG3Cn",
    "outputId": "cb9ddc72-bd3a-40e6-f432-ad02048a3047"
   },
   "outputs": [
    {
     "output_type": "stream",
     "name": "stdout",
     "text": [
      "0.13656455\n"
     ]
    }
   ],
   "source": [
    "probabilidade = (comb(n,k)* (p**k)*(q **(n-k)))\n",
    "print('%0.8f' % probabilidade)"
   ]
  },
  {
   "cell_type": "markdown",
   "metadata": {
    "colab_type": "text",
    "id": "rDwUvW5UG3Cq"
   },
   "source": [
    "### Importando bibliotecas\n",
    "https://docs.scipy.org/doc/scipy/reference/generated/scipy.stats.binom.html"
   ]
  },
  {
   "cell_type": "code",
   "execution_count": 11,
   "metadata": {
    "colab": {},
    "colab_type": "code",
    "id": "rhlsI3iLG3Cr"
   },
   "outputs": [],
   "source": [
    "from scipy.stats import binom"
   ]
  },
  {
   "cell_type": "markdown",
   "metadata": {
    "colab_type": "text",
    "id": "hvj2sYaSG3Ct"
   },
   "source": [
    "### Solução 2"
   ]
  },
  {
   "cell_type": "code",
   "execution_count": 12,
   "metadata": {
    "colab": {
     "base_uri": "https://localhost:8080/",
     "height": 34
    },
    "colab_type": "code",
    "id": "OjS1xsz5G3Cu",
    "outputId": "e5406623-9e3e-4d41-d1de-c774dc96bc17"
   },
   "outputs": [
    {
     "output_type": "stream",
     "name": "stdout",
     "text": [
      "0.13656455\n"
     ]
    }
   ],
   "source": [
    "# Através da bib scipy\n",
    "probabilidade = binom.pmf(k,n,p)\n",
    "print('%0.8f' % probabilidade)"
   ]
  },
  {
   "cell_type": "markdown",
   "metadata": {},
   "source": [
    "### Obter a probabilidade do candidato passar"
   ]
  },
  {
   "cell_type": "markdown",
   "metadata": {},
   "source": [
    "### $$P(acertar \\geq 5) = P(5) + P(6) + P(7) + P(8) + P(9) + P10)$$"
   ]
  },
  {
   "cell_type": "code",
   "execution_count": 13,
   "metadata": {},
   "outputs": [
    {
     "output_type": "execute_result",
     "data": {
      "text/plain": [
       "0.21312808006909525"
      ]
     },
     "metadata": {},
     "execution_count": 13
    }
   ],
   "source": [
    "probabilidade =binom.pmf(k,n,p) + binom.pmf(6,n,p) + binom.pmf(7,n,p) +binom.pmf(8,n,p) + binom.pmf(9,n,p) + binom.pmf(10,n,p)\n",
    "probabilidade"
   ]
  },
  {
   "cell_type": "code",
   "execution_count": 14,
   "metadata": {},
   "outputs": [
    {
     "output_type": "execute_result",
     "data": {
      "text/plain": [
       "0.21312808006909525"
      ]
     },
     "metadata": {},
     "execution_count": 14
    }
   ],
   "source": [
    "# Usando uma array\n",
    "binom.pmf([5,6,7,8,9,10],n,p).sum()"
   ]
  },
  {
   "cell_type": "code",
   "execution_count": 15,
   "metadata": {},
   "outputs": [
    {
     "output_type": "execute_result",
     "data": {
      "text/plain": [
       "0.21312808006909512"
      ]
     },
     "metadata": {},
     "execution_count": 15
    }
   ],
   "source": [
    "# probabilidade de insucesso no cálculo do binômio\n",
    "1 - binom.cdf(4, n , p)"
   ]
  },
  {
   "cell_type": "code",
   "execution_count": 16,
   "metadata": {},
   "outputs": [
    {
     "output_type": "execute_result",
     "data": {
      "text/plain": [
       "0.21312808006909517"
      ]
     },
     "metadata": {},
     "execution_count": 16
    }
   ],
   "source": [
    "# Através do espaço de erro\n",
    "binom.sf(4, n, p)"
   ]
  },
  {
   "cell_type": "markdown",
   "metadata": {
    "colab_type": "text",
    "id": "7hAZ4XkMG3Cx"
   },
   "source": [
    "## <font color='blue'>Exemplo: Gincana</font>"
   ]
  },
  {
   "cell_type": "markdown",
   "metadata": {
    "colab_type": "text",
    "id": "l42alRhOG3Cy"
   },
   "source": [
    "Uma cidade do interior realiza todos os anos uma gincana para arrecadar fundos para o hospital da cidade. Na última gincana se sabe que a **proporção de participantes do sexo feminino foi de 60%**. **O total de equipes, com 12 integrantes, inscritas na gincana deste ano é de 30**. Com as informações acima responda: Quantas equipes deverão ser formadas por **8 mulheres**?"
   ]
  },
  {
   "cell_type": "markdown",
   "metadata": {
    "colab_type": "text",
    "id": "dqBGf6d7G3C0"
   },
   "source": [
    "### Solução"
   ]
  },
  {
   "cell_type": "code",
   "execution_count": 17,
   "metadata": {
    "colab": {
     "base_uri": "https://localhost:8080/",
     "height": 34
    },
    "colab_type": "code",
    "id": "Xw9b6ch3G3C1",
    "outputId": "b4bb8b11-5113-4cc9-bac1-59e9acaf67e6"
   },
   "outputs": [],
   "source": [
    "p = 0.6"
   ]
  },
  {
   "cell_type": "code",
   "execution_count": 18,
   "metadata": {
    "colab": {
     "base_uri": "https://localhost:8080/",
     "height": 34
    },
    "colab_type": "code",
    "id": "R3-RaxP5G3C3",
    "outputId": "180b09ba-666e-47c9-b476-224c71fdd5c0"
   },
   "outputs": [],
   "source": [
    "n = 12"
   ]
  },
  {
   "cell_type": "code",
   "execution_count": 19,
   "metadata": {
    "colab": {
     "base_uri": "https://localhost:8080/",
     "height": 34
    },
    "colab_type": "code",
    "id": "otBHHyD0G3C6",
    "outputId": "c3bdd1ab-763a-43db-ec2e-fb890aa78e3f"
   },
   "outputs": [],
   "source": [
    "k = 8"
   ]
  },
  {
   "cell_type": "code",
   "execution_count": 20,
   "metadata": {
    "colab": {
     "base_uri": "https://localhost:8080/",
     "height": 34
    },
    "colab_type": "code",
    "id": "ZAoBvbQqG3C9",
    "outputId": "62d68ce0-f87f-4879-cc48-4358a7f23a68"
   },
   "outputs": [
    {
     "output_type": "stream",
     "name": "stdout",
     "text": [
      "0.21\n"
     ]
    }
   ],
   "source": [
    "probabilidade = binom.pmf(k, n, p)\n",
    "print('%0.2f' % probabilidade)"
   ]
  },
  {
   "cell_type": "code",
   "execution_count": 21,
   "metadata": {
    "colab": {
     "base_uri": "https://localhost:8080/",
     "height": 34
    },
    "colab_type": "code",
    "id": "Tg53uGL4G3DA",
    "outputId": "cf68634d-68fd-41c5-a9a1-98c5ead8b548"
   },
   "outputs": [
    {
     "output_type": "execute_result",
     "data": {
      "text/plain": [
       "6.0"
      ]
     },
     "metadata": {},
     "execution_count": 21
    }
   ],
   "source": [
    "equipe = 30 * probabilidade\n",
    "equipe.round(0)"
   ]
  },
  {
   "cell_type": "markdown",
   "metadata": {
    "colab_type": "text",
    "id": "49TiCQRvG3DC"
   },
   "source": [
    "---\n",
    "---"
   ]
  },
  {
   "cell_type": "markdown",
   "metadata": {
    "colab_type": "text",
    "id": "X6bYonAZG3DE"
   },
   "source": [
    "## <font color=red>Problema</font>\n",
    "***"
   ]
  },
  {
   "cell_type": "markdown",
   "metadata": {
    "colab_type": "text",
    "id": "Ccx-Bc9oG3DH"
   },
   "source": [
    "Um restaurante recebe em média **20 pedidos por hora**. Qual a chance de que, em determinada hora escolhida ao acaso, o restaurante receba **15 pedidos**?"
   ]
  },
  {
   "cell_type": "markdown",
   "metadata": {
    "colab_type": "text",
    "id": "k-uV7bgsmand"
   },
   "source": [
    "## <font color=green>2.2 Distribuição Poisson</font>\n",
    "***"
   ]
  },
  {
   "cell_type": "markdown",
   "metadata": {
    "colab_type": "text",
    "id": "H0jPtJICG3DM"
   },
   "source": [
    "É empregada para descrever o número de ocorrências em um intervalo de tempo ou espaço específico. Os eventos são caracterizados pela possibilidade de contagem dos sucessos, mas a não possibilidade de contagem dos fracassos.\n",
    "\n",
    "Como exemplos de processos onde podemos aplicar a distribuição de Poisson temos a determinação do número de clientes que entram em uma loja em determinada hora, o número de carros que chegam em um drive-thru de uma lanchonete na hora do almoço, a determinação do número de acidentes registrados em um trecho de estrada etc."
   ]
  },
  {
   "cell_type": "markdown",
   "metadata": {
    "colab_type": "text",
    "id": "O_XqwANJG3DN"
   },
   "source": [
    "# $$P(k) = \\frac{e^{-\\mu}(\\mu)^k}{k!}$$\n",
    "\n",
    "Onde:\n",
    "\n",
    "$e$ = constante cujo valor aproximado é 2,718281828459045\n",
    "\n",
    "$\\mu$ = representa o número médio de ocorrências em um determinado intervalo de tempo ou espaço\n",
    "\n",
    "$k$ = número de sucessos no intervalo desejado"
   ]
  },
  {
   "cell_type": "markdown",
   "metadata": {
    "colab_type": "text",
    "id": "FqquU8wOG3DO"
   },
   "source": [
    "### Experimento Poisson"
   ]
  },
  {
   "cell_type": "markdown",
   "metadata": {
    "colab_type": "text",
    "id": "ir2odEW3G3DO"
   },
   "source": [
    "1. A probabilidade de uma ocorrência é a mesma em todo o intervalo observado.\n",
    "\n",
    "2. O número de ocorrências em determinado intervalo é independente do número de ocorrências em outros intervalos.\n",
    "\n",
    "3. A probabilidade de uma ocorrência é a mesma em intervalos de igual comprimento."
   ]
  },
  {
   "cell_type": "markdown",
   "metadata": {
    "colab_type": "text",
    "id": "2INlWMa0G3DP"
   },
   "source": [
    "### Média da distribuição Poisson"
   ]
  },
  {
   "cell_type": "markdown",
   "metadata": {
    "colab_type": "text",
    "id": "xywTsniCG3DP"
   },
   "source": [
    "# $$\\mu$$"
   ]
  },
  {
   "cell_type": "markdown",
   "metadata": {
    "colab_type": "text",
    "id": "7-Lh-LpfG3DQ"
   },
   "source": [
    "### Desvio padrão da distribuição Poisson"
   ]
  },
  {
   "cell_type": "markdown",
   "metadata": {
    "colab_type": "text",
    "id": "61uStWUsG3DQ"
   },
   "source": [
    "# $$\\sigma = \\sqrt{\\mu}$$"
   ]
  },
  {
   "cell_type": "markdown",
   "metadata": {
    "colab_type": "text",
    "id": "vniBmzIMG3DR"
   },
   "source": [
    "### Importando bibliotecas\n",
    "\n",
    "http://www.numpy.org/"
   ]
  },
  {
   "cell_type": "code",
   "execution_count": 22,
   "metadata": {
    "colab": {},
    "colab_type": "code",
    "id": "w23fjVT-G3DS"
   },
   "outputs": [],
   "source": [
    "import numpy as np"
   ]
  },
  {
   "cell_type": "code",
   "execution_count": 23,
   "metadata": {
    "colab": {
     "base_uri": "https://localhost:8080/",
     "height": 34
    },
    "colab_type": "code",
    "id": "rdNqMuFNG3DU",
    "outputId": "fad8f9cf-efe3-44e4-8bd3-7495c4161845"
   },
   "outputs": [
    {
     "output_type": "execute_result",
     "data": {
      "text/plain": [
       "2.718281828459045"
      ]
     },
     "metadata": {},
     "execution_count": 23
    }
   ],
   "source": [
    "np.e"
   ]
  },
  {
   "cell_type": "markdown",
   "metadata": {
    "colab_type": "text",
    "id": "RKQWuVgMG3DW"
   },
   "source": [
    "## <font color='blue'>Exemplo: Delivery</font>"
   ]
  },
  {
   "cell_type": "markdown",
   "metadata": {
    "colab_type": "text",
    "id": "ZKc__49bG3DX"
   },
   "source": [
    "Um restaurante recebe em média **20 pedidos por hora**. Qual a chance de que, em determinada hora escolhida ao acaso, o restaurante receba **15 pedidos**?"
   ]
  },
  {
   "cell_type": "markdown",
   "metadata": {
    "colab_type": "text",
    "id": "W-MJ4XBkG3DX"
   },
   "source": [
    "### Qual o número médio de ocorrências por hora ($\\mu$)?"
   ]
  },
  {
   "cell_type": "code",
   "execution_count": 24,
   "metadata": {
    "colab": {
     "base_uri": "https://localhost:8080/",
     "height": 34
    },
    "colab_type": "code",
    "id": "2fVfJxdSG3DY",
    "outputId": "5f93f4cb-eef7-459d-836c-eb825cf3f1d5"
   },
   "outputs": [],
   "source": [
    "media = 20"
   ]
  },
  {
   "cell_type": "markdown",
   "metadata": {
    "colab_type": "text",
    "id": "3SagRtPvG3Da"
   },
   "source": [
    "### Qual o número de ocorrências que queremos obter no período ($k$)?"
   ]
  },
  {
   "cell_type": "code",
   "execution_count": 25,
   "metadata": {
    "colab": {
     "base_uri": "https://localhost:8080/",
     "height": 34
    },
    "colab_type": "code",
    "id": "yXB3QhWyG3Da",
    "outputId": "70e860fe-353f-43ba-98e9-0976282de023"
   },
   "outputs": [],
   "source": [
    "k = 15"
   ]
  },
  {
   "cell_type": "markdown",
   "metadata": {
    "colab_type": "text",
    "id": "3wFh3lFCG3De"
   },
   "source": [
    "### Solução 1"
   ]
  },
  {
   "cell_type": "code",
   "execution_count": 26,
   "metadata": {
    "colab": {
     "base_uri": "https://localhost:8080/",
     "height": 34
    },
    "colab_type": "code",
    "id": "IEGO31WCG3Df",
    "outputId": "3ededd4d-1b97-428a-ad3f-1b8facfc3e38"
   },
   "outputs": [
    {
     "output_type": "stream",
     "name": "stdout",
     "text": [
      "Chance: 0.05164885\n"
     ]
    }
   ],
   "source": [
    "probabilidade = ((np.e ** (-media)) * (media ** k)) / (np.math.factorial(k))\n",
    "print('Chance: ' + '%0.8f' % probabilidade)"
   ]
  },
  {
   "cell_type": "markdown",
   "metadata": {
    "colab_type": "text",
    "id": "GoIBvH62G3Di"
   },
   "source": [
    "### Importando bibliotecas"
   ]
  },
  {
   "cell_type": "markdown",
   "metadata": {
    "colab_type": "text",
    "id": "iFSF_9Y4G3Dj"
   },
   "source": [
    "https://docs.scipy.org/doc/scipy/reference/generated/scipy.stats.poisson.html"
   ]
  },
  {
   "cell_type": "markdown",
   "metadata": {
    "colab_type": "text",
    "id": "yAyXh0euG3Dk"
   },
   "source": [
    "### Solução 2"
   ]
  },
  {
   "cell_type": "code",
   "execution_count": 27,
   "metadata": {
    "colab": {
     "base_uri": "https://localhost:8080/",
     "height": 34
    },
    "colab_type": "code",
    "id": "sNw4oCAyG3Dk",
    "outputId": "21ded08e-1fc3-4315-c608-9c016af07e86"
   },
   "outputs": [
    {
     "output_type": "stream",
     "name": "stdout",
     "text": [
      "Chance: 0.05164885\n"
     ]
    }
   ],
   "source": [
    "from scipy.stats import poisson\n",
    "probabilidade = poisson.pmf(k, media)\n",
    "print('Chance: ' + '%0.8f' % probabilidade)"
   ]
  },
  {
   "cell_type": "markdown",
   "metadata": {
    "colab_type": "text",
    "id": "g3ng8tQFG3Do"
   },
   "source": [
    "---\n",
    "---"
   ]
  },
  {
   "cell_type": "markdown",
   "metadata": {
    "colab_type": "text",
    "id": "tVPUT9kEG3Dp"
   },
   "source": [
    "## <font color=red>Problema</font>\n",
    "***"
   ]
  },
  {
   "cell_type": "markdown",
   "metadata": {
    "colab_type": "text",
    "id": "j7zVDN0kG3Dq"
   },
   "source": [
    "Em um estudo sobre as alturas dos moradores de uma cidade verificou-se que o conjunto de dados segue uma **distribuição aproximadamente normal**, com **média 1,70** e **desvio padrão de 0,1**. Com estas informações obtenha o seguinte conjunto de probabilidades:\n",
    "\n",
    "> **A.** probabilidade de uma pessoa, selecionada ao acaso, ter menos de 1,80 metros.\n",
    "\n",
    "> **B.** probabilidade de uma pessoa, selecionada ao acaso, ter entre 1,60 metros e 1,80 metros.    \n",
    "\n",
    "> **C.** probabilidade de uma pessoa, selecionada ao acaso, ter mais de 1,90 metros."
   ]
  },
  {
   "cell_type": "markdown",
   "metadata": {
    "colab_type": "text",
    "id": "AowcVaKqpvf2"
   },
   "source": [
    "## <font color=green>2.3 Distribuição Normal</font>\n",
    "***"
   ]
  },
  {
   "cell_type": "markdown",
   "metadata": {
    "colab_type": "text",
    "id": "YOBD21hGG3Dw"
   },
   "source": [
    "A distribuição normal é uma das mais utilizadas em estatística. É uma distribuição contínua, onde a distribuição de frequências de uma variável quantitativa apresenta a forma de sino e é simétrica em relação a sua média."
   ]
  },
  {
   "cell_type": "markdown",
   "metadata": {
    "colab_type": "text",
    "id": "kbPy2ORqqKJA"
   },
   "source": [
    "![Normal](https://caelum-online-public.s3.amazonaws.com/1178-estatistica-parte2/01/img001.png)"
   ]
  },
  {
   "cell_type": "markdown",
   "metadata": {
    "colab_type": "text",
    "id": "J3eKESHTG3Dx"
   },
   "source": [
    "### Características importantes"
   ]
  },
  {
   "cell_type": "markdown",
   "metadata": {
    "colab_type": "text",
    "id": "z8GxAzWZG3Dx"
   },
   "source": [
    "1. É simétrica em torno da média;\n",
    "\n",
    "2. A área sob a curva corresponde à proporção 1 ou 100%;\n",
    "\n",
    "3. As medidas de tendência central (média, mediana e moda) apresentam o mesmo valor;\n",
    "\n",
    "4. Os extremos da curva tendem ao infinito em ambas as direções e, teoricamente, jamais tocam o eixo $x$;\n",
    "\n",
    "5. O desvio padrão define o achatamento e largura da distribuição. Curvas mais largas e mais achatadas apresentam valores maiores de desvio padrão;\n",
    "\n",
    "6. A distribuição é definida por sua média e desvio padrão;\n",
    "\n",
    "7. A probabilidade sempre será igual à área sob a curva, delimitada pelos limites inferior e superior."
   ]
  },
  {
   "cell_type": "markdown",
   "metadata": {
    "colab_type": "text",
    "id": "hoWLlOiwG3Dy"
   },
   "source": [
    "# $$f(x) = \\frac{1}{\\sqrt{2\\pi\\sigma}}e^{-\\frac{1}{2}\\left(\\frac{x-\\mu}{\\sigma}\\right)^2}$$\n",
    "\n",
    "Onde:\n",
    "\n",
    "$x$ = variável normal\n",
    "\n",
    "$\\sigma$ = desvio padrão\n",
    "\n",
    "$\\mu$ = média"
   ]
  },
  {
   "cell_type": "markdown",
   "metadata": {
    "colab_type": "text",
    "id": "8n03Z0VlG3Dz"
   },
   "source": [
    "A probabilidade é obtida a partir da área sob a curva, delimitada pelos limites inferior e superior especificados. Um exemplo pode ser visto na figura abaixo."
   ]
  },
  {
   "cell_type": "markdown",
   "metadata": {
    "colab_type": "text",
    "id": "X1UgmFoxG3Dz"
   },
   "source": [
    "![alt text](https://caelum-online-public.s3.amazonaws.com/1178-estatistica-parte2/01/img002.png)\n"
   ]
  },
  {
   "cell_type": "markdown",
   "metadata": {
    "colab_type": "text",
    "id": "rtKiApHLG3D0"
   },
   "source": [
    "Para obter a área acima basta calcular a integral da função para os intervalos determinados. Conforme equação abaixo:"
   ]
  },
  {
   "cell_type": "markdown",
   "metadata": {
    "colab_type": "text",
    "id": "0r_9CbSOG3D0"
   },
   "source": [
    "# $$P(L_i<x<L_s) = \\int_{L_i}^{L_s}\\frac{1}{\\sqrt{2\\pi\\sigma}}e^{-\\frac{1}{2}\\left(\\frac{x-\\mu}{\\sigma}\\right)^2}$$\n",
    "\n",
    "Onde:\n",
    "\n",
    "$x$ = variável normal\n",
    "\n",
    "$\\sigma$ = desvio padrão\n",
    "\n",
    "$\\mu$ = média\n",
    "\n",
    "$L_i$ = limite inferior\n",
    "\n",
    "$L_s$ = limite superior"
   ]
  },
  {
   "cell_type": "markdown",
   "metadata": {
    "colab_type": "text",
    "id": "qP-Ye-leG3D1"
   },
   "source": [
    "### Tabelas padronizadas"
   ]
  },
  {
   "cell_type": "markdown",
   "metadata": {
    "colab_type": "text",
    "id": "Z1VnLK11G3D1"
   },
   "source": [
    "As tabelas padronizadas foram criadas para facilitar a obtenção dos valores das áreas sob a curva normal e eliminar a necessidade de solucionar integrais definidas.\n",
    "\n",
    "Para consultarmos os valores em uma tabela padronizada basta transformarmos nossa variável em uma variável padronizada $Z$.\n",
    "\n",
    "Esta variável $Z$ representa o afastamento em desvios padrões de um valor da variável original em relação à média."
   ]
  },
  {
   "cell_type": "markdown",
   "metadata": {
    "colab_type": "text",
    "id": "HJcdgdsgG3D2"
   },
   "source": [
    "# $$Z = \\frac{x-\\mu}{\\sigma}$$\n",
    "\n",
    "Onde:\n",
    "\n",
    "$x$ = variável normal com média $\\mu$ e desvio padrão $\\sigma$\n",
    "\n",
    "$\\sigma$ = desvio padrão\n",
    "\n",
    "$\\mu$ = média"
   ]
  },
  {
   "cell_type": "markdown",
   "metadata": {
    "colab_type": "text",
    "id": "hUrVKJH3G3D2"
   },
   "source": [
    "### Construindo tabela normal padronizada\n",
    "https://docs.scipy.org/doc/scipy/reference/generated/scipy.stats.norm.html"
   ]
  },
  {
   "cell_type": "code",
   "execution_count": 28,
   "metadata": {
    "colab": {
     "base_uri": "https://localhost:8080/",
     "height": 1289
    },
    "colab_type": "code",
    "id": "7SudUNlcG3D4",
    "outputId": "963d1484-7b91-4af0-905f-4cbb49a73277"
   },
   "outputs": [
    {
     "output_type": "execute_result",
     "data": {
      "text/plain": [
       "Z       0.00    0.01    0.02    0.03    0.04    0.05    0.06    0.07    0.08  \\\n",
       "0.00  0.5000  0.5040  0.5080  0.5120  0.5160  0.5199  0.5239  0.5279  0.5319   \n",
       "0.10  0.5398  0.5438  0.5478  0.5517  0.5557  0.5596  0.5636  0.5675  0.5714   \n",
       "0.20  0.5793  0.5832  0.5871  0.5910  0.5948  0.5987  0.6026  0.6064  0.6103   \n",
       "0.30  0.6179  0.6217  0.6255  0.6293  0.6331  0.6368  0.6406  0.6443  0.6480   \n",
       "0.40  0.6554  0.6591  0.6628  0.6664  0.6700  0.6736  0.6772  0.6808  0.6844   \n",
       "0.50  0.6915  0.6950  0.6985  0.7019  0.7054  0.7088  0.7123  0.7157  0.7190   \n",
       "0.60  0.7257  0.7291  0.7324  0.7357  0.7389  0.7422  0.7454  0.7486  0.7517   \n",
       "0.70  0.7580  0.7611  0.7642  0.7673  0.7704  0.7734  0.7764  0.7794  0.7823   \n",
       "0.80  0.7881  0.7910  0.7939  0.7967  0.7995  0.8023  0.8051  0.8078  0.8106   \n",
       "0.90  0.8159  0.8186  0.8212  0.8238  0.8264  0.8289  0.8315  0.8340  0.8365   \n",
       "1.00  0.8413  0.8438  0.8461  0.8485  0.8508  0.8531  0.8554  0.8577  0.8599   \n",
       "1.10  0.8643  0.8665  0.8686  0.8708  0.8729  0.8749  0.8770  0.8790  0.8810   \n",
       "1.20  0.8849  0.8869  0.8888  0.8907  0.8925  0.8944  0.8962  0.8980  0.8997   \n",
       "1.30  0.9032  0.9049  0.9066  0.9082  0.9099  0.9115  0.9131  0.9147  0.9162   \n",
       "1.40  0.9192  0.9207  0.9222  0.9236  0.9251  0.9265  0.9279  0.9292  0.9306   \n",
       "1.50  0.9332  0.9345  0.9357  0.9370  0.9382  0.9394  0.9406  0.9418  0.9429   \n",
       "1.60  0.9452  0.9463  0.9474  0.9484  0.9495  0.9505  0.9515  0.9525  0.9535   \n",
       "1.70  0.9554  0.9564  0.9573  0.9582  0.9591  0.9599  0.9608  0.9616  0.9625   \n",
       "1.80  0.9641  0.9649  0.9656  0.9664  0.9671  0.9678  0.9686  0.9693  0.9699   \n",
       "1.90  0.9713  0.9719  0.9726  0.9732  0.9738  0.9744  0.9750  0.9756  0.9761   \n",
       "2.00  0.9772  0.9778  0.9783  0.9788  0.9793  0.9798  0.9803  0.9808  0.9812   \n",
       "2.10  0.9821  0.9826  0.9830  0.9834  0.9838  0.9842  0.9846  0.9850  0.9854   \n",
       "2.20  0.9861  0.9864  0.9868  0.9871  0.9875  0.9878  0.9881  0.9884  0.9887   \n",
       "2.30  0.9893  0.9896  0.9898  0.9901  0.9904  0.9906  0.9909  0.9911  0.9913   \n",
       "2.40  0.9918  0.9920  0.9922  0.9925  0.9927  0.9929  0.9931  0.9932  0.9934   \n",
       "2.50  0.9938  0.9940  0.9941  0.9943  0.9945  0.9946  0.9948  0.9949  0.9951   \n",
       "2.60  0.9953  0.9955  0.9956  0.9957  0.9959  0.9960  0.9961  0.9962  0.9963   \n",
       "2.70  0.9965  0.9966  0.9967  0.9968  0.9969  0.9970  0.9971  0.9972  0.9973   \n",
       "2.80  0.9974  0.9975  0.9976  0.9977  0.9977  0.9978  0.9979  0.9979  0.9980   \n",
       "2.90  0.9981  0.9982  0.9982  0.9983  0.9984  0.9984  0.9985  0.9985  0.9986   \n",
       "3.00  0.9987  0.9987  0.9987  0.9988  0.9988  0.9989  0.9989  0.9989  0.9990   \n",
       "3.10  0.9990  0.9991  0.9991  0.9991  0.9992  0.9992  0.9992  0.9992  0.9993   \n",
       "3.20  0.9993  0.9993  0.9994  0.9994  0.9994  0.9994  0.9994  0.9995  0.9995   \n",
       "3.30  0.9995  0.9995  0.9995  0.9996  0.9996  0.9996  0.9996  0.9996  0.9996   \n",
       "3.40  0.9997  0.9997  0.9997  0.9997  0.9997  0.9997  0.9997  0.9997  0.9997   \n",
       "3.50  0.9998  0.9998  0.9998  0.9998  0.9998  0.9998  0.9998  0.9998  0.9998   \n",
       "3.60  0.9998  0.9998  0.9999  0.9999  0.9999  0.9999  0.9999  0.9999  0.9999   \n",
       "3.70  0.9999  0.9999  0.9999  0.9999  0.9999  0.9999  0.9999  0.9999  0.9999   \n",
       "3.80  0.9999  0.9999  0.9999  0.9999  0.9999  0.9999  0.9999  0.9999  0.9999   \n",
       "3.90  1.0000  1.0000  1.0000  1.0000  1.0000  1.0000  1.0000  1.0000  1.0000   \n",
       "\n",
       "Z       0.09  \n",
       "0.00  0.5359  \n",
       "0.10  0.5753  \n",
       "0.20  0.6141  \n",
       "0.30  0.6517  \n",
       "0.40  0.6879  \n",
       "0.50  0.7224  \n",
       "0.60  0.7549  \n",
       "0.70  0.7852  \n",
       "0.80  0.8133  \n",
       "0.90  0.8389  \n",
       "1.00  0.8621  \n",
       "1.10  0.8830  \n",
       "1.20  0.9015  \n",
       "1.30  0.9177  \n",
       "1.40  0.9319  \n",
       "1.50  0.9441  \n",
       "1.60  0.9545  \n",
       "1.70  0.9633  \n",
       "1.80  0.9706  \n",
       "1.90  0.9767  \n",
       "2.00  0.9817  \n",
       "2.10  0.9857  \n",
       "2.20  0.9890  \n",
       "2.30  0.9916  \n",
       "2.40  0.9936  \n",
       "2.50  0.9952  \n",
       "2.60  0.9964  \n",
       "2.70  0.9974  \n",
       "2.80  0.9981  \n",
       "2.90  0.9986  \n",
       "3.00  0.9990  \n",
       "3.10  0.9993  \n",
       "3.20  0.9995  \n",
       "3.30  0.9997  \n",
       "3.40  0.9998  \n",
       "3.50  0.9998  \n",
       "3.60  0.9999  \n",
       "3.70  0.9999  \n",
       "3.80  0.9999  \n",
       "3.90  1.0000  "
      ],
      "text/html": "<div>\n<style scoped>\n    .dataframe tbody tr th:only-of-type {\n        vertical-align: middle;\n    }\n\n    .dataframe tbody tr th {\n        vertical-align: top;\n    }\n\n    .dataframe thead th {\n        text-align: right;\n    }\n</style>\n<table border=\"1\" class=\"dataframe\">\n  <thead>\n    <tr style=\"text-align: right;\">\n      <th>Z</th>\n      <th>0.00</th>\n      <th>0.01</th>\n      <th>0.02</th>\n      <th>0.03</th>\n      <th>0.04</th>\n      <th>0.05</th>\n      <th>0.06</th>\n      <th>0.07</th>\n      <th>0.08</th>\n      <th>0.09</th>\n    </tr>\n  </thead>\n  <tbody>\n    <tr>\n      <th>0.00</th>\n      <td>0.5000</td>\n      <td>0.5040</td>\n      <td>0.5080</td>\n      <td>0.5120</td>\n      <td>0.5160</td>\n      <td>0.5199</td>\n      <td>0.5239</td>\n      <td>0.5279</td>\n      <td>0.5319</td>\n      <td>0.5359</td>\n    </tr>\n    <tr>\n      <th>0.10</th>\n      <td>0.5398</td>\n      <td>0.5438</td>\n      <td>0.5478</td>\n      <td>0.5517</td>\n      <td>0.5557</td>\n      <td>0.5596</td>\n      <td>0.5636</td>\n      <td>0.5675</td>\n      <td>0.5714</td>\n      <td>0.5753</td>\n    </tr>\n    <tr>\n      <th>0.20</th>\n      <td>0.5793</td>\n      <td>0.5832</td>\n      <td>0.5871</td>\n      <td>0.5910</td>\n      <td>0.5948</td>\n      <td>0.5987</td>\n      <td>0.6026</td>\n      <td>0.6064</td>\n      <td>0.6103</td>\n      <td>0.6141</td>\n    </tr>\n    <tr>\n      <th>0.30</th>\n      <td>0.6179</td>\n      <td>0.6217</td>\n      <td>0.6255</td>\n      <td>0.6293</td>\n      <td>0.6331</td>\n      <td>0.6368</td>\n      <td>0.6406</td>\n      <td>0.6443</td>\n      <td>0.6480</td>\n      <td>0.6517</td>\n    </tr>\n    <tr>\n      <th>0.40</th>\n      <td>0.6554</td>\n      <td>0.6591</td>\n      <td>0.6628</td>\n      <td>0.6664</td>\n      <td>0.6700</td>\n      <td>0.6736</td>\n      <td>0.6772</td>\n      <td>0.6808</td>\n      <td>0.6844</td>\n      <td>0.6879</td>\n    </tr>\n    <tr>\n      <th>0.50</th>\n      <td>0.6915</td>\n      <td>0.6950</td>\n      <td>0.6985</td>\n      <td>0.7019</td>\n      <td>0.7054</td>\n      <td>0.7088</td>\n      <td>0.7123</td>\n      <td>0.7157</td>\n      <td>0.7190</td>\n      <td>0.7224</td>\n    </tr>\n    <tr>\n      <th>0.60</th>\n      <td>0.7257</td>\n      <td>0.7291</td>\n      <td>0.7324</td>\n      <td>0.7357</td>\n      <td>0.7389</td>\n      <td>0.7422</td>\n      <td>0.7454</td>\n      <td>0.7486</td>\n      <td>0.7517</td>\n      <td>0.7549</td>\n    </tr>\n    <tr>\n      <th>0.70</th>\n      <td>0.7580</td>\n      <td>0.7611</td>\n      <td>0.7642</td>\n      <td>0.7673</td>\n      <td>0.7704</td>\n      <td>0.7734</td>\n      <td>0.7764</td>\n      <td>0.7794</td>\n      <td>0.7823</td>\n      <td>0.7852</td>\n    </tr>\n    <tr>\n      <th>0.80</th>\n      <td>0.7881</td>\n      <td>0.7910</td>\n      <td>0.7939</td>\n      <td>0.7967</td>\n      <td>0.7995</td>\n      <td>0.8023</td>\n      <td>0.8051</td>\n      <td>0.8078</td>\n      <td>0.8106</td>\n      <td>0.8133</td>\n    </tr>\n    <tr>\n      <th>0.90</th>\n      <td>0.8159</td>\n      <td>0.8186</td>\n      <td>0.8212</td>\n      <td>0.8238</td>\n      <td>0.8264</td>\n      <td>0.8289</td>\n      <td>0.8315</td>\n      <td>0.8340</td>\n      <td>0.8365</td>\n      <td>0.8389</td>\n    </tr>\n    <tr>\n      <th>1.00</th>\n      <td>0.8413</td>\n      <td>0.8438</td>\n      <td>0.8461</td>\n      <td>0.8485</td>\n      <td>0.8508</td>\n      <td>0.8531</td>\n      <td>0.8554</td>\n      <td>0.8577</td>\n      <td>0.8599</td>\n      <td>0.8621</td>\n    </tr>\n    <tr>\n      <th>1.10</th>\n      <td>0.8643</td>\n      <td>0.8665</td>\n      <td>0.8686</td>\n      <td>0.8708</td>\n      <td>0.8729</td>\n      <td>0.8749</td>\n      <td>0.8770</td>\n      <td>0.8790</td>\n      <td>0.8810</td>\n      <td>0.8830</td>\n    </tr>\n    <tr>\n      <th>1.20</th>\n      <td>0.8849</td>\n      <td>0.8869</td>\n      <td>0.8888</td>\n      <td>0.8907</td>\n      <td>0.8925</td>\n      <td>0.8944</td>\n      <td>0.8962</td>\n      <td>0.8980</td>\n      <td>0.8997</td>\n      <td>0.9015</td>\n    </tr>\n    <tr>\n      <th>1.30</th>\n      <td>0.9032</td>\n      <td>0.9049</td>\n      <td>0.9066</td>\n      <td>0.9082</td>\n      <td>0.9099</td>\n      <td>0.9115</td>\n      <td>0.9131</td>\n      <td>0.9147</td>\n      <td>0.9162</td>\n      <td>0.9177</td>\n    </tr>\n    <tr>\n      <th>1.40</th>\n      <td>0.9192</td>\n      <td>0.9207</td>\n      <td>0.9222</td>\n      <td>0.9236</td>\n      <td>0.9251</td>\n      <td>0.9265</td>\n      <td>0.9279</td>\n      <td>0.9292</td>\n      <td>0.9306</td>\n      <td>0.9319</td>\n    </tr>\n    <tr>\n      <th>1.50</th>\n      <td>0.9332</td>\n      <td>0.9345</td>\n      <td>0.9357</td>\n      <td>0.9370</td>\n      <td>0.9382</td>\n      <td>0.9394</td>\n      <td>0.9406</td>\n      <td>0.9418</td>\n      <td>0.9429</td>\n      <td>0.9441</td>\n    </tr>\n    <tr>\n      <th>1.60</th>\n      <td>0.9452</td>\n      <td>0.9463</td>\n      <td>0.9474</td>\n      <td>0.9484</td>\n      <td>0.9495</td>\n      <td>0.9505</td>\n      <td>0.9515</td>\n      <td>0.9525</td>\n      <td>0.9535</td>\n      <td>0.9545</td>\n    </tr>\n    <tr>\n      <th>1.70</th>\n      <td>0.9554</td>\n      <td>0.9564</td>\n      <td>0.9573</td>\n      <td>0.9582</td>\n      <td>0.9591</td>\n      <td>0.9599</td>\n      <td>0.9608</td>\n      <td>0.9616</td>\n      <td>0.9625</td>\n      <td>0.9633</td>\n    </tr>\n    <tr>\n      <th>1.80</th>\n      <td>0.9641</td>\n      <td>0.9649</td>\n      <td>0.9656</td>\n      <td>0.9664</td>\n      <td>0.9671</td>\n      <td>0.9678</td>\n      <td>0.9686</td>\n      <td>0.9693</td>\n      <td>0.9699</td>\n      <td>0.9706</td>\n    </tr>\n    <tr>\n      <th>1.90</th>\n      <td>0.9713</td>\n      <td>0.9719</td>\n      <td>0.9726</td>\n      <td>0.9732</td>\n      <td>0.9738</td>\n      <td>0.9744</td>\n      <td>0.9750</td>\n      <td>0.9756</td>\n      <td>0.9761</td>\n      <td>0.9767</td>\n    </tr>\n    <tr>\n      <th>2.00</th>\n      <td>0.9772</td>\n      <td>0.9778</td>\n      <td>0.9783</td>\n      <td>0.9788</td>\n      <td>0.9793</td>\n      <td>0.9798</td>\n      <td>0.9803</td>\n      <td>0.9808</td>\n      <td>0.9812</td>\n      <td>0.9817</td>\n    </tr>\n    <tr>\n      <th>2.10</th>\n      <td>0.9821</td>\n      <td>0.9826</td>\n      <td>0.9830</td>\n      <td>0.9834</td>\n      <td>0.9838</td>\n      <td>0.9842</td>\n      <td>0.9846</td>\n      <td>0.9850</td>\n      <td>0.9854</td>\n      <td>0.9857</td>\n    </tr>\n    <tr>\n      <th>2.20</th>\n      <td>0.9861</td>\n      <td>0.9864</td>\n      <td>0.9868</td>\n      <td>0.9871</td>\n      <td>0.9875</td>\n      <td>0.9878</td>\n      <td>0.9881</td>\n      <td>0.9884</td>\n      <td>0.9887</td>\n      <td>0.9890</td>\n    </tr>\n    <tr>\n      <th>2.30</th>\n      <td>0.9893</td>\n      <td>0.9896</td>\n      <td>0.9898</td>\n      <td>0.9901</td>\n      <td>0.9904</td>\n      <td>0.9906</td>\n      <td>0.9909</td>\n      <td>0.9911</td>\n      <td>0.9913</td>\n      <td>0.9916</td>\n    </tr>\n    <tr>\n      <th>2.40</th>\n      <td>0.9918</td>\n      <td>0.9920</td>\n      <td>0.9922</td>\n      <td>0.9925</td>\n      <td>0.9927</td>\n      <td>0.9929</td>\n      <td>0.9931</td>\n      <td>0.9932</td>\n      <td>0.9934</td>\n      <td>0.9936</td>\n    </tr>\n    <tr>\n      <th>2.50</th>\n      <td>0.9938</td>\n      <td>0.9940</td>\n      <td>0.9941</td>\n      <td>0.9943</td>\n      <td>0.9945</td>\n      <td>0.9946</td>\n      <td>0.9948</td>\n      <td>0.9949</td>\n      <td>0.9951</td>\n      <td>0.9952</td>\n    </tr>\n    <tr>\n      <th>2.60</th>\n      <td>0.9953</td>\n      <td>0.9955</td>\n      <td>0.9956</td>\n      <td>0.9957</td>\n      <td>0.9959</td>\n      <td>0.9960</td>\n      <td>0.9961</td>\n      <td>0.9962</td>\n      <td>0.9963</td>\n      <td>0.9964</td>\n    </tr>\n    <tr>\n      <th>2.70</th>\n      <td>0.9965</td>\n      <td>0.9966</td>\n      <td>0.9967</td>\n      <td>0.9968</td>\n      <td>0.9969</td>\n      <td>0.9970</td>\n      <td>0.9971</td>\n      <td>0.9972</td>\n      <td>0.9973</td>\n      <td>0.9974</td>\n    </tr>\n    <tr>\n      <th>2.80</th>\n      <td>0.9974</td>\n      <td>0.9975</td>\n      <td>0.9976</td>\n      <td>0.9977</td>\n      <td>0.9977</td>\n      <td>0.9978</td>\n      <td>0.9979</td>\n      <td>0.9979</td>\n      <td>0.9980</td>\n      <td>0.9981</td>\n    </tr>\n    <tr>\n      <th>2.90</th>\n      <td>0.9981</td>\n      <td>0.9982</td>\n      <td>0.9982</td>\n      <td>0.9983</td>\n      <td>0.9984</td>\n      <td>0.9984</td>\n      <td>0.9985</td>\n      <td>0.9985</td>\n      <td>0.9986</td>\n      <td>0.9986</td>\n    </tr>\n    <tr>\n      <th>3.00</th>\n      <td>0.9987</td>\n      <td>0.9987</td>\n      <td>0.9987</td>\n      <td>0.9988</td>\n      <td>0.9988</td>\n      <td>0.9989</td>\n      <td>0.9989</td>\n      <td>0.9989</td>\n      <td>0.9990</td>\n      <td>0.9990</td>\n    </tr>\n    <tr>\n      <th>3.10</th>\n      <td>0.9990</td>\n      <td>0.9991</td>\n      <td>0.9991</td>\n      <td>0.9991</td>\n      <td>0.9992</td>\n      <td>0.9992</td>\n      <td>0.9992</td>\n      <td>0.9992</td>\n      <td>0.9993</td>\n      <td>0.9993</td>\n    </tr>\n    <tr>\n      <th>3.20</th>\n      <td>0.9993</td>\n      <td>0.9993</td>\n      <td>0.9994</td>\n      <td>0.9994</td>\n      <td>0.9994</td>\n      <td>0.9994</td>\n      <td>0.9994</td>\n      <td>0.9995</td>\n      <td>0.9995</td>\n      <td>0.9995</td>\n    </tr>\n    <tr>\n      <th>3.30</th>\n      <td>0.9995</td>\n      <td>0.9995</td>\n      <td>0.9995</td>\n      <td>0.9996</td>\n      <td>0.9996</td>\n      <td>0.9996</td>\n      <td>0.9996</td>\n      <td>0.9996</td>\n      <td>0.9996</td>\n      <td>0.9997</td>\n    </tr>\n    <tr>\n      <th>3.40</th>\n      <td>0.9997</td>\n      <td>0.9997</td>\n      <td>0.9997</td>\n      <td>0.9997</td>\n      <td>0.9997</td>\n      <td>0.9997</td>\n      <td>0.9997</td>\n      <td>0.9997</td>\n      <td>0.9997</td>\n      <td>0.9998</td>\n    </tr>\n    <tr>\n      <th>3.50</th>\n      <td>0.9998</td>\n      <td>0.9998</td>\n      <td>0.9998</td>\n      <td>0.9998</td>\n      <td>0.9998</td>\n      <td>0.9998</td>\n      <td>0.9998</td>\n      <td>0.9998</td>\n      <td>0.9998</td>\n      <td>0.9998</td>\n    </tr>\n    <tr>\n      <th>3.60</th>\n      <td>0.9998</td>\n      <td>0.9998</td>\n      <td>0.9999</td>\n      <td>0.9999</td>\n      <td>0.9999</td>\n      <td>0.9999</td>\n      <td>0.9999</td>\n      <td>0.9999</td>\n      <td>0.9999</td>\n      <td>0.9999</td>\n    </tr>\n    <tr>\n      <th>3.70</th>\n      <td>0.9999</td>\n      <td>0.9999</td>\n      <td>0.9999</td>\n      <td>0.9999</td>\n      <td>0.9999</td>\n      <td>0.9999</td>\n      <td>0.9999</td>\n      <td>0.9999</td>\n      <td>0.9999</td>\n      <td>0.9999</td>\n    </tr>\n    <tr>\n      <th>3.80</th>\n      <td>0.9999</td>\n      <td>0.9999</td>\n      <td>0.9999</td>\n      <td>0.9999</td>\n      <td>0.9999</td>\n      <td>0.9999</td>\n      <td>0.9999</td>\n      <td>0.9999</td>\n      <td>0.9999</td>\n      <td>0.9999</td>\n    </tr>\n    <tr>\n      <th>3.90</th>\n      <td>1.0000</td>\n      <td>1.0000</td>\n      <td>1.0000</td>\n      <td>1.0000</td>\n      <td>1.0000</td>\n      <td>1.0000</td>\n      <td>1.0000</td>\n      <td>1.0000</td>\n      <td>1.0000</td>\n      <td>1.0000</td>\n    </tr>\n  </tbody>\n</table>\n</div>"
     },
     "metadata": {},
     "execution_count": 28
    }
   ],
   "source": [
    "import pandas as pd\n",
    "import numpy as np\n",
    "from scipy.stats import norm\n",
    "\n",
    "tabela_normal_padronizada = pd.DataFrame(\n",
    "    [], \n",
    "    index=[\"{0:0.2f}\".format(i / 100) for i in range(0, 400, 10)],\n",
    "    columns = [\"{0:0.2f}\".format(i / 100) for i in range(0, 10)])\n",
    "\n",
    "for index in tabela_normal_padronizada.index:\n",
    "    for column in tabela_normal_padronizada.columns:\n",
    "        Z = np.round(float(index) + float(column), 2)\n",
    "        tabela_normal_padronizada.loc[index, column] = \"{0:0.4f}\".format(norm.cdf(Z))\n",
    "\n",
    "tabela_normal_padronizada.rename_axis('Z', axis = 'columns', inplace = True)\n",
    "\n",
    "tabela_normal_padronizada"
   ]
  },
  {
   "cell_type": "markdown",
   "metadata": {
    "colab_type": "text",
    "id": "XHYeMaN3G3D9"
   },
   "source": [
    "<img src='https://caelum-online-public.s3.amazonaws.com/1178-estatistica-parte2/01/img003.png' width='250px'>\n",
    "\n",
    "A tabela acima fornece a área sob a curva entre $-\\infty$ e $Z$ desvios padrão acima da média. Lembrando que por se tratar de valores padronizados temos $\\mu = 0$."
   ]
  },
  {
   "cell_type": "markdown",
   "metadata": {
    "colab_type": "text",
    "id": "Bs-KyZAJG3D-"
   },
   "source": [
    "## <font color='blue'>Exemplo: Qual sua altura?</font>"
   ]
  },
  {
   "cell_type": "markdown",
   "metadata": {
    "colab_type": "text",
    "id": "8PFIjXejG3EA"
   },
   "source": [
    "Em um estudo sobre as alturas dos moradores de uma cidade verificou-se que o conjunto de dados segue uma **distribuição aproximadamente normal**, com **média 1,70** e **desvio padrão de 0,1**. Com estas informações obtenha o seguinte conjunto de probabilidades:\n",
    "\n",
    "> **A.** probabilidade de uma pessoa, selecionada ao acaso, ter menos de 1,80 metros.\n",
    "\n",
    "> **B.** probabilidade de uma pessoa, selecionada ao acaso, ter entre 1,60 metros e 1,80 metros.    \n",
    "\n",
    "> **C.** probabilidade de uma pessoa, selecionada ao acaso, ter mais de 1,90 metros."
   ]
  },
  {
   "cell_type": "markdown",
   "metadata": {
    "colab_type": "text",
    "id": "aHpZLwt1G3EC"
   },
   "source": [
    "### Problema A - Identificação da área sob a curva"
   ]
  },
  {
   "cell_type": "markdown",
   "metadata": {
    "colab_type": "text",
    "id": "V1eC7tydG3EF"
   },
   "source": [
    "<img style='float: left' src='https://caelum-online-public.s3.amazonaws.com/1178-estatistica-parte2/01/img004.png' width='350px'>"
   ]
  },
  {
   "cell_type": "markdown",
   "metadata": {
    "colab_type": "text",
    "id": "X61wEuRrG3EI"
   },
   "source": [
    "### Obter a variável padronizada $Z$"
   ]
  },
  {
   "cell_type": "code",
   "execution_count": 29,
   "metadata": {
    "colab": {
     "base_uri": "https://localhost:8080/",
     "height": 34
    },
    "colab_type": "code",
    "id": "gNSNIMvZG3EK",
    "outputId": "2d4048a7-4c0a-4f51-c964-2f063cbdf092"
   },
   "outputs": [],
   "source": [
    "media = 1.7"
   ]
  },
  {
   "cell_type": "code",
   "execution_count": 30,
   "metadata": {
    "colab": {
     "base_uri": "https://localhost:8080/",
     "height": 34
    },
    "colab_type": "code",
    "id": "E_f2lycRG3ES",
    "outputId": "7bb0daf7-7f86-4bdd-f195-429e7b68d239"
   },
   "outputs": [],
   "source": [
    "dpadrao = 0.1"
   ]
  },
  {
   "cell_type": "code",
   "execution_count": 31,
   "metadata": {
    "colab": {
     "base_uri": "https://localhost:8080/",
     "height": 34
    },
    "colab_type": "code",
    "id": "xnsCkUb6G3EX",
    "outputId": "b3f57dbb-4c23-4b9f-e89d-d8c35383a2d2"
   },
   "outputs": [
    {
     "output_type": "execute_result",
     "data": {
      "text/plain": [
       "1.0000000000000009"
      ]
     },
     "metadata": {},
     "execution_count": 31
    }
   ],
   "source": [
    "z = (1.8 - media) / dpadrao\n",
    "z"
   ]
  },
  {
   "cell_type": "markdown",
   "metadata": {
    "colab_type": "text",
    "id": "oj9sgHbkG3Eb"
   },
   "source": [
    "### Solução 1 - Utilizando tabela"
   ]
  },
  {
   "cell_type": "code",
   "execution_count": 32,
   "metadata": {
    "colab": {
     "base_uri": "https://localhost:8080/",
     "height": 34
    },
    "colab_type": "code",
    "id": "ReDTH3WgG3Ec",
    "outputId": "ec542c14-9cd4-405d-a899-dfa92493aa84"
   },
   "outputs": [
    {
     "output_type": "execute_result",
     "data": {
      "text/plain": [
       "0.8413"
      ]
     },
     "metadata": {},
     "execution_count": 32
    }
   ],
   "source": [
    "probabilidade = 0.8413\n",
    "probabilidade"
   ]
  },
  {
   "cell_type": "markdown",
   "metadata": {
    "colab_type": "text",
    "id": "4ud0OnQOG3Eh"
   },
   "source": [
    "### Solução 2 - Utilizando Scipy"
   ]
  },
  {
   "cell_type": "code",
   "execution_count": 33,
   "metadata": {
    "colab": {
     "base_uri": "https://localhost:8080/",
     "height": 34
    },
    "colab_type": "code",
    "id": "sx7riZVlG3Ei",
    "outputId": "c321c9f8-a1a8-44f8-977b-492d2ec65152"
   },
   "outputs": [
    {
     "output_type": "execute_result",
     "data": {
      "text/plain": [
       "0.8413"
      ]
     },
     "metadata": {},
     "execution_count": 33
    }
   ],
   "source": [
    "norm.cdf(z).round(4)"
   ]
  },
  {
   "cell_type": "markdown",
   "metadata": {
    "colab_type": "text",
    "id": "ZsnMjGzJG3Ep"
   },
   "source": [
    "### Problema B - Identificação da área sob a curva"
   ]
  },
  {
   "cell_type": "markdown",
   "metadata": {
    "colab_type": "text",
    "id": "LN2HY-UCG3Ep"
   },
   "source": [
    "<img style='float: left' src='https://caelum-online-public.s3.amazonaws.com/1178-estatistica-parte2/01/img005.png' width='350px'>"
   ]
  },
  {
   "cell_type": "markdown",
   "metadata": {
    "colab_type": "text",
    "id": "FS6WNg88G3Eq"
   },
   "source": [
    "### Obter a variável padronizada $Z$"
   ]
  },
  {
   "cell_type": "code",
   "execution_count": 34,
   "metadata": {
    "colab": {
     "base_uri": "https://localhost:8080/",
     "height": 34
    },
    "colab_type": "code",
    "id": "mxPsPIOYG3Er",
    "outputId": "d86de31f-1ca0-443c-8ed6-81edfe5d36f4"
   },
   "outputs": [
    {
     "output_type": "execute_result",
     "data": {
      "text/plain": [
       "1.0000000000000009"
      ]
     },
     "metadata": {},
     "execution_count": 34
    }
   ],
   "source": [
    "z1 = (1.8 - media) / dpadrao\n",
    "z1"
   ]
  },
  {
   "cell_type": "code",
   "execution_count": 35,
   "metadata": {
    "colab": {
     "base_uri": "https://localhost:8080/",
     "height": 34
    },
    "colab_type": "code",
    "id": "s0Vf0GXHG3Et",
    "outputId": "5237e5e2-547b-4cbf-a5da-52bd4933f6a1"
   },
   "outputs": [
    {
     "output_type": "execute_result",
     "data": {
      "text/plain": [
       "0.0"
      ]
     },
     "metadata": {},
     "execution_count": 35
    }
   ],
   "source": [
    "z2 = (1.7 - media) / dpadrao\n",
    "z2"
   ]
  },
  {
   "cell_type": "markdown",
   "metadata": {
    "colab_type": "text",
    "id": "MseXjmZ7G3E0"
   },
   "source": [
    "### Solução 1 - Utilizando tabela"
   ]
  },
  {
   "cell_type": "code",
   "execution_count": 36,
   "metadata": {
    "colab": {
     "base_uri": "https://localhost:8080/",
     "height": 34
    },
    "colab_type": "code",
    "id": "swZ6SVQGG3E0",
    "outputId": "53e30c74-5ec5-4737-f928-600388bfe570"
   },
   "outputs": [
    {
     "output_type": "execute_result",
     "data": {
      "text/plain": [
       "0.6826000000000001"
      ]
     },
     "metadata": {},
     "execution_count": 36
    }
   ],
   "source": [
    "probabilidade = 0.8413 - 0.5\n",
    "probabilidade * 2"
   ]
  },
  {
   "cell_type": "markdown",
   "metadata": {
    "colab_type": "text",
    "id": "y5e4zAifG3E2"
   },
   "source": [
    "### Solução 2 - Utilizando Scipy"
   ]
  },
  {
   "cell_type": "code",
   "execution_count": 37,
   "metadata": {
    "colab": {
     "base_uri": "https://localhost:8080/",
     "height": 34
    },
    "colab_type": "code",
    "id": "hcps6lkNG3E3",
    "outputId": "c8de38f1-8411-408c-862c-7aa6e099e43f"
   },
   "outputs": [],
   "source": [
    "z_sup = (1.8 - media) / dpadrao\n",
    "z_inf = (1.6 - media) / dpadrao \n",
    "z_sup = round(z_sup, 4)\n",
    "z_inf = round(z_inf, 4)"
   ]
  },
  {
   "cell_type": "code",
   "execution_count": 38,
   "metadata": {
    "colab": {
     "base_uri": "https://localhost:8080/",
     "height": 34
    },
    "colab_type": "code",
    "id": "MjEfhnQEG3E5",
    "outputId": "4a6241c6-1b04-4c5f-b62d-9e98f412f3ad"
   },
   "outputs": [
    {
     "output_type": "execute_result",
     "data": {
      "text/plain": [
       "0.6826894921370859"
      ]
     },
     "metadata": {},
     "execution_count": 38
    }
   ],
   "source": [
    "p1 = norm.cdf(z_sup)\n",
    "p2 = norm.cdf(z_inf)\n",
    "# As áreas de p são iguais\n",
    "probabilidade = p1 - (1 - p1)\n",
    "probabilidade"
   ]
  },
  {
   "cell_type": "code",
   "execution_count": 39,
   "metadata": {},
   "outputs": [
    {
     "output_type": "execute_result",
     "data": {
      "text/plain": [
       "0.6826894921370859"
      ]
     },
     "metadata": {},
     "execution_count": 39
    }
   ],
   "source": [
    "probabilidade = p1 - p2\n",
    "probabilidade "
   ]
  },
  {
   "cell_type": "markdown",
   "metadata": {
    "colab_type": "text",
    "id": "05sqVgdaG3E-"
   },
   "source": [
    "### Problema C - Identificação da área sob a curva"
   ]
  },
  {
   "cell_type": "markdown",
   "metadata": {
    "colab_type": "text",
    "id": "EPKhGTEkG3E_"
   },
   "source": [
    "<img style='float: left' src='https://caelum-online-public.s3.amazonaws.com/1178-estatistica-parte2/01/img006.png' width='350px'>"
   ]
  },
  {
   "cell_type": "markdown",
   "metadata": {
    "colab_type": "text",
    "id": "BA6jYbsSG3E_"
   },
   "source": [
    "### Obter a variável padronizada $Z$"
   ]
  },
  {
   "cell_type": "code",
   "execution_count": 40,
   "metadata": {
    "colab": {
     "base_uri": "https://localhost:8080/",
     "height": 34
    },
    "colab_type": "code",
    "id": "3OVj60MzG3E_",
    "outputId": "71f57b74-bc13-4493-f8ba-6f05a2a07041"
   },
   "outputs": [
    {
     "output_type": "execute_result",
     "data": {
      "text/plain": [
       "1.9999999999999996"
      ]
     },
     "metadata": {},
     "execution_count": 40
    }
   ],
   "source": [
    "z = (1.9 - media) / dpadrao\n",
    "z"
   ]
  },
  {
   "cell_type": "markdown",
   "metadata": {
    "colab_type": "text",
    "id": "hCiiWAm_G3FC"
   },
   "source": [
    "### Solução 1 - Utilizando tabela"
   ]
  },
  {
   "cell_type": "code",
   "execution_count": 41,
   "metadata": {
    "colab": {
     "base_uri": "https://localhost:8080/",
     "height": 34
    },
    "colab_type": "code",
    "id": "mSNfoO6VG3FC",
    "outputId": "da00edc8-cd0e-42ae-a27f-02082230f9e6"
   },
   "outputs": [
    {
     "output_type": "execute_result",
     "data": {
      "text/plain": [
       "0.13790000000000002"
      ]
     },
     "metadata": {},
     "execution_count": 41
    }
   ],
   "source": [
    "resposta = 1 - .8621\n",
    "resposta"
   ]
  },
  {
   "cell_type": "markdown",
   "metadata": {
    "colab_type": "text",
    "id": "QCyoVXOdG3FF"
   },
   "source": [
    "### Solução 2 - Utilizando Scipy"
   ]
  },
  {
   "cell_type": "code",
   "execution_count": 42,
   "metadata": {
    "colab": {
     "base_uri": "https://localhost:8080/",
     "height": 34
    },
    "colab_type": "code",
    "id": "caIE-t83G3FF",
    "outputId": "224b72ff-7edd-4b66-a24e-a1f89e4685c9"
   },
   "outputs": [
    {
     "output_type": "execute_result",
     "data": {
      "text/plain": [
       "0.02275013194817921"
      ]
     },
     "metadata": {},
     "execution_count": 42
    }
   ],
   "source": [
    "resposta = 1 - norm.cdf(z)\n",
    "resposta"
   ]
  },
  {
   "cell_type": "code",
   "execution_count": 43,
   "metadata": {
    "colab": {
     "base_uri": "https://localhost:8080/",
     "height": 34
    },
    "colab_type": "code",
    "id": "wKjqQGgMG3FI",
    "outputId": "7ef30837-195e-4f5b-9bef-68fceaff2397"
   },
   "outputs": [
    {
     "output_type": "execute_result",
     "data": {
      "text/plain": [
       "0.022750131948179216"
      ]
     },
     "metadata": {},
     "execution_count": 43
    }
   ],
   "source": [
    "resposta = norm.cdf(-z)\n",
    "resposta"
   ]
  },
  {
   "cell_type": "markdown",
   "metadata": {
    "colab_type": "text",
    "id": "GmmzChE2t4wW"
   },
   "source": [
    "# <font color=green>3 AMOSTRAGEM</font>\n",
    "***"
   ]
  },
  {
   "cell_type": "markdown",
   "metadata": {
    "colab_type": "text",
    "id": "g8PbtmQZt4Wv"
   },
   "source": [
    "## <font color=green>3.1 População e Amostra</font>\n",
    "***"
   ]
  },
  {
   "cell_type": "markdown",
   "metadata": {
    "colab_type": "text",
    "id": "sedD5gB9G3FV"
   },
   "source": [
    "### População\n",
    "Conjunto de todos os elementos de interesse em um estudo. Diversos elementos podem compor uma população, por exemplo: pessoas, idades, alturas, carros etc.\n",
    "\n",
    "Com relação ao tamanho, as populações podem ser limitadas (populações finitas) ou ilimitadas (populações infinitas)."
   ]
  },
  {
   "cell_type": "markdown",
   "metadata": {
    "colab_type": "text",
    "id": "XBFhAWNcG3FW"
   },
   "source": [
    "### Populações finitas\n",
    "\n",
    "Permitem a contagem de seus elementos. Como exemplos temos o número de funcionário de uma empresa, a quantidade de alunos em uma escola etc."
   ]
  },
  {
   "cell_type": "markdown",
   "metadata": {
    "colab_type": "text",
    "id": "YT8V2GB1G3FW"
   },
   "source": [
    "### Populações infinitas\n",
    "\n",
    "Não é possível contar seus elementos. Como exemplos temos a quantidade de porções que se pode extrair da água do mar para uma análise, temperatura medida em cada ponto de um território etc.\n",
    "\n",
    "<font color=red>Quando os elementos de uma população puderem ser contados, porém apresentando uma quantidade muito grande, assume-se a população como infinita.</font>."
   ]
  },
  {
   "cell_type": "markdown",
   "metadata": {
    "colab_type": "text",
    "id": "a-WtAXv1G3FX"
   },
   "source": [
    "### Amostra\n",
    "Subconjunto representativo da população."
   ]
  },
  {
   "cell_type": "markdown",
   "metadata": {
    "colab_type": "text",
    "id": "QWnDYpPSG3FX"
   },
   "source": [
    "Os atributos numéricos de uma população como sua média, variância e desvio padrão, são conhecidos como **parâmetros**. O principal foco da inferência estatística é justamente gerar estimativas e testar hipóteses sobre os parâmetros populacionais utilizando as informações de amostras."
   ]
  },
  {
   "cell_type": "markdown",
   "metadata": {
    "colab_type": "text",
    "id": "dDz6vFbDG3FZ"
   },
   "source": [
    "## <font color=green>3.2 Quando utilizar uma amostra?</font>\n",
    "***"
   ]
  },
  {
   "cell_type": "markdown",
   "metadata": {
    "colab_type": "text",
    "id": "5X1YwCGlG3Fe"
   },
   "source": [
    "### Populações infinitas\n",
    "\n",
    "O estudo não chegaria nunca ao fim. Não é possível investigar todos os elementos da população."
   ]
  },
  {
   "cell_type": "markdown",
   "metadata": {
    "colab_type": "text",
    "id": "jHLtG8HSG3Ff"
   },
   "source": [
    "### Testes destrutivos\n",
    "\n",
    "Estudos onde os elementos avaliados são totalmente consumidos ou destruídos. Exemplo: testes de vida útil, testes de segurança contra colisões em automóveis."
   ]
  },
  {
   "cell_type": "markdown",
   "metadata": {
    "colab_type": "text",
    "id": "lxYxepmdG3Ff"
   },
   "source": [
    "### Resultados rápidos\n",
    "\n",
    "Pesquisas que precisam de mais agilidade na divulgação. Exemplo: pesquisas de opinião, pesquisas que envolvam problemas de saúde pública."
   ]
  },
  {
   "cell_type": "markdown",
   "metadata": {
    "colab_type": "text",
    "id": "PeUCGL5nG3Fj"
   },
   "source": [
    "### Custos elevados\n",
    "\n",
    "Quando a população é finita mas muito numerosa, o custo de um censo pode tornar o processo inviável."
   ]
  },
  {
   "cell_type": "markdown",
   "metadata": {
    "colab_type": "text",
    "id": "1sbJeMpSG3Fj"
   },
   "source": [
    "## <font color=green>3.3 Amostragem Aleatória Simples</font>\n",
    "***"
   ]
  },
  {
   "cell_type": "markdown",
   "metadata": {
    "colab_type": "text",
    "id": "Kiq9cYMYG3Fp"
   },
   "source": [
    "É uma das principais maneiras de se extrair uma amostra de uma população. A exigência fundamental deste tipo de abordagem é que cada elemeto da população tenha as mesmas chances de ser selecionado para fazer parte da amostra."
   ]
  },
  {
   "cell_type": "code",
   "execution_count": 44,
   "metadata": {
    "colab": {
     "base_uri": "https://localhost:8080/",
     "height": 34
    },
    "colab_type": "code",
    "id": "NtQ8HOYdG3Fq",
    "outputId": "d746a965-c212-4b99-ac1f-a7741b13544f"
   },
   "outputs": [
    {
     "output_type": "execute_result",
     "data": {
      "text/plain": [
       "76840"
      ]
     },
     "metadata": {},
     "execution_count": 44
    }
   ],
   "source": [
    "dados.shape[0]"
   ]
  },
  {
   "cell_type": "code",
   "execution_count": 45,
   "metadata": {
    "colab": {
     "base_uri": "https://localhost:8080/",
     "height": 34
    },
    "colab_type": "code",
    "id": "DsXJHWhMG3Fs",
    "outputId": "b5e5d083-2d89-4f31-e8dd-5ae48375a81c"
   },
   "outputs": [
    {
     "output_type": "execute_result",
     "data": {
      "text/plain": [
       "2000.3831988547631"
      ]
     },
     "metadata": {},
     "execution_count": 45
    }
   ],
   "source": [
    "dados.Renda.mean()"
   ]
  },
  {
   "cell_type": "code",
   "execution_count": 46,
   "metadata": {
    "colab": {},
    "colab_type": "code",
    "id": "k7yJucVMG3Fw"
   },
   "outputs": [
    {
     "output_type": "execute_result",
     "data": {
      "text/plain": [
       "1000"
      ]
     },
     "metadata": {},
     "execution_count": 46
    }
   ],
   "source": [
    "amostra = dados.sample(n = 1000, random_state = 101)\n",
    "amostra.shape[0]"
   ]
  },
  {
   "cell_type": "code",
   "execution_count": 47,
   "metadata": {
    "colab": {
     "base_uri": "https://localhost:8080/",
     "height": 34
    },
    "colab_type": "code",
    "id": "wUyXS65sG3F2",
    "outputId": "d3440aaa-c46f-4d44-8d29-5ab5a3c914a1"
   },
   "outputs": [
    {
     "output_type": "execute_result",
     "data": {
      "text/plain": [
       "1998.783"
      ]
     },
     "metadata": {},
     "execution_count": 47
    }
   ],
   "source": [
    "amostra.Renda.mean()"
   ]
  },
  {
   "cell_type": "code",
   "execution_count": 48,
   "metadata": {
    "colab": {
     "base_uri": "https://localhost:8080/",
     "height": 34
    },
    "colab_type": "code",
    "id": "y0J4UtOwG3F5",
    "outputId": "f2d60d13-3544-4787-a3b4-876b02666da1"
   },
   "outputs": [
    {
     "output_type": "execute_result",
     "data": {
      "text/plain": [
       "0    0.692998\n",
       "1    0.307002\n",
       "Name: Sexo, dtype: float64"
      ]
     },
     "metadata": {},
     "execution_count": 48
    }
   ],
   "source": [
    "dados.Sexo.value_counts(normalize= True)"
   ]
  },
  {
   "cell_type": "code",
   "execution_count": 49,
   "metadata": {
    "colab": {
     "base_uri": "https://localhost:8080/",
     "height": 68
    },
    "colab_type": "code",
    "id": "WGZT_wnjSgPy",
    "outputId": "f905ff8a-84f8-45d5-d232-927630754b70"
   },
   "outputs": [
    {
     "output_type": "execute_result",
     "data": {
      "text/plain": [
       "0    0.706\n",
       "1    0.294\n",
       "Name: Sexo, dtype: float64"
      ]
     },
     "metadata": {},
     "execution_count": 49
    }
   ],
   "source": [
    "amostra.Sexo.value_counts(normalize= True)"
   ]
  },
  {
   "cell_type": "markdown",
   "metadata": {
    "colab_type": "text",
    "id": "stcKhnJBG3F7"
   },
   "source": [
    "## <font color=green>3.4 Amostragem Estratificada</font>\n",
    "***"
   ]
  },
  {
   "cell_type": "markdown",
   "metadata": {
    "colab_type": "text",
    "id": "W1uEZMRIG3GA"
   },
   "source": [
    "É uma melhoria do processo de amostragem aleatória simples. Neste método é proposta a divisão da população em subgrupos de elementos com características similares, ou seja, grupos mais homogêneos. Com estes subgrupos separados, aplica-se a técnica de amostragem aleatória simples dentro de cada subgrupo individualmente."
   ]
  },
  {
   "cell_type": "markdown",
   "metadata": {
    "colab_type": "text",
    "id": "xRjUHDAbG3GB"
   },
   "source": [
    "## <font color=green>3.5 Amostragem por Conglomerados</font>\n",
    "***"
   ]
  },
  {
   "cell_type": "markdown",
   "metadata": {
    "colab_type": "text",
    "id": "sW9IuaL9G3GH"
   },
   "source": [
    "Também visa melhorar o critério de amostragem aleatória simples. Na amostragem por conglomerados são também criados subgrupos, porém não serão homogêneas como na amostragem estratificada. Na amostragem por conglomerados os subgrupos serão heterogêneos, onde, em seguida, serão aplicadas a amostragem aleatória simples ou estratificada.\n",
    "\n",
    "Um exemplo bastante comum de aplicação deste tipo de técnica é na divisão da população em grupos territoriais, onde os elementos investigados terão características bastante variadas."
   ]
  },
  {
   "cell_type": "markdown",
   "metadata": {
    "colab_type": "text",
    "id": "2LNJT4FEuzO4"
   },
   "source": [
    "# <font color=green>4 ESTIMAÇÃO</font>\n",
    "***"
   ]
  },
  {
   "cell_type": "markdown",
   "metadata": {
    "colab_type": "text",
    "id": "z69W2sVGmybS"
   },
   "source": [
    "## <font color='red'>Problema </font>"
   ]
  },
  {
   "cell_type": "markdown",
   "metadata": {
    "colab_type": "text",
    "id": "ytP6VpismwDY"
   },
   "source": [
    "Suponha que os pesos dos sacos de arroz de uma indústria alimentícia se distribuem aproximadamente como uma normal de **desvio padrão populacional igual a 150 g**. Selecionada uma **amostra aleatório de 20 sacos** de um lote específico, obteve-se um **peso médio de 5.050 g**. Construa um **intervalo de confiança para a média populacional** assumindo um **nível de significância de 5%**."
   ]
  },
  {
   "cell_type": "markdown",
   "metadata": {
    "colab_type": "text",
    "id": "PCqEvJMOwvUf"
   },
   "source": [
    "---"
   ]
  },
  {
   "cell_type": "markdown",
   "metadata": {
    "colab_type": "text",
    "id": "HU578SXBG3GN"
   },
   "source": [
    "É a forma de se fazer suposições generalizadas sobre os parâmetros de uma população tendo como base as informações de uma amostra.\n",
    "\n",
    "- **Parâmetros** são os atributos numéricos de uma população, tal como a média, desvio padrão etc.\n",
    "\n",
    "- **Estimativa** é o valor obtido para determinado parâmetro a partir dos dados de uma amostra da população."
   ]
  },
  {
   "cell_type": "markdown",
   "metadata": {
    "colab_type": "text",
    "id": "klWVkoUDG3GR"
   },
   "source": [
    "## <font color=green>4.1 Teorema do limite central</font>\n",
    "***"
   ]
  },
  {
   "cell_type": "markdown",
   "metadata": {
    "colab_type": "text",
    "id": "QpgTvbISG3GU"
   },
   "source": [
    "> O **Teorema do Limite Central** afirma que, com o aumento do tamanho da amostra, a distribuição das médias amostrais se aproxima de uma distribuição normal com média igual à média da população e desvio padrão igual ao desvio padrão da variável original dividido pela raiz quadrada do tamanho da amostra. Este fato é assegurado para $n$ maior ou igual a 30."
   ]
  },
  {
   "cell_type": "markdown",
   "metadata": {
    "colab_type": "text",
    "id": "ZIAr6is3wEMp"
   },
   "source": [
    "# $$\\sigma_\\bar{x} = \\frac{\\sigma}{\\sqrt{n}}$$\n",
    "\n",
    "O desvio padrão das médias amostrais é conhecido como **erro padrão da média**"
   ]
  },
  {
   "cell_type": "markdown",
   "metadata": {
    "colab_type": "text",
    "id": "eFtSo6H0iz7z"
   },
   "source": [
    "### Entendendo o Teorema do Limite Central"
   ]
  },
  {
   "cell_type": "code",
   "execution_count": 50,
   "metadata": {
    "colab": {},
    "colab_type": "code",
    "id": "S3q73XpnizTi"
   },
   "outputs": [],
   "source": [
    "# Selecionar 2k itens (n)\n",
    "amostragem = 2000\n",
    "# E fazer isso 1500 vezes\n",
    "total_de_amostrar = 1500"
   ]
  },
  {
   "cell_type": "code",
   "execution_count": 51,
   "metadata": {
    "colab": {
     "base_uri": "https://localhost:8080/",
     "height": 32
    },
    "colab_type": "code",
    "id": "uXZvARZ0izQp",
    "outputId": "84cfa6fa-e581-4cb6-bb4c-b622db1e85cd"
   },
   "outputs": [],
   "source": [
    "amostras = pd.DataFrame()"
   ]
  },
  {
   "cell_type": "code",
   "execution_count": 52,
   "metadata": {},
   "outputs": [
    {
     "output_type": "execute_result",
     "data": {
      "text/plain": [
       "      Amostra_0  Amostra_1  Amostra_2  Amostra_3  Amostra_4  Amostra_5  \\\n",
       "0            30         41         39         41         41         53   \n",
       "1            38         42         45         45         52         32   \n",
       "2            32         48         53         26         54         50   \n",
       "3            50         35         49         63         37         53   \n",
       "4            53         39         45         29         44         47   \n",
       "...         ...        ...        ...        ...        ...        ...   \n",
       "1995         47         33         47         46         42         61   \n",
       "1996         38         55         46         37         51         57   \n",
       "1997         43         39         31         39         32         38   \n",
       "1998         34         62         38         35         32         52   \n",
       "1999         32         54         28         48         33         42   \n",
       "\n",
       "      Amostra_6  Amostra_7  Amostra_8  Amostra_9  ...  Amostra_1490  \\\n",
       "0            42         41         39         39  ...            73   \n",
       "1            26         49         27         37  ...            21   \n",
       "2            28         43         34         65  ...            38   \n",
       "3            24         64         50         30  ...            30   \n",
       "4            34         38         24         48  ...            47   \n",
       "...         ...        ...        ...        ...  ...           ...   \n",
       "1995         24         41         23         33  ...            60   \n",
       "1996         25         24         32         43  ...            50   \n",
       "1997         53         50         51         50  ...            32   \n",
       "1998         77         29         38         45  ...            57   \n",
       "1999         40         71         41         67  ...            45   \n",
       "\n",
       "      Amostra_1491  Amostra_1492  Amostra_1493  Amostra_1494  Amostra_1495  \\\n",
       "0               55            32            41            34            36   \n",
       "1               64            56            47            27            56   \n",
       "2               65            32            42            55            64   \n",
       "3               27            26            35            46            73   \n",
       "4               48            30            58            33            50   \n",
       "...            ...           ...           ...           ...           ...   \n",
       "1995            54            51            53            40            42   \n",
       "1996            29            47            28            52            64   \n",
       "1997            29            31            20            72            35   \n",
       "1998            36            42            43            42            72   \n",
       "1999            52            49            45            73            63   \n",
       "\n",
       "      Amostra_1496  Amostra_1497  Amostra_1498  Amostra_1499  \n",
       "0               40            25            59            29  \n",
       "1               19            71            78            49  \n",
       "2               33            64            39            38  \n",
       "3               32            41            48            69  \n",
       "4               24            42            50            26  \n",
       "...            ...           ...           ...           ...  \n",
       "1995            34            41            52            57  \n",
       "1996            62            40            28            24  \n",
       "1997            60            21            61            41  \n",
       "1998            29            50            35            74  \n",
       "1999            38            37            47            59  \n",
       "\n",
       "[2000 rows x 1500 columns]"
      ],
      "text/html": "<div>\n<style scoped>\n    .dataframe tbody tr th:only-of-type {\n        vertical-align: middle;\n    }\n\n    .dataframe tbody tr th {\n        vertical-align: top;\n    }\n\n    .dataframe thead th {\n        text-align: right;\n    }\n</style>\n<table border=\"1\" class=\"dataframe\">\n  <thead>\n    <tr style=\"text-align: right;\">\n      <th></th>\n      <th>Amostra_0</th>\n      <th>Amostra_1</th>\n      <th>Amostra_2</th>\n      <th>Amostra_3</th>\n      <th>Amostra_4</th>\n      <th>Amostra_5</th>\n      <th>Amostra_6</th>\n      <th>Amostra_7</th>\n      <th>Amostra_8</th>\n      <th>Amostra_9</th>\n      <th>...</th>\n      <th>Amostra_1490</th>\n      <th>Amostra_1491</th>\n      <th>Amostra_1492</th>\n      <th>Amostra_1493</th>\n      <th>Amostra_1494</th>\n      <th>Amostra_1495</th>\n      <th>Amostra_1496</th>\n      <th>Amostra_1497</th>\n      <th>Amostra_1498</th>\n      <th>Amostra_1499</th>\n    </tr>\n  </thead>\n  <tbody>\n    <tr>\n      <th>0</th>\n      <td>30</td>\n      <td>41</td>\n      <td>39</td>\n      <td>41</td>\n      <td>41</td>\n      <td>53</td>\n      <td>42</td>\n      <td>41</td>\n      <td>39</td>\n      <td>39</td>\n      <td>...</td>\n      <td>73</td>\n      <td>55</td>\n      <td>32</td>\n      <td>41</td>\n      <td>34</td>\n      <td>36</td>\n      <td>40</td>\n      <td>25</td>\n      <td>59</td>\n      <td>29</td>\n    </tr>\n    <tr>\n      <th>1</th>\n      <td>38</td>\n      <td>42</td>\n      <td>45</td>\n      <td>45</td>\n      <td>52</td>\n      <td>32</td>\n      <td>26</td>\n      <td>49</td>\n      <td>27</td>\n      <td>37</td>\n      <td>...</td>\n      <td>21</td>\n      <td>64</td>\n      <td>56</td>\n      <td>47</td>\n      <td>27</td>\n      <td>56</td>\n      <td>19</td>\n      <td>71</td>\n      <td>78</td>\n      <td>49</td>\n    </tr>\n    <tr>\n      <th>2</th>\n      <td>32</td>\n      <td>48</td>\n      <td>53</td>\n      <td>26</td>\n      <td>54</td>\n      <td>50</td>\n      <td>28</td>\n      <td>43</td>\n      <td>34</td>\n      <td>65</td>\n      <td>...</td>\n      <td>38</td>\n      <td>65</td>\n      <td>32</td>\n      <td>42</td>\n      <td>55</td>\n      <td>64</td>\n      <td>33</td>\n      <td>64</td>\n      <td>39</td>\n      <td>38</td>\n    </tr>\n    <tr>\n      <th>3</th>\n      <td>50</td>\n      <td>35</td>\n      <td>49</td>\n      <td>63</td>\n      <td>37</td>\n      <td>53</td>\n      <td>24</td>\n      <td>64</td>\n      <td>50</td>\n      <td>30</td>\n      <td>...</td>\n      <td>30</td>\n      <td>27</td>\n      <td>26</td>\n      <td>35</td>\n      <td>46</td>\n      <td>73</td>\n      <td>32</td>\n      <td>41</td>\n      <td>48</td>\n      <td>69</td>\n    </tr>\n    <tr>\n      <th>4</th>\n      <td>53</td>\n      <td>39</td>\n      <td>45</td>\n      <td>29</td>\n      <td>44</td>\n      <td>47</td>\n      <td>34</td>\n      <td>38</td>\n      <td>24</td>\n      <td>48</td>\n      <td>...</td>\n      <td>47</td>\n      <td>48</td>\n      <td>30</td>\n      <td>58</td>\n      <td>33</td>\n      <td>50</td>\n      <td>24</td>\n      <td>42</td>\n      <td>50</td>\n      <td>26</td>\n    </tr>\n    <tr>\n      <th>...</th>\n      <td>...</td>\n      <td>...</td>\n      <td>...</td>\n      <td>...</td>\n      <td>...</td>\n      <td>...</td>\n      <td>...</td>\n      <td>...</td>\n      <td>...</td>\n      <td>...</td>\n      <td>...</td>\n      <td>...</td>\n      <td>...</td>\n      <td>...</td>\n      <td>...</td>\n      <td>...</td>\n      <td>...</td>\n      <td>...</td>\n      <td>...</td>\n      <td>...</td>\n      <td>...</td>\n    </tr>\n    <tr>\n      <th>1995</th>\n      <td>47</td>\n      <td>33</td>\n      <td>47</td>\n      <td>46</td>\n      <td>42</td>\n      <td>61</td>\n      <td>24</td>\n      <td>41</td>\n      <td>23</td>\n      <td>33</td>\n      <td>...</td>\n      <td>60</td>\n      <td>54</td>\n      <td>51</td>\n      <td>53</td>\n      <td>40</td>\n      <td>42</td>\n      <td>34</td>\n      <td>41</td>\n      <td>52</td>\n      <td>57</td>\n    </tr>\n    <tr>\n      <th>1996</th>\n      <td>38</td>\n      <td>55</td>\n      <td>46</td>\n      <td>37</td>\n      <td>51</td>\n      <td>57</td>\n      <td>25</td>\n      <td>24</td>\n      <td>32</td>\n      <td>43</td>\n      <td>...</td>\n      <td>50</td>\n      <td>29</td>\n      <td>47</td>\n      <td>28</td>\n      <td>52</td>\n      <td>64</td>\n      <td>62</td>\n      <td>40</td>\n      <td>28</td>\n      <td>24</td>\n    </tr>\n    <tr>\n      <th>1997</th>\n      <td>43</td>\n      <td>39</td>\n      <td>31</td>\n      <td>39</td>\n      <td>32</td>\n      <td>38</td>\n      <td>53</td>\n      <td>50</td>\n      <td>51</td>\n      <td>50</td>\n      <td>...</td>\n      <td>32</td>\n      <td>29</td>\n      <td>31</td>\n      <td>20</td>\n      <td>72</td>\n      <td>35</td>\n      <td>60</td>\n      <td>21</td>\n      <td>61</td>\n      <td>41</td>\n    </tr>\n    <tr>\n      <th>1998</th>\n      <td>34</td>\n      <td>62</td>\n      <td>38</td>\n      <td>35</td>\n      <td>32</td>\n      <td>52</td>\n      <td>77</td>\n      <td>29</td>\n      <td>38</td>\n      <td>45</td>\n      <td>...</td>\n      <td>57</td>\n      <td>36</td>\n      <td>42</td>\n      <td>43</td>\n      <td>42</td>\n      <td>72</td>\n      <td>29</td>\n      <td>50</td>\n      <td>35</td>\n      <td>74</td>\n    </tr>\n    <tr>\n      <th>1999</th>\n      <td>32</td>\n      <td>54</td>\n      <td>28</td>\n      <td>48</td>\n      <td>33</td>\n      <td>42</td>\n      <td>40</td>\n      <td>71</td>\n      <td>41</td>\n      <td>67</td>\n      <td>...</td>\n      <td>45</td>\n      <td>52</td>\n      <td>49</td>\n      <td>45</td>\n      <td>73</td>\n      <td>63</td>\n      <td>38</td>\n      <td>37</td>\n      <td>47</td>\n      <td>59</td>\n    </tr>\n  </tbody>\n</table>\n<p>2000 rows × 1500 columns</p>\n</div>"
     },
     "metadata": {},
     "execution_count": 52
    }
   ],
   "source": [
    "# Usando o data frame criado de amostras \n",
    "for i in range(total_de_amostrar):\n",
    "    _ = dados.Idade.sample(n = amostragem)\n",
    "    _.index = range(0, len(_))\n",
    "    amostras['Amostra_' + str(i)] = _\n",
    "amostras"
   ]
  },
  {
   "cell_type": "markdown",
   "metadata": {
    "colab_type": "text",
    "id": "_A4RKStwjkLI"
   },
   "source": [
    "> O Teorema do Limite Central afirma que, com o aumento do tamanho da amostra, a distribuição das médias amostrais se aproxima de uma distribuição normal **com média igual à média da população** e desvio padrão igual ao desvio padrão da variável original dividido pela raiz quadrada do tamanho da amostra. Este fato é assegurado para n maior ou igual a 30."
   ]
  },
  {
   "cell_type": "code",
   "execution_count": 53,
   "metadata": {
    "colab": {
     "base_uri": "https://localhost:8080/",
     "height": 34
    },
    "colab_type": "code",
    "id": "vXE-UOj_izGZ",
    "outputId": "6eecc478-100a-4b55-eec3-896dbfc2079d"
   },
   "outputs": [
    {
     "output_type": "execute_result",
     "data": {
      "text/plain": [
       "Amostra_0       44.1910\n",
       "Amostra_1       44.3545\n",
       "Amostra_2       44.0595\n",
       "Amostra_3       44.2640\n",
       "Amostra_4       44.1185\n",
       "                 ...   \n",
       "Amostra_1495    44.5095\n",
       "Amostra_1496    43.8315\n",
       "Amostra_1497    44.3895\n",
       "Amostra_1498    44.0365\n",
       "Amostra_1499    43.7820\n",
       "Length: 1500, dtype: float64"
      ]
     },
     "metadata": {},
     "execution_count": 53
    }
   ],
   "source": [
    "amostras.mean()"
   ]
  },
  {
   "cell_type": "code",
   "execution_count": 54,
   "metadata": {
    "colab": {
     "base_uri": "https://localhost:8080/",
     "height": 34
    },
    "colab_type": "code",
    "id": "bahA7_WYizC6",
    "outputId": "c95ef032-57b3-479d-b78e-b05efbaa9510"
   },
   "outputs": [
    {
     "output_type": "execute_result",
     "data": {
      "text/plain": [
       "<AxesSubplot:>"
      ]
     },
     "metadata": {},
     "execution_count": 54
    },
    {
     "output_type": "display_data",
     "data": {
      "text/plain": "<Figure size 432x288 with 1 Axes>",
      "image/svg+xml": "<?xml version=\"1.0\" encoding=\"utf-8\" standalone=\"no\"?>\r\n<!DOCTYPE svg PUBLIC \"-//W3C//DTD SVG 1.1//EN\"\r\n  \"http://www.w3.org/Graphics/SVG/1.1/DTD/svg11.dtd\">\r\n<!-- Created with matplotlib (https://matplotlib.org/) -->\r\n<svg height=\"248.518125pt\" version=\"1.1\" viewBox=\"0 0 375.2875 248.518125\" width=\"375.2875pt\" xmlns=\"http://www.w3.org/2000/svg\" xmlns:xlink=\"http://www.w3.org/1999/xlink\">\r\n <metadata>\r\n  <rdf:RDF xmlns:cc=\"http://creativecommons.org/ns#\" xmlns:dc=\"http://purl.org/dc/elements/1.1/\" xmlns:rdf=\"http://www.w3.org/1999/02/22-rdf-syntax-ns#\">\r\n   <cc:Work>\r\n    <dc:type rdf:resource=\"http://purl.org/dc/dcmitype/StillImage\"/>\r\n    <dc:date>2021-05-11T20:12:00.549656</dc:date>\r\n    <dc:format>image/svg+xml</dc:format>\r\n    <dc:creator>\r\n     <cc:Agent>\r\n      <dc:title>Matplotlib v3.3.4, https://matplotlib.org/</dc:title>\r\n     </cc:Agent>\r\n    </dc:creator>\r\n   </cc:Work>\r\n  </rdf:RDF>\r\n </metadata>\r\n <defs>\r\n  <style type=\"text/css\">*{stroke-linecap:butt;stroke-linejoin:round;}</style>\r\n </defs>\r\n <g id=\"figure_1\">\r\n  <g id=\"patch_1\">\r\n   <path d=\"M 0 248.518125 \r\nL 375.2875 248.518125 \r\nL 375.2875 0 \r\nL 0 0 \r\nz\r\n\" style=\"fill:none;\"/>\r\n  </g>\r\n  <g id=\"axes_1\">\r\n   <g id=\"patch_2\">\r\n    <path d=\"M 33.2875 224.64 \r\nL 368.0875 224.64 \r\nL 368.0875 7.2 \r\nL 33.2875 7.2 \r\nz\r\n\" style=\"fill:#ffffff;\"/>\r\n   </g>\r\n   <g id=\"patch_3\">\r\n    <path clip-path=\"url(#p0e44f9eff6)\" d=\"M 48.505682 224.64 \r\nL 78.942045 224.64 \r\nL 78.942045 223.646783 \r\nL 48.505682 223.646783 \r\nz\r\n\" style=\"fill:#1f77b4;\"/>\r\n   </g>\r\n   <g id=\"patch_4\">\r\n    <path clip-path=\"url(#p0e44f9eff6)\" d=\"M 78.942045 224.64 \r\nL 109.378409 224.64 \r\nL 109.378409 215.20444 \r\nL 78.942045 215.20444 \r\nz\r\n\" style=\"fill:#1f77b4;\"/>\r\n   </g>\r\n   <g id=\"patch_5\">\r\n    <path clip-path=\"url(#p0e44f9eff6)\" d=\"M 109.378409 224.64 \r\nL 139.814773 224.64 \r\nL 139.814773 206.265488 \r\nL 109.378409 206.265488 \r\nz\r\n\" style=\"fill:#1f77b4;\"/>\r\n   </g>\r\n   <g id=\"patch_6\">\r\n    <path clip-path=\"url(#p0e44f9eff6)\" d=\"M 139.814773 224.64 \r\nL 170.251136 224.64 \r\nL 170.251136 147.169085 \r\nL 139.814773 147.169085 \r\nz\r\n\" style=\"fill:#1f77b4;\"/>\r\n   </g>\r\n   <g id=\"patch_7\">\r\n    <path clip-path=\"url(#p0e44f9eff6)\" d=\"M 170.251136 224.64 \r\nL 200.6875 224.64 \r\nL 200.6875 78.637122 \r\nL 170.251136 78.637122 \r\nz\r\n\" style=\"fill:#1f77b4;\"/>\r\n   </g>\r\n   <g id=\"patch_8\">\r\n    <path clip-path=\"url(#p0e44f9eff6)\" d=\"M 200.6875 224.64 \r\nL 231.123864 224.64 \r\nL 231.123864 17.554286 \r\nL 200.6875 17.554286 \r\nz\r\n\" style=\"fill:#1f77b4;\"/>\r\n   </g>\r\n   <g id=\"patch_9\">\r\n    <path clip-path=\"url(#p0e44f9eff6)\" d=\"M 231.123864 224.64 \r\nL 261.560227 224.64 \r\nL 261.560227 55.793135 \r\nL 231.123864 55.793135 \r\nz\r\n\" style=\"fill:#1f77b4;\"/>\r\n   </g>\r\n   <g id=\"patch_10\">\r\n    <path clip-path=\"url(#p0e44f9eff6)\" d=\"M 261.560227 224.64 \r\nL 291.996591 224.64 \r\nL 291.996591 143.692826 \r\nL 261.560227 143.692826 \r\nz\r\n\" style=\"fill:#1f77b4;\"/>\r\n   </g>\r\n   <g id=\"patch_11\">\r\n    <path clip-path=\"url(#p0e44f9eff6)\" d=\"M 291.996591 224.64 \r\nL 322.432955 224.64 \r\nL 322.432955 196.33332 \r\nL 291.996591 196.33332 \r\nz\r\n\" style=\"fill:#1f77b4;\"/>\r\n   </g>\r\n   <g id=\"patch_12\">\r\n    <path clip-path=\"url(#p0e44f9eff6)\" d=\"M 322.432955 224.64 \r\nL 352.869318 224.64 \r\nL 352.869318 217.190874 \r\nL 322.432955 217.190874 \r\nz\r\n\" style=\"fill:#1f77b4;\"/>\r\n   </g>\r\n   <g id=\"matplotlib.axis_1\">\r\n    <g id=\"xtick_1\">\r\n     <g id=\"line2d_1\">\r\n      <path clip-path=\"url(#p0e44f9eff6)\" d=\"M 44.849418 224.64 \r\nL 44.849418 7.2 \r\n\" style=\"fill:none;stroke:#b0b0b0;stroke-linecap:square;stroke-width:0.8;\"/>\r\n     </g>\r\n     <g id=\"line2d_2\">\r\n      <defs>\r\n       <path d=\"M 0 0 \r\nL 0 3.5 \r\n\" id=\"m5473f1639e\" style=\"stroke:#000000;stroke-width:0.8;\"/>\r\n      </defs>\r\n      <g>\r\n       <use style=\"stroke:#000000;stroke-width:0.8;\" x=\"44.849418\" xlink:href=\"#m5473f1639e\" y=\"224.64\"/>\r\n      </g>\r\n     </g>\r\n     <g id=\"text_1\">\r\n      <!-- 43.00 -->\r\n      <g transform=\"translate(30.535356 239.238437)scale(0.1 -0.1)\">\r\n       <defs>\r\n        <path d=\"M 37.796875 64.3125 \r\nL 12.890625 25.390625 \r\nL 37.796875 25.390625 \r\nz\r\nM 35.203125 72.90625 \r\nL 47.609375 72.90625 \r\nL 47.609375 25.390625 \r\nL 58.015625 25.390625 \r\nL 58.015625 17.1875 \r\nL 47.609375 17.1875 \r\nL 47.609375 0 \r\nL 37.796875 0 \r\nL 37.796875 17.1875 \r\nL 4.890625 17.1875 \r\nL 4.890625 26.703125 \r\nz\r\n\" id=\"DejaVuSans-52\"/>\r\n        <path d=\"M 40.578125 39.3125 \r\nQ 47.65625 37.796875 51.625 33 \r\nQ 55.609375 28.21875 55.609375 21.1875 \r\nQ 55.609375 10.40625 48.1875 4.484375 \r\nQ 40.765625 -1.421875 27.09375 -1.421875 \r\nQ 22.515625 -1.421875 17.65625 -0.515625 \r\nQ 12.796875 0.390625 7.625 2.203125 \r\nL 7.625 11.71875 \r\nQ 11.71875 9.328125 16.59375 8.109375 \r\nQ 21.484375 6.890625 26.8125 6.890625 \r\nQ 36.078125 6.890625 40.9375 10.546875 \r\nQ 45.796875 14.203125 45.796875 21.1875 \r\nQ 45.796875 27.640625 41.28125 31.265625 \r\nQ 36.765625 34.90625 28.71875 34.90625 \r\nL 20.21875 34.90625 \r\nL 20.21875 43.015625 \r\nL 29.109375 43.015625 \r\nQ 36.375 43.015625 40.234375 45.921875 \r\nQ 44.09375 48.828125 44.09375 54.296875 \r\nQ 44.09375 59.90625 40.109375 62.90625 \r\nQ 36.140625 65.921875 28.71875 65.921875 \r\nQ 24.65625 65.921875 20.015625 65.03125 \r\nQ 15.375 64.15625 9.8125 62.3125 \r\nL 9.8125 71.09375 \r\nQ 15.4375 72.65625 20.34375 73.4375 \r\nQ 25.25 74.21875 29.59375 74.21875 \r\nQ 40.828125 74.21875 47.359375 69.109375 \r\nQ 53.90625 64.015625 53.90625 55.328125 \r\nQ 53.90625 49.265625 50.4375 45.09375 \r\nQ 46.96875 40.921875 40.578125 39.3125 \r\nz\r\n\" id=\"DejaVuSans-51\"/>\r\n        <path d=\"M 10.6875 12.40625 \r\nL 21 12.40625 \r\nL 21 0 \r\nL 10.6875 0 \r\nz\r\n\" id=\"DejaVuSans-46\"/>\r\n        <path d=\"M 31.78125 66.40625 \r\nQ 24.171875 66.40625 20.328125 58.90625 \r\nQ 16.5 51.421875 16.5 36.375 \r\nQ 16.5 21.390625 20.328125 13.890625 \r\nQ 24.171875 6.390625 31.78125 6.390625 \r\nQ 39.453125 6.390625 43.28125 13.890625 \r\nQ 47.125 21.390625 47.125 36.375 \r\nQ 47.125 51.421875 43.28125 58.90625 \r\nQ 39.453125 66.40625 31.78125 66.40625 \r\nz\r\nM 31.78125 74.21875 \r\nQ 44.046875 74.21875 50.515625 64.515625 \r\nQ 56.984375 54.828125 56.984375 36.375 \r\nQ 56.984375 17.96875 50.515625 8.265625 \r\nQ 44.046875 -1.421875 31.78125 -1.421875 \r\nQ 19.53125 -1.421875 13.0625 8.265625 \r\nQ 6.59375 17.96875 6.59375 36.375 \r\nQ 6.59375 54.828125 13.0625 64.515625 \r\nQ 19.53125 74.21875 31.78125 74.21875 \r\nz\r\n\" id=\"DejaVuSans-48\"/>\r\n       </defs>\r\n       <use xlink:href=\"#DejaVuSans-52\"/>\r\n       <use x=\"63.623047\" xlink:href=\"#DejaVuSans-51\"/>\r\n       <use x=\"127.246094\" xlink:href=\"#DejaVuSans-46\"/>\r\n       <use x=\"159.033203\" xlink:href=\"#DejaVuSans-48\"/>\r\n       <use x=\"222.65625\" xlink:href=\"#DejaVuSans-48\"/>\r\n      </g>\r\n     </g>\r\n    </g>\r\n    <g id=\"xtick_2\">\r\n     <g id=\"line2d_3\">\r\n      <path clip-path=\"url(#p0e44f9eff6)\" d=\"M 85.47457 224.64 \r\nL 85.47457 7.2 \r\n\" style=\"fill:none;stroke:#b0b0b0;stroke-linecap:square;stroke-width:0.8;\"/>\r\n     </g>\r\n     <g id=\"line2d_4\">\r\n      <g>\r\n       <use style=\"stroke:#000000;stroke-width:0.8;\" x=\"85.47457\" xlink:href=\"#m5473f1639e\" y=\"224.64\"/>\r\n      </g>\r\n     </g>\r\n     <g id=\"text_2\">\r\n      <!-- 43.25 -->\r\n      <g transform=\"translate(71.160507 239.238437)scale(0.1 -0.1)\">\r\n       <defs>\r\n        <path d=\"M 19.1875 8.296875 \r\nL 53.609375 8.296875 \r\nL 53.609375 0 \r\nL 7.328125 0 \r\nL 7.328125 8.296875 \r\nQ 12.9375 14.109375 22.625 23.890625 \r\nQ 32.328125 33.6875 34.8125 36.53125 \r\nQ 39.546875 41.84375 41.421875 45.53125 \r\nQ 43.3125 49.21875 43.3125 52.78125 \r\nQ 43.3125 58.59375 39.234375 62.25 \r\nQ 35.15625 65.921875 28.609375 65.921875 \r\nQ 23.96875 65.921875 18.8125 64.3125 \r\nQ 13.671875 62.703125 7.8125 59.421875 \r\nL 7.8125 69.390625 \r\nQ 13.765625 71.78125 18.9375 73 \r\nQ 24.125 74.21875 28.421875 74.21875 \r\nQ 39.75 74.21875 46.484375 68.546875 \r\nQ 53.21875 62.890625 53.21875 53.421875 \r\nQ 53.21875 48.921875 51.53125 44.890625 \r\nQ 49.859375 40.875 45.40625 35.40625 \r\nQ 44.1875 33.984375 37.640625 27.21875 \r\nQ 31.109375 20.453125 19.1875 8.296875 \r\nz\r\n\" id=\"DejaVuSans-50\"/>\r\n        <path d=\"M 10.796875 72.90625 \r\nL 49.515625 72.90625 \r\nL 49.515625 64.59375 \r\nL 19.828125 64.59375 \r\nL 19.828125 46.734375 \r\nQ 21.96875 47.46875 24.109375 47.828125 \r\nQ 26.265625 48.1875 28.421875 48.1875 \r\nQ 40.625 48.1875 47.75 41.5 \r\nQ 54.890625 34.8125 54.890625 23.390625 \r\nQ 54.890625 11.625 47.5625 5.09375 \r\nQ 40.234375 -1.421875 26.90625 -1.421875 \r\nQ 22.3125 -1.421875 17.546875 -0.640625 \r\nQ 12.796875 0.140625 7.71875 1.703125 \r\nL 7.71875 11.625 \r\nQ 12.109375 9.234375 16.796875 8.0625 \r\nQ 21.484375 6.890625 26.703125 6.890625 \r\nQ 35.15625 6.890625 40.078125 11.328125 \r\nQ 45.015625 15.765625 45.015625 23.390625 \r\nQ 45.015625 31 40.078125 35.4375 \r\nQ 35.15625 39.890625 26.703125 39.890625 \r\nQ 22.75 39.890625 18.8125 39.015625 \r\nQ 14.890625 38.140625 10.796875 36.28125 \r\nz\r\n\" id=\"DejaVuSans-53\"/>\r\n       </defs>\r\n       <use xlink:href=\"#DejaVuSans-52\"/>\r\n       <use x=\"63.623047\" xlink:href=\"#DejaVuSans-51\"/>\r\n       <use x=\"127.246094\" xlink:href=\"#DejaVuSans-46\"/>\r\n       <use x=\"159.033203\" xlink:href=\"#DejaVuSans-50\"/>\r\n       <use x=\"222.65625\" xlink:href=\"#DejaVuSans-53\"/>\r\n      </g>\r\n     </g>\r\n    </g>\r\n    <g id=\"xtick_3\">\r\n     <g id=\"line2d_5\">\r\n      <path clip-path=\"url(#p0e44f9eff6)\" d=\"M 126.099722 224.64 \r\nL 126.099722 7.2 \r\n\" style=\"fill:none;stroke:#b0b0b0;stroke-linecap:square;stroke-width:0.8;\"/>\r\n     </g>\r\n     <g id=\"line2d_6\">\r\n      <g>\r\n       <use style=\"stroke:#000000;stroke-width:0.8;\" x=\"126.099722\" xlink:href=\"#m5473f1639e\" y=\"224.64\"/>\r\n      </g>\r\n     </g>\r\n     <g id=\"text_3\">\r\n      <!-- 43.50 -->\r\n      <g transform=\"translate(111.785659 239.238437)scale(0.1 -0.1)\">\r\n       <use xlink:href=\"#DejaVuSans-52\"/>\r\n       <use x=\"63.623047\" xlink:href=\"#DejaVuSans-51\"/>\r\n       <use x=\"127.246094\" xlink:href=\"#DejaVuSans-46\"/>\r\n       <use x=\"159.033203\" xlink:href=\"#DejaVuSans-53\"/>\r\n       <use x=\"222.65625\" xlink:href=\"#DejaVuSans-48\"/>\r\n      </g>\r\n     </g>\r\n    </g>\r\n    <g id=\"xtick_4\">\r\n     <g id=\"line2d_7\">\r\n      <path clip-path=\"url(#p0e44f9eff6)\" d=\"M 166.724873 224.64 \r\nL 166.724873 7.2 \r\n\" style=\"fill:none;stroke:#b0b0b0;stroke-linecap:square;stroke-width:0.8;\"/>\r\n     </g>\r\n     <g id=\"line2d_8\">\r\n      <g>\r\n       <use style=\"stroke:#000000;stroke-width:0.8;\" x=\"166.724873\" xlink:href=\"#m5473f1639e\" y=\"224.64\"/>\r\n      </g>\r\n     </g>\r\n     <g id=\"text_4\">\r\n      <!-- 43.75 -->\r\n      <g transform=\"translate(152.410811 239.238437)scale(0.1 -0.1)\">\r\n       <defs>\r\n        <path d=\"M 8.203125 72.90625 \r\nL 55.078125 72.90625 \r\nL 55.078125 68.703125 \r\nL 28.609375 0 \r\nL 18.3125 0 \r\nL 43.21875 64.59375 \r\nL 8.203125 64.59375 \r\nz\r\n\" id=\"DejaVuSans-55\"/>\r\n       </defs>\r\n       <use xlink:href=\"#DejaVuSans-52\"/>\r\n       <use x=\"63.623047\" xlink:href=\"#DejaVuSans-51\"/>\r\n       <use x=\"127.246094\" xlink:href=\"#DejaVuSans-46\"/>\r\n       <use x=\"159.033203\" xlink:href=\"#DejaVuSans-55\"/>\r\n       <use x=\"222.65625\" xlink:href=\"#DejaVuSans-53\"/>\r\n      </g>\r\n     </g>\r\n    </g>\r\n    <g id=\"xtick_5\">\r\n     <g id=\"line2d_9\">\r\n      <path clip-path=\"url(#p0e44f9eff6)\" d=\"M 207.350025 224.64 \r\nL 207.350025 7.2 \r\n\" style=\"fill:none;stroke:#b0b0b0;stroke-linecap:square;stroke-width:0.8;\"/>\r\n     </g>\r\n     <g id=\"line2d_10\">\r\n      <g>\r\n       <use style=\"stroke:#000000;stroke-width:0.8;\" x=\"207.350025\" xlink:href=\"#m5473f1639e\" y=\"224.64\"/>\r\n      </g>\r\n     </g>\r\n     <g id=\"text_5\">\r\n      <!-- 44.00 -->\r\n      <g transform=\"translate(193.035962 239.238437)scale(0.1 -0.1)\">\r\n       <use xlink:href=\"#DejaVuSans-52\"/>\r\n       <use x=\"63.623047\" xlink:href=\"#DejaVuSans-52\"/>\r\n       <use x=\"127.246094\" xlink:href=\"#DejaVuSans-46\"/>\r\n       <use x=\"159.033203\" xlink:href=\"#DejaVuSans-48\"/>\r\n       <use x=\"222.65625\" xlink:href=\"#DejaVuSans-48\"/>\r\n      </g>\r\n     </g>\r\n    </g>\r\n    <g id=\"xtick_6\">\r\n     <g id=\"line2d_11\">\r\n      <path clip-path=\"url(#p0e44f9eff6)\" d=\"M 247.975177 224.64 \r\nL 247.975177 7.2 \r\n\" style=\"fill:none;stroke:#b0b0b0;stroke-linecap:square;stroke-width:0.8;\"/>\r\n     </g>\r\n     <g id=\"line2d_12\">\r\n      <g>\r\n       <use style=\"stroke:#000000;stroke-width:0.8;\" x=\"247.975177\" xlink:href=\"#m5473f1639e\" y=\"224.64\"/>\r\n      </g>\r\n     </g>\r\n     <g id=\"text_6\">\r\n      <!-- 44.25 -->\r\n      <g transform=\"translate(233.661114 239.238437)scale(0.1 -0.1)\">\r\n       <use xlink:href=\"#DejaVuSans-52\"/>\r\n       <use x=\"63.623047\" xlink:href=\"#DejaVuSans-52\"/>\r\n       <use x=\"127.246094\" xlink:href=\"#DejaVuSans-46\"/>\r\n       <use x=\"159.033203\" xlink:href=\"#DejaVuSans-50\"/>\r\n       <use x=\"222.65625\" xlink:href=\"#DejaVuSans-53\"/>\r\n      </g>\r\n     </g>\r\n    </g>\r\n    <g id=\"xtick_7\">\r\n     <g id=\"line2d_13\">\r\n      <path clip-path=\"url(#p0e44f9eff6)\" d=\"M 288.600328 224.64 \r\nL 288.600328 7.2 \r\n\" style=\"fill:none;stroke:#b0b0b0;stroke-linecap:square;stroke-width:0.8;\"/>\r\n     </g>\r\n     <g id=\"line2d_14\">\r\n      <g>\r\n       <use style=\"stroke:#000000;stroke-width:0.8;\" x=\"288.600328\" xlink:href=\"#m5473f1639e\" y=\"224.64\"/>\r\n      </g>\r\n     </g>\r\n     <g id=\"text_7\">\r\n      <!-- 44.50 -->\r\n      <g transform=\"translate(274.286266 239.238437)scale(0.1 -0.1)\">\r\n       <use xlink:href=\"#DejaVuSans-52\"/>\r\n       <use x=\"63.623047\" xlink:href=\"#DejaVuSans-52\"/>\r\n       <use x=\"127.246094\" xlink:href=\"#DejaVuSans-46\"/>\r\n       <use x=\"159.033203\" xlink:href=\"#DejaVuSans-53\"/>\r\n       <use x=\"222.65625\" xlink:href=\"#DejaVuSans-48\"/>\r\n      </g>\r\n     </g>\r\n    </g>\r\n    <g id=\"xtick_8\">\r\n     <g id=\"line2d_15\">\r\n      <path clip-path=\"url(#p0e44f9eff6)\" d=\"M 329.22548 224.64 \r\nL 329.22548 7.2 \r\n\" style=\"fill:none;stroke:#b0b0b0;stroke-linecap:square;stroke-width:0.8;\"/>\r\n     </g>\r\n     <g id=\"line2d_16\">\r\n      <g>\r\n       <use style=\"stroke:#000000;stroke-width:0.8;\" x=\"329.22548\" xlink:href=\"#m5473f1639e\" y=\"224.64\"/>\r\n      </g>\r\n     </g>\r\n     <g id=\"text_8\">\r\n      <!-- 44.75 -->\r\n      <g transform=\"translate(314.911417 239.238437)scale(0.1 -0.1)\">\r\n       <use xlink:href=\"#DejaVuSans-52\"/>\r\n       <use x=\"63.623047\" xlink:href=\"#DejaVuSans-52\"/>\r\n       <use x=\"127.246094\" xlink:href=\"#DejaVuSans-46\"/>\r\n       <use x=\"159.033203\" xlink:href=\"#DejaVuSans-55\"/>\r\n       <use x=\"222.65625\" xlink:href=\"#DejaVuSans-53\"/>\r\n      </g>\r\n     </g>\r\n    </g>\r\n   </g>\r\n   <g id=\"matplotlib.axis_2\">\r\n    <g id=\"ytick_1\">\r\n     <g id=\"line2d_17\">\r\n      <path clip-path=\"url(#p0e44f9eff6)\" d=\"M 33.2875 224.64 \r\nL 368.0875 224.64 \r\n\" style=\"fill:none;stroke:#b0b0b0;stroke-linecap:square;stroke-width:0.8;\"/>\r\n     </g>\r\n     <g id=\"line2d_18\">\r\n      <defs>\r\n       <path d=\"M 0 0 \r\nL -3.5 0 \r\n\" id=\"m8eb9effa66\" style=\"stroke:#000000;stroke-width:0.8;\"/>\r\n      </defs>\r\n      <g>\r\n       <use style=\"stroke:#000000;stroke-width:0.8;\" x=\"33.2875\" xlink:href=\"#m8eb9effa66\" y=\"224.64\"/>\r\n      </g>\r\n     </g>\r\n     <g id=\"text_9\">\r\n      <!-- 0 -->\r\n      <g transform=\"translate(19.925 228.439219)scale(0.1 -0.1)\">\r\n       <use xlink:href=\"#DejaVuSans-48\"/>\r\n      </g>\r\n     </g>\r\n    </g>\r\n    <g id=\"ytick_2\">\r\n     <g id=\"line2d_19\">\r\n      <path clip-path=\"url(#p0e44f9eff6)\" d=\"M 33.2875 199.809579 \r\nL 368.0875 199.809579 \r\n\" style=\"fill:none;stroke:#b0b0b0;stroke-linecap:square;stroke-width:0.8;\"/>\r\n     </g>\r\n     <g id=\"line2d_20\">\r\n      <g>\r\n       <use style=\"stroke:#000000;stroke-width:0.8;\" x=\"33.2875\" xlink:href=\"#m8eb9effa66\" y=\"199.809579\"/>\r\n      </g>\r\n     </g>\r\n     <g id=\"text_10\">\r\n      <!-- 50 -->\r\n      <g transform=\"translate(13.5625 203.608797)scale(0.1 -0.1)\">\r\n       <use xlink:href=\"#DejaVuSans-53\"/>\r\n       <use x=\"63.623047\" xlink:href=\"#DejaVuSans-48\"/>\r\n      </g>\r\n     </g>\r\n    </g>\r\n    <g id=\"ytick_3\">\r\n     <g id=\"line2d_21\">\r\n      <path clip-path=\"url(#p0e44f9eff6)\" d=\"M 33.2875 174.979157 \r\nL 368.0875 174.979157 \r\n\" style=\"fill:none;stroke:#b0b0b0;stroke-linecap:square;stroke-width:0.8;\"/>\r\n     </g>\r\n     <g id=\"line2d_22\">\r\n      <g>\r\n       <use style=\"stroke:#000000;stroke-width:0.8;\" x=\"33.2875\" xlink:href=\"#m8eb9effa66\" y=\"174.979157\"/>\r\n      </g>\r\n     </g>\r\n     <g id=\"text_11\">\r\n      <!-- 100 -->\r\n      <g transform=\"translate(7.2 178.778376)scale(0.1 -0.1)\">\r\n       <defs>\r\n        <path d=\"M 12.40625 8.296875 \r\nL 28.515625 8.296875 \r\nL 28.515625 63.921875 \r\nL 10.984375 60.40625 \r\nL 10.984375 69.390625 \r\nL 28.421875 72.90625 \r\nL 38.28125 72.90625 \r\nL 38.28125 8.296875 \r\nL 54.390625 8.296875 \r\nL 54.390625 0 \r\nL 12.40625 0 \r\nz\r\n\" id=\"DejaVuSans-49\"/>\r\n       </defs>\r\n       <use xlink:href=\"#DejaVuSans-49\"/>\r\n       <use x=\"63.623047\" xlink:href=\"#DejaVuSans-48\"/>\r\n       <use x=\"127.246094\" xlink:href=\"#DejaVuSans-48\"/>\r\n      </g>\r\n     </g>\r\n    </g>\r\n    <g id=\"ytick_4\">\r\n     <g id=\"line2d_23\">\r\n      <path clip-path=\"url(#p0e44f9eff6)\" d=\"M 33.2875 150.148736 \r\nL 368.0875 150.148736 \r\n\" style=\"fill:none;stroke:#b0b0b0;stroke-linecap:square;stroke-width:0.8;\"/>\r\n     </g>\r\n     <g id=\"line2d_24\">\r\n      <g>\r\n       <use style=\"stroke:#000000;stroke-width:0.8;\" x=\"33.2875\" xlink:href=\"#m8eb9effa66\" y=\"150.148736\"/>\r\n      </g>\r\n     </g>\r\n     <g id=\"text_12\">\r\n      <!-- 150 -->\r\n      <g transform=\"translate(7.2 153.947955)scale(0.1 -0.1)\">\r\n       <use xlink:href=\"#DejaVuSans-49\"/>\r\n       <use x=\"63.623047\" xlink:href=\"#DejaVuSans-53\"/>\r\n       <use x=\"127.246094\" xlink:href=\"#DejaVuSans-48\"/>\r\n      </g>\r\n     </g>\r\n    </g>\r\n    <g id=\"ytick_5\">\r\n     <g id=\"line2d_25\">\r\n      <path clip-path=\"url(#p0e44f9eff6)\" d=\"M 33.2875 125.318314 \r\nL 368.0875 125.318314 \r\n\" style=\"fill:none;stroke:#b0b0b0;stroke-linecap:square;stroke-width:0.8;\"/>\r\n     </g>\r\n     <g id=\"line2d_26\">\r\n      <g>\r\n       <use style=\"stroke:#000000;stroke-width:0.8;\" x=\"33.2875\" xlink:href=\"#m8eb9effa66\" y=\"125.318314\"/>\r\n      </g>\r\n     </g>\r\n     <g id=\"text_13\">\r\n      <!-- 200 -->\r\n      <g transform=\"translate(7.2 129.117533)scale(0.1 -0.1)\">\r\n       <use xlink:href=\"#DejaVuSans-50\"/>\r\n       <use x=\"63.623047\" xlink:href=\"#DejaVuSans-48\"/>\r\n       <use x=\"127.246094\" xlink:href=\"#DejaVuSans-48\"/>\r\n      </g>\r\n     </g>\r\n    </g>\r\n    <g id=\"ytick_6\">\r\n     <g id=\"line2d_27\">\r\n      <path clip-path=\"url(#p0e44f9eff6)\" d=\"M 33.2875 100.487893 \r\nL 368.0875 100.487893 \r\n\" style=\"fill:none;stroke:#b0b0b0;stroke-linecap:square;stroke-width:0.8;\"/>\r\n     </g>\r\n     <g id=\"line2d_28\">\r\n      <g>\r\n       <use style=\"stroke:#000000;stroke-width:0.8;\" x=\"33.2875\" xlink:href=\"#m8eb9effa66\" y=\"100.487893\"/>\r\n      </g>\r\n     </g>\r\n     <g id=\"text_14\">\r\n      <!-- 250 -->\r\n      <g transform=\"translate(7.2 104.287112)scale(0.1 -0.1)\">\r\n       <use xlink:href=\"#DejaVuSans-50\"/>\r\n       <use x=\"63.623047\" xlink:href=\"#DejaVuSans-53\"/>\r\n       <use x=\"127.246094\" xlink:href=\"#DejaVuSans-48\"/>\r\n      </g>\r\n     </g>\r\n    </g>\r\n    <g id=\"ytick_7\">\r\n     <g id=\"line2d_29\">\r\n      <path clip-path=\"url(#p0e44f9eff6)\" d=\"M 33.2875 75.657472 \r\nL 368.0875 75.657472 \r\n\" style=\"fill:none;stroke:#b0b0b0;stroke-linecap:square;stroke-width:0.8;\"/>\r\n     </g>\r\n     <g id=\"line2d_30\">\r\n      <g>\r\n       <use style=\"stroke:#000000;stroke-width:0.8;\" x=\"33.2875\" xlink:href=\"#m8eb9effa66\" y=\"75.657472\"/>\r\n      </g>\r\n     </g>\r\n     <g id=\"text_15\">\r\n      <!-- 300 -->\r\n      <g transform=\"translate(7.2 79.45669)scale(0.1 -0.1)\">\r\n       <use xlink:href=\"#DejaVuSans-51\"/>\r\n       <use x=\"63.623047\" xlink:href=\"#DejaVuSans-48\"/>\r\n       <use x=\"127.246094\" xlink:href=\"#DejaVuSans-48\"/>\r\n      </g>\r\n     </g>\r\n    </g>\r\n    <g id=\"ytick_8\">\r\n     <g id=\"line2d_31\">\r\n      <path clip-path=\"url(#p0e44f9eff6)\" d=\"M 33.2875 50.82705 \r\nL 368.0875 50.82705 \r\n\" style=\"fill:none;stroke:#b0b0b0;stroke-linecap:square;stroke-width:0.8;\"/>\r\n     </g>\r\n     <g id=\"line2d_32\">\r\n      <g>\r\n       <use style=\"stroke:#000000;stroke-width:0.8;\" x=\"33.2875\" xlink:href=\"#m8eb9effa66\" y=\"50.82705\"/>\r\n      </g>\r\n     </g>\r\n     <g id=\"text_16\">\r\n      <!-- 350 -->\r\n      <g transform=\"translate(7.2 54.626269)scale(0.1 -0.1)\">\r\n       <use xlink:href=\"#DejaVuSans-51\"/>\r\n       <use x=\"63.623047\" xlink:href=\"#DejaVuSans-53\"/>\r\n       <use x=\"127.246094\" xlink:href=\"#DejaVuSans-48\"/>\r\n      </g>\r\n     </g>\r\n    </g>\r\n    <g id=\"ytick_9\">\r\n     <g id=\"line2d_33\">\r\n      <path clip-path=\"url(#p0e44f9eff6)\" d=\"M 33.2875 25.996629 \r\nL 368.0875 25.996629 \r\n\" style=\"fill:none;stroke:#b0b0b0;stroke-linecap:square;stroke-width:0.8;\"/>\r\n     </g>\r\n     <g id=\"line2d_34\">\r\n      <g>\r\n       <use style=\"stroke:#000000;stroke-width:0.8;\" x=\"33.2875\" xlink:href=\"#m8eb9effa66\" y=\"25.996629\"/>\r\n      </g>\r\n     </g>\r\n     <g id=\"text_17\">\r\n      <!-- 400 -->\r\n      <g transform=\"translate(7.2 29.795848)scale(0.1 -0.1)\">\r\n       <use xlink:href=\"#DejaVuSans-52\"/>\r\n       <use x=\"63.623047\" xlink:href=\"#DejaVuSans-48\"/>\r\n       <use x=\"127.246094\" xlink:href=\"#DejaVuSans-48\"/>\r\n      </g>\r\n     </g>\r\n    </g>\r\n   </g>\r\n   <g id=\"patch_13\">\r\n    <path d=\"M 33.2875 224.64 \r\nL 33.2875 7.2 \r\n\" style=\"fill:none;stroke:#000000;stroke-linecap:square;stroke-linejoin:miter;stroke-width:0.8;\"/>\r\n   </g>\r\n   <g id=\"patch_14\">\r\n    <path d=\"M 368.0875 224.64 \r\nL 368.0875 7.2 \r\n\" style=\"fill:none;stroke:#000000;stroke-linecap:square;stroke-linejoin:miter;stroke-width:0.8;\"/>\r\n   </g>\r\n   <g id=\"patch_15\">\r\n    <path d=\"M 33.2875 224.64 \r\nL 368.0875 224.64 \r\n\" style=\"fill:none;stroke:#000000;stroke-linecap:square;stroke-linejoin:miter;stroke-width:0.8;\"/>\r\n   </g>\r\n   <g id=\"patch_16\">\r\n    <path d=\"M 33.2875 7.2 \r\nL 368.0875 7.2 \r\n\" style=\"fill:none;stroke:#000000;stroke-linecap:square;stroke-linejoin:miter;stroke-width:0.8;\"/>\r\n   </g>\r\n  </g>\r\n </g>\r\n <defs>\r\n  <clipPath id=\"p0e44f9eff6\">\r\n   <rect height=\"217.44\" width=\"334.8\" x=\"33.2875\" y=\"7.2\"/>\r\n  </clipPath>\r\n </defs>\r\n</svg>\r\n",
      "image/png": "[encoded data removed]"
     },
     "metadata": {
      "needs_background": "light"
     }
    }
   ],
   "source": [
    "amostras.mean().hist()"
   ]
  },
  {
   "cell_type": "code",
   "execution_count": 55,
   "metadata": {},
   "outputs": [
    {
     "output_type": "execute_result",
     "data": {
      "text/plain": [
       "44.07142113482561"
      ]
     },
     "metadata": {},
     "execution_count": 55
    }
   ],
   "source": [
    "dados.Idade.mean()"
   ]
  },
  {
   "cell_type": "code",
   "execution_count": 56,
   "metadata": {},
   "outputs": [
    {
     "output_type": "execute_result",
     "data": {
      "text/plain": [
       "44.06259166666668"
      ]
     },
     "metadata": {},
     "execution_count": 56
    }
   ],
   "source": [
    "# A primeira média é a média de cada amostra seperada, a segunda é uma média das médias das amostras\n",
    "amostras.mean().mean()"
   ]
  },
  {
   "cell_type": "code",
   "execution_count": 57,
   "metadata": {},
   "outputs": [
    {
     "output_type": "execute_result",
     "data": {
      "text/plain": [
       "0.2770264196582725"
      ]
     },
     "metadata": {},
     "execution_count": 57
    }
   ],
   "source": [
    "amostras.mean().std()"
   ]
  },
  {
   "cell_type": "code",
   "execution_count": 58,
   "metadata": {},
   "outputs": [
    {
     "output_type": "execute_result",
     "data": {
      "text/plain": [
       "0.27907433027404266"
      ]
     },
     "metadata": {},
     "execution_count": 58
    }
   ],
   "source": [
    "# Cálculo do teorema\n",
    "dados.Idade.std() / np.sqrt(amostragem)"
   ]
  },
  {
   "cell_type": "markdown",
   "metadata": {
    "colab_type": "text",
    "id": "ku8CE67iG3Ge"
   },
   "source": [
    "## <font color=green>4.2 Níveis de confiança e significância</font>\n",
    "***"
   ]
  },
  {
   "cell_type": "markdown",
   "metadata": {
    "colab_type": "text",
    "id": "mk6ZsvgyG3Gf"
   },
   "source": [
    "O **nível de confiança** ($1 - \\alpha$) representa a probabilidade de acerto da estimativa. De forma complementar o **nível de significância** ($\\alpha$) expressa a probabilidade de erro da estimativa.\n",
    "\n",
    "O **nível de confiança** representa o grau de confiabilidade do resultado da estimativa estar dentro de determinado intervalo. Quando fixamos em uma pesquisa um **nível de confiança** de 95%, por exemplo, estamos assumindo que existe uma probabilidade de 95% dos resultados da pesquisa representarem bem a realidade, ou seja, estarem corretos.\n",
    "\n",
    "O **nível de confiança** de uma estimativa pode ser obtido a partir da área sob a curva normal como ilustrado na figura abaixo."
   ]
  },
  {
   "cell_type": "markdown",
   "metadata": {
    "colab_type": "text",
    "id": "WeGyDfvaG3Gg"
   },
   "source": [
    "![alt text](https://caelum-online-public.s3.amazonaws.com/1178-estatistica-parte2/01/img007.png)"
   ]
  },
  {
   "cell_type": "markdown",
   "metadata": {
    "colab_type": "text",
    "id": "AN8WDZ-HG3Gi"
   },
   "source": [
    "## <font color=green>4.3 Erro inferencial</font>\n",
    "***"
   ]
  },
  {
   "cell_type": "markdown",
   "metadata": {
    "colab_type": "text",
    "id": "tk-TwhhfG3Gi"
   },
   "source": [
    "O **erro inferencial** é definido pelo **desvio padrão das médias amostrais** $\\sigma_\\bar{x}$ e pelo **nível de confiança** determinado para o processo."
   ]
  },
  {
   "cell_type": "markdown",
   "metadata": {
    "colab_type": "text",
    "id": "FKOQUPYHG3Gk"
   },
   "source": [
    "# $$e = z \\frac{\\sigma}{\\sqrt{n}}$$"
   ]
  },
  {
   "cell_type": "markdown",
   "metadata": {
    "colab_type": "text",
    "id": "ELbWQW4sG3HS"
   },
   "source": [
    "## <font color=green>4.4 Intervalos de confiança</font>\n",
    "***"
   ]
  },
  {
   "cell_type": "markdown",
   "metadata": {
    "colab_type": "text",
    "id": "-r6EMnH-G3HT"
   },
   "source": [
    "### Intevalo de confiança para a média da população"
   ]
  },
  {
   "cell_type": "markdown",
   "metadata": {
    "colab_type": "text",
    "id": "QWgBFeRnG3HT"
   },
   "source": [
    "#### Com desvio padrão populacional conhecido\n",
    "\n",
    "## $$\\mu = \\bar{x} \\pm z\\frac{\\sigma}{\\sqrt{n}}$$\n",
    "\n",
    "#### Com desvio padrão populacional desconhecido\n",
    "\n",
    "## $$\\mu = \\bar{x} \\pm z\\frac{s}{\\sqrt{n}}$$"
   ]
  },
  {
   "cell_type": "markdown",
   "metadata": {
    "colab_type": "text",
    "id": "R2qqLneeG3HT"
   },
   "source": [
    "## <font color='blue'>Exemplo: </font>"
   ]
  },
  {
   "cell_type": "markdown",
   "metadata": {
    "colab_type": "text",
    "id": "AgnrFjdMG3HT"
   },
   "source": [
    "Suponha que os pesos dos sacos de arroz de uma indústria alimentícia se distribuem aproximadamente como uma normal de **desvio padrão populacional igual a 150 g**. Selecionada uma **amostra aleatório de 20 sacos** de um lote específico, obteve-se um **peso médio de 5.050 g**. Construa um intervalo de confiança para a **média populacional** assumindo um **nível de significância de 5%**."
   ]
  },
  {
   "cell_type": "markdown",
   "metadata": {
    "colab_type": "text",
    "id": "LpGQGksTG3HU"
   },
   "source": [
    "### Média amostral"
   ]
  },
  {
   "cell_type": "code",
   "execution_count": 59,
   "metadata": {
    "colab": {
     "base_uri": "https://localhost:8080/",
     "height": 34
    },
    "colab_type": "code",
    "id": "aF2QQ0z3G3HU",
    "outputId": "31b20b10-a4f7-49fe-b113-f0fff1e2f30f"
   },
   "outputs": [],
   "source": [
    "media_amostra = 5050"
   ]
  },
  {
   "cell_type": "markdown",
   "metadata": {
    "colab_type": "text",
    "id": "Jly1bVP9G3HY"
   },
   "source": [
    "### Nível de significância ($\\alpha$)"
   ]
  },
  {
   "cell_type": "code",
   "execution_count": 60,
   "metadata": {
    "colab": {
     "base_uri": "https://localhost:8080/",
     "height": 34
    },
    "colab_type": "code",
    "id": "BzIgN3C7G3HY",
    "outputId": "53b76a9a-fce9-41dc-829e-4c7b318b7d75"
   },
   "outputs": [],
   "source": [
    "significancia = 0.05"
   ]
  },
  {
   "cell_type": "markdown",
   "metadata": {
    "colab_type": "text",
    "id": "SrZAbQRKG3Ha"
   },
   "source": [
    "### Nível de confiança ($1 - \\alpha$)"
   ]
  },
  {
   "cell_type": "code",
   "execution_count": 61,
   "metadata": {
    "colab": {
     "base_uri": "https://localhost:8080/",
     "height": 34
    },
    "colab_type": "code",
    "id": "1JeWXwA6G3Ha",
    "outputId": "8ac9e63f-f2e5-46a5-b693-e221203ada3f"
   },
   "outputs": [
    {
     "output_type": "execute_result",
     "data": {
      "text/plain": [
       "0.95"
      ]
     },
     "metadata": {},
     "execution_count": 61
    }
   ],
   "source": [
    "confianca = 1 - significancia\n",
    "confianca"
   ]
  },
  {
   "cell_type": "markdown",
   "metadata": {
    "colab_type": "text",
    "id": "mZoUFr1nG3Hf"
   },
   "source": [
    "### Obtendo $z$"
   ]
  },
  {
   "cell_type": "code",
   "execution_count": 62,
   "metadata": {
    "colab": {
     "base_uri": "https://localhost:8080/",
     "height": 359
    },
    "colab_type": "code",
    "id": "f9IMOwY2Xeva",
    "outputId": "e8efe36b-5dfd-4272-de0c-fdab162d3582"
   },
   "outputs": [
    {
     "output_type": "execute_result",
     "data": {
      "text/plain": [
       "Z       0.00    0.01    0.02    0.03    0.04    0.05    0.06    0.07    0.08  \\\n",
       "1.60  0.9452  0.9463  0.9474  0.9484  0.9495  0.9505  0.9515  0.9525  0.9535   \n",
       "1.70  0.9554  0.9564  0.9573  0.9582  0.9591  0.9599  0.9608  0.9616  0.9625   \n",
       "1.80  0.9641  0.9649  0.9656  0.9664  0.9671  0.9678  0.9686  0.9693  0.9699   \n",
       "1.90  0.9713  0.9719  0.9726  0.9732  0.9738  0.9744  0.9750  0.9756  0.9761   \n",
       "2.00  0.9772  0.9778  0.9783  0.9788  0.9793  0.9798  0.9803  0.9808  0.9812   \n",
       "2.10  0.9821  0.9826  0.9830  0.9834  0.9838  0.9842  0.9846  0.9850  0.9854   \n",
       "2.20  0.9861  0.9864  0.9868  0.9871  0.9875  0.9878  0.9881  0.9884  0.9887   \n",
       "2.30  0.9893  0.9896  0.9898  0.9901  0.9904  0.9906  0.9909  0.9911  0.9913   \n",
       "2.40  0.9918  0.9920  0.9922  0.9925  0.9927  0.9929  0.9931  0.9932  0.9934   \n",
       "2.50  0.9938  0.9940  0.9941  0.9943  0.9945  0.9946  0.9948  0.9949  0.9951   \n",
       "\n",
       "Z       0.09  \n",
       "1.60  0.9545  \n",
       "1.70  0.9633  \n",
       "1.80  0.9706  \n",
       "1.90  0.9767  \n",
       "2.00  0.9817  \n",
       "2.10  0.9857  \n",
       "2.20  0.9890  \n",
       "2.30  0.9916  \n",
       "2.40  0.9936  \n",
       "2.50  0.9952  "
      ],
      "text/html": "<div>\n<style scoped>\n    .dataframe tbody tr th:only-of-type {\n        vertical-align: middle;\n    }\n\n    .dataframe tbody tr th {\n        vertical-align: top;\n    }\n\n    .dataframe thead th {\n        text-align: right;\n    }\n</style>\n<table border=\"1\" class=\"dataframe\">\n  <thead>\n    <tr style=\"text-align: right;\">\n      <th>Z</th>\n      <th>0.00</th>\n      <th>0.01</th>\n      <th>0.02</th>\n      <th>0.03</th>\n      <th>0.04</th>\n      <th>0.05</th>\n      <th>0.06</th>\n      <th>0.07</th>\n      <th>0.08</th>\n      <th>0.09</th>\n    </tr>\n  </thead>\n  <tbody>\n    <tr>\n      <th>1.60</th>\n      <td>0.9452</td>\n      <td>0.9463</td>\n      <td>0.9474</td>\n      <td>0.9484</td>\n      <td>0.9495</td>\n      <td>0.9505</td>\n      <td>0.9515</td>\n      <td>0.9525</td>\n      <td>0.9535</td>\n      <td>0.9545</td>\n    </tr>\n    <tr>\n      <th>1.70</th>\n      <td>0.9554</td>\n      <td>0.9564</td>\n      <td>0.9573</td>\n      <td>0.9582</td>\n      <td>0.9591</td>\n      <td>0.9599</td>\n      <td>0.9608</td>\n      <td>0.9616</td>\n      <td>0.9625</td>\n      <td>0.9633</td>\n    </tr>\n    <tr>\n      <th>1.80</th>\n      <td>0.9641</td>\n      <td>0.9649</td>\n      <td>0.9656</td>\n      <td>0.9664</td>\n      <td>0.9671</td>\n      <td>0.9678</td>\n      <td>0.9686</td>\n      <td>0.9693</td>\n      <td>0.9699</td>\n      <td>0.9706</td>\n    </tr>\n    <tr>\n      <th>1.90</th>\n      <td>0.9713</td>\n      <td>0.9719</td>\n      <td>0.9726</td>\n      <td>0.9732</td>\n      <td>0.9738</td>\n      <td>0.9744</td>\n      <td>0.9750</td>\n      <td>0.9756</td>\n      <td>0.9761</td>\n      <td>0.9767</td>\n    </tr>\n    <tr>\n      <th>2.00</th>\n      <td>0.9772</td>\n      <td>0.9778</td>\n      <td>0.9783</td>\n      <td>0.9788</td>\n      <td>0.9793</td>\n      <td>0.9798</td>\n      <td>0.9803</td>\n      <td>0.9808</td>\n      <td>0.9812</td>\n      <td>0.9817</td>\n    </tr>\n    <tr>\n      <th>2.10</th>\n      <td>0.9821</td>\n      <td>0.9826</td>\n      <td>0.9830</td>\n      <td>0.9834</td>\n      <td>0.9838</td>\n      <td>0.9842</td>\n      <td>0.9846</td>\n      <td>0.9850</td>\n      <td>0.9854</td>\n      <td>0.9857</td>\n    </tr>\n    <tr>\n      <th>2.20</th>\n      <td>0.9861</td>\n      <td>0.9864</td>\n      <td>0.9868</td>\n      <td>0.9871</td>\n      <td>0.9875</td>\n      <td>0.9878</td>\n      <td>0.9881</td>\n      <td>0.9884</td>\n      <td>0.9887</td>\n      <td>0.9890</td>\n    </tr>\n    <tr>\n      <th>2.30</th>\n      <td>0.9893</td>\n      <td>0.9896</td>\n      <td>0.9898</td>\n      <td>0.9901</td>\n      <td>0.9904</td>\n      <td>0.9906</td>\n      <td>0.9909</td>\n      <td>0.9911</td>\n      <td>0.9913</td>\n      <td>0.9916</td>\n    </tr>\n    <tr>\n      <th>2.40</th>\n      <td>0.9918</td>\n      <td>0.9920</td>\n      <td>0.9922</td>\n      <td>0.9925</td>\n      <td>0.9927</td>\n      <td>0.9929</td>\n      <td>0.9931</td>\n      <td>0.9932</td>\n      <td>0.9934</td>\n      <td>0.9936</td>\n    </tr>\n    <tr>\n      <th>2.50</th>\n      <td>0.9938</td>\n      <td>0.9940</td>\n      <td>0.9941</td>\n      <td>0.9943</td>\n      <td>0.9945</td>\n      <td>0.9946</td>\n      <td>0.9948</td>\n      <td>0.9949</td>\n      <td>0.9951</td>\n      <td>0.9952</td>\n    </tr>\n  </tbody>\n</table>\n</div>"
     },
     "metadata": {},
     "execution_count": 62
    }
   ],
   "source": [
    "tabela_normal_padronizada[16:26]"
   ]
  },
  {
   "cell_type": "markdown",
   "metadata": {
    "colab_type": "text",
    "id": "rMRmnaNPG3Go"
   },
   "source": [
    "### Obtendo $z$"
   ]
  },
  {
   "cell_type": "markdown",
   "metadata": {
    "colab_type": "text",
    "id": "T-3mV1qlUj1t"
   },
   "source": [
    "![alt text](https://caelum-online-public.s3.amazonaws.com/1178-estatistica-parte2/01/img008.png)"
   ]
  },
  {
   "cell_type": "code",
   "execution_count": 63,
   "metadata": {
    "colab": {
     "base_uri": "https://localhost:8080/",
     "height": 34
    },
    "colab_type": "code",
    "id": "nT5ZTwjOG3Go",
    "outputId": "9c20d5b5-fb36-40f1-b901-3969a2fa8ea0"
   },
   "outputs": [
    {
     "output_type": "execute_result",
     "data": {
      "text/plain": [
       "0.975"
      ]
     },
     "metadata": {},
     "execution_count": 63
    }
   ],
   "source": [
    "# O nível de confiança é a área da função\n",
    "# Metade da área total é a1\n",
    "# A área fora do escuro é o valor de Z\n",
    "a1 = 0.95 / 2\n",
    "a2 = 0.5 + a1 \n",
    "a2"
   ]
  },
  {
   "cell_type": "code",
   "execution_count": 64,
   "metadata": {
    "colab": {
     "base_uri": "https://localhost:8080/",
     "height": 34
    },
    "colab_type": "code",
    "id": "vMjck-3ZU_sz",
    "outputId": "56a3f3ba-e5d4-40c7-dc4c-b31ed5d07262"
   },
   "outputs": [
    {
     "output_type": "execute_result",
     "data": {
      "text/plain": [
       "1.96"
      ]
     },
     "metadata": {},
     "execution_count": 64
    }
   ],
   "source": [
    "# Através da tabela é z = 1.96 | 0.975\n",
    "# Através do numpy\n",
    "z = norm.ppf(a2).round(2)\n",
    "z"
   ]
  },
  {
   "cell_type": "markdown",
   "metadata": {
    "colab_type": "text",
    "id": "ggXXP8QqTyNA"
   },
   "source": [
    "### Valores de $z$ para os níveis de confiança mais utilizados\n",
    "\n",
    "|Nível de<br>confiança|Valor da área sob<br>a curva normal| $z$ |\n",
    "|:----------------:|:---------------------------------:|:---:|\n",
    "|90%               |0,95                               |1,645|\n",
    "|95%               |0,975                              |1,96 |\n",
    "|99%               |0,995                              |2,575|"
   ]
  },
  {
   "cell_type": "markdown",
   "metadata": {
    "colab_type": "text",
    "id": "MfE1ru0AG3Hg"
   },
   "source": [
    "### Obtendo $\\sigma_\\bar{x}$"
   ]
  },
  {
   "cell_type": "code",
   "execution_count": 65,
   "metadata": {
    "colab": {
     "base_uri": "https://localhost:8080/",
     "height": 34
    },
    "colab_type": "code",
    "id": "LyQ6UUYtG3Hh",
    "outputId": "4c066583-4272-4e26-daf5-575ea4815371"
   },
   "outputs": [],
   "source": [
    "desvio_padrao = 150"
   ]
  },
  {
   "cell_type": "code",
   "execution_count": 66,
   "metadata": {
    "colab": {
     "base_uri": "https://localhost:8080/",
     "height": 34
    },
    "colab_type": "code",
    "id": "ebvikT95G3Hi",
    "outputId": "bfbc2f5c-e706-46a6-aa6c-e94632aed4fc"
   },
   "outputs": [],
   "source": [
    "# Amostra aleatória\n",
    "n = 20"
   ]
  },
  {
   "cell_type": "code",
   "execution_count": 67,
   "metadata": {
    "colab": {
     "base_uri": "https://localhost:8080/",
     "height": 34
    },
    "colab_type": "code",
    "id": "TxM3yTpjG3Hk",
    "outputId": "a38a0bfc-2c3b-48f4-cea7-ee5f5147a251"
   },
   "outputs": [
    {
     "output_type": "execute_result",
     "data": {
      "text/plain": [
       "4.47213595499958"
      ]
     },
     "metadata": {},
     "execution_count": 67
    }
   ],
   "source": [
    "raiz_n = np.sqrt(n)\n",
    "raiz_n"
   ]
  },
  {
   "cell_type": "code",
   "execution_count": 68,
   "metadata": {
    "colab": {
     "base_uri": "https://localhost:8080/",
     "height": 34
    },
    "colab_type": "code",
    "id": "HNAcOpl0G3Hl",
    "outputId": "3b37c2d5-b02d-40af-897d-6c588e2696aa"
   },
   "outputs": [
    {
     "output_type": "execute_result",
     "data": {
      "text/plain": [
       "33.54101966249684"
      ]
     },
     "metadata": {},
     "execution_count": 68
    }
   ],
   "source": [
    "sigma = desvio_padrao / raiz_n \n",
    "sigma "
   ]
  },
  {
   "cell_type": "markdown",
   "metadata": {
    "colab_type": "text",
    "id": "NHbXlLk-G3Hn"
   },
   "source": [
    "### Obtendo $e$"
   ]
  },
  {
   "cell_type": "code",
   "execution_count": 69,
   "metadata": {
    "colab": {
     "base_uri": "https://localhost:8080/",
     "height": 34
    },
    "colab_type": "code",
    "id": "gAfakih5G3Ho",
    "outputId": "48958fa3-2cf8-4bc5-dfc3-0fb925798b38"
   },
   "outputs": [
    {
     "output_type": "execute_result",
     "data": {
      "text/plain": [
       "65.74"
      ]
     },
     "metadata": {},
     "execution_count": 69
    }
   ],
   "source": [
    "# Erro inferencial\n",
    "erro_inferencial = (z * sigma).round(2)\n",
    "erro_inferencial"
   ]
  },
  {
   "cell_type": "markdown",
   "metadata": {
    "colab_type": "text",
    "id": "sx1QTfNrG3Hq"
   },
   "source": [
    "### Solução 1 - Calculando o intervalo de confiança para a média"
   ]
  },
  {
   "cell_type": "code",
   "execution_count": 70,
   "metadata": {
    "colab": {
     "base_uri": "https://localhost:8080/",
     "height": 34
    },
    "colab_type": "code",
    "id": "NlJCcPZnG3Hq",
    "outputId": "09cee323-103e-4832-c23f-97daf4b9929f"
   },
   "outputs": [
    {
     "output_type": "execute_result",
     "data": {
      "text/plain": [
       "(4984.26, 5115.74)"
      ]
     },
     "metadata": {},
     "execution_count": 70
    }
   ],
   "source": [
    "# Intervalo de confiança são os valores que estarão dentro da amostragem\n",
    "intervalo = ((media_amostra - erro_inferencial).round(2),(media_amostra + erro_inferencial).round(2))\n",
    "intervalo"
   ]
  },
  {
   "cell_type": "markdown",
   "metadata": {
    "colab_type": "text",
    "id": "DkFJL7fcG3Ht"
   },
   "source": [
    "### Solução 2 - Calculando o intervalo de confiança para a média"
   ]
  },
  {
   "cell_type": "code",
   "execution_count": 71,
   "metadata": {
    "colab": {
     "base_uri": "https://localhost:8080/",
     "height": 34
    },
    "colab_type": "code",
    "id": "U92vSYMkG3Hu",
    "outputId": "45923471-3d21-42ad-a922-5067ff21067b"
   },
   "outputs": [
    {
     "output_type": "execute_result",
     "data": {
      "text/plain": [
       "(4984.260809456757, 5115.739190543243)"
      ]
     },
     "metadata": {},
     "execution_count": 71
    }
   ],
   "source": [
    "# Intervalo de confiança pelo numpy\n",
    "intervalo2 = norm.interval(alpha = 0.95, loc = media_amostra, scale = sigma)\n",
    "intervalo2"
   ]
  },
  {
   "cell_type": "markdown",
   "metadata": {
    "colab_type": "text",
    "id": "aF9jAC6yG3Gl"
   },
   "source": [
    "# <font color=green>5 CÁLCULO DO TAMANHO DA AMOSTRA</font>\n",
    "***"
   ]
  },
  {
   "cell_type": "markdown",
   "metadata": {
    "colab_type": "text",
    "id": "BwiygaNqnjrr"
   },
   "source": [
    "## <font color='red'>Problema </font>"
   ]
  },
  {
   "cell_type": "markdown",
   "metadata": {
    "colab_type": "text",
    "id": "a7RjjVVUnlI3"
   },
   "source": [
    "Estamos estudando o rendimento mensal dos chefes de domicílios com renda até R$\\$$ 5.000,00 no Brasil. Nosso supervisor determinou que o **erro máximo em relação a média seja de R$\\$$ 10,00**. Sabemos que o **desvio padrão populacional** deste grupo de trabalhadores é de **R$\\$$ 1.082,79**. Para um **nível de confiança de 95%**, qual deve ser o tamanho da amostra de nosso estudo?"
   ]
  },
  {
   "cell_type": "markdown",
   "metadata": {
    "colab_type": "text",
    "id": "za2sGJt6G3Gm"
   },
   "source": [
    "## <font color=green>5.1 Variáveis quantitativas e população infinita</font>\n",
    "***"
   ]
  },
  {
   "cell_type": "markdown",
   "metadata": {
    "colab_type": "text",
    "id": "3wqMjJWR5sVq"
   },
   "source": [
    "# $$e = z \\frac{\\sigma}{\\sqrt{n}}$$"
   ]
  },
  {
   "cell_type": "markdown",
   "metadata": {
    "colab_type": "text",
    "id": "X1AxpKtIG3Gn"
   },
   "source": [
    "#### Com desvio padrão conhecido\n",
    "\n",
    "## $$n = \\left(z\\frac{\\sigma}{e}\\right)^2$$\n",
    "\n",
    "#### Com desvio padrão desconhecido\n",
    "\n",
    "## $$n = \\left(z\\frac{s}{e}\\right)^2$$\n",
    "\n",
    "Onde:\n",
    "\n",
    "$z$ = variável normal padronizada\n",
    "\n",
    "$\\sigma$ = desvio padrão populacional\n",
    "\n",
    "$s$ = desvio padrão amostral\n",
    "\n",
    "$e$ = erro inferencial"
   ]
  },
  {
   "cell_type": "markdown",
   "metadata": {
    "colab_type": "text",
    "id": "T0fysCyDG3Gn"
   },
   "source": [
    "### <font color='red'>Observações</font>\n",
    "\n",
    "1. O desvio padrão ($\\sigma$ ou $s$) e o erro ($e$) devem estar na mesma unidade de medida.\n",
    "\n",
    "2. Quando o erro ($e$) for representado em termos percentuais, deve ser interpretado como um percentual relacionado à média."
   ]
  },
  {
   "cell_type": "markdown",
   "metadata": {
    "colab_type": "text",
    "id": "WHYBTaupG3Gn"
   },
   "source": [
    "## <font color='blue'>Exemplo: Rendimento médio</font>"
   ]
  },
  {
   "cell_type": "markdown",
   "metadata": {
    "colab_type": "text",
    "id": "dcdzo7EgG3Go"
   },
   "source": [
    "Estamos estudando o rendimento mensal dos chefes de domicílios no Brasil. Nosso supervisor determinou que o **erro máximo em relação a média seja de R$\\$$ 100,00**. Sabemos que o **desvio padrão populacional** deste grupo de trabalhadores é de **R$\\$$ 3.323,39**. Para um **nível de confiança de 95%**, qual deve ser o tamanho da amostra de nosso estudo?"
   ]
  },
  {
   "cell_type": "code",
   "execution_count": 72,
   "metadata": {},
   "outputs": [],
   "source": [
    "erro_max = 100\n",
    "desvio_populacional = 3323.39\n",
    "confianca = 0.95"
   ]
  },
  {
   "cell_type": "code",
   "execution_count": 73,
   "metadata": {
    "colab": {
     "base_uri": "https://localhost:8080/",
     "height": 34
    },
    "colab_type": "code",
    "id": "XtJ5I_kaKDN3",
    "outputId": "a519e330-ddf0-492c-f42d-5cef36fed4c9"
   },
   "outputs": [
    {
     "output_type": "execute_result",
     "data": {
      "text/plain": [
       "1.96"
      ]
     },
     "metadata": {},
     "execution_count": 73
    }
   ],
   "source": [
    " area = confianca / 2 \n",
    " area_z = area + 0.5\n",
    " z = norm.ppf(area_z)\n",
    " z.round(2)"
   ]
  },
  {
   "cell_type": "markdown",
   "metadata": {
    "colab_type": "text",
    "id": "6uCkW4KlG3Gr"
   },
   "source": [
    "### Obtendo $\\sigma$ sigma (desvios)"
   ]
  },
  {
   "cell_type": "code",
   "execution_count": 74,
   "metadata": {
    "colab": {
     "base_uri": "https://localhost:8080/",
     "height": 34
    },
    "colab_type": "code",
    "id": "1RmtZfj-G3Gr",
    "outputId": "d3e77bf1-b933-4ade-846f-95e25f4e1d6e"
   },
   "outputs": [],
   "source": [
    "sigma = 3323.39"
   ]
  },
  {
   "cell_type": "markdown",
   "metadata": {
    "colab_type": "text",
    "id": "Cl39PIZ2G3Gt"
   },
   "source": [
    "### Obtendo $e$ erro"
   ]
  },
  {
   "cell_type": "code",
   "execution_count": 75,
   "metadata": {
    "colab": {
     "base_uri": "https://localhost:8080/",
     "height": 34
    },
    "colab_type": "code",
    "id": "NTRMt2gWG3Gt",
    "outputId": "f7d7ae3f-7e33-41cc-a11a-5b09de70cc2c"
   },
   "outputs": [],
   "source": [
    "erro_max = 100"
   ]
  },
  {
   "cell_type": "markdown",
   "metadata": {
    "colab_type": "text",
    "id": "OlAX3Gj6G3Gv"
   },
   "source": [
    "### Obtendo $n$ número de elementos na amostra"
   ]
  },
  {
   "cell_type": "code",
   "execution_count": 76,
   "metadata": {
    "colab": {
     "base_uri": "https://localhost:8080/",
     "height": 34
    },
    "colab_type": "code",
    "id": "0MjluwHPG3Gv",
    "outputId": "8f74510a-4f4b-4129-d3c3-d31be24567fa",
    "scrolled": true
   },
   "outputs": [
    {
     "output_type": "execute_result",
     "data": {
      "text/plain": [
       "4243.0"
      ]
     },
     "metadata": {},
     "execution_count": 76
    }
   ],
   "source": [
    "n = (z * (sigma / erro_max)) ** 2\n",
    "n.round(0)"
   ]
  },
  {
   "cell_type": "markdown",
   "metadata": {
    "colab_type": "text",
    "id": "MjP0xsqyTyNO"
   },
   "source": [
    "---\n",
    "---"
   ]
  },
  {
   "cell_type": "markdown",
   "metadata": {
    "colab_type": "text",
    "id": "dx2vyLC-TyNP"
   },
   "source": [
    "## <font color='red'>Problema</font>"
   ]
  },
  {
   "cell_type": "markdown",
   "metadata": {
    "colab_type": "text",
    "id": "uzK2fAOFTyNP"
   },
   "source": [
    "Em um lote de **10.000 latas** de refrigerante foi realizada uma amostra aleatória simples de **100 latas** e foi obtido o **desvio padrão amostral do conteúdo das latas igual a 12 ml**. O fabricante estipula um **erro máximo sobre a média populacional de apenas 5 ml**. Para garantir um **nível de confiança de 95%** qual o tamanho de amostra deve ser selecionado para este estudo?"
   ]
  },
  {
   "cell_type": "markdown",
   "metadata": {
    "colab_type": "text",
    "id": "FlAz5kycTyNQ"
   },
   "source": [
    "## <font color=green>5.2 Variáveis quantitativas e população finita</font>\n",
    "***"
   ]
  },
  {
   "cell_type": "markdown",
   "metadata": {
    "colab_type": "text",
    "id": "UOe02McSTyNR"
   },
   "source": [
    "#### Com desvio padrão conhecido\n",
    "\n",
    "## $$n = \\frac{z^2 \\sigma^2 N}{z^2 \\sigma^2 + e^2(N-1)}$$\n",
    "\n",
    "#### Com desvio padrão desconhecido\n",
    "\n",
    "## $$n = \\frac{z^2 s^2 N}{z^2 s^2 + e^2(N-1)}$$\n",
    "\n",
    "Onde:\n",
    "\n",
    "$N$ = tamanho da população\n",
    "\n",
    "$z$ = variável normal padronizada\n",
    "\n",
    "$\\sigma$ = desvio padrão populacional\n",
    "\n",
    "$s$ = desvio padrão amostral\n",
    "\n",
    "$e$ = erro inferencial"
   ]
  },
  {
   "cell_type": "markdown",
   "metadata": {
    "colab_type": "text",
    "id": "cUELtYTKTyNS"
   },
   "source": [
    "## <font color='blue'>Exemplo: Indústria de refrigerantes</font>"
   ]
  },
  {
   "cell_type": "markdown",
   "metadata": {
    "colab_type": "text",
    "id": "upv1mM7fTyNS"
   },
   "source": [
    "Em um lote de **10.000 latas** de refrigerante foi realizada uma amostra aleatória simples de **100 latas** e foi obtido o **desvio padrão amostral do conteúdo das latas igual a 12 ml**. O fabricante estipula um **erro máximo sobre a média populacional de apenas 5 ml**. Para garantir um **nível de confiança de 95%** qual o tamanho de amostra deve ser selecionado para este estudo?"
   ]
  },
  {
   "cell_type": "markdown",
   "metadata": {
    "colab_type": "text",
    "id": "_y3-3VIBTyNS"
   },
   "source": [
    "### Obtendo $N$ tamanho da população"
   ]
  },
  {
   "cell_type": "code",
   "execution_count": 77,
   "metadata": {
    "colab": {
     "base_uri": "https://localhost:8080/",
     "height": 34
    },
    "colab_type": "code",
    "id": "gXWn9zTETyNS",
    "outputId": "4daa26ff-4a96-47fb-9f0e-53a4390d701e"
   },
   "outputs": [],
   "source": [
    "tamanho_da_populacao = 10000"
   ]
  },
  {
   "cell_type": "markdown",
   "metadata": {
    "colab_type": "text",
    "id": "xCgZ1JSjTyNT"
   },
   "source": [
    "### Obtendo $z$"
   ]
  },
  {
   "cell_type": "code",
   "execution_count": 78,
   "metadata": {
    "colab": {
     "base_uri": "https://localhost:8080/",
     "height": 34
    },
    "colab_type": "code",
    "id": "ZUs9aYJRTyNT",
    "outputId": "02560c9f-57ee-41c7-cdf4-5fd382365a74"
   },
   "outputs": [
    {
     "output_type": "execute_result",
     "data": {
      "text/plain": [
       "1.96"
      ]
     },
     "metadata": {},
     "execution_count": 78
    }
   ],
   "source": [
    "z = norm.ppf((0.5 + (0.95/2)))\n",
    "z.round(2)"
   ]
  },
  {
   "cell_type": "markdown",
   "metadata": {
    "colab_type": "text",
    "id": "KCnigJd8TyNU"
   },
   "source": [
    "### Obtendo $s$ (desvios)"
   ]
  },
  {
   "cell_type": "code",
   "execution_count": 79,
   "metadata": {
    "colab": {
     "base_uri": "https://localhost:8080/",
     "height": 34
    },
    "colab_type": "code",
    "id": "fKqFI_TZTyNU",
    "outputId": "68a9ee2f-428a-4d18-9148-f33704968fb7"
   },
   "outputs": [],
   "source": [
    "desvio = 12"
   ]
  },
  {
   "cell_type": "markdown",
   "metadata": {
    "colab_type": "text",
    "id": "K9gDEIUdTyNX"
   },
   "source": [
    "### Obtendo $e$ erro referencial"
   ]
  },
  {
   "cell_type": "code",
   "execution_count": 80,
   "metadata": {
    "colab": {
     "base_uri": "https://localhost:8080/",
     "height": 34
    },
    "colab_type": "code",
    "id": "hyhJ3MQKTyNX",
    "outputId": "2849bd05-6c70-4d97-980d-67e140f27850"
   },
   "outputs": [],
   "source": [
    "erro_max = 5"
   ]
  },
  {
   "cell_type": "markdown",
   "metadata": {
    "colab_type": "text",
    "id": "Dsm3bg9gTyNX"
   },
   "source": [
    "### Obtendo $n$\n",
    "\n",
    "## $$n = \\frac{z^2 s^2 N}{z^2 s^2 + e^2(N-1)}$$"
   ]
  },
  {
   "cell_type": "code",
   "execution_count": 81,
   "metadata": {
    "colab": {
     "base_uri": "https://localhost:8080/",
     "height": 34
    },
    "colab_type": "code",
    "id": "0XxWfaPdTyNY",
    "outputId": "8494180f-9149-419f-dee9-f02ec3e81b93",
    "scrolled": true
   },
   "outputs": [
    {
     "output_type": "execute_result",
     "data": {
      "text/plain": [
       "22.0"
      ]
     },
     "metadata": {},
     "execution_count": 81
    }
   ],
   "source": [
    "# Resultado garante os desvios, tamanho, erro , significância\n",
    "resultado = ((z**2) * (desvio ** 2) * tamanho_da_populacao )/(((z ** 2)*(desvio ** 2)) + ((erro_max ** 2 )* (tamanho_da_populacao - 1)))\n",
    "resultado.round(0)"
   ]
  },
  {
   "cell_type": "markdown",
   "metadata": {
    "colab_type": "text",
    "id": "XNH7CMglG3Hv"
   },
   "source": [
    "# <font color=green>6 FIXANDO O CONTEÚDO</font>\n",
    "***"
   ]
  },
  {
   "cell_type": "markdown",
   "metadata": {
    "colab_type": "text",
    "id": "iRYqVAxuG3Hv"
   },
   "source": [
    "## <font color='blue'>Exemplo: Rendimento médio</font>"
   ]
  },
  {
   "cell_type": "markdown",
   "metadata": {
    "colab_type": "text",
    "id": "ggloHI5sG3Hw"
   },
   "source": [
    "Estamos estudando o **rendimento mensal dos chefes de domicílios com renda até R$\\$$ 5.000,00 no Brasil**. Nosso supervisor determinou que o **erro máximo em relação a média seja de R$\\$$ 10,00**. Sabemos que o **desvio padrão populacional** deste grupo de trabalhadores é de **R$\\$$ 1.082,79** e que a **média populacional** é de **R$\\$$ 1.426,54**. Para um **nível de confiança de 95%**, qual deve ser o tamanho da amostra de nosso estudo? Qual o intervalo de confiança para a média considerando o tamanho de amostra obtido?"
   ]
  },
  {
   "cell_type": "markdown",
   "metadata": {
    "colab_type": "text",
    "id": "JZDvLD-NG3Hw"
   },
   "source": [
    "### Construindo o dataset conforme especificado pelo problema"
   ]
  },
  {
   "cell_type": "code",
   "execution_count": 82,
   "metadata": {
    "colab": {},
    "colab_type": "code",
    "id": "qlnYQeaKG3Hw"
   },
   "outputs": [],
   "source": [
    "renda_5000 = dados.query('Renda <= 5000').Renda"
   ]
  },
  {
   "cell_type": "code",
   "execution_count": 83,
   "metadata": {
    "colab": {
     "base_uri": "https://localhost:8080/",
     "height": 34
    },
    "colab_type": "code",
    "id": "VKuxbygIG3Hy",
    "outputId": "98078826-90d1-488e-b11d-cf4e6f5bdc3c"
   },
   "outputs": [
    {
     "output_type": "execute_result",
     "data": {
      "text/plain": [
       "1082.7945490306845"
      ]
     },
     "metadata": {},
     "execution_count": 83
    }
   ],
   "source": [
    "sigma = renda_5000.std()\n",
    "sigma"
   ]
  },
  {
   "cell_type": "code",
   "execution_count": 84,
   "metadata": {
    "colab": {
     "base_uri": "https://localhost:8080/",
     "height": 34
    },
    "colab_type": "code",
    "id": "Q2Ku3mVPG3Hz",
    "outputId": "bb079fb4-3e59-4e05-920a-b369c04744eb"
   },
   "outputs": [
    {
     "output_type": "execute_result",
     "data": {
      "text/plain": [
       "1426.54"
      ]
     },
     "metadata": {},
     "execution_count": 84
    }
   ],
   "source": [
    "media = renda_5000.mean()\n",
    "media.round(2)"
   ]
  },
  {
   "cell_type": "markdown",
   "metadata": {
    "colab_type": "text",
    "id": "F33TdkXdG3H2"
   },
   "source": [
    "### Calculando o tamanho da amostra"
   ]
  },
  {
   "cell_type": "code",
   "execution_count": 85,
   "metadata": {
    "colab": {
     "base_uri": "https://localhost:8080/",
     "height": 34
    },
    "colab_type": "code",
    "id": "sWIvnmygG3H2",
    "outputId": "42b7f8db-3a43-4e5f-f61a-9000e4e5e94b"
   },
   "outputs": [
    {
     "output_type": "execute_result",
     "data": {
      "text/plain": [
       "45039"
      ]
     },
     "metadata": {},
     "execution_count": 85
    }
   ],
   "source": [
    "norm.ppf(0.975)\n",
    "e = 10\n",
    "n = int(((z * (sigma / e)) ** 2).round(0))\n",
    "n"
   ]
  },
  {
   "cell_type": "markdown",
   "metadata": {
    "colab_type": "text",
    "id": "xRN_gmmLG3H6"
   },
   "source": [
    "### Calculando o intervalo de confiança para a média"
   ]
  },
  {
   "cell_type": "code",
   "execution_count": 86,
   "metadata": {
    "colab": {
     "base_uri": "https://localhost:8080/",
     "height": 34
    },
    "colab_type": "code",
    "id": "HoG6JKxxG3H6",
    "outputId": "3ca552e4-f7f6-4992-f65a-6a4601dfd877"
   },
   "outputs": [
    {
     "output_type": "execute_result",
     "data": {
      "text/plain": [
       "(1416.5372195108237, 1436.5372094786228)"
      ]
     },
     "metadata": {},
     "execution_count": 86
    }
   ],
   "source": [
    "# O intervalo é o resultado (média - erro)\n",
    "intervalo = norm.interval(alpha = 0.95, loc = media, scale = sigma / np.sqrt(n))\n",
    "intervalo"
   ]
  },
  {
   "cell_type": "markdown",
   "metadata": {
    "colab_type": "text",
    "id": "xWAG8q8oG3H8"
   },
   "source": [
    "### Realizando uma prova gráfica"
   ]
  },
  {
   "cell_type": "code",
   "execution_count": 87,
   "metadata": {},
   "outputs": [
    {
     "output_type": "execute_result",
     "data": {
      "text/plain": [
       "<AxesSubplot:>"
      ]
     },
     "metadata": {},
     "execution_count": 87
    },
    {
     "output_type": "display_data",
     "data": {
      "text/plain": "<Figure size 864x432 with 1 Axes>",
      "image/svg+xml": "<?xml version=\"1.0\" encoding=\"utf-8\" standalone=\"no\"?>\r\n<!DOCTYPE svg PUBLIC \"-//W3C//DTD SVG 1.1//EN\"\r\n  \"http://www.w3.org/Graphics/SVG/1.1/DTD/svg11.dtd\">\r\n<!-- Created with matplotlib (https://matplotlib.org/) -->\r\n<svg height=\"360.485703pt\" version=\"1.1\" viewBox=\"0 0 725.990625 360.485703\" width=\"725.990625pt\" xmlns=\"http://www.w3.org/2000/svg\" xmlns:xlink=\"http://www.w3.org/1999/xlink\">\r\n <metadata>\r\n  <rdf:RDF xmlns:cc=\"http://creativecommons.org/ns#\" xmlns:dc=\"http://purl.org/dc/elements/1.1/\" xmlns:rdf=\"http://www.w3.org/1999/02/22-rdf-syntax-ns#\">\r\n   <cc:Work>\r\n    <dc:type rdf:resource=\"http://purl.org/dc/dcmitype/StillImage\"/>\r\n    <dc:date>2021-05-11T20:12:07.894552</dc:date>\r\n    <dc:format>image/svg+xml</dc:format>\r\n    <dc:creator>\r\n     <cc:Agent>\r\n      <dc:title>Matplotlib v3.3.4, https://matplotlib.org/</dc:title>\r\n     </cc:Agent>\r\n    </dc:creator>\r\n   </cc:Work>\r\n  </rdf:RDF>\r\n </metadata>\r\n <defs>\r\n  <style type=\"text/css\">*{stroke-linecap:butt;stroke-linejoin:round;}</style>\r\n </defs>\r\n <g id=\"figure_1\">\r\n  <g id=\"patch_1\">\r\n   <path d=\"M 0 360.485703 \r\nL 725.990625 360.485703 \r\nL 725.990625 0 \r\nL 0 0 \r\nz\r\n\" style=\"fill:none;\"/>\r\n  </g>\r\n  <g id=\"axes_1\">\r\n   <g id=\"patch_2\">\r\n    <path d=\"M 49.190625 336.607578 \r\nL 718.790625 336.607578 \r\nL 718.790625 10.447578 \r\nL 49.190625 10.447578 \r\nz\r\n\" style=\"fill:#ffffff;\"/>\r\n   </g>\r\n   <g id=\"matplotlib.axis_1\">\r\n    <g id=\"xtick_1\">\r\n     <g id=\"line2d_1\">\r\n      <defs>\r\n       <path d=\"M 0 0 \r\nL 0 3.5 \r\n\" id=\"md567ddc0a2\" style=\"stroke:#000000;stroke-width:0.8;\"/>\r\n      </defs>\r\n      <g>\r\n       <use style=\"stroke:#000000;stroke-width:0.8;\" x=\"79.626989\" xlink:href=\"#md567ddc0a2\" y=\"336.607578\"/>\r\n      </g>\r\n     </g>\r\n     <g id=\"text_1\">\r\n      <!-- 0 -->\r\n      <g transform=\"translate(76.445739 351.206016)scale(0.1 -0.1)\">\r\n       <defs>\r\n        <path d=\"M 31.78125 66.40625 \r\nQ 24.171875 66.40625 20.328125 58.90625 \r\nQ 16.5 51.421875 16.5 36.375 \r\nQ 16.5 21.390625 20.328125 13.890625 \r\nQ 24.171875 6.390625 31.78125 6.390625 \r\nQ 39.453125 6.390625 43.28125 13.890625 \r\nQ 47.125 21.390625 47.125 36.375 \r\nQ 47.125 51.421875 43.28125 58.90625 \r\nQ 39.453125 66.40625 31.78125 66.40625 \r\nz\r\nM 31.78125 74.21875 \r\nQ 44.046875 74.21875 50.515625 64.515625 \r\nQ 56.984375 54.828125 56.984375 36.375 \r\nQ 56.984375 17.96875 50.515625 8.265625 \r\nQ 44.046875 -1.421875 31.78125 -1.421875 \r\nQ 19.53125 -1.421875 13.0625 8.265625 \r\nQ 6.59375 17.96875 6.59375 36.375 \r\nQ 6.59375 54.828125 13.0625 64.515625 \r\nQ 19.53125 74.21875 31.78125 74.21875 \r\nz\r\n\" id=\"DejaVuSans-48\"/>\r\n       </defs>\r\n       <use xlink:href=\"#DejaVuSans-48\"/>\r\n      </g>\r\n     </g>\r\n    </g>\r\n    <g id=\"xtick_2\">\r\n     <g id=\"line2d_2\">\r\n      <g>\r\n       <use style=\"stroke:#000000;stroke-width:0.8;\" x=\"201.372443\" xlink:href=\"#md567ddc0a2\" y=\"336.607578\"/>\r\n      </g>\r\n     </g>\r\n     <g id=\"text_2\">\r\n      <!-- 200 -->\r\n      <g transform=\"translate(191.828693 351.206016)scale(0.1 -0.1)\">\r\n       <defs>\r\n        <path d=\"M 19.1875 8.296875 \r\nL 53.609375 8.296875 \r\nL 53.609375 0 \r\nL 7.328125 0 \r\nL 7.328125 8.296875 \r\nQ 12.9375 14.109375 22.625 23.890625 \r\nQ 32.328125 33.6875 34.8125 36.53125 \r\nQ 39.546875 41.84375 41.421875 45.53125 \r\nQ 43.3125 49.21875 43.3125 52.78125 \r\nQ 43.3125 58.59375 39.234375 62.25 \r\nQ 35.15625 65.921875 28.609375 65.921875 \r\nQ 23.96875 65.921875 18.8125 64.3125 \r\nQ 13.671875 62.703125 7.8125 59.421875 \r\nL 7.8125 69.390625 \r\nQ 13.765625 71.78125 18.9375 73 \r\nQ 24.125 74.21875 28.421875 74.21875 \r\nQ 39.75 74.21875 46.484375 68.546875 \r\nQ 53.21875 62.890625 53.21875 53.421875 \r\nQ 53.21875 48.921875 51.53125 44.890625 \r\nQ 49.859375 40.875 45.40625 35.40625 \r\nQ 44.1875 33.984375 37.640625 27.21875 \r\nQ 31.109375 20.453125 19.1875 8.296875 \r\nz\r\n\" id=\"DejaVuSans-50\"/>\r\n       </defs>\r\n       <use xlink:href=\"#DejaVuSans-50\"/>\r\n       <use x=\"63.623047\" xlink:href=\"#DejaVuSans-48\"/>\r\n       <use x=\"127.246094\" xlink:href=\"#DejaVuSans-48\"/>\r\n      </g>\r\n     </g>\r\n    </g>\r\n    <g id=\"xtick_3\">\r\n     <g id=\"line2d_3\">\r\n      <g>\r\n       <use style=\"stroke:#000000;stroke-width:0.8;\" x=\"323.117898\" xlink:href=\"#md567ddc0a2\" y=\"336.607578\"/>\r\n      </g>\r\n     </g>\r\n     <g id=\"text_3\">\r\n      <!-- 400 -->\r\n      <g transform=\"translate(313.574148 351.206016)scale(0.1 -0.1)\">\r\n       <defs>\r\n        <path d=\"M 37.796875 64.3125 \r\nL 12.890625 25.390625 \r\nL 37.796875 25.390625 \r\nz\r\nM 35.203125 72.90625 \r\nL 47.609375 72.90625 \r\nL 47.609375 25.390625 \r\nL 58.015625 25.390625 \r\nL 58.015625 17.1875 \r\nL 47.609375 17.1875 \r\nL 47.609375 0 \r\nL 37.796875 0 \r\nL 37.796875 17.1875 \r\nL 4.890625 17.1875 \r\nL 4.890625 26.703125 \r\nz\r\n\" id=\"DejaVuSans-52\"/>\r\n       </defs>\r\n       <use xlink:href=\"#DejaVuSans-52\"/>\r\n       <use x=\"63.623047\" xlink:href=\"#DejaVuSans-48\"/>\r\n       <use x=\"127.246094\" xlink:href=\"#DejaVuSans-48\"/>\r\n      </g>\r\n     </g>\r\n    </g>\r\n    <g id=\"xtick_4\">\r\n     <g id=\"line2d_4\">\r\n      <g>\r\n       <use style=\"stroke:#000000;stroke-width:0.8;\" x=\"444.863352\" xlink:href=\"#md567ddc0a2\" y=\"336.607578\"/>\r\n      </g>\r\n     </g>\r\n     <g id=\"text_4\">\r\n      <!-- 600 -->\r\n      <g transform=\"translate(435.319602 351.206016)scale(0.1 -0.1)\">\r\n       <defs>\r\n        <path d=\"M 33.015625 40.375 \r\nQ 26.375 40.375 22.484375 35.828125 \r\nQ 18.609375 31.296875 18.609375 23.390625 \r\nQ 18.609375 15.53125 22.484375 10.953125 \r\nQ 26.375 6.390625 33.015625 6.390625 \r\nQ 39.65625 6.390625 43.53125 10.953125 \r\nQ 47.40625 15.53125 47.40625 23.390625 \r\nQ 47.40625 31.296875 43.53125 35.828125 \r\nQ 39.65625 40.375 33.015625 40.375 \r\nz\r\nM 52.59375 71.296875 \r\nL 52.59375 62.3125 \r\nQ 48.875 64.0625 45.09375 64.984375 \r\nQ 41.3125 65.921875 37.59375 65.921875 \r\nQ 27.828125 65.921875 22.671875 59.328125 \r\nQ 17.53125 52.734375 16.796875 39.40625 \r\nQ 19.671875 43.65625 24.015625 45.921875 \r\nQ 28.375 48.1875 33.59375 48.1875 \r\nQ 44.578125 48.1875 50.953125 41.515625 \r\nQ 57.328125 34.859375 57.328125 23.390625 \r\nQ 57.328125 12.15625 50.6875 5.359375 \r\nQ 44.046875 -1.421875 33.015625 -1.421875 \r\nQ 20.359375 -1.421875 13.671875 8.265625 \r\nQ 6.984375 17.96875 6.984375 36.375 \r\nQ 6.984375 53.65625 15.1875 63.9375 \r\nQ 23.390625 74.21875 37.203125 74.21875 \r\nQ 40.921875 74.21875 44.703125 73.484375 \r\nQ 48.484375 72.75 52.59375 71.296875 \r\nz\r\n\" id=\"DejaVuSans-54\"/>\r\n       </defs>\r\n       <use xlink:href=\"#DejaVuSans-54\"/>\r\n       <use x=\"63.623047\" xlink:href=\"#DejaVuSans-48\"/>\r\n       <use x=\"127.246094\" xlink:href=\"#DejaVuSans-48\"/>\r\n      </g>\r\n     </g>\r\n    </g>\r\n    <g id=\"xtick_5\">\r\n     <g id=\"line2d_5\">\r\n      <g>\r\n       <use style=\"stroke:#000000;stroke-width:0.8;\" x=\"566.608807\" xlink:href=\"#md567ddc0a2\" y=\"336.607578\"/>\r\n      </g>\r\n     </g>\r\n     <g id=\"text_5\">\r\n      <!-- 800 -->\r\n      <g transform=\"translate(557.065057 351.206016)scale(0.1 -0.1)\">\r\n       <defs>\r\n        <path d=\"M 31.78125 34.625 \r\nQ 24.75 34.625 20.71875 30.859375 \r\nQ 16.703125 27.09375 16.703125 20.515625 \r\nQ 16.703125 13.921875 20.71875 10.15625 \r\nQ 24.75 6.390625 31.78125 6.390625 \r\nQ 38.8125 6.390625 42.859375 10.171875 \r\nQ 46.921875 13.96875 46.921875 20.515625 \r\nQ 46.921875 27.09375 42.890625 30.859375 \r\nQ 38.875 34.625 31.78125 34.625 \r\nz\r\nM 21.921875 38.8125 \r\nQ 15.578125 40.375 12.03125 44.71875 \r\nQ 8.5 49.078125 8.5 55.328125 \r\nQ 8.5 64.0625 14.71875 69.140625 \r\nQ 20.953125 74.21875 31.78125 74.21875 \r\nQ 42.671875 74.21875 48.875 69.140625 \r\nQ 55.078125 64.0625 55.078125 55.328125 \r\nQ 55.078125 49.078125 51.53125 44.71875 \r\nQ 48 40.375 41.703125 38.8125 \r\nQ 48.828125 37.15625 52.796875 32.3125 \r\nQ 56.78125 27.484375 56.78125 20.515625 \r\nQ 56.78125 9.90625 50.3125 4.234375 \r\nQ 43.84375 -1.421875 31.78125 -1.421875 \r\nQ 19.734375 -1.421875 13.25 4.234375 \r\nQ 6.78125 9.90625 6.78125 20.515625 \r\nQ 6.78125 27.484375 10.78125 32.3125 \r\nQ 14.796875 37.15625 21.921875 38.8125 \r\nz\r\nM 18.3125 54.390625 \r\nQ 18.3125 48.734375 21.84375 45.5625 \r\nQ 25.390625 42.390625 31.78125 42.390625 \r\nQ 38.140625 42.390625 41.71875 45.5625 \r\nQ 45.3125 48.734375 45.3125 54.390625 \r\nQ 45.3125 60.0625 41.71875 63.234375 \r\nQ 38.140625 66.40625 31.78125 66.40625 \r\nQ 25.390625 66.40625 21.84375 63.234375 \r\nQ 18.3125 60.0625 18.3125 54.390625 \r\nz\r\n\" id=\"DejaVuSans-56\"/>\r\n       </defs>\r\n       <use xlink:href=\"#DejaVuSans-56\"/>\r\n       <use x=\"63.623047\" xlink:href=\"#DejaVuSans-48\"/>\r\n       <use x=\"127.246094\" xlink:href=\"#DejaVuSans-48\"/>\r\n      </g>\r\n     </g>\r\n    </g>\r\n    <g id=\"xtick_6\">\r\n     <g id=\"line2d_6\">\r\n      <g>\r\n       <use style=\"stroke:#000000;stroke-width:0.8;\" x=\"688.354261\" xlink:href=\"#md567ddc0a2\" y=\"336.607578\"/>\r\n      </g>\r\n     </g>\r\n     <g id=\"text_6\">\r\n      <!-- 1000 -->\r\n      <g transform=\"translate(675.629261 351.206016)scale(0.1 -0.1)\">\r\n       <defs>\r\n        <path d=\"M 12.40625 8.296875 \r\nL 28.515625 8.296875 \r\nL 28.515625 63.921875 \r\nL 10.984375 60.40625 \r\nL 10.984375 69.390625 \r\nL 28.421875 72.90625 \r\nL 38.28125 72.90625 \r\nL 38.28125 8.296875 \r\nL 54.390625 8.296875 \r\nL 54.390625 0 \r\nL 12.40625 0 \r\nz\r\n\" id=\"DejaVuSans-49\"/>\r\n       </defs>\r\n       <use xlink:href=\"#DejaVuSans-49\"/>\r\n       <use x=\"63.623047\" xlink:href=\"#DejaVuSans-48\"/>\r\n       <use x=\"127.246094\" xlink:href=\"#DejaVuSans-48\"/>\r\n       <use x=\"190.869141\" xlink:href=\"#DejaVuSans-48\"/>\r\n      </g>\r\n     </g>\r\n    </g>\r\n   </g>\r\n   <g id=\"matplotlib.axis_2\">\r\n    <g id=\"ytick_1\">\r\n     <g id=\"line2d_7\">\r\n      <defs>\r\n       <path d=\"M 0 0 \r\nL -3.5 0 \r\n\" id=\"m3f16af874c\" style=\"stroke:#000000;stroke-width:0.8;\"/>\r\n      </defs>\r\n      <g>\r\n       <use style=\"stroke:#000000;stroke-width:0.8;\" x=\"49.190625\" xlink:href=\"#m3f16af874c\" y=\"307.508458\"/>\r\n      </g>\r\n     </g>\r\n     <g id=\"text_7\">\r\n      <!-- 1417.5 -->\r\n      <g transform=\"translate(7.2 311.307677)scale(0.1 -0.1)\">\r\n       <defs>\r\n        <path d=\"M 8.203125 72.90625 \r\nL 55.078125 72.90625 \r\nL 55.078125 68.703125 \r\nL 28.609375 0 \r\nL 18.3125 0 \r\nL 43.21875 64.59375 \r\nL 8.203125 64.59375 \r\nz\r\n\" id=\"DejaVuSans-55\"/>\r\n        <path d=\"M 10.6875 12.40625 \r\nL 21 12.40625 \r\nL 21 0 \r\nL 10.6875 0 \r\nz\r\n\" id=\"DejaVuSans-46\"/>\r\n        <path d=\"M 10.796875 72.90625 \r\nL 49.515625 72.90625 \r\nL 49.515625 64.59375 \r\nL 19.828125 64.59375 \r\nL 19.828125 46.734375 \r\nQ 21.96875 47.46875 24.109375 47.828125 \r\nQ 26.265625 48.1875 28.421875 48.1875 \r\nQ 40.625 48.1875 47.75 41.5 \r\nQ 54.890625 34.8125 54.890625 23.390625 \r\nQ 54.890625 11.625 47.5625 5.09375 \r\nQ 40.234375 -1.421875 26.90625 -1.421875 \r\nQ 22.3125 -1.421875 17.546875 -0.640625 \r\nQ 12.796875 0.140625 7.71875 1.703125 \r\nL 7.71875 11.625 \r\nQ 12.109375 9.234375 16.796875 8.0625 \r\nQ 21.484375 6.890625 26.703125 6.890625 \r\nQ 35.15625 6.890625 40.078125 11.328125 \r\nQ 45.015625 15.765625 45.015625 23.390625 \r\nQ 45.015625 31 40.078125 35.4375 \r\nQ 35.15625 39.890625 26.703125 39.890625 \r\nQ 22.75 39.890625 18.8125 39.015625 \r\nQ 14.890625 38.140625 10.796875 36.28125 \r\nz\r\n\" id=\"DejaVuSans-53\"/>\r\n       </defs>\r\n       <use xlink:href=\"#DejaVuSans-49\"/>\r\n       <use x=\"63.623047\" xlink:href=\"#DejaVuSans-52\"/>\r\n       <use x=\"127.246094\" xlink:href=\"#DejaVuSans-49\"/>\r\n       <use x=\"190.869141\" xlink:href=\"#DejaVuSans-55\"/>\r\n       <use x=\"254.492188\" xlink:href=\"#DejaVuSans-46\"/>\r\n       <use x=\"286.279297\" xlink:href=\"#DejaVuSans-53\"/>\r\n      </g>\r\n     </g>\r\n    </g>\r\n    <g id=\"ytick_2\">\r\n     <g id=\"line2d_8\">\r\n      <g>\r\n       <use style=\"stroke:#000000;stroke-width:0.8;\" x=\"49.190625\" xlink:href=\"#m3f16af874c\" y=\"270.444803\"/>\r\n      </g>\r\n     </g>\r\n     <g id=\"text_8\">\r\n      <!-- 1420.0 -->\r\n      <g transform=\"translate(7.2 274.244022)scale(0.1 -0.1)\">\r\n       <use xlink:href=\"#DejaVuSans-49\"/>\r\n       <use x=\"63.623047\" xlink:href=\"#DejaVuSans-52\"/>\r\n       <use x=\"127.246094\" xlink:href=\"#DejaVuSans-50\"/>\r\n       <use x=\"190.869141\" xlink:href=\"#DejaVuSans-48\"/>\r\n       <use x=\"254.492188\" xlink:href=\"#DejaVuSans-46\"/>\r\n       <use x=\"286.279297\" xlink:href=\"#DejaVuSans-48\"/>\r\n      </g>\r\n     </g>\r\n    </g>\r\n    <g id=\"ytick_3\">\r\n     <g id=\"line2d_9\">\r\n      <g>\r\n       <use style=\"stroke:#000000;stroke-width:0.8;\" x=\"49.190625\" xlink:href=\"#m3f16af874c\" y=\"233.381148\"/>\r\n      </g>\r\n     </g>\r\n     <g id=\"text_9\">\r\n      <!-- 1422.5 -->\r\n      <g transform=\"translate(7.2 237.180367)scale(0.1 -0.1)\">\r\n       <use xlink:href=\"#DejaVuSans-49\"/>\r\n       <use x=\"63.623047\" xlink:href=\"#DejaVuSans-52\"/>\r\n       <use x=\"127.246094\" xlink:href=\"#DejaVuSans-50\"/>\r\n       <use x=\"190.869141\" xlink:href=\"#DejaVuSans-50\"/>\r\n       <use x=\"254.492188\" xlink:href=\"#DejaVuSans-46\"/>\r\n       <use x=\"286.279297\" xlink:href=\"#DejaVuSans-53\"/>\r\n      </g>\r\n     </g>\r\n    </g>\r\n    <g id=\"ytick_4\">\r\n     <g id=\"line2d_10\">\r\n      <g>\r\n       <use style=\"stroke:#000000;stroke-width:0.8;\" x=\"49.190625\" xlink:href=\"#m3f16af874c\" y=\"196.317494\"/>\r\n      </g>\r\n     </g>\r\n     <g id=\"text_10\">\r\n      <!-- 1425.0 -->\r\n      <g transform=\"translate(7.2 200.116712)scale(0.1 -0.1)\">\r\n       <use xlink:href=\"#DejaVuSans-49\"/>\r\n       <use x=\"63.623047\" xlink:href=\"#DejaVuSans-52\"/>\r\n       <use x=\"127.246094\" xlink:href=\"#DejaVuSans-50\"/>\r\n       <use x=\"190.869141\" xlink:href=\"#DejaVuSans-53\"/>\r\n       <use x=\"254.492188\" xlink:href=\"#DejaVuSans-46\"/>\r\n       <use x=\"286.279297\" xlink:href=\"#DejaVuSans-48\"/>\r\n      </g>\r\n     </g>\r\n    </g>\r\n    <g id=\"ytick_5\">\r\n     <g id=\"line2d_11\">\r\n      <g>\r\n       <use style=\"stroke:#000000;stroke-width:0.8;\" x=\"49.190625\" xlink:href=\"#m3f16af874c\" y=\"159.253839\"/>\r\n      </g>\r\n     </g>\r\n     <g id=\"text_11\">\r\n      <!-- 1427.5 -->\r\n      <g transform=\"translate(7.2 163.053057)scale(0.1 -0.1)\">\r\n       <use xlink:href=\"#DejaVuSans-49\"/>\r\n       <use x=\"63.623047\" xlink:href=\"#DejaVuSans-52\"/>\r\n       <use x=\"127.246094\" xlink:href=\"#DejaVuSans-50\"/>\r\n       <use x=\"190.869141\" xlink:href=\"#DejaVuSans-55\"/>\r\n       <use x=\"254.492188\" xlink:href=\"#DejaVuSans-46\"/>\r\n       <use x=\"286.279297\" xlink:href=\"#DejaVuSans-53\"/>\r\n      </g>\r\n     </g>\r\n    </g>\r\n    <g id=\"ytick_6\">\r\n     <g id=\"line2d_12\">\r\n      <g>\r\n       <use style=\"stroke:#000000;stroke-width:0.8;\" x=\"49.190625\" xlink:href=\"#m3f16af874c\" y=\"122.190184\"/>\r\n      </g>\r\n     </g>\r\n     <g id=\"text_12\">\r\n      <!-- 1430.0 -->\r\n      <g transform=\"translate(7.2 125.989402)scale(0.1 -0.1)\">\r\n       <defs>\r\n        <path d=\"M 40.578125 39.3125 \r\nQ 47.65625 37.796875 51.625 33 \r\nQ 55.609375 28.21875 55.609375 21.1875 \r\nQ 55.609375 10.40625 48.1875 4.484375 \r\nQ 40.765625 -1.421875 27.09375 -1.421875 \r\nQ 22.515625 -1.421875 17.65625 -0.515625 \r\nQ 12.796875 0.390625 7.625 2.203125 \r\nL 7.625 11.71875 \r\nQ 11.71875 9.328125 16.59375 8.109375 \r\nQ 21.484375 6.890625 26.8125 6.890625 \r\nQ 36.078125 6.890625 40.9375 10.546875 \r\nQ 45.796875 14.203125 45.796875 21.1875 \r\nQ 45.796875 27.640625 41.28125 31.265625 \r\nQ 36.765625 34.90625 28.71875 34.90625 \r\nL 20.21875 34.90625 \r\nL 20.21875 43.015625 \r\nL 29.109375 43.015625 \r\nQ 36.375 43.015625 40.234375 45.921875 \r\nQ 44.09375 48.828125 44.09375 54.296875 \r\nQ 44.09375 59.90625 40.109375 62.90625 \r\nQ 36.140625 65.921875 28.71875 65.921875 \r\nQ 24.65625 65.921875 20.015625 65.03125 \r\nQ 15.375 64.15625 9.8125 62.3125 \r\nL 9.8125 71.09375 \r\nQ 15.4375 72.65625 20.34375 73.4375 \r\nQ 25.25 74.21875 29.59375 74.21875 \r\nQ 40.828125 74.21875 47.359375 69.109375 \r\nQ 53.90625 64.015625 53.90625 55.328125 \r\nQ 53.90625 49.265625 50.4375 45.09375 \r\nQ 46.96875 40.921875 40.578125 39.3125 \r\nz\r\n\" id=\"DejaVuSans-51\"/>\r\n       </defs>\r\n       <use xlink:href=\"#DejaVuSans-49\"/>\r\n       <use x=\"63.623047\" xlink:href=\"#DejaVuSans-52\"/>\r\n       <use x=\"127.246094\" xlink:href=\"#DejaVuSans-51\"/>\r\n       <use x=\"190.869141\" xlink:href=\"#DejaVuSans-48\"/>\r\n       <use x=\"254.492188\" xlink:href=\"#DejaVuSans-46\"/>\r\n       <use x=\"286.279297\" xlink:href=\"#DejaVuSans-48\"/>\r\n      </g>\r\n     </g>\r\n    </g>\r\n    <g id=\"ytick_7\">\r\n     <g id=\"line2d_13\">\r\n      <g>\r\n       <use style=\"stroke:#000000;stroke-width:0.8;\" x=\"49.190625\" xlink:href=\"#m3f16af874c\" y=\"85.126529\"/>\r\n      </g>\r\n     </g>\r\n     <g id=\"text_13\">\r\n      <!-- 1432.5 -->\r\n      <g transform=\"translate(7.2 88.925747)scale(0.1 -0.1)\">\r\n       <use xlink:href=\"#DejaVuSans-49\"/>\r\n       <use x=\"63.623047\" xlink:href=\"#DejaVuSans-52\"/>\r\n       <use x=\"127.246094\" xlink:href=\"#DejaVuSans-51\"/>\r\n       <use x=\"190.869141\" xlink:href=\"#DejaVuSans-50\"/>\r\n       <use x=\"254.492188\" xlink:href=\"#DejaVuSans-46\"/>\r\n       <use x=\"286.279297\" xlink:href=\"#DejaVuSans-53\"/>\r\n      </g>\r\n     </g>\r\n    </g>\r\n    <g id=\"ytick_8\">\r\n     <g id=\"line2d_14\">\r\n      <g>\r\n       <use style=\"stroke:#000000;stroke-width:0.8;\" x=\"49.190625\" xlink:href=\"#m3f16af874c\" y=\"48.062874\"/>\r\n      </g>\r\n     </g>\r\n     <g id=\"text_14\">\r\n      <!-- 1435.0 -->\r\n      <g transform=\"translate(7.2 51.862092)scale(0.1 -0.1)\">\r\n       <use xlink:href=\"#DejaVuSans-49\"/>\r\n       <use x=\"63.623047\" xlink:href=\"#DejaVuSans-52\"/>\r\n       <use x=\"127.246094\" xlink:href=\"#DejaVuSans-51\"/>\r\n       <use x=\"190.869141\" xlink:href=\"#DejaVuSans-53\"/>\r\n       <use x=\"254.492188\" xlink:href=\"#DejaVuSans-46\"/>\r\n       <use x=\"286.279297\" xlink:href=\"#DejaVuSans-48\"/>\r\n      </g>\r\n     </g>\r\n    </g>\r\n    <g id=\"ytick_9\">\r\n     <g id=\"line2d_15\">\r\n      <g>\r\n       <use style=\"stroke:#000000;stroke-width:0.8;\" x=\"49.190625\" xlink:href=\"#m3f16af874c\" y=\"10.999219\"/>\r\n      </g>\r\n     </g>\r\n     <g id=\"text_15\">\r\n      <!-- 1437.5 -->\r\n      <g transform=\"translate(7.2 14.798438)scale(0.1 -0.1)\">\r\n       <use xlink:href=\"#DejaVuSans-49\"/>\r\n       <use x=\"63.623047\" xlink:href=\"#DejaVuSans-52\"/>\r\n       <use x=\"127.246094\" xlink:href=\"#DejaVuSans-51\"/>\r\n       <use x=\"190.869141\" xlink:href=\"#DejaVuSans-55\"/>\r\n       <use x=\"254.492188\" xlink:href=\"#DejaVuSans-46\"/>\r\n       <use x=\"286.279297\" xlink:href=\"#DejaVuSans-53\"/>\r\n      </g>\r\n     </g>\r\n    </g>\r\n   </g>\r\n   <g id=\"LineCollection_1\">\r\n    <path clip-path=\"url(#p9f99f6bfb4)\" d=\"M 79.626989 173.527578 \r\nL 688.354261 173.527578 \r\n\" style=\"fill:none;stroke:#000000;stroke-dasharray:5.55,2.4;stroke-dashoffset:0;stroke-width:1.5;\"/>\r\n   </g>\r\n   <g id=\"LineCollection_2\">\r\n    <path clip-path=\"url(#p9f99f6bfb4)\" d=\"M 79.626989 321.782124 \r\nL 688.354261 321.782124 \r\n\" style=\"fill:none;stroke:#ff0000;stroke-dasharray:5.55,2.4;stroke-dashoffset:0;stroke-width:1.5;\"/>\r\n   </g>\r\n   <g id=\"LineCollection_3\">\r\n    <path clip-path=\"url(#p9f99f6bfb4)\" d=\"M 79.626989 25.273033 \r\nL 688.354261 25.273033 \r\n\" style=\"fill:none;stroke:#ff0000;stroke-dasharray:5.55,2.4;stroke-dashoffset:0;stroke-width:1.5;\"/>\r\n   </g>\r\n   <g id=\"line2d_16\">\r\n    <defs>\r\n     <path d=\"M 0 1.5 \r\nC 0.397805 1.5 0.77937 1.341951 1.06066 1.06066 \r\nC 1.341951 0.77937 1.5 0.397805 1.5 0 \r\nC 1.5 -0.397805 1.341951 -0.77937 1.06066 -1.06066 \r\nC 0.77937 -1.341951 0.397805 -1.5 0 -1.5 \r\nC -0.397805 -1.5 -0.77937 -1.341951 -1.06066 -1.06066 \r\nC -1.341951 -0.77937 -1.5 -0.397805 -1.5 0 \r\nC -1.5 0.397805 -1.341951 0.77937 -1.06066 1.06066 \r\nC -0.77937 1.341951 -0.397805 1.5 0 1.5 \r\nz\r\n\" id=\"m76929ae19e\" style=\"stroke:#1f77b4;\"/>\r\n    </defs>\r\n    <g clip-path=\"url(#p9f99f6bfb4)\">\r\n     <use style=\"fill:#1f77b4;stroke:#1f77b4;\" x=\"79.626989\" xlink:href=\"#m76929ae19e\" y=\"221.225415\"/>\r\n     <use style=\"fill:#1f77b4;stroke:#1f77b4;\" x=\"80.235716\" xlink:href=\"#m76929ae19e\" y=\"82.891962\"/>\r\n     <use style=\"fill:#1f77b4;stroke:#1f77b4;\" x=\"80.844443\" xlink:href=\"#m76929ae19e\" y=\"157.831004\"/>\r\n     <use style=\"fill:#1f77b4;stroke:#1f77b4;\" x=\"81.45317\" xlink:href=\"#m76929ae19e\" y=\"185.870314\"/>\r\n     <use style=\"fill:#1f77b4;stroke:#1f77b4;\" x=\"82.061898\" xlink:href=\"#m76929ae19e\" y=\"167.241629\"/>\r\n     <use style=\"fill:#1f77b4;stroke:#1f77b4;\" x=\"82.670625\" xlink:href=\"#m76929ae19e\" y=\"170.596523\"/>\r\n     <use style=\"fill:#1f77b4;stroke:#1f77b4;\" x=\"83.279352\" xlink:href=\"#m76929ae19e\" y=\"100.760266\"/>\r\n     <use style=\"fill:#1f77b4;stroke:#1f77b4;\" x=\"83.88808\" xlink:href=\"#m76929ae19e\" y=\"173.408618\"/>\r\n     <use style=\"fill:#1f77b4;stroke:#1f77b4;\" x=\"84.496807\" xlink:href=\"#m76929ae19e\" y=\"187.396014\"/>\r\n     <use style=\"fill:#1f77b4;stroke:#1f77b4;\" x=\"85.105534\" xlink:href=\"#m76929ae19e\" y=\"231.02051\"/>\r\n     <use style=\"fill:#1f77b4;stroke:#1f77b4;\" x=\"85.714261\" xlink:href=\"#m76929ae19e\" y=\"183.602337\"/>\r\n     <use style=\"fill:#1f77b4;stroke:#1f77b4;\" x=\"86.322989\" xlink:href=\"#m76929ae19e\" y=\"133.077133\"/>\r\n     <use style=\"fill:#1f77b4;stroke:#1f77b4;\" x=\"86.931716\" xlink:href=\"#m76929ae19e\" y=\"229.32035\"/>\r\n     <use style=\"fill:#1f77b4;stroke:#1f77b4;\" x=\"87.540443\" xlink:href=\"#m76929ae19e\" y=\"76.625893\"/>\r\n     <use style=\"fill:#1f77b4;stroke:#1f77b4;\" x=\"88.14917\" xlink:href=\"#m76929ae19e\" y=\"96.466251\"/>\r\n     <use style=\"fill:#1f77b4;stroke:#1f77b4;\" x=\"88.757898\" xlink:href=\"#m76929ae19e\" y=\"149.500384\"/>\r\n     <use style=\"fill:#1f77b4;stroke:#1f77b4;\" x=\"89.366625\" xlink:href=\"#m76929ae19e\" y=\"201.5345\"/>\r\n     <use style=\"fill:#1f77b4;stroke:#1f77b4;\" x=\"89.975352\" xlink:href=\"#m76929ae19e\" y=\"160.165473\"/>\r\n     <use style=\"fill:#1f77b4;stroke:#1f77b4;\" x=\"90.58408\" xlink:href=\"#m76929ae19e\" y=\"175.823405\"/>\r\n     <use style=\"fill:#1f77b4;stroke:#1f77b4;\" x=\"91.192807\" xlink:href=\"#m76929ae19e\" y=\"137.75496\"/>\r\n     <use style=\"fill:#1f77b4;stroke:#1f77b4;\" x=\"91.801534\" xlink:href=\"#m76929ae19e\" y=\"187.030636\"/>\r\n     <use style=\"fill:#1f77b4;stroke:#1f77b4;\" x=\"92.410261\" xlink:href=\"#m76929ae19e\" y=\"142.959129\"/>\r\n     <use style=\"fill:#1f77b4;stroke:#1f77b4;\" x=\"93.018989\" xlink:href=\"#m76929ae19e\" y=\"218.860662\"/>\r\n     <use style=\"fill:#1f77b4;stroke:#1f77b4;\" x=\"93.627716\" xlink:href=\"#m76929ae19e\" y=\"100.240508\"/>\r\n     <use style=\"fill:#1f77b4;stroke:#1f77b4;\" x=\"94.236443\" xlink:href=\"#m76929ae19e\" y=\"161.079577\"/>\r\n     <use style=\"fill:#1f77b4;stroke:#1f77b4;\" x=\"94.84517\" xlink:href=\"#m76929ae19e\" y=\"213.9353\"/>\r\n     <use style=\"fill:#1f77b4;stroke:#1f77b4;\" x=\"95.453898\" xlink:href=\"#m76929ae19e\" y=\"197.367215\"/>\r\n     <use style=\"fill:#1f77b4;stroke:#1f77b4;\" x=\"96.062625\" xlink:href=\"#m76929ae19e\" y=\"175.284225\"/>\r\n     <use style=\"fill:#1f77b4;stroke:#1f77b4;\" x=\"96.671352\" xlink:href=\"#m76929ae19e\" y=\"222.894633\"/>\r\n     <use style=\"fill:#1f77b4;stroke:#1f77b4;\" x=\"97.28008\" xlink:href=\"#m76929ae19e\" y=\"73.712414\"/>\r\n     <use style=\"fill:#1f77b4;stroke:#1f77b4;\" x=\"97.888807\" xlink:href=\"#m76929ae19e\" y=\"182.45156\"/>\r\n     <use style=\"fill:#1f77b4;stroke:#1f77b4;\" x=\"98.497534\" xlink:href=\"#m76929ae19e\" y=\"186.973032\"/>\r\n     <use style=\"fill:#1f77b4;stroke:#1f77b4;\" x=\"99.106261\" xlink:href=\"#m76929ae19e\" y=\"195.275014\"/>\r\n     <use style=\"fill:#1f77b4;stroke:#1f77b4;\" x=\"99.714989\" xlink:href=\"#m76929ae19e\" y=\"183.440385\"/>\r\n     <use style=\"fill:#1f77b4;stroke:#1f77b4;\" x=\"100.323716\" xlink:href=\"#m76929ae19e\" y=\"170.597511\"/>\r\n     <use style=\"fill:#1f77b4;stroke:#1f77b4;\" x=\"100.932443\" xlink:href=\"#m76929ae19e\" y=\"155.871787\"/>\r\n     <use style=\"fill:#1f77b4;stroke:#1f77b4;\" x=\"101.54117\" xlink:href=\"#m76929ae19e\" y=\"48.602382\"/>\r\n     <use style=\"fill:#1f77b4;stroke:#1f77b4;\" x=\"102.149898\" xlink:href=\"#m76929ae19e\" y=\"124.765934\"/>\r\n     <use style=\"fill:#1f77b4;stroke:#1f77b4;\" x=\"102.758625\" xlink:href=\"#m76929ae19e\" y=\"107.090523\"/>\r\n     <use style=\"fill:#1f77b4;stroke:#1f77b4;\" x=\"103.367352\" xlink:href=\"#m76929ae19e\" y=\"156.387267\"/>\r\n     <use style=\"fill:#1f77b4;stroke:#1f77b4;\" x=\"103.97608\" xlink:href=\"#m76929ae19e\" y=\"161.726724\"/>\r\n     <use style=\"fill:#1f77b4;stroke:#1f77b4;\" x=\"104.584807\" xlink:href=\"#m76929ae19e\" y=\"221.724765\"/>\r\n     <use style=\"fill:#1f77b4;stroke:#1f77b4;\" x=\"105.193534\" xlink:href=\"#m76929ae19e\" y=\"178.790867\"/>\r\n     <use style=\"fill:#1f77b4;stroke:#1f77b4;\" x=\"105.802261\" xlink:href=\"#m76929ae19e\" y=\"274.914924\"/>\r\n     <use style=\"fill:#1f77b4;stroke:#1f77b4;\" x=\"106.410989\" xlink:href=\"#m76929ae19e\" y=\"138.338578\"/>\r\n     <use style=\"fill:#1f77b4;stroke:#1f77b4;\" x=\"107.019716\" xlink:href=\"#m76929ae19e\" y=\"226.9026\"/>\r\n     <use style=\"fill:#1f77b4;stroke:#1f77b4;\" x=\"107.628443\" xlink:href=\"#m76929ae19e\" y=\"167.349925\"/>\r\n     <use style=\"fill:#1f77b4;stroke:#1f77b4;\" x=\"108.23717\" xlink:href=\"#m76929ae19e\" y=\"145.214927\"/>\r\n     <use style=\"fill:#1f77b4;stroke:#1f77b4;\" x=\"108.845898\" xlink:href=\"#m76929ae19e\" y=\"189.114937\"/>\r\n     <use style=\"fill:#1f77b4;stroke:#1f77b4;\" x=\"109.454625\" xlink:href=\"#m76929ae19e\" y=\"226.743941\"/>\r\n     <use style=\"fill:#1f77b4;stroke:#1f77b4;\" x=\"110.063352\" xlink:href=\"#m76929ae19e\" y=\"140.338611\"/>\r\n     <use style=\"fill:#1f77b4;stroke:#1f77b4;\" x=\"110.67208\" xlink:href=\"#m76929ae19e\" y=\"116.870476\"/>\r\n     <use style=\"fill:#1f77b4;stroke:#1f77b4;\" x=\"111.280807\" xlink:href=\"#m76929ae19e\" y=\"190.464203\"/>\r\n     <use style=\"fill:#1f77b4;stroke:#1f77b4;\" x=\"111.889534\" xlink:href=\"#m76929ae19e\" y=\"184.640537\"/>\r\n     <use style=\"fill:#1f77b4;stroke:#1f77b4;\" x=\"112.498261\" xlink:href=\"#m76929ae19e\" y=\"222.805099\"/>\r\n     <use style=\"fill:#1f77b4;stroke:#1f77b4;\" x=\"113.106989\" xlink:href=\"#m76929ae19e\" y=\"212.14396\"/>\r\n     <use style=\"fill:#1f77b4;stroke:#1f77b4;\" x=\"113.715716\" xlink:href=\"#m76929ae19e\" y=\"272.000129\"/>\r\n     <use style=\"fill:#1f77b4;stroke:#1f77b4;\" x=\"114.324443\" xlink:href=\"#m76929ae19e\" y=\"129.331844\"/>\r\n     <use style=\"fill:#1f77b4;stroke:#1f77b4;\" x=\"114.93317\" xlink:href=\"#m76929ae19e\" y=\"185.802176\"/>\r\n     <use style=\"fill:#1f77b4;stroke:#1f77b4;\" x=\"115.541898\" xlink:href=\"#m76929ae19e\" y=\"158.592702\"/>\r\n     <use style=\"fill:#1f77b4;stroke:#1f77b4;\" x=\"116.150625\" xlink:href=\"#m76929ae19e\" y=\"136.653559\"/>\r\n     <use style=\"fill:#1f77b4;stroke:#1f77b4;\" x=\"116.759352\" xlink:href=\"#m76929ae19e\" y=\"189.409544\"/>\r\n     <use style=\"fill:#1f77b4;stroke:#1f77b4;\" x=\"117.36808\" xlink:href=\"#m76929ae19e\" y=\"194.994562\"/>\r\n     <use style=\"fill:#1f77b4;stroke:#1f77b4;\" x=\"117.976807\" xlink:href=\"#m76929ae19e\" y=\"296.329042\"/>\r\n     <use style=\"fill:#1f77b4;stroke:#1f77b4;\" x=\"118.585534\" xlink:href=\"#m76929ae19e\" y=\"220.263253\"/>\r\n     <use style=\"fill:#1f77b4;stroke:#1f77b4;\" x=\"119.194261\" xlink:href=\"#m76929ae19e\" y=\"255.113079\"/>\r\n     <use style=\"fill:#1f77b4;stroke:#1f77b4;\" x=\"119.802989\" xlink:href=\"#m76929ae19e\" y=\"172.575819\"/>\r\n     <use style=\"fill:#1f77b4;stroke:#1f77b4;\" x=\"120.411716\" xlink:href=\"#m76929ae19e\" y=\"121.934748\"/>\r\n     <use style=\"fill:#1f77b4;stroke:#1f77b4;\" x=\"121.020443\" xlink:href=\"#m76929ae19e\" y=\"176.579836\"/>\r\n     <use style=\"fill:#1f77b4;stroke:#1f77b4;\" x=\"121.62917\" xlink:href=\"#m76929ae19e\" y=\"187.272247\"/>\r\n     <use style=\"fill:#1f77b4;stroke:#1f77b4;\" x=\"122.237898\" xlink:href=\"#m76929ae19e\" y=\"226.08626\"/>\r\n     <use style=\"fill:#1f77b4;stroke:#1f77b4;\" x=\"122.846625\" xlink:href=\"#m76929ae19e\" y=\"109.074757\"/>\r\n     <use style=\"fill:#1f77b4;stroke:#1f77b4;\" x=\"123.455352\" xlink:href=\"#m76929ae19e\" y=\"124.540124\"/>\r\n     <use style=\"fill:#1f77b4;stroke:#1f77b4;\" x=\"124.06408\" xlink:href=\"#m76929ae19e\" y=\"134.464253\"/>\r\n     <use style=\"fill:#1f77b4;stroke:#1f77b4;\" x=\"124.672807\" xlink:href=\"#m76929ae19e\" y=\"215.806628\"/>\r\n     <use style=\"fill:#1f77b4;stroke:#1f77b4;\" x=\"125.281534\" xlink:href=\"#m76929ae19e\" y=\"33.823004\"/>\r\n     <use style=\"fill:#1f77b4;stroke:#1f77b4;\" x=\"125.890261\" xlink:href=\"#m76929ae19e\" y=\"177.433043\"/>\r\n     <use style=\"fill:#1f77b4;stroke:#1f77b4;\" x=\"126.498989\" xlink:href=\"#m76929ae19e\" y=\"149.045472\"/>\r\n     <use style=\"fill:#1f77b4;stroke:#1f77b4;\" x=\"127.107716\" xlink:href=\"#m76929ae19e\" y=\"137.280298\"/>\r\n     <use style=\"fill:#1f77b4;stroke:#1f77b4;\" x=\"127.716443\" xlink:href=\"#m76929ae19e\" y=\"160.68589\"/>\r\n     <use style=\"fill:#1f77b4;stroke:#1f77b4;\" x=\"128.32517\" xlink:href=\"#m76929ae19e\" y=\"208.434549\"/>\r\n     <use style=\"fill:#1f77b4;stroke:#1f77b4;\" x=\"128.933898\" xlink:href=\"#m76929ae19e\" y=\"169.69032\"/>\r\n     <use style=\"fill:#1f77b4;stroke:#1f77b4;\" x=\"129.542625\" xlink:href=\"#m76929ae19e\" y=\"191.474424\"/>\r\n     <use style=\"fill:#1f77b4;stroke:#1f77b4;\" x=\"130.151352\" xlink:href=\"#m76929ae19e\" y=\"218.544659\"/>\r\n     <use style=\"fill:#1f77b4;stroke:#1f77b4;\" x=\"130.76008\" xlink:href=\"#m76929ae19e\" y=\"109.54909\"/>\r\n     <use style=\"fill:#1f77b4;stroke:#1f77b4;\" x=\"131.368807\" xlink:href=\"#m76929ae19e\" y=\"106.375238\"/>\r\n     <use style=\"fill:#1f77b4;stroke:#1f77b4;\" x=\"131.977534\" xlink:href=\"#m76929ae19e\" y=\"166.941097\"/>\r\n     <use style=\"fill:#1f77b4;stroke:#1f77b4;\" x=\"132.586261\" xlink:href=\"#m76929ae19e\" y=\"154.089006\"/>\r\n     <use style=\"fill:#1f77b4;stroke:#1f77b4;\" x=\"133.194989\" xlink:href=\"#m76929ae19e\" y=\"236.86623\"/>\r\n     <use style=\"fill:#1f77b4;stroke:#1f77b4;\" x=\"133.803716\" xlink:href=\"#m76929ae19e\" y=\"278.669102\"/>\r\n     <use style=\"fill:#1f77b4;stroke:#1f77b4;\" x=\"134.412443\" xlink:href=\"#m76929ae19e\" y=\"194.302318\"/>\r\n     <use style=\"fill:#1f77b4;stroke:#1f77b4;\" x=\"135.02117\" xlink:href=\"#m76929ae19e\" y=\"251.362193\"/>\r\n     <use style=\"fill:#1f77b4;stroke:#1f77b4;\" x=\"135.629898\" xlink:href=\"#m76929ae19e\" y=\"112.908922\"/>\r\n     <use style=\"fill:#1f77b4;stroke:#1f77b4;\" x=\"136.238625\" xlink:href=\"#m76929ae19e\" y=\"148.572455\"/>\r\n     <use style=\"fill:#1f77b4;stroke:#1f77b4;\" x=\"136.847352\" xlink:href=\"#m76929ae19e\" y=\"194.54722\"/>\r\n     <use style=\"fill:#1f77b4;stroke:#1f77b4;\" x=\"137.45608\" xlink:href=\"#m76929ae19e\" y=\"101.116098\"/>\r\n     <use style=\"fill:#1f77b4;stroke:#1f77b4;\" x=\"138.064807\" xlink:href=\"#m76929ae19e\" y=\"178.053199\"/>\r\n     <use style=\"fill:#1f77b4;stroke:#1f77b4;\" x=\"138.673534\" xlink:href=\"#m76929ae19e\" y=\"211.973779\"/>\r\n     <use style=\"fill:#1f77b4;stroke:#1f77b4;\" x=\"139.282261\" xlink:href=\"#m76929ae19e\" y=\"181.164508\"/>\r\n     <use style=\"fill:#1f77b4;stroke:#1f77b4;\" x=\"139.890989\" xlink:href=\"#m76929ae19e\" y=\"258.501549\"/>\r\n     <use style=\"fill:#1f77b4;stroke:#1f77b4;\" x=\"140.499716\" xlink:href=\"#m76929ae19e\" y=\"223.54178\"/>\r\n     <use style=\"fill:#1f77b4;stroke:#1f77b4;\" x=\"141.108443\" xlink:href=\"#m76929ae19e\" y=\"253.464269\"/>\r\n     <use style=\"fill:#1f77b4;stroke:#1f77b4;\" x=\"141.71717\" xlink:href=\"#m76929ae19e\" y=\"209.229494\"/>\r\n     <use style=\"fill:#1f77b4;stroke:#1f77b4;\" x=\"142.325898\" xlink:href=\"#m76929ae19e\" y=\"226.330833\"/>\r\n     <use style=\"fill:#1f77b4;stroke:#1f77b4;\" x=\"142.934625\" xlink:href=\"#m76929ae19e\" y=\"198.560783\"/>\r\n     <use style=\"fill:#1f77b4;stroke:#1f77b4;\" x=\"143.543352\" xlink:href=\"#m76929ae19e\" y=\"262.27021\"/>\r\n     <use style=\"fill:#1f77b4;stroke:#1f77b4;\" x=\"144.15208\" xlink:href=\"#m76929ae19e\" y=\"216.78459\"/>\r\n     <use style=\"fill:#1f77b4;stroke:#1f77b4;\" x=\"144.760807\" xlink:href=\"#m76929ae19e\" y=\"205.958537\"/>\r\n     <use style=\"fill:#1f77b4;stroke:#1f77b4;\" x=\"145.369534\" xlink:href=\"#m76929ae19e\" y=\"166.548727\"/>\r\n     <use style=\"fill:#1f77b4;stroke:#1f77b4;\" x=\"145.978261\" xlink:href=\"#m76929ae19e\" y=\"231.245662\"/>\r\n     <use style=\"fill:#1f77b4;stroke:#1f77b4;\" x=\"146.586989\" xlink:href=\"#m76929ae19e\" y=\"232.052785\"/>\r\n     <use style=\"fill:#1f77b4;stroke:#1f77b4;\" x=\"147.195716\" xlink:href=\"#m76929ae19e\" y=\"194.132467\"/>\r\n     <use style=\"fill:#1f77b4;stroke:#1f77b4;\" x=\"147.804443\" xlink:href=\"#m76929ae19e\" y=\"171.396405\"/>\r\n     <use style=\"fill:#1f77b4;stroke:#1f77b4;\" x=\"148.41317\" xlink:href=\"#m76929ae19e\" y=\"243.342968\"/>\r\n     <use style=\"fill:#1f77b4;stroke:#1f77b4;\" x=\"149.021898\" xlink:href=\"#m76929ae19e\" y=\"138.421528\"/>\r\n     <use style=\"fill:#1f77b4;stroke:#1f77b4;\" x=\"149.630625\" xlink:href=\"#m76929ae19e\" y=\"81.4739\"/>\r\n     <use style=\"fill:#1f77b4;stroke:#1f77b4;\" x=\"150.239352\" xlink:href=\"#m76929ae19e\" y=\"202.81069\"/>\r\n     <use style=\"fill:#1f77b4;stroke:#1f77b4;\" x=\"150.84808\" xlink:href=\"#m76929ae19e\" y=\"231.482335\"/>\r\n     <use style=\"fill:#1f77b4;stroke:#1f77b4;\" x=\"151.456807\" xlink:href=\"#m76929ae19e\" y=\"300.525623\"/>\r\n     <use style=\"fill:#1f77b4;stroke:#1f77b4;\" x=\"152.065534\" xlink:href=\"#m76929ae19e\" y=\"233.606794\"/>\r\n     <use style=\"fill:#1f77b4;stroke:#1f77b4;\" x=\"152.674261\" xlink:href=\"#m76929ae19e\" y=\"235.874442\"/>\r\n     <use style=\"fill:#1f77b4;stroke:#1f77b4;\" x=\"153.282989\" xlink:href=\"#m76929ae19e\" y=\"118.003807\"/>\r\n     <use style=\"fill:#1f77b4;stroke:#1f77b4;\" x=\"153.891716\" xlink:href=\"#m76929ae19e\" y=\"138.07195\"/>\r\n     <use style=\"fill:#1f77b4;stroke:#1f77b4;\" x=\"154.500443\" xlink:href=\"#m76929ae19e\" y=\"217.663473\"/>\r\n     <use style=\"fill:#1f77b4;stroke:#1f77b4;\" x=\"155.10917\" xlink:href=\"#m76929ae19e\" y=\"197.25431\"/>\r\n     <use style=\"fill:#1f77b4;stroke:#1f77b4;\" x=\"155.717898\" xlink:href=\"#m76929ae19e\" y=\"126.329489\"/>\r\n     <use style=\"fill:#1f77b4;stroke:#1f77b4;\" x=\"156.326625\" xlink:href=\"#m76929ae19e\" y=\"198.007449\"/>\r\n     <use style=\"fill:#1f77b4;stroke:#1f77b4;\" x=\"156.935352\" xlink:href=\"#m76929ae19e\" y=\"213.723315\"/>\r\n     <use style=\"fill:#1f77b4;stroke:#1f77b4;\" x=\"157.54408\" xlink:href=\"#m76929ae19e\" y=\"162.887046\"/>\r\n     <use style=\"fill:#1f77b4;stroke:#1f77b4;\" x=\"158.152807\" xlink:href=\"#m76929ae19e\" y=\"223.916375\"/>\r\n     <use style=\"fill:#1f77b4;stroke:#1f77b4;\" x=\"158.761534\" xlink:href=\"#m76929ae19e\" y=\"131.086646\"/>\r\n     <use style=\"fill:#1f77b4;stroke:#1f77b4;\" x=\"159.370261\" xlink:href=\"#m76929ae19e\" y=\"212.069567\"/>\r\n     <use style=\"fill:#1f77b4;stroke:#1f77b4;\" x=\"159.978989\" xlink:href=\"#m76929ae19e\" y=\"172.335196\"/>\r\n     <use style=\"fill:#1f77b4;stroke:#1f77b4;\" x=\"160.587716\" xlink:href=\"#m76929ae19e\" y=\"141.766877\"/>\r\n     <use style=\"fill:#1f77b4;stroke:#1f77b4;\" x=\"161.196443\" xlink:href=\"#m76929ae19e\" y=\"203.780752\"/>\r\n     <use style=\"fill:#1f77b4;stroke:#1f77b4;\" x=\"161.80517\" xlink:href=\"#m76929ae19e\" y=\"203.802477\"/>\r\n     <use style=\"fill:#1f77b4;stroke:#1f77b4;\" x=\"162.413898\" xlink:href=\"#m76929ae19e\" y=\"222.821229\"/>\r\n     <use style=\"fill:#1f77b4;stroke:#1f77b4;\" x=\"163.022625\" xlink:href=\"#m76929ae19e\" y=\"111.638658\"/>\r\n     <use style=\"fill:#1f77b4;stroke:#1f77b4;\" x=\"163.631352\" xlink:href=\"#m76929ae19e\" y=\"238.300092\"/>\r\n     <use style=\"fill:#1f77b4;stroke:#1f77b4;\" x=\"164.24008\" xlink:href=\"#m76929ae19e\" y=\"131.724905\"/>\r\n     <use style=\"fill:#1f77b4;stroke:#1f77b4;\" x=\"164.848807\" xlink:href=\"#m76929ae19e\" y=\"137.466608\"/>\r\n     <use style=\"fill:#1f77b4;stroke:#1f77b4;\" x=\"165.457534\" xlink:href=\"#m76929ae19e\" y=\"223.627364\"/>\r\n     <use style=\"fill:#1f77b4;stroke:#1f77b4;\" x=\"166.066261\" xlink:href=\"#m76929ae19e\" y=\"138.497566\"/>\r\n     <use style=\"fill:#1f77b4;stroke:#1f77b4;\" x=\"166.674989\" xlink:href=\"#m76929ae19e\" y=\"197.750039\"/>\r\n     <use style=\"fill:#1f77b4;stroke:#1f77b4;\" x=\"167.283716\" xlink:href=\"#m76929ae19e\" y=\"108.099757\"/>\r\n     <use style=\"fill:#1f77b4;stroke:#1f77b4;\" x=\"167.892443\" xlink:href=\"#m76929ae19e\" y=\"262.601025\"/>\r\n     <use style=\"fill:#1f77b4;stroke:#1f77b4;\" x=\"168.50117\" xlink:href=\"#m76929ae19e\" y=\"194.144317\"/>\r\n     <use style=\"fill:#1f77b4;stroke:#1f77b4;\" x=\"169.109898\" xlink:href=\"#m76929ae19e\" y=\"219.401158\"/>\r\n     <use style=\"fill:#1f77b4;stroke:#1f77b4;\" x=\"169.718625\" xlink:href=\"#m76929ae19e\" y=\"139.668751\"/>\r\n     <use style=\"fill:#1f77b4;stroke:#1f77b4;\" x=\"170.327352\" xlink:href=\"#m76929ae19e\" y=\"107.61127\"/>\r\n     <use style=\"fill:#1f77b4;stroke:#1f77b4;\" x=\"170.93608\" xlink:href=\"#m76929ae19e\" y=\"228.425338\"/>\r\n     <use style=\"fill:#1f77b4;stroke:#1f77b4;\" x=\"171.544807\" xlink:href=\"#m76929ae19e\" y=\"302.800513\"/>\r\n     <use style=\"fill:#1f77b4;stroke:#1f77b4;\" x=\"172.153534\" xlink:href=\"#m76929ae19e\" y=\"222.677711\"/>\r\n     <use style=\"fill:#1f77b4;stroke:#1f77b4;\" x=\"172.762261\" xlink:href=\"#m76929ae19e\" y=\"139.762894\"/>\r\n     <use style=\"fill:#1f77b4;stroke:#1f77b4;\" x=\"173.370989\" xlink:href=\"#m76929ae19e\" y=\"184.184637\"/>\r\n     <use style=\"fill:#1f77b4;stroke:#1f77b4;\" x=\"173.979716\" xlink:href=\"#m76929ae19e\" y=\"153.3701\"/>\r\n     <use style=\"fill:#1f77b4;stroke:#1f77b4;\" x=\"174.588443\" xlink:href=\"#m76929ae19e\" y=\"207.371003\"/>\r\n     <use style=\"fill:#1f77b4;stroke:#1f77b4;\" x=\"175.19717\" xlink:href=\"#m76929ae19e\" y=\"158.056156\"/>\r\n     <use style=\"fill:#1f77b4;stroke:#1f77b4;\" x=\"175.805898\" xlink:href=\"#m76929ae19e\" y=\"106.91343\"/>\r\n     <use style=\"fill:#1f77b4;stroke:#1f77b4;\" x=\"176.414625\" xlink:href=\"#m76929ae19e\" y=\"212.317761\"/>\r\n     <use style=\"fill:#1f77b4;stroke:#1f77b4;\" x=\"177.023352\" xlink:href=\"#m76929ae19e\" y=\"164.864696\"/>\r\n     <use style=\"fill:#1f77b4;stroke:#1f77b4;\" x=\"177.63208\" xlink:href=\"#m76929ae19e\" y=\"228.659048\"/>\r\n     <use style=\"fill:#1f77b4;stroke:#1f77b4;\" x=\"178.240807\" xlink:href=\"#m76929ae19e\" y=\"156.810908\"/>\r\n     <use style=\"fill:#1f77b4;stroke:#1f77b4;\" x=\"178.849534\" xlink:href=\"#m76929ae19e\" y=\"208.342053\"/>\r\n     <use style=\"fill:#1f77b4;stroke:#1f77b4;\" x=\"179.458261\" xlink:href=\"#m76929ae19e\" y=\"203.403524\"/>\r\n     <use style=\"fill:#1f77b4;stroke:#1f77b4;\" x=\"180.066989\" xlink:href=\"#m76929ae19e\" y=\"80.842553\"/>\r\n     <use style=\"fill:#1f77b4;stroke:#1f77b4;\" x=\"180.675716\" xlink:href=\"#m76929ae19e\" y=\"220.880446\"/>\r\n     <use style=\"fill:#1f77b4;stroke:#1f77b4;\" x=\"181.284443\" xlink:href=\"#m76929ae19e\" y=\"174.371768\"/>\r\n     <use style=\"fill:#1f77b4;stroke:#1f77b4;\" x=\"181.89317\" xlink:href=\"#m76929ae19e\" y=\"247.391093\"/>\r\n     <use style=\"fill:#1f77b4;stroke:#1f77b4;\" x=\"182.501898\" xlink:href=\"#m76929ae19e\" y=\"132.169942\"/>\r\n     <use style=\"fill:#1f77b4;stroke:#1f77b4;\" x=\"183.110625\" xlink:href=\"#m76929ae19e\" y=\"131.124171\"/>\r\n     <use style=\"fill:#1f77b4;stroke:#1f77b4;\" x=\"183.719352\" xlink:href=\"#m76929ae19e\" y=\"62.320189\"/>\r\n     <use style=\"fill:#1f77b4;stroke:#1f77b4;\" x=\"184.32808\" xlink:href=\"#m76929ae19e\" y=\"193.966565\"/>\r\n     <use style=\"fill:#1f77b4;stroke:#1f77b4;\" x=\"184.936807\" xlink:href=\"#m76929ae19e\" y=\"111.10672\"/>\r\n     <use style=\"fill:#1f77b4;stroke:#1f77b4;\" x=\"185.545534\" xlink:href=\"#m76929ae19e\" y=\"268.240027\"/>\r\n     <use style=\"fill:#1f77b4;stroke:#1f77b4;\" x=\"186.154261\" xlink:href=\"#m76929ae19e\" y=\"160.922892\"/>\r\n     <use style=\"fill:#1f77b4;stroke:#1f77b4;\" x=\"186.762989\" xlink:href=\"#m76929ae19e\" y=\"200.352782\"/>\r\n     <use style=\"fill:#1f77b4;stroke:#1f77b4;\" x=\"187.371716\" xlink:href=\"#m76929ae19e\" y=\"224.409471\"/>\r\n     <use style=\"fill:#1f77b4;stroke:#1f77b4;\" x=\"187.980443\" xlink:href=\"#m76929ae19e\" y=\"165.095444\"/>\r\n     <use style=\"fill:#1f77b4;stroke:#1f77b4;\" x=\"188.58917\" xlink:href=\"#m76929ae19e\" y=\"171.467506\"/>\r\n     <use style=\"fill:#1f77b4;stroke:#1f77b4;\" x=\"189.197898\" xlink:href=\"#m76929ae19e\" y=\"175.131491\"/>\r\n     <use style=\"fill:#1f77b4;stroke:#1f77b4;\" x=\"189.806625\" xlink:href=\"#m76929ae19e\" y=\"269.9945\"/>\r\n     <use style=\"fill:#1f77b4;stroke:#1f77b4;\" x=\"190.415352\" xlink:href=\"#m76929ae19e\" y=\"130.961232\"/>\r\n     <use style=\"fill:#1f77b4;stroke:#1f77b4;\" x=\"191.02408\" xlink:href=\"#m76929ae19e\" y=\"215.128868\"/>\r\n     <use style=\"fill:#1f77b4;stroke:#1f77b4;\" x=\"191.632807\" xlink:href=\"#m76929ae19e\" y=\"213.756561\"/>\r\n     <use style=\"fill:#1f77b4;stroke:#1f77b4;\" x=\"192.241534\" xlink:href=\"#m76929ae19e\" y=\"170.462222\"/>\r\n     <use style=\"fill:#1f77b4;stroke:#1f77b4;\" x=\"192.850261\" xlink:href=\"#m76929ae19e\" y=\"240.121386\"/>\r\n     <use style=\"fill:#1f77b4;stroke:#1f77b4;\" x=\"193.458989\" xlink:href=\"#m76929ae19e\" y=\"169.178461\"/>\r\n     <use style=\"fill:#1f77b4;stroke:#1f77b4;\" x=\"194.067716\" xlink:href=\"#m76929ae19e\" y=\"73.732164\"/>\r\n     <use style=\"fill:#1f77b4;stroke:#1f77b4;\" x=\"194.676443\" xlink:href=\"#m76929ae19e\" y=\"103.167811\"/>\r\n     <use style=\"fill:#1f77b4;stroke:#1f77b4;\" x=\"195.28517\" xlink:href=\"#m76929ae19e\" y=\"157.428429\"/>\r\n     <use style=\"fill:#1f77b4;stroke:#1f77b4;\" x=\"195.893898\" xlink:href=\"#m76929ae19e\" y=\"104.200745\"/>\r\n     <use style=\"fill:#1f77b4;stroke:#1f77b4;\" x=\"196.502625\" xlink:href=\"#m76929ae19e\" y=\"181.408752\"/>\r\n     <use style=\"fill:#1f77b4;stroke:#1f77b4;\" x=\"197.111352\" xlink:href=\"#m76929ae19e\" y=\"157.335604\"/>\r\n     <use style=\"fill:#1f77b4;stroke:#1f77b4;\" x=\"197.72008\" xlink:href=\"#m76929ae19e\" y=\"190.79436\"/>\r\n     <use style=\"fill:#1f77b4;stroke:#1f77b4;\" x=\"198.328807\" xlink:href=\"#m76929ae19e\" y=\"252.585058\"/>\r\n     <use style=\"fill:#1f77b4;stroke:#1f77b4;\" x=\"198.937534\" xlink:href=\"#m76929ae19e\" y=\"87.742603\"/>\r\n     <use style=\"fill:#1f77b4;stroke:#1f77b4;\" x=\"199.546261\" xlink:href=\"#m76929ae19e\" y=\"144.19121\"/>\r\n     <use style=\"fill:#1f77b4;stroke:#1f77b4;\" x=\"200.154989\" xlink:href=\"#m76929ae19e\" y=\"202.451237\"/>\r\n     <use style=\"fill:#1f77b4;stroke:#1f77b4;\" x=\"200.763716\" xlink:href=\"#m76929ae19e\" y=\"198.571317\"/>\r\n     <use style=\"fill:#1f77b4;stroke:#1f77b4;\" x=\"201.372443\" xlink:href=\"#m76929ae19e\" y=\"258.304047\"/>\r\n     <use style=\"fill:#1f77b4;stroke:#1f77b4;\" x=\"201.98117\" xlink:href=\"#m76929ae19e\" y=\"138.682889\"/>\r\n     <use style=\"fill:#1f77b4;stroke:#1f77b4;\" x=\"202.589898\" xlink:href=\"#m76929ae19e\" y=\"217.15721\"/>\r\n     <use style=\"fill:#1f77b4;stroke:#1f77b4;\" x=\"203.198625\" xlink:href=\"#m76929ae19e\" y=\"220.385375\"/>\r\n     <use style=\"fill:#1f77b4;stroke:#1f77b4;\" x=\"203.807352\" xlink:href=\"#m76929ae19e\" y=\"177.757934\"/>\r\n     <use style=\"fill:#1f77b4;stroke:#1f77b4;\" x=\"204.41608\" xlink:href=\"#m76929ae19e\" y=\"66.946666\"/>\r\n     <use style=\"fill:#1f77b4;stroke:#1f77b4;\" x=\"205.024807\" xlink:href=\"#m76929ae19e\" y=\"198.679284\"/>\r\n     <use style=\"fill:#1f77b4;stroke:#1f77b4;\" x=\"205.633534\" xlink:href=\"#m76929ae19e\" y=\"151.172894\"/>\r\n     <use style=\"fill:#1f77b4;stroke:#1f77b4;\" x=\"206.242261\" xlink:href=\"#m76929ae19e\" y=\"308.356893\"/>\r\n     <use style=\"fill:#1f77b4;stroke:#1f77b4;\" x=\"206.850989\" xlink:href=\"#m76929ae19e\" y=\"251.587016\"/>\r\n     <use style=\"fill:#1f77b4;stroke:#1f77b4;\" x=\"207.459716\" xlink:href=\"#m76929ae19e\" y=\"192.227563\"/>\r\n     <use style=\"fill:#1f77b4;stroke:#1f77b4;\" x=\"208.068443\" xlink:href=\"#m76929ae19e\" y=\"221.672756\"/>\r\n     <use style=\"fill:#1f77b4;stroke:#1f77b4;\" x=\"208.67717\" xlink:href=\"#m76929ae19e\" y=\"176.430722\"/>\r\n     <use style=\"fill:#1f77b4;stroke:#1f77b4;\" x=\"209.285898\" xlink:href=\"#m76929ae19e\" y=\"168.875626\"/>\r\n     <use style=\"fill:#1f77b4;stroke:#1f77b4;\" x=\"209.894625\" xlink:href=\"#m76929ae19e\" y=\"181.458127\"/>\r\n     <use style=\"fill:#1f77b4;stroke:#1f77b4;\" x=\"210.503352\" xlink:href=\"#m76929ae19e\" y=\"214.746044\"/>\r\n     <use style=\"fill:#1f77b4;stroke:#1f77b4;\" x=\"211.11208\" xlink:href=\"#m76929ae19e\" y=\"219.808341\"/>\r\n     <use style=\"fill:#1f77b4;stroke:#1f77b4;\" x=\"211.720807\" xlink:href=\"#m76929ae19e\" y=\"154.032718\"/>\r\n     <use style=\"fill:#1f77b4;stroke:#1f77b4;\" x=\"212.329534\" xlink:href=\"#m76929ae19e\" y=\"270.378311\"/>\r\n     <use style=\"fill:#1f77b4;stroke:#1f77b4;\" x=\"212.938261\" xlink:href=\"#m76929ae19e\" y=\"194.900419\"/>\r\n     <use style=\"fill:#1f77b4;stroke:#1f77b4;\" x=\"213.546989\" xlink:href=\"#m76929ae19e\" y=\"111.850643\"/>\r\n     <use style=\"fill:#1f77b4;stroke:#1f77b4;\" x=\"214.155716\" xlink:href=\"#m76929ae19e\" y=\"107.854526\"/>\r\n     <use style=\"fill:#1f77b4;stroke:#1f77b4;\" x=\"214.764443\" xlink:href=\"#m76929ae19e\" y=\"159.81787\"/>\r\n     <use style=\"fill:#1f77b4;stroke:#1f77b4;\" x=\"215.37317\" xlink:href=\"#m76929ae19e\" y=\"154.996197\"/>\r\n     <use style=\"fill:#1f77b4;stroke:#1f77b4;\" x=\"215.981898\" xlink:href=\"#m76929ae19e\" y=\"181.176358\"/>\r\n     <use style=\"fill:#1f77b4;stroke:#1f77b4;\" x=\"216.590625\" xlink:href=\"#m76929ae19e\" y=\"124.096075\"/>\r\n     <use style=\"fill:#1f77b4;stroke:#1f77b4;\" x=\"217.199352\" xlink:href=\"#m76929ae19e\" y=\"192.5778\"/>\r\n     <use style=\"fill:#1f77b4;stroke:#1f77b4;\" x=\"217.80808\" xlink:href=\"#m76929ae19e\" y=\"162.901859\"/>\r\n     <use style=\"fill:#1f77b4;stroke:#1f77b4;\" x=\"218.416807\" xlink:href=\"#m76929ae19e\" y=\"237.042006\"/>\r\n     <use style=\"fill:#1f77b4;stroke:#1f77b4;\" x=\"219.025534\" xlink:href=\"#m76929ae19e\" y=\"181.69875\"/>\r\n     <use style=\"fill:#1f77b4;stroke:#1f77b4;\" x=\"219.634261\" xlink:href=\"#m76929ae19e\" y=\"129.029008\"/>\r\n     <use style=\"fill:#1f77b4;stroke:#1f77b4;\" x=\"220.242989\" xlink:href=\"#m76929ae19e\" y=\"230.677515\"/>\r\n     <use style=\"fill:#1f77b4;stroke:#1f77b4;\" x=\"220.851716\" xlink:href=\"#m76929ae19e\" y=\"201.466691\"/>\r\n     <use style=\"fill:#1f77b4;stroke:#1f77b4;\" x=\"221.460443\" xlink:href=\"#m76929ae19e\" y=\"241.137532\"/>\r\n     <use style=\"fill:#1f77b4;stroke:#1f77b4;\" x=\"222.06917\" xlink:href=\"#m76929ae19e\" y=\"174.609428\"/>\r\n     <use style=\"fill:#1f77b4;stroke:#1f77b4;\" x=\"222.677898\" xlink:href=\"#m76929ae19e\" y=\"271.393141\"/>\r\n     <use style=\"fill:#1f77b4;stroke:#1f77b4;\" x=\"223.286625\" xlink:href=\"#m76929ae19e\" y=\"170.787112\"/>\r\n     <use style=\"fill:#1f77b4;stroke:#1f77b4;\" x=\"223.895352\" xlink:href=\"#m76929ae19e\" y=\"164.89498\"/>\r\n     <use style=\"fill:#1f77b4;stroke:#1f77b4;\" x=\"224.50408\" xlink:href=\"#m76929ae19e\" y=\"200.662201\"/>\r\n     <use style=\"fill:#1f77b4;stroke:#1f77b4;\" x=\"225.112807\" xlink:href=\"#m76929ae19e\" y=\"115.60087\"/>\r\n     <use style=\"fill:#1f77b4;stroke:#1f77b4;\" x=\"225.721534\" xlink:href=\"#m76929ae19e\" y=\"149.716977\"/>\r\n     <use style=\"fill:#1f77b4;stroke:#1f77b4;\" x=\"226.330261\" xlink:href=\"#m76929ae19e\" y=\"189.245617\"/>\r\n     <use style=\"fill:#1f77b4;stroke:#1f77b4;\" x=\"226.938989\" xlink:href=\"#m76929ae19e\" y=\"189.643254\"/>\r\n     <use style=\"fill:#1f77b4;stroke:#1f77b4;\" x=\"227.547716\" xlink:href=\"#m76929ae19e\" y=\"134.50112\"/>\r\n     <use style=\"fill:#1f77b4;stroke:#1f77b4;\" x=\"228.156443\" xlink:href=\"#m76929ae19e\" y=\"128.924003\"/>\r\n     <use style=\"fill:#1f77b4;stroke:#1f77b4;\" x=\"228.76517\" xlink:href=\"#m76929ae19e\" y=\"184.93251\"/>\r\n     <use style=\"fill:#1f77b4;stroke:#1f77b4;\" x=\"229.373898\" xlink:href=\"#m76929ae19e\" y=\"169.263387\"/>\r\n     <use style=\"fill:#1f77b4;stroke:#1f77b4;\" x=\"229.982625\" xlink:href=\"#m76929ae19e\" y=\"224.886767\"/>\r\n     <use style=\"fill:#1f77b4;stroke:#1f77b4;\" x=\"230.591352\" xlink:href=\"#m76929ae19e\" y=\"278.628943\"/>\r\n     <use style=\"fill:#1f77b4;stroke:#1f77b4;\" x=\"231.20008\" xlink:href=\"#m76929ae19e\" y=\"76.937945\"/>\r\n     <use style=\"fill:#1f77b4;stroke:#1f77b4;\" x=\"231.808807\" xlink:href=\"#m76929ae19e\" y=\"72.75486\"/>\r\n     <use style=\"fill:#1f77b4;stroke:#1f77b4;\" x=\"232.417534\" xlink:href=\"#m76929ae19e\" y=\"70.520129\"/>\r\n     <use style=\"fill:#1f77b4;stroke:#1f77b4;\" x=\"233.026261\" xlink:href=\"#m76929ae19e\" y=\"178.340234\"/>\r\n     <use style=\"fill:#1f77b4;stroke:#1f77b4;\" x=\"233.634989\" xlink:href=\"#m76929ae19e\" y=\"276.795798\"/>\r\n     <use style=\"fill:#1f77b4;stroke:#1f77b4;\" x=\"234.243716\" xlink:href=\"#m76929ae19e\" y=\"117.97879\"/>\r\n     <use style=\"fill:#1f77b4;stroke:#1f77b4;\" x=\"234.852443\" xlink:href=\"#m76929ae19e\" y=\"209.510275\"/>\r\n     <use style=\"fill:#1f77b4;stroke:#1f77b4;\" x=\"235.46117\" xlink:href=\"#m76929ae19e\" y=\"208.652789\"/>\r\n     <use style=\"fill:#1f77b4;stroke:#1f77b4;\" x=\"236.069898\" xlink:href=\"#m76929ae19e\" y=\"144.340653\"/>\r\n     <use style=\"fill:#1f77b4;stroke:#1f77b4;\" x=\"236.678625\" xlink:href=\"#m76929ae19e\" y=\"105.815979\"/>\r\n     <use style=\"fill:#1f77b4;stroke:#1f77b4;\" x=\"237.287352\" xlink:href=\"#m76929ae19e\" y=\"223.167844\"/>\r\n     <use style=\"fill:#1f77b4;stroke:#1f77b4;\" x=\"237.89608\" xlink:href=\"#m76929ae19e\" y=\"190.800943\"/>\r\n     <use style=\"fill:#1f77b4;stroke:#1f77b4;\" x=\"238.504807\" xlink:href=\"#m76929ae19e\" y=\"117.327364\"/>\r\n     <use style=\"fill:#1f77b4;stroke:#1f77b4;\" x=\"239.113534\" xlink:href=\"#m76929ae19e\" y=\"170.450372\"/>\r\n     <use style=\"fill:#1f77b4;stroke:#1f77b4;\" x=\"239.722261\" xlink:href=\"#m76929ae19e\" y=\"196.337244\"/>\r\n     <use style=\"fill:#1f77b4;stroke:#1f77b4;\" x=\"240.330989\" xlink:href=\"#m76929ae19e\" y=\"200.418286\"/>\r\n     <use style=\"fill:#1f77b4;stroke:#1f77b4;\" x=\"240.939716\" xlink:href=\"#m76929ae19e\" y=\"201.319552\"/>\r\n     <use style=\"fill:#1f77b4;stroke:#1f77b4;\" x=\"241.548443\" xlink:href=\"#m76929ae19e\" y=\"188.081674\"/>\r\n     <use style=\"fill:#1f77b4;stroke:#1f77b4;\" x=\"242.15717\" xlink:href=\"#m76929ae19e\" y=\"187.138275\"/>\r\n     <use style=\"fill:#1f77b4;stroke:#1f77b4;\" x=\"242.765898\" xlink:href=\"#m76929ae19e\" y=\"172.82928\"/>\r\n     <use style=\"fill:#1f77b4;stroke:#1f77b4;\" x=\"243.374625\" xlink:href=\"#m76929ae19e\" y=\"110.526723\"/>\r\n     <use style=\"fill:#1f77b4;stroke:#1f77b4;\" x=\"243.983352\" xlink:href=\"#m76929ae19e\" y=\"83.72114\"/>\r\n     <use style=\"fill:#1f77b4;stroke:#1f77b4;\" x=\"244.59208\" xlink:href=\"#m76929ae19e\" y=\"154.438584\"/>\r\n     <use style=\"fill:#1f77b4;stroke:#1f77b4;\" x=\"245.200807\" xlink:href=\"#m76929ae19e\" y=\"177.747071\"/>\r\n     <use style=\"fill:#1f77b4;stroke:#1f77b4;\" x=\"245.809534\" xlink:href=\"#m76929ae19e\" y=\"244.846614\"/>\r\n     <use style=\"fill:#1f77b4;stroke:#1f77b4;\" x=\"246.418261\" xlink:href=\"#m76929ae19e\" y=\"169.332513\"/>\r\n     <use style=\"fill:#1f77b4;stroke:#1f77b4;\" x=\"247.026989\" xlink:href=\"#m76929ae19e\" y=\"144.518734\"/>\r\n     <use style=\"fill:#1f77b4;stroke:#1f77b4;\" x=\"247.635716\" xlink:href=\"#m76929ae19e\" y=\"167.046431\"/>\r\n     <use style=\"fill:#1f77b4;stroke:#1f77b4;\" x=\"248.244443\" xlink:href=\"#m76929ae19e\" y=\"153.886237\"/>\r\n     <use style=\"fill:#1f77b4;stroke:#1f77b4;\" x=\"248.85317\" xlink:href=\"#m76929ae19e\" y=\"167.914122\"/>\r\n     <use style=\"fill:#1f77b4;stroke:#1f77b4;\" x=\"249.461898\" xlink:href=\"#m76929ae19e\" y=\"279.80342\"/>\r\n     <use style=\"fill:#1f77b4;stroke:#1f77b4;\" x=\"250.070625\" xlink:href=\"#m76929ae19e\" y=\"178.780005\"/>\r\n     <use style=\"fill:#1f77b4;stroke:#1f77b4;\" x=\"250.679352\" xlink:href=\"#m76929ae19e\" y=\"164.799191\"/>\r\n     <use style=\"fill:#1f77b4;stroke:#1f77b4;\" x=\"251.28808\" xlink:href=\"#m76929ae19e\" y=\"285.808128\"/>\r\n     <use style=\"fill:#1f77b4;stroke:#1f77b4;\" x=\"251.896807\" xlink:href=\"#m76929ae19e\" y=\"164.453893\"/>\r\n     <use style=\"fill:#1f77b4;stroke:#1f77b4;\" x=\"252.505534\" xlink:href=\"#m76929ae19e\" y=\"118.404406\"/>\r\n     <use style=\"fill:#1f77b4;stroke:#1f77b4;\" x=\"253.114261\" xlink:href=\"#m76929ae19e\" y=\"177.59302\"/>\r\n     <use style=\"fill:#1f77b4;stroke:#1f77b4;\" x=\"253.722989\" xlink:href=\"#m76929ae19e\" y=\"206.264335\"/>\r\n     <use style=\"fill:#1f77b4;stroke:#1f77b4;\" x=\"254.331716\" xlink:href=\"#m76929ae19e\" y=\"235.564694\"/>\r\n     <use style=\"fill:#1f77b4;stroke:#1f77b4;\" x=\"254.940443\" xlink:href=\"#m76929ae19e\" y=\"108.109632\"/>\r\n     <use style=\"fill:#1f77b4;stroke:#1f77b4;\" x=\"255.54917\" xlink:href=\"#m76929ae19e\" y=\"170.203495\"/>\r\n     <use style=\"fill:#1f77b4;stroke:#1f77b4;\" x=\"256.157898\" xlink:href=\"#m76929ae19e\" y=\"237.977835\"/>\r\n     <use style=\"fill:#1f77b4;stroke:#1f77b4;\" x=\"256.766625\" xlink:href=\"#m76929ae19e\" y=\"172.304254\"/>\r\n     <use style=\"fill:#1f77b4;stroke:#1f77b4;\" x=\"257.375352\" xlink:href=\"#m76929ae19e\" y=\"196.638763\"/>\r\n     <use style=\"fill:#1f77b4;stroke:#1f77b4;\" x=\"257.98408\" xlink:href=\"#m76929ae19e\" y=\"138.964658\"/>\r\n     <use style=\"fill:#1f77b4;stroke:#1f77b4;\" x=\"258.592807\" xlink:href=\"#m76929ae19e\" y=\"222.120427\"/>\r\n     <use style=\"fill:#1f77b4;stroke:#1f77b4;\" x=\"259.201534\" xlink:href=\"#m76929ae19e\" y=\"219.093385\"/>\r\n     <use style=\"fill:#1f77b4;stroke:#1f77b4;\" x=\"259.810261\" xlink:href=\"#m76929ae19e\" y=\"191.772651\"/>\r\n     <use style=\"fill:#1f77b4;stroke:#1f77b4;\" x=\"260.418989\" xlink:href=\"#m76929ae19e\" y=\"165.27517\"/>\r\n     <use style=\"fill:#1f77b4;stroke:#1f77b4;\" x=\"261.027716\" xlink:href=\"#m76929ae19e\" y=\"159.810958\"/>\r\n     <use style=\"fill:#1f77b4;stroke:#1f77b4;\" x=\"261.636443\" xlink:href=\"#m76929ae19e\" y=\"180.527236\"/>\r\n     <use style=\"fill:#1f77b4;stroke:#1f77b4;\" x=\"262.24517\" xlink:href=\"#m76929ae19e\" y=\"213.447471\"/>\r\n     <use style=\"fill:#1f77b4;stroke:#1f77b4;\" x=\"262.853898\" xlink:href=\"#m76929ae19e\" y=\"158.347471\"/>\r\n     <use style=\"fill:#1f77b4;stroke:#1f77b4;\" x=\"263.462625\" xlink:href=\"#m76929ae19e\" y=\"204.16983\"/>\r\n     <use style=\"fill:#1f77b4;stroke:#1f77b4;\" x=\"264.071352\" xlink:href=\"#m76929ae19e\" y=\"188.945744\"/>\r\n     <use style=\"fill:#1f77b4;stroke:#1f77b4;\" x=\"264.68008\" xlink:href=\"#m76929ae19e\" y=\"61.851123\"/>\r\n     <use style=\"fill:#1f77b4;stroke:#1f77b4;\" x=\"265.288807\" xlink:href=\"#m76929ae19e\" y=\"119.233584\"/>\r\n     <use style=\"fill:#1f77b4;stroke:#1f77b4;\" x=\"265.897534\" xlink:href=\"#m76929ae19e\" y=\"231.15909\"/>\r\n     <use style=\"fill:#1f77b4;stroke:#1f77b4;\" x=\"266.506261\" xlink:href=\"#m76929ae19e\" y=\"288.211394\"/>\r\n     <use style=\"fill:#1f77b4;stroke:#1f77b4;\" x=\"267.114989\" xlink:href=\"#m76929ae19e\" y=\"233.211791\"/>\r\n     <use style=\"fill:#1f77b4;stroke:#1f77b4;\" x=\"267.723716\" xlink:href=\"#m76929ae19e\" y=\"182.994361\"/>\r\n     <use style=\"fill:#1f77b4;stroke:#1f77b4;\" x=\"268.332443\" xlink:href=\"#m76929ae19e\" y=\"194.394486\"/>\r\n     <use style=\"fill:#1f77b4;stroke:#1f77b4;\" x=\"268.94117\" xlink:href=\"#m76929ae19e\" y=\"221.43345\"/>\r\n     <use style=\"fill:#1f77b4;stroke:#1f77b4;\" x=\"269.549898\" xlink:href=\"#m76929ae19e\" y=\"188.256134\"/>\r\n     <use style=\"fill:#1f77b4;stroke:#1f77b4;\" x=\"270.158625\" xlink:href=\"#m76929ae19e\" y=\"195.345127\"/>\r\n     <use style=\"fill:#1f77b4;stroke:#1f77b4;\" x=\"270.767352\" xlink:href=\"#m76929ae19e\" y=\"195.499837\"/>\r\n     <use style=\"fill:#1f77b4;stroke:#1f77b4;\" x=\"271.37608\" xlink:href=\"#m76929ae19e\" y=\"135.501466\"/>\r\n     <use style=\"fill:#1f77b4;stroke:#1f77b4;\" x=\"271.984807\" xlink:href=\"#m76929ae19e\" y=\"175.596278\"/>\r\n     <use style=\"fill:#1f77b4;stroke:#1f77b4;\" x=\"272.593534\" xlink:href=\"#m76929ae19e\" y=\"219.136835\"/>\r\n     <use style=\"fill:#1f77b4;stroke:#1f77b4;\" x=\"273.202261\" xlink:href=\"#m76929ae19e\" y=\"82.697423\"/>\r\n     <use style=\"fill:#1f77b4;stroke:#1f77b4;\" x=\"273.810989\" xlink:href=\"#m76929ae19e\" y=\"184.295897\"/>\r\n     <use style=\"fill:#1f77b4;stroke:#1f77b4;\" x=\"274.419716\" xlink:href=\"#m76929ae19e\" y=\"125.197805\"/>\r\n     <use style=\"fill:#1f77b4;stroke:#1f77b4;\" x=\"275.028443\" xlink:href=\"#m76929ae19e\" y=\"157.513355\"/>\r\n     <use style=\"fill:#1f77b4;stroke:#1f77b4;\" x=\"275.63717\" xlink:href=\"#m76929ae19e\" y=\"138.413299\"/>\r\n     <use style=\"fill:#1f77b4;stroke:#1f77b4;\" x=\"276.245898\" xlink:href=\"#m76929ae19e\" y=\"135.453078\"/>\r\n     <use style=\"fill:#1f77b4;stroke:#1f77b4;\" x=\"276.854625\" xlink:href=\"#m76929ae19e\" y=\"140.813273\"/>\r\n     <use style=\"fill:#1f77b4;stroke:#1f77b4;\" x=\"277.463352\" xlink:href=\"#m76929ae19e\" y=\"192.019528\"/>\r\n     <use style=\"fill:#1f77b4;stroke:#1f77b4;\" x=\"278.07208\" xlink:href=\"#m76929ae19e\" y=\"151.064268\"/>\r\n     <use style=\"fill:#1f77b4;stroke:#1f77b4;\" x=\"278.680807\" xlink:href=\"#m76929ae19e\" y=\"199.718472\"/>\r\n     <use style=\"fill:#1f77b4;stroke:#1f77b4;\" x=\"279.289534\" xlink:href=\"#m76929ae19e\" y=\"234.272704\"/>\r\n     <use style=\"fill:#1f77b4;stroke:#1f77b4;\" x=\"279.898261\" xlink:href=\"#m76929ae19e\" y=\"202.482508\"/>\r\n     <use style=\"fill:#1f77b4;stroke:#1f77b4;\" x=\"280.506989\" xlink:href=\"#m76929ae19e\" y=\"204.658647\"/>\r\n     <use style=\"fill:#1f77b4;stroke:#1f77b4;\" x=\"281.115716\" xlink:href=\"#m76929ae19e\" y=\"203.620117\"/>\r\n     <use style=\"fill:#1f77b4;stroke:#1f77b4;\" x=\"281.724443\" xlink:href=\"#m76929ae19e\" y=\"147.172498\"/>\r\n     <use style=\"fill:#1f77b4;stroke:#1f77b4;\" x=\"282.33317\" xlink:href=\"#m76929ae19e\" y=\"161.909084\"/>\r\n     <use style=\"fill:#1f77b4;stroke:#1f77b4;\" x=\"282.941898\" xlink:href=\"#m76929ae19e\" y=\"170.494152\"/>\r\n     <use style=\"fill:#1f77b4;stroke:#1f77b4;\" x=\"283.550625\" xlink:href=\"#m76929ae19e\" y=\"85.446646\"/>\r\n     <use style=\"fill:#1f77b4;stroke:#1f77b4;\" x=\"284.159352\" xlink:href=\"#m76929ae19e\" y=\"162.623381\"/>\r\n     <use style=\"fill:#1f77b4;stroke:#1f77b4;\" x=\"284.76808\" xlink:href=\"#m76929ae19e\" y=\"140.316886\"/>\r\n     <use style=\"fill:#1f77b4;stroke:#1f77b4;\" x=\"285.376807\" xlink:href=\"#m76929ae19e\" y=\"244.318955\"/>\r\n     <use style=\"fill:#1f77b4;stroke:#1f77b4;\" x=\"285.985534\" xlink:href=\"#m76929ae19e\" y=\"115.897452\"/>\r\n     <use style=\"fill:#1f77b4;stroke:#1f77b4;\" x=\"286.594261\" xlink:href=\"#m76929ae19e\" y=\"136.169022\"/>\r\n     <use style=\"fill:#1f77b4;stroke:#1f77b4;\" x=\"287.202989\" xlink:href=\"#m76929ae19e\" y=\"202.152022\"/>\r\n     <use style=\"fill:#1f77b4;stroke:#1f77b4;\" x=\"287.811716\" xlink:href=\"#m76929ae19e\" y=\"221.220807\"/>\r\n     <use style=\"fill:#1f77b4;stroke:#1f77b4;\" x=\"288.420443\" xlink:href=\"#m76929ae19e\" y=\"143.669147\"/>\r\n     <use style=\"fill:#1f77b4;stroke:#1f77b4;\" x=\"289.02917\" xlink:href=\"#m76929ae19e\" y=\"125.202742\"/>\r\n     <use style=\"fill:#1f77b4;stroke:#1f77b4;\" x=\"289.637898\" xlink:href=\"#m76929ae19e\" y=\"147.22319\"/>\r\n     <use style=\"fill:#1f77b4;stroke:#1f77b4;\" x=\"290.246625\" xlink:href=\"#m76929ae19e\" y=\"217.996592\"/>\r\n     <use style=\"fill:#1f77b4;stroke:#1f77b4;\" x=\"290.855352\" xlink:href=\"#m76929ae19e\" y=\"174.107445\"/>\r\n     <use style=\"fill:#1f77b4;stroke:#1f77b4;\" x=\"291.46408\" xlink:href=\"#m76929ae19e\" y=\"129.068837\"/>\r\n     <use style=\"fill:#1f77b4;stroke:#1f77b4;\" x=\"292.072807\" xlink:href=\"#m76929ae19e\" y=\"101.599648\"/>\r\n     <use style=\"fill:#1f77b4;stroke:#1f77b4;\" x=\"292.681534\" xlink:href=\"#m76929ae19e\" y=\"173.737787\"/>\r\n     <use style=\"fill:#1f77b4;stroke:#1f77b4;\" x=\"293.290261\" xlink:href=\"#m76929ae19e\" y=\"198.30831\"/>\r\n     <use style=\"fill:#1f77b4;stroke:#1f77b4;\" x=\"293.898989\" xlink:href=\"#m76929ae19e\" y=\"247.872668\"/>\r\n     <use style=\"fill:#1f77b4;stroke:#1f77b4;\" x=\"294.507716\" xlink:href=\"#m76929ae19e\" y=\"164.971347\"/>\r\n     <use style=\"fill:#1f77b4;stroke:#1f77b4;\" x=\"295.116443\" xlink:href=\"#m76929ae19e\" y=\"151.769678\"/>\r\n     <use style=\"fill:#1f77b4;stroke:#1f77b4;\" x=\"295.72517\" xlink:href=\"#m76929ae19e\" y=\"94.022826\"/>\r\n     <use style=\"fill:#1f77b4;stroke:#1f77b4;\" x=\"296.333898\" xlink:href=\"#m76929ae19e\" y=\"228.012889\"/>\r\n     <use style=\"fill:#1f77b4;stroke:#1f77b4;\" x=\"296.942625\" xlink:href=\"#m76929ae19e\" y=\"150.055034\"/>\r\n     <use style=\"fill:#1f77b4;stroke:#1f77b4;\" x=\"297.551352\" xlink:href=\"#m76929ae19e\" y=\"227.872004\"/>\r\n     <use style=\"fill:#1f77b4;stroke:#1f77b4;\" x=\"298.16008\" xlink:href=\"#m76929ae19e\" y=\"131.778231\"/>\r\n     <use style=\"fill:#1f77b4;stroke:#1f77b4;\" x=\"298.768807\" xlink:href=\"#m76929ae19e\" y=\"216.873795\"/>\r\n     <use style=\"fill:#1f77b4;stroke:#1f77b4;\" x=\"299.377534\" xlink:href=\"#m76929ae19e\" y=\"167.168882\"/>\r\n     <use style=\"fill:#1f77b4;stroke:#1f77b4;\" x=\"299.986261\" xlink:href=\"#m76929ae19e\" y=\"152.538618\"/>\r\n     <use style=\"fill:#1f77b4;stroke:#1f77b4;\" x=\"300.594989\" xlink:href=\"#m76929ae19e\" y=\"158.722065\"/>\r\n     <use style=\"fill:#1f77b4;stroke:#1f77b4;\" x=\"301.203716\" xlink:href=\"#m76929ae19e\" y=\"211.799319\"/>\r\n     <use style=\"fill:#1f77b4;stroke:#1f77b4;\" x=\"301.812443\" xlink:href=\"#m76929ae19e\" y=\"192.178517\"/>\r\n     <use style=\"fill:#1f77b4;stroke:#1f77b4;\" x=\"302.42117\" xlink:href=\"#m76929ae19e\" y=\"159.959084\"/>\r\n     <use style=\"fill:#1f77b4;stroke:#1f77b4;\" x=\"303.029898\" xlink:href=\"#m76929ae19e\" y=\"207.805177\"/>\r\n     <use style=\"fill:#1f77b4;stroke:#1f77b4;\" x=\"303.638625\" xlink:href=\"#m76929ae19e\" y=\"231.585694\"/>\r\n     <use style=\"fill:#1f77b4;stroke:#1f77b4;\" x=\"304.247352\" xlink:href=\"#m76929ae19e\" y=\"186.677438\"/>\r\n     <use style=\"fill:#1f77b4;stroke:#1f77b4;\" x=\"304.85608\" xlink:href=\"#m76929ae19e\" y=\"117.618349\"/>\r\n     <use style=\"fill:#1f77b4;stroke:#1f77b4;\" x=\"305.464807\" xlink:href=\"#m76929ae19e\" y=\"261.714901\"/>\r\n     <use style=\"fill:#1f77b4;stroke:#1f77b4;\" x=\"306.073534\" xlink:href=\"#m76929ae19e\" y=\"146.221198\"/>\r\n     <use style=\"fill:#1f77b4;stroke:#1f77b4;\" x=\"306.682261\" xlink:href=\"#m76929ae19e\" y=\"164.832437\"/>\r\n     <use style=\"fill:#1f77b4;stroke:#1f77b4;\" x=\"307.290989\" xlink:href=\"#m76929ae19e\" y=\"206.046096\"/>\r\n     <use style=\"fill:#1f77b4;stroke:#1f77b4;\" x=\"307.899716\" xlink:href=\"#m76929ae19e\" y=\"214.611743\"/>\r\n     <use style=\"fill:#1f77b4;stroke:#1f77b4;\" x=\"308.508443\" xlink:href=\"#m76929ae19e\" y=\"214.812536\"/>\r\n     <use style=\"fill:#1f77b4;stroke:#1f77b4;\" x=\"309.11717\" xlink:href=\"#m76929ae19e\" y=\"226.402921\"/>\r\n     <use style=\"fill:#1f77b4;stroke:#1f77b4;\" x=\"309.725898\" xlink:href=\"#m76929ae19e\" y=\"131.143921\"/>\r\n     <use style=\"fill:#1f77b4;stroke:#1f77b4;\" x=\"310.334625\" xlink:href=\"#m76929ae19e\" y=\"66.267589\"/>\r\n     <use style=\"fill:#1f77b4;stroke:#1f77b4;\" x=\"310.943352\" xlink:href=\"#m76929ae19e\" y=\"107.794617\"/>\r\n     <use style=\"fill:#1f77b4;stroke:#1f77b4;\" x=\"311.55208\" xlink:href=\"#m76929ae19e\" y=\"257.709238\"/>\r\n     <use style=\"fill:#1f77b4;stroke:#1f77b4;\" x=\"312.160807\" xlink:href=\"#m76929ae19e\" y=\"211.688718\"/>\r\n     <use style=\"fill:#1f77b4;stroke:#1f77b4;\" x=\"312.769534\" xlink:href=\"#m76929ae19e\" y=\"187.511553\"/>\r\n     <use style=\"fill:#1f77b4;stroke:#1f77b4;\" x=\"313.378261\" xlink:href=\"#m76929ae19e\" y=\"170.993502\"/>\r\n     <use style=\"fill:#1f77b4;stroke:#1f77b4;\" x=\"313.986989\" xlink:href=\"#m76929ae19e\" y=\"150.309153\"/>\r\n     <use style=\"fill:#1f77b4;stroke:#1f77b4;\" x=\"314.595716\" xlink:href=\"#m76929ae19e\" y=\"198.527866\"/>\r\n     <use style=\"fill:#1f77b4;stroke:#1f77b4;\" x=\"315.204443\" xlink:href=\"#m76929ae19e\" y=\"159.300745\"/>\r\n     <use style=\"fill:#1f77b4;stroke:#1f77b4;\" x=\"315.81317\" xlink:href=\"#m76929ae19e\" y=\"147.793311\"/>\r\n     <use style=\"fill:#1f77b4;stroke:#1f77b4;\" x=\"316.421898\" xlink:href=\"#m76929ae19e\" y=\"173.466552\"/>\r\n     <use style=\"fill:#1f77b4;stroke:#1f77b4;\" x=\"317.030625\" xlink:href=\"#m76929ae19e\" y=\"98.456739\"/>\r\n     <use style=\"fill:#1f77b4;stroke:#1f77b4;\" x=\"317.639352\" xlink:href=\"#m76929ae19e\" y=\"188.159358\"/>\r\n     <use style=\"fill:#1f77b4;stroke:#1f77b4;\" x=\"318.24808\" xlink:href=\"#m76929ae19e\" y=\"153.224278\"/>\r\n     <use style=\"fill:#1f77b4;stroke:#1f77b4;\" x=\"318.856807\" xlink:href=\"#m76929ae19e\" y=\"204.803481\"/>\r\n     <use style=\"fill:#1f77b4;stroke:#1f77b4;\" x=\"319.465534\" xlink:href=\"#m76929ae19e\" y=\"144.033867\"/>\r\n     <use style=\"fill:#1f77b4;stroke:#1f77b4;\" x=\"320.074261\" xlink:href=\"#m76929ae19e\" y=\"141.380103\"/>\r\n     <use style=\"fill:#1f77b4;stroke:#1f77b4;\" x=\"320.682989\" xlink:href=\"#m76929ae19e\" y=\"192.178188\"/>\r\n     <use style=\"fill:#1f77b4;stroke:#1f77b4;\" x=\"321.291716\" xlink:href=\"#m76929ae19e\" y=\"244.511519\"/>\r\n     <use style=\"fill:#1f77b4;stroke:#1f77b4;\" x=\"321.900443\" xlink:href=\"#m76929ae19e\" y=\"172.296025\"/>\r\n     <use style=\"fill:#1f77b4;stroke:#1f77b4;\" x=\"322.50917\" xlink:href=\"#m76929ae19e\" y=\"181.292226\"/>\r\n     <use style=\"fill:#1f77b4;stroke:#1f77b4;\" x=\"323.117898\" xlink:href=\"#m76929ae19e\" y=\"151.280861\"/>\r\n     <use style=\"fill:#1f77b4;stroke:#1f77b4;\" x=\"323.726625\" xlink:href=\"#m76929ae19e\" y=\"219.280682\"/>\r\n     <use style=\"fill:#1f77b4;stroke:#1f77b4;\" x=\"324.335352\" xlink:href=\"#m76929ae19e\" y=\"166.546423\"/>\r\n     <use style=\"fill:#1f77b4;stroke:#1f77b4;\" x=\"324.94408\" xlink:href=\"#m76929ae19e\" y=\"171.272967\"/>\r\n     <use style=\"fill:#1f77b4;stroke:#1f77b4;\" x=\"325.552807\" xlink:href=\"#m76929ae19e\" y=\"200.50387\"/>\r\n     <use style=\"fill:#1f77b4;stroke:#1f77b4;\" x=\"326.161534\" xlink:href=\"#m76929ae19e\" y=\"176.87148\"/>\r\n     <use style=\"fill:#1f77b4;stroke:#1f77b4;\" x=\"326.770261\" xlink:href=\"#m76929ae19e\" y=\"125.547712\"/>\r\n     <use style=\"fill:#1f77b4;stroke:#1f77b4;\" x=\"327.378989\" xlink:href=\"#m76929ae19e\" y=\"222.526293\"/>\r\n     <use style=\"fill:#1f77b4;stroke:#1f77b4;\" x=\"327.987716\" xlink:href=\"#m76929ae19e\" y=\"147.313053\"/>\r\n     <use style=\"fill:#1f77b4;stroke:#1f77b4;\" x=\"328.596443\" xlink:href=\"#m76929ae19e\" y=\"164.513472\"/>\r\n     <use style=\"fill:#1f77b4;stroke:#1f77b4;\" x=\"329.20517\" xlink:href=\"#m76929ae19e\" y=\"265.063542\"/>\r\n     <use style=\"fill:#1f77b4;stroke:#1f77b4;\" x=\"329.813898\" xlink:href=\"#m76929ae19e\" y=\"231.861209\"/>\r\n     <use style=\"fill:#1f77b4;stroke:#1f77b4;\" x=\"330.422625\" xlink:href=\"#m76929ae19e\" y=\"221.433779\"/>\r\n     <use style=\"fill:#1f77b4;stroke:#1f77b4;\" x=\"331.031352\" xlink:href=\"#m76929ae19e\" y=\"193.327648\"/>\r\n     <use style=\"fill:#1f77b4;stroke:#1f77b4;\" x=\"331.64008\" xlink:href=\"#m76929ae19e\" y=\"104.326159\"/>\r\n     <use style=\"fill:#1f77b4;stroke:#1f77b4;\" x=\"332.248807\" xlink:href=\"#m76929ae19e\" y=\"214.690744\"/>\r\n     <use style=\"fill:#1f77b4;stroke:#1f77b4;\" x=\"332.857534\" xlink:href=\"#m76929ae19e\" y=\"163.127011\"/>\r\n     <use style=\"fill:#1f77b4;stroke:#1f77b4;\" x=\"333.466261\" xlink:href=\"#m76929ae19e\" y=\"157.155219\"/>\r\n     <use style=\"fill:#1f77b4;stroke:#1f77b4;\" x=\"334.074989\" xlink:href=\"#m76929ae19e\" y=\"100.850459\"/>\r\n     <use style=\"fill:#1f77b4;stroke:#1f77b4;\" x=\"334.683716\" xlink:href=\"#m76929ae19e\" y=\"172.727237\"/>\r\n     <use style=\"fill:#1f77b4;stroke:#1f77b4;\" x=\"335.292443\" xlink:href=\"#m76929ae19e\" y=\"159.497259\"/>\r\n     <use style=\"fill:#1f77b4;stroke:#1f77b4;\" x=\"335.90117\" xlink:href=\"#m76929ae19e\" y=\"172.388851\"/>\r\n     <use style=\"fill:#1f77b4;stroke:#1f77b4;\" x=\"336.509898\" xlink:href=\"#m76929ae19e\" y=\"112.591274\"/>\r\n     <use style=\"fill:#1f77b4;stroke:#1f77b4;\" x=\"337.118625\" xlink:href=\"#m76929ae19e\" y=\"150.046147\"/>\r\n     <use style=\"fill:#1f77b4;stroke:#1f77b4;\" x=\"337.727352\" xlink:href=\"#m76929ae19e\" y=\"184.89301\"/>\r\n     <use style=\"fill:#1f77b4;stroke:#1f77b4;\" x=\"338.33608\" xlink:href=\"#m76929ae19e\" y=\"189.429294\"/>\r\n     <use style=\"fill:#1f77b4;stroke:#1f77b4;\" x=\"338.944807\" xlink:href=\"#m76929ae19e\" y=\"228.685053\"/>\r\n     <use style=\"fill:#1f77b4;stroke:#1f77b4;\" x=\"339.553534\" xlink:href=\"#m76929ae19e\" y=\"155.583435\"/>\r\n     <use style=\"fill:#1f77b4;stroke:#1f77b4;\" x=\"340.162261\" xlink:href=\"#m76929ae19e\" y=\"241.135228\"/>\r\n     <use style=\"fill:#1f77b4;stroke:#1f77b4;\" x=\"340.770989\" xlink:href=\"#m76929ae19e\" y=\"104.826496\"/>\r\n     <use style=\"fill:#1f77b4;stroke:#1f77b4;\" x=\"341.379716\" xlink:href=\"#m76929ae19e\" y=\"140.662843\"/>\r\n     <use style=\"fill:#1f77b4;stroke:#1f77b4;\" x=\"341.988443\" xlink:href=\"#m76929ae19e\" y=\"214.952762\"/>\r\n     <use style=\"fill:#1f77b4;stroke:#1f77b4;\" x=\"342.59717\" xlink:href=\"#m76929ae19e\" y=\"145.258048\"/>\r\n     <use style=\"fill:#1f77b4;stroke:#1f77b4;\" x=\"343.205898\" xlink:href=\"#m76929ae19e\" y=\"143.242873\"/>\r\n     <use style=\"fill:#1f77b4;stroke:#1f77b4;\" x=\"343.814625\" xlink:href=\"#m76929ae19e\" y=\"197.065696\"/>\r\n     <use style=\"fill:#1f77b4;stroke:#1f77b4;\" x=\"344.423352\" xlink:href=\"#m76929ae19e\" y=\"131.603442\"/>\r\n     <use style=\"fill:#1f77b4;stroke:#1f77b4;\" x=\"345.03208\" xlink:href=\"#m76929ae19e\" y=\"186.065512\"/>\r\n     <use style=\"fill:#1f77b4;stroke:#1f77b4;\" x=\"345.640807\" xlink:href=\"#m76929ae19e\" y=\"205.060563\"/>\r\n     <use style=\"fill:#1f77b4;stroke:#1f77b4;\" x=\"346.249534\" xlink:href=\"#m76929ae19e\" y=\"175.917876\"/>\r\n     <use style=\"fill:#1f77b4;stroke:#1f77b4;\" x=\"346.858261\" xlink:href=\"#m76929ae19e\" y=\"156.273374\"/>\r\n     <use style=\"fill:#1f77b4;stroke:#1f77b4;\" x=\"347.466989\" xlink:href=\"#m76929ae19e\" y=\"203.542104\"/>\r\n     <use style=\"fill:#1f77b4;stroke:#1f77b4;\" x=\"348.075716\" xlink:href=\"#m76929ae19e\" y=\"208.512563\"/>\r\n     <use style=\"fill:#1f77b4;stroke:#1f77b4;\" x=\"348.684443\" xlink:href=\"#m76929ae19e\" y=\"245.361764\"/>\r\n     <use style=\"fill:#1f77b4;stroke:#1f77b4;\" x=\"349.29317\" xlink:href=\"#m76929ae19e\" y=\"152.975755\"/>\r\n     <use style=\"fill:#1f77b4;stroke:#1f77b4;\" x=\"349.901898\" xlink:href=\"#m76929ae19e\" y=\"164.800508\"/>\r\n     <use style=\"fill:#1f77b4;stroke:#1f77b4;\" x=\"350.510625\" xlink:href=\"#m76929ae19e\" y=\"179.350126\"/>\r\n     <use style=\"fill:#1f77b4;stroke:#1f77b4;\" x=\"351.119352\" xlink:href=\"#m76929ae19e\" y=\"195.323731\"/>\r\n     <use style=\"fill:#1f77b4;stroke:#1f77b4;\" x=\"351.72808\" xlink:href=\"#m76929ae19e\" y=\"128.078366\"/>\r\n     <use style=\"fill:#1f77b4;stroke:#1f77b4;\" x=\"352.336807\" xlink:href=\"#m76929ae19e\" y=\"234.807275\"/>\r\n     <use style=\"fill:#1f77b4;stroke:#1f77b4;\" x=\"352.945534\" xlink:href=\"#m76929ae19e\" y=\"189.91844\"/>\r\n     <use style=\"fill:#1f77b4;stroke:#1f77b4;\" x=\"353.554261\" xlink:href=\"#m76929ae19e\" y=\"267.719939\"/>\r\n     <use style=\"fill:#1f77b4;stroke:#1f77b4;\" x=\"354.162989\" xlink:href=\"#m76929ae19e\" y=\"201.784339\"/>\r\n     <use style=\"fill:#1f77b4;stroke:#1f77b4;\" x=\"354.771716\" xlink:href=\"#m76929ae19e\" y=\"182.423252\"/>\r\n     <use style=\"fill:#1f77b4;stroke:#1f77b4;\" x=\"355.380443\" xlink:href=\"#m76929ae19e\" y=\"206.740314\"/>\r\n     <use style=\"fill:#1f77b4;stroke:#1f77b4;\" x=\"355.98917\" xlink:href=\"#m76929ae19e\" y=\"137.511375\"/>\r\n     <use style=\"fill:#1f77b4;stroke:#1f77b4;\" x=\"356.597898\" xlink:href=\"#m76929ae19e\" y=\"278.564755\"/>\r\n     <use style=\"fill:#1f77b4;stroke:#1f77b4;\" x=\"357.206625\" xlink:href=\"#m76929ae19e\" y=\"144.124718\"/>\r\n     <use style=\"fill:#1f77b4;stroke:#1f77b4;\" x=\"357.815352\" xlink:href=\"#m76929ae19e\" y=\"217.302045\"/>\r\n     <use style=\"fill:#1f77b4;stroke:#1f77b4;\" x=\"358.42408\" xlink:href=\"#m76929ae19e\" y=\"66.126705\"/>\r\n     <use style=\"fill:#1f77b4;stroke:#1f77b4;\" x=\"359.032807\" xlink:href=\"#m76929ae19e\" y=\"192.47082\"/>\r\n     <use style=\"fill:#1f77b4;stroke:#1f77b4;\" x=\"359.641534\" xlink:href=\"#m76929ae19e\" y=\"135.010345\"/>\r\n     <use style=\"fill:#1f77b4;stroke:#1f77b4;\" x=\"360.250261\" xlink:href=\"#m76929ae19e\" y=\"185.203417\"/>\r\n     <use style=\"fill:#1f77b4;stroke:#1f77b4;\" x=\"360.858989\" xlink:href=\"#m76929ae19e\" y=\"94.774978\"/>\r\n     <use style=\"fill:#1f77b4;stroke:#1f77b4;\" x=\"361.467716\" xlink:href=\"#m76929ae19e\" y=\"257.450182\"/>\r\n     <use style=\"fill:#1f77b4;stroke:#1f77b4;\" x=\"362.076443\" xlink:href=\"#m76929ae19e\" y=\"181.386697\"/>\r\n     <use style=\"fill:#1f77b4;stroke:#1f77b4;\" x=\"362.68517\" xlink:href=\"#m76929ae19e\" y=\"146.189927\"/>\r\n     <use style=\"fill:#1f77b4;stroke:#1f77b4;\" x=\"363.293898\" xlink:href=\"#m76929ae19e\" y=\"164.172124\"/>\r\n     <use style=\"fill:#1f77b4;stroke:#1f77b4;\" x=\"363.902625\" xlink:href=\"#m76929ae19e\" y=\"131.556371\"/>\r\n     <use style=\"fill:#1f77b4;stroke:#1f77b4;\" x=\"364.511352\" xlink:href=\"#m76929ae19e\" y=\"78.262194\"/>\r\n     <use style=\"fill:#1f77b4;stroke:#1f77b4;\" x=\"365.12008\" xlink:href=\"#m76929ae19e\" y=\"243.600049\"/>\r\n     <use style=\"fill:#1f77b4;stroke:#1f77b4;\" x=\"365.728807\" xlink:href=\"#m76929ae19e\" y=\"137.305973\"/>\r\n     <use style=\"fill:#1f77b4;stroke:#1f77b4;\" x=\"366.337534\" xlink:href=\"#m76929ae19e\" y=\"159.622673\"/>\r\n     <use style=\"fill:#1f77b4;stroke:#1f77b4;\" x=\"366.946261\" xlink:href=\"#m76929ae19e\" y=\"201.018033\"/>\r\n     <use style=\"fill:#1f77b4;stroke:#1f77b4;\" x=\"367.554989\" xlink:href=\"#m76929ae19e\" y=\"140.70366\"/>\r\n     <use style=\"fill:#1f77b4;stroke:#1f77b4;\" x=\"368.163716\" xlink:href=\"#m76929ae19e\" y=\"160.880758\"/>\r\n     <use style=\"fill:#1f77b4;stroke:#1f77b4;\" x=\"368.772443\" xlink:href=\"#m76929ae19e\" y=\"205.317644\"/>\r\n     <use style=\"fill:#1f77b4;stroke:#1f77b4;\" x=\"369.38117\" xlink:href=\"#m76929ae19e\" y=\"153.750949\"/>\r\n     <use style=\"fill:#1f77b4;stroke:#1f77b4;\" x=\"369.989898\" xlink:href=\"#m76929ae19e\" y=\"216.87972\"/>\r\n     <use style=\"fill:#1f77b4;stroke:#1f77b4;\" x=\"370.598625\" xlink:href=\"#m76929ae19e\" y=\"200.850815\"/>\r\n     <use style=\"fill:#1f77b4;stroke:#1f77b4;\" x=\"371.207352\" xlink:href=\"#m76929ae19e\" y=\"211.892474\"/>\r\n     <use style=\"fill:#1f77b4;stroke:#1f77b4;\" x=\"371.81608\" xlink:href=\"#m76929ae19e\" y=\"148.939479\"/>\r\n     <use style=\"fill:#1f77b4;stroke:#1f77b4;\" x=\"372.424807\" xlink:href=\"#m76929ae19e\" y=\"164.386413\"/>\r\n     <use style=\"fill:#1f77b4;stroke:#1f77b4;\" x=\"373.033534\" xlink:href=\"#m76929ae19e\" y=\"89.27357\"/>\r\n     <use style=\"fill:#1f77b4;stroke:#1f77b4;\" x=\"373.642261\" xlink:href=\"#m76929ae19e\" y=\"268.663338\"/>\r\n     <use style=\"fill:#1f77b4;stroke:#1f77b4;\" x=\"374.250989\" xlink:href=\"#m76929ae19e\" y=\"165.470368\"/>\r\n     <use style=\"fill:#1f77b4;stroke:#1f77b4;\" x=\"374.859716\" xlink:href=\"#m76929ae19e\" y=\"138.714489\"/>\r\n     <use style=\"fill:#1f77b4;stroke:#1f77b4;\" x=\"375.468443\" xlink:href=\"#m76929ae19e\" y=\"161.222107\"/>\r\n     <use style=\"fill:#1f77b4;stroke:#1f77b4;\" x=\"376.07717\" xlink:href=\"#m76929ae19e\" y=\"238.369217\"/>\r\n     <use style=\"fill:#1f77b4;stroke:#1f77b4;\" x=\"376.685898\" xlink:href=\"#m76929ae19e\" y=\"131.139642\"/>\r\n     <use style=\"fill:#1f77b4;stroke:#1f77b4;\" x=\"377.294625\" xlink:href=\"#m76929ae19e\" y=\"235.701299\"/>\r\n     <use style=\"fill:#1f77b4;stroke:#1f77b4;\" x=\"377.903352\" xlink:href=\"#m76929ae19e\" y=\"170.654786\"/>\r\n     <use style=\"fill:#1f77b4;stroke:#1f77b4;\" x=\"378.51208\" xlink:href=\"#m76929ae19e\" y=\"153.281553\"/>\r\n     <use style=\"fill:#1f77b4;stroke:#1f77b4;\" x=\"379.120807\" xlink:href=\"#m76929ae19e\" y=\"145.446004\"/>\r\n     <use style=\"fill:#1f77b4;stroke:#1f77b4;\" x=\"379.729534\" xlink:href=\"#m76929ae19e\" y=\"44.276109\"/>\r\n     <use style=\"fill:#1f77b4;stroke:#1f77b4;\" x=\"380.338261\" xlink:href=\"#m76929ae19e\" y=\"91.526405\"/>\r\n     <use style=\"fill:#1f77b4;stroke:#1f77b4;\" x=\"380.946989\" xlink:href=\"#m76929ae19e\" y=\"86.05923\"/>\r\n     <use style=\"fill:#1f77b4;stroke:#1f77b4;\" x=\"381.555716\" xlink:href=\"#m76929ae19e\" y=\"246.309772\"/>\r\n     <use style=\"fill:#1f77b4;stroke:#1f77b4;\" x=\"382.164443\" xlink:href=\"#m76929ae19e\" y=\"196.737514\"/>\r\n     <use style=\"fill:#1f77b4;stroke:#1f77b4;\" x=\"382.77317\" xlink:href=\"#m76929ae19e\" y=\"184.835076\"/>\r\n     <use style=\"fill:#1f77b4;stroke:#1f77b4;\" x=\"383.381898\" xlink:href=\"#m76929ae19e\" y=\"150.639968\"/>\r\n     <use style=\"fill:#1f77b4;stroke:#1f77b4;\" x=\"383.990625\" xlink:href=\"#m76929ae19e\" y=\"187.047095\"/>\r\n     <use style=\"fill:#1f77b4;stroke:#1f77b4;\" x=\"384.599352\" xlink:href=\"#m76929ae19e\" y=\"139.733598\"/>\r\n     <use style=\"fill:#1f77b4;stroke:#1f77b4;\" x=\"385.20808\" xlink:href=\"#m76929ae19e\" y=\"245.704429\"/>\r\n     <use style=\"fill:#1f77b4;stroke:#1f77b4;\" x=\"385.816807\" xlink:href=\"#m76929ae19e\" y=\"184.785372\"/>\r\n     <use style=\"fill:#1f77b4;stroke:#1f77b4;\" x=\"386.425534\" xlink:href=\"#m76929ae19e\" y=\"188.68175\"/>\r\n     <use style=\"fill:#1f77b4;stroke:#1f77b4;\" x=\"387.034261\" xlink:href=\"#m76929ae19e\" y=\"187.812414\"/>\r\n     <use style=\"fill:#1f77b4;stroke:#1f77b4;\" x=\"387.642989\" xlink:href=\"#m76929ae19e\" y=\"195.417544\"/>\r\n     <use style=\"fill:#1f77b4;stroke:#1f77b4;\" x=\"388.251716\" xlink:href=\"#m76929ae19e\" y=\"126.741939\"/>\r\n     <use style=\"fill:#1f77b4;stroke:#1f77b4;\" x=\"388.860443\" xlink:href=\"#m76929ae19e\" y=\"242.641837\"/>\r\n     <use style=\"fill:#1f77b4;stroke:#1f77b4;\" x=\"389.46917\" xlink:href=\"#m76929ae19e\" y=\"258.964032\"/>\r\n     <use style=\"fill:#1f77b4;stroke:#1f77b4;\" x=\"390.077898\" xlink:href=\"#m76929ae19e\" y=\"183.181329\"/>\r\n     <use style=\"fill:#1f77b4;stroke:#1f77b4;\" x=\"390.686625\" xlink:href=\"#m76929ae19e\" y=\"179.30503\"/>\r\n     <use style=\"fill:#1f77b4;stroke:#1f77b4;\" x=\"391.295352\" xlink:href=\"#m76929ae19e\" y=\"286.766011\"/>\r\n     <use style=\"fill:#1f77b4;stroke:#1f77b4;\" x=\"391.90408\" xlink:href=\"#m76929ae19e\" y=\"128.96877\"/>\r\n     <use style=\"fill:#1f77b4;stroke:#1f77b4;\" x=\"392.512807\" xlink:href=\"#m76929ae19e\" y=\"199.496941\"/>\r\n     <use style=\"fill:#1f77b4;stroke:#1f77b4;\" x=\"393.121534\" xlink:href=\"#m76929ae19e\" y=\"158.496255\"/>\r\n     <use style=\"fill:#1f77b4;stroke:#1f77b4;\" x=\"393.730261\" xlink:href=\"#m76929ae19e\" y=\"51.198542\"/>\r\n     <use style=\"fill:#1f77b4;stroke:#1f77b4;\" x=\"394.338989\" xlink:href=\"#m76929ae19e\" y=\"116.307597\"/>\r\n     <use style=\"fill:#1f77b4;stroke:#1f77b4;\" x=\"394.947716\" xlink:href=\"#m76929ae19e\" y=\"169.261412\"/>\r\n     <use style=\"fill:#1f77b4;stroke:#1f77b4;\" x=\"395.556443\" xlink:href=\"#m76929ae19e\" y=\"183.886739\"/>\r\n     <use style=\"fill:#1f77b4;stroke:#1f77b4;\" x=\"396.16517\" xlink:href=\"#m76929ae19e\" y=\"198.246426\"/>\r\n     <use style=\"fill:#1f77b4;stroke:#1f77b4;\" x=\"396.773898\" xlink:href=\"#m76929ae19e\" y=\"210.948087\"/>\r\n     <use style=\"fill:#1f77b4;stroke:#1f77b4;\" x=\"397.382625\" xlink:href=\"#m76929ae19e\" y=\"154.892837\"/>\r\n     <use style=\"fill:#1f77b4;stroke:#1f77b4;\" x=\"397.991352\" xlink:href=\"#m76929ae19e\" y=\"191.388181\"/>\r\n     <use style=\"fill:#1f77b4;stroke:#1f77b4;\" x=\"398.60008\" xlink:href=\"#m76929ae19e\" y=\"226.425963\"/>\r\n     <use style=\"fill:#1f77b4;stroke:#1f77b4;\" x=\"399.208807\" xlink:href=\"#m76929ae19e\" y=\"196.008074\"/>\r\n     <use style=\"fill:#1f77b4;stroke:#1f77b4;\" x=\"399.817534\" xlink:href=\"#m76929ae19e\" y=\"226.352887\"/>\r\n     <use style=\"fill:#1f77b4;stroke:#1f77b4;\" x=\"400.426261\" xlink:href=\"#m76929ae19e\" y=\"178.787576\"/>\r\n     <use style=\"fill:#1f77b4;stroke:#1f77b4;\" x=\"401.034989\" xlink:href=\"#m76929ae19e\" y=\"191.024449\"/>\r\n     <use style=\"fill:#1f77b4;stroke:#1f77b4;\" x=\"401.643716\" xlink:href=\"#m76929ae19e\" y=\"169.02836\"/>\r\n     <use style=\"fill:#1f77b4;stroke:#1f77b4;\" x=\"402.252443\" xlink:href=\"#m76929ae19e\" y=\"187.090216\"/>\r\n     <use style=\"fill:#1f77b4;stroke:#1f77b4;\" x=\"402.86117\" xlink:href=\"#m76929ae19e\" y=\"75.927724\"/>\r\n     <use style=\"fill:#1f77b4;stroke:#1f77b4;\" x=\"403.469898\" xlink:href=\"#m76929ae19e\" y=\"161.068714\"/>\r\n     <use style=\"fill:#1f77b4;stroke:#1f77b4;\" x=\"404.078625\" xlink:href=\"#m76929ae19e\" y=\"174.265117\"/>\r\n     <use style=\"fill:#1f77b4;stroke:#1f77b4;\" x=\"404.687352\" xlink:href=\"#m76929ae19e\" y=\"158.932405\"/>\r\n     <use style=\"fill:#1f77b4;stroke:#1f77b4;\" x=\"405.29608\" xlink:href=\"#m76929ae19e\" y=\"149.983275\"/>\r\n     <use style=\"fill:#1f77b4;stroke:#1f77b4;\" x=\"405.904807\" xlink:href=\"#m76929ae19e\" y=\"215.431046\"/>\r\n     <use style=\"fill:#1f77b4;stroke:#1f77b4;\" x=\"406.513534\" xlink:href=\"#m76929ae19e\" y=\"279.245807\"/>\r\n     <use style=\"fill:#1f77b4;stroke:#1f77b4;\" x=\"407.122261\" xlink:href=\"#m76929ae19e\" y=\"156.170015\"/>\r\n     <use style=\"fill:#1f77b4;stroke:#1f77b4;\" x=\"407.730989\" xlink:href=\"#m76929ae19e\" y=\"277.961058\"/>\r\n     <use style=\"fill:#1f77b4;stroke:#1f77b4;\" x=\"408.339716\" xlink:href=\"#m76929ae19e\" y=\"164.774833\"/>\r\n     <use style=\"fill:#1f77b4;stroke:#1f77b4;\" x=\"408.948443\" xlink:href=\"#m76929ae19e\" y=\"128.203451\"/>\r\n     <use style=\"fill:#1f77b4;stroke:#1f77b4;\" x=\"409.55717\" xlink:href=\"#m76929ae19e\" y=\"217.398821\"/>\r\n     <use style=\"fill:#1f77b4;stroke:#1f77b4;\" x=\"410.165898\" xlink:href=\"#m76929ae19e\" y=\"223.013793\"/>\r\n     <use style=\"fill:#1f77b4;stroke:#1f77b4;\" x=\"410.774625\" xlink:href=\"#m76929ae19e\" y=\"133.81974\"/>\r\n     <use style=\"fill:#1f77b4;stroke:#1f77b4;\" x=\"411.383352\" xlink:href=\"#m76929ae19e\" y=\"151.390804\"/>\r\n     <use style=\"fill:#1f77b4;stroke:#1f77b4;\" x=\"411.99208\" xlink:href=\"#m76929ae19e\" y=\"142.482821\"/>\r\n     <use style=\"fill:#1f77b4;stroke:#1f77b4;\" x=\"412.600807\" xlink:href=\"#m76929ae19e\" y=\"257.0825\"/>\r\n     <use style=\"fill:#1f77b4;stroke:#1f77b4;\" x=\"413.209534\" xlink:href=\"#m76929ae19e\" y=\"232.25292\"/>\r\n     <use style=\"fill:#1f77b4;stroke:#1f77b4;\" x=\"413.818261\" xlink:href=\"#m76929ae19e\" y=\"164.28832\"/>\r\n     <use style=\"fill:#1f77b4;stroke:#1f77b4;\" x=\"414.426989\" xlink:href=\"#m76929ae19e\" y=\"190.422727\"/>\r\n     <use style=\"fill:#1f77b4;stroke:#1f77b4;\" x=\"415.035716\" xlink:href=\"#m76929ae19e\" y=\"109.397672\"/>\r\n     <use style=\"fill:#1f77b4;stroke:#1f77b4;\" x=\"415.644443\" xlink:href=\"#m76929ae19e\" y=\"169.64259\"/>\r\n     <use style=\"fill:#1f77b4;stroke:#1f77b4;\" x=\"416.25317\" xlink:href=\"#m76929ae19e\" y=\"199.778381\"/>\r\n     <use style=\"fill:#1f77b4;stroke:#1f77b4;\" x=\"416.861898\" xlink:href=\"#m76929ae19e\" y=\"290.757191\"/>\r\n     <use style=\"fill:#1f77b4;stroke:#1f77b4;\" x=\"417.470625\" xlink:href=\"#m76929ae19e\" y=\"183.193837\"/>\r\n     <use style=\"fill:#1f77b4;stroke:#1f77b4;\" x=\"418.079352\" xlink:href=\"#m76929ae19e\" y=\"172.386218\"/>\r\n     <use style=\"fill:#1f77b4;stroke:#1f77b4;\" x=\"418.68808\" xlink:href=\"#m76929ae19e\" y=\"205.028963\"/>\r\n     <use style=\"fill:#1f77b4;stroke:#1f77b4;\" x=\"419.296807\" xlink:href=\"#m76929ae19e\" y=\"174.597907\"/>\r\n     <use style=\"fill:#1f77b4;stroke:#1f77b4;\" x=\"419.905534\" xlink:href=\"#m76929ae19e\" y=\"244.750825\"/>\r\n     <use style=\"fill:#1f77b4;stroke:#1f77b4;\" x=\"420.514261\" xlink:href=\"#m76929ae19e\" y=\"203.67048\"/>\r\n     <use style=\"fill:#1f77b4;stroke:#1f77b4;\" x=\"421.122989\" xlink:href=\"#m76929ae19e\" y=\"200.557196\"/>\r\n     <use style=\"fill:#1f77b4;stroke:#1f77b4;\" x=\"421.731716\" xlink:href=\"#m76929ae19e\" y=\"200.044021\"/>\r\n     <use style=\"fill:#1f77b4;stroke:#1f77b4;\" x=\"422.340443\" xlink:href=\"#m76929ae19e\" y=\"225.818975\"/>\r\n     <use style=\"fill:#1f77b4;stroke:#1f77b4;\" x=\"422.94917\" xlink:href=\"#m76929ae19e\" y=\"237.244446\"/>\r\n     <use style=\"fill:#1f77b4;stroke:#1f77b4;\" x=\"423.557898\" xlink:href=\"#m76929ae19e\" y=\"119.926815\"/>\r\n     <use style=\"fill:#1f77b4;stroke:#1f77b4;\" x=\"424.166625\" xlink:href=\"#m76929ae19e\" y=\"136.258885\"/>\r\n     <use style=\"fill:#1f77b4;stroke:#1f77b4;\" x=\"424.775352\" xlink:href=\"#m76929ae19e\" y=\"122.125996\"/>\r\n     <use style=\"fill:#1f77b4;stroke:#1f77b4;\" x=\"425.38408\" xlink:href=\"#m76929ae19e\" y=\"149.69986\"/>\r\n     <use style=\"fill:#1f77b4;stroke:#1f77b4;\" x=\"425.992807\" xlink:href=\"#m76929ae19e\" y=\"231.184765\"/>\r\n     <use style=\"fill:#1f77b4;stroke:#1f77b4;\" x=\"426.601534\" xlink:href=\"#m76929ae19e\" y=\"239.503206\"/>\r\n     <use style=\"fill:#1f77b4;stroke:#1f77b4;\" x=\"427.210261\" xlink:href=\"#m76929ae19e\" y=\"117.812889\"/>\r\n     <use style=\"fill:#1f77b4;stroke:#1f77b4;\" x=\"427.818989\" xlink:href=\"#m76929ae19e\" y=\"169.485577\"/>\r\n     <use style=\"fill:#1f77b4;stroke:#1f77b4;\" x=\"428.427716\" xlink:href=\"#m76929ae19e\" y=\"191.469486\"/>\r\n     <use style=\"fill:#1f77b4;stroke:#1f77b4;\" x=\"429.036443\" xlink:href=\"#m76929ae19e\" y=\"111.87533\"/>\r\n     <use style=\"fill:#1f77b4;stroke:#1f77b4;\" x=\"429.64517\" xlink:href=\"#m76929ae19e\" y=\"87.028634\"/>\r\n     <use style=\"fill:#1f77b4;stroke:#1f77b4;\" x=\"430.253898\" xlink:href=\"#m76929ae19e\" y=\"202.335698\"/>\r\n     <use style=\"fill:#1f77b4;stroke:#1f77b4;\" x=\"430.862625\" xlink:href=\"#m76929ae19e\" y=\"147.315686\"/>\r\n     <use style=\"fill:#1f77b4;stroke:#1f77b4;\" x=\"431.471352\" xlink:href=\"#m76929ae19e\" y=\"225.992776\"/>\r\n     <use style=\"fill:#1f77b4;stroke:#1f77b4;\" x=\"432.08008\" xlink:href=\"#m76929ae19e\" y=\"212.88887\"/>\r\n     <use style=\"fill:#1f77b4;stroke:#1f77b4;\" x=\"432.688807\" xlink:href=\"#m76929ae19e\" y=\"201.502241\"/>\r\n     <use style=\"fill:#1f77b4;stroke:#1f77b4;\" x=\"433.297534\" xlink:href=\"#m76929ae19e\" y=\"176.203925\"/>\r\n     <use style=\"fill:#1f77b4;stroke:#1f77b4;\" x=\"433.906261\" xlink:href=\"#m76929ae19e\" y=\"144.056909\"/>\r\n     <use style=\"fill:#1f77b4;stroke:#1f77b4;\" x=\"434.514989\" xlink:href=\"#m76929ae19e\" y=\"99.496585\"/>\r\n     <use style=\"fill:#1f77b4;stroke:#1f77b4;\" x=\"435.123716\" xlink:href=\"#m76929ae19e\" y=\"181.574982\"/>\r\n     <use style=\"fill:#1f77b4;stroke:#1f77b4;\" x=\"435.732443\" xlink:href=\"#m76929ae19e\" y=\"103.523644\"/>\r\n     <use style=\"fill:#1f77b4;stroke:#1f77b4;\" x=\"436.34117\" xlink:href=\"#m76929ae19e\" y=\"174.237466\"/>\r\n     <use style=\"fill:#1f77b4;stroke:#1f77b4;\" x=\"436.949898\" xlink:href=\"#m76929ae19e\" y=\"118.392227\"/>\r\n     <use style=\"fill:#1f77b4;stroke:#1f77b4;\" x=\"437.558625\" xlink:href=\"#m76929ae19e\" y=\"166.626411\"/>\r\n     <use style=\"fill:#1f77b4;stroke:#1f77b4;\" x=\"438.167352\" xlink:href=\"#m76929ae19e\" y=\"106.757733\"/>\r\n     <use style=\"fill:#1f77b4;stroke:#1f77b4;\" x=\"438.77608\" xlink:href=\"#m76929ae19e\" y=\"115.149249\"/>\r\n     <use style=\"fill:#1f77b4;stroke:#1f77b4;\" x=\"439.384807\" xlink:href=\"#m76929ae19e\" y=\"169.230141\"/>\r\n     <use style=\"fill:#1f77b4;stroke:#1f77b4;\" x=\"439.993534\" xlink:href=\"#m76929ae19e\" y=\"181.715867\"/>\r\n     <use style=\"fill:#1f77b4;stroke:#1f77b4;\" x=\"440.602261\" xlink:href=\"#m76929ae19e\" y=\"158.3478\"/>\r\n     <use style=\"fill:#1f77b4;stroke:#1f77b4;\" x=\"441.210989\" xlink:href=\"#m76929ae19e\" y=\"108.767313\"/>\r\n     <use style=\"fill:#1f77b4;stroke:#1f77b4;\" x=\"441.819716\" xlink:href=\"#m76929ae19e\" y=\"165.554635\"/>\r\n     <use style=\"fill:#1f77b4;stroke:#1f77b4;\" x=\"442.428443\" xlink:href=\"#m76929ae19e\" y=\"81.278703\"/>\r\n     <use style=\"fill:#1f77b4;stroke:#1f77b4;\" x=\"443.03717\" xlink:href=\"#m76929ae19e\" y=\"178.272425\"/>\r\n     <use style=\"fill:#1f77b4;stroke:#1f77b4;\" x=\"443.645898\" xlink:href=\"#m76929ae19e\" y=\"162.281374\"/>\r\n     <use style=\"fill:#1f77b4;stroke:#1f77b4;\" x=\"444.254625\" xlink:href=\"#m76929ae19e\" y=\"245.954269\"/>\r\n     <use style=\"fill:#1f77b4;stroke:#1f77b4;\" x=\"444.863352\" xlink:href=\"#m76929ae19e\" y=\"169.280175\"/>\r\n     <use style=\"fill:#1f77b4;stroke:#1f77b4;\" x=\"445.47208\" xlink:href=\"#m76929ae19e\" y=\"167.947697\"/>\r\n     <use style=\"fill:#1f77b4;stroke:#1f77b4;\" x=\"446.080807\" xlink:href=\"#m76929ae19e\" y=\"242.229058\"/>\r\n     <use style=\"fill:#1f77b4;stroke:#1f77b4;\" x=\"446.689534\" xlink:href=\"#m76929ae19e\" y=\"227.98063\"/>\r\n     <use style=\"fill:#1f77b4;stroke:#1f77b4;\" x=\"447.298261\" xlink:href=\"#m76929ae19e\" y=\"192.091616\"/>\r\n     <use style=\"fill:#1f77b4;stroke:#1f77b4;\" x=\"447.906989\" xlink:href=\"#m76929ae19e\" y=\"154.460967\"/>\r\n     <use style=\"fill:#1f77b4;stroke:#1f77b4;\" x=\"448.515716\" xlink:href=\"#m76929ae19e\" y=\"134.576829\"/>\r\n     <use style=\"fill:#1f77b4;stroke:#1f77b4;\" x=\"449.124443\" xlink:href=\"#m76929ae19e\" y=\"249.567891\"/>\r\n     <use style=\"fill:#1f77b4;stroke:#1f77b4;\" x=\"449.73317\" xlink:href=\"#m76929ae19e\" y=\"207.171855\"/>\r\n     <use style=\"fill:#1f77b4;stroke:#1f77b4;\" x=\"450.341898\" xlink:href=\"#m76929ae19e\" y=\"196.283918\"/>\r\n     <use style=\"fill:#1f77b4;stroke:#1f77b4;\" x=\"450.950625\" xlink:href=\"#m76929ae19e\" y=\"189.474719\"/>\r\n     <use style=\"fill:#1f77b4;stroke:#1f77b4;\" x=\"451.559352\" xlink:href=\"#m76929ae19e\" y=\"169.621524\"/>\r\n     <use style=\"fill:#1f77b4;stroke:#1f77b4;\" x=\"452.16808\" xlink:href=\"#m76929ae19e\" y=\"205.834111\"/>\r\n     <use style=\"fill:#1f77b4;stroke:#1f77b4;\" x=\"452.776807\" xlink:href=\"#m76929ae19e\" y=\"207.900307\"/>\r\n     <use style=\"fill:#1f77b4;stroke:#1f77b4;\" x=\"453.385534\" xlink:href=\"#m76929ae19e\" y=\"233.036014\"/>\r\n     <use style=\"fill:#1f77b4;stroke:#1f77b4;\" x=\"453.994261\" xlink:href=\"#m76929ae19e\" y=\"200.002545\"/>\r\n     <use style=\"fill:#1f77b4;stroke:#1f77b4;\" x=\"454.602989\" xlink:href=\"#m76929ae19e\" y=\"171.570865\"/>\r\n     <use style=\"fill:#1f77b4;stroke:#1f77b4;\" x=\"455.211716\" xlink:href=\"#m76929ae19e\" y=\"178.752684\"/>\r\n     <use style=\"fill:#1f77b4;stroke:#1f77b4;\" x=\"455.820443\" xlink:href=\"#m76929ae19e\" y=\"199.608859\"/>\r\n     <use style=\"fill:#1f77b4;stroke:#1f77b4;\" x=\"456.42917\" xlink:href=\"#m76929ae19e\" y=\"94.918167\"/>\r\n     <use style=\"fill:#1f77b4;stroke:#1f77b4;\" x=\"457.037898\" xlink:href=\"#m76929ae19e\" y=\"168.109319\"/>\r\n     <use style=\"fill:#1f77b4;stroke:#1f77b4;\" x=\"457.646625\" xlink:href=\"#m76929ae19e\" y=\"147.202781\"/>\r\n     <use style=\"fill:#1f77b4;stroke:#1f77b4;\" x=\"458.255352\" xlink:href=\"#m76929ae19e\" y=\"177.141399\"/>\r\n     <use style=\"fill:#1f77b4;stroke:#1f77b4;\" x=\"458.86408\" xlink:href=\"#m76929ae19e\" y=\"183.168162\"/>\r\n     <use style=\"fill:#1f77b4;stroke:#1f77b4;\" x=\"459.472807\" xlink:href=\"#m76929ae19e\" y=\"86.278457\"/>\r\n     <use style=\"fill:#1f77b4;stroke:#1f77b4;\" x=\"460.081534\" xlink:href=\"#m76929ae19e\" y=\"206.590542\"/>\r\n     <use style=\"fill:#1f77b4;stroke:#1f77b4;\" x=\"460.690261\" xlink:href=\"#m76929ae19e\" y=\"152.761794\"/>\r\n     <use style=\"fill:#1f77b4;stroke:#1f77b4;\" x=\"461.298989\" xlink:href=\"#m76929ae19e\" y=\"145.571417\"/>\r\n     <use style=\"fill:#1f77b4;stroke:#1f77b4;\" x=\"461.907716\" xlink:href=\"#m76929ae19e\" y=\"137.506108\"/>\r\n     <use style=\"fill:#1f77b4;stroke:#1f77b4;\" x=\"462.516443\" xlink:href=\"#m76929ae19e\" y=\"204.783402\"/>\r\n     <use style=\"fill:#1f77b4;stroke:#1f77b4;\" x=\"463.12517\" xlink:href=\"#m76929ae19e\" y=\"159.44558\"/>\r\n     <use style=\"fill:#1f77b4;stroke:#1f77b4;\" x=\"463.733898\" xlink:href=\"#m76929ae19e\" y=\"244.489465\"/>\r\n     <use style=\"fill:#1f77b4;stroke:#1f77b4;\" x=\"464.342625\" xlink:href=\"#m76929ae19e\" y=\"162.284666\"/>\r\n     <use style=\"fill:#1f77b4;stroke:#1f77b4;\" x=\"464.951352\" xlink:href=\"#m76929ae19e\" y=\"147.443733\"/>\r\n     <use style=\"fill:#1f77b4;stroke:#1f77b4;\" x=\"465.56008\" xlink:href=\"#m76929ae19e\" y=\"200.056529\"/>\r\n     <use style=\"fill:#1f77b4;stroke:#1f77b4;\" x=\"466.168807\" xlink:href=\"#m76929ae19e\" y=\"211.93395\"/>\r\n     <use style=\"fill:#1f77b4;stroke:#1f77b4;\" x=\"466.777534\" xlink:href=\"#m76929ae19e\" y=\"193.771368\"/>\r\n     <use style=\"fill:#1f77b4;stroke:#1f77b4;\" x=\"467.386261\" xlink:href=\"#m76929ae19e\" y=\"180.528223\"/>\r\n     <use style=\"fill:#1f77b4;stroke:#1f77b4;\" x=\"467.994989\" xlink:href=\"#m76929ae19e\" y=\"170.506331\"/>\r\n     <use style=\"fill:#1f77b4;stroke:#1f77b4;\" x=\"468.603716\" xlink:href=\"#m76929ae19e\" y=\"173.280242\"/>\r\n     <use style=\"fill:#1f77b4;stroke:#1f77b4;\" x=\"469.212443\" xlink:href=\"#m76929ae19e\" y=\"135.781919\"/>\r\n     <use style=\"fill:#1f77b4;stroke:#1f77b4;\" x=\"469.82117\" xlink:href=\"#m76929ae19e\" y=\"125.32256\"/>\r\n     <use style=\"fill:#1f77b4;stroke:#1f77b4;\" x=\"470.429898\" xlink:href=\"#m76929ae19e\" y=\"190.440173\"/>\r\n     <use style=\"fill:#1f77b4;stroke:#1f77b4;\" x=\"471.038625\" xlink:href=\"#m76929ae19e\" y=\"257.596004\"/>\r\n     <use style=\"fill:#1f77b4;stroke:#1f77b4;\" x=\"471.647352\" xlink:href=\"#m76929ae19e\" y=\"131.207451\"/>\r\n     <use style=\"fill:#1f77b4;stroke:#1f77b4;\" x=\"472.25608\" xlink:href=\"#m76929ae19e\" y=\"257.103566\"/>\r\n     <use style=\"fill:#1f77b4;stroke:#1f77b4;\" x=\"472.864807\" xlink:href=\"#m76929ae19e\" y=\"93.349016\"/>\r\n     <use style=\"fill:#1f77b4;stroke:#1f77b4;\" x=\"473.473534\" xlink:href=\"#m76929ae19e\" y=\"204.764969\"/>\r\n     <use style=\"fill:#1f77b4;stroke:#1f77b4;\" x=\"474.082261\" xlink:href=\"#m76929ae19e\" y=\"201.255364\"/>\r\n     <use style=\"fill:#1f77b4;stroke:#1f77b4;\" x=\"474.690989\" xlink:href=\"#m76929ae19e\" y=\"191.505366\"/>\r\n     <use style=\"fill:#1f77b4;stroke:#1f77b4;\" x=\"475.299716\" xlink:href=\"#m76929ae19e\" y=\"174.673287\"/>\r\n     <use style=\"fill:#1f77b4;stroke:#1f77b4;\" x=\"475.908443\" xlink:href=\"#m76929ae19e\" y=\"174.388226\"/>\r\n     <use style=\"fill:#1f77b4;stroke:#1f77b4;\" x=\"476.51717\" xlink:href=\"#m76929ae19e\" y=\"244.597103\"/>\r\n     <use style=\"fill:#1f77b4;stroke:#1f77b4;\" x=\"477.125898\" xlink:href=\"#m76929ae19e\" y=\"154.56268\"/>\r\n     <use style=\"fill:#1f77b4;stroke:#1f77b4;\" x=\"477.734625\" xlink:href=\"#m76929ae19e\" y=\"156.969238\"/>\r\n     <use style=\"fill:#1f77b4;stroke:#1f77b4;\" x=\"478.343352\" xlink:href=\"#m76929ae19e\" y=\"119.510744\"/>\r\n     <use style=\"fill:#1f77b4;stroke:#1f77b4;\" x=\"478.95208\" xlink:href=\"#m76929ae19e\" y=\"238.575607\"/>\r\n     <use style=\"fill:#1f77b4;stroke:#1f77b4;\" x=\"479.560807\" xlink:href=\"#m76929ae19e\" y=\"133.287802\"/>\r\n     <use style=\"fill:#1f77b4;stroke:#1f77b4;\" x=\"480.169534\" xlink:href=\"#m76929ae19e\" y=\"214.295082\"/>\r\n     <use style=\"fill:#1f77b4;stroke:#1f77b4;\" x=\"480.778261\" xlink:href=\"#m76929ae19e\" y=\"148.985563\"/>\r\n     <use style=\"fill:#1f77b4;stroke:#1f77b4;\" x=\"481.386989\" xlink:href=\"#m76929ae19e\" y=\"125.310381\"/>\r\n     <use style=\"fill:#1f77b4;stroke:#1f77b4;\" x=\"481.995716\" xlink:href=\"#m76929ae19e\" y=\"127.100733\"/>\r\n     <use style=\"fill:#1f77b4;stroke:#1f77b4;\" x=\"482.604443\" xlink:href=\"#m76929ae19e\" y=\"210.84374\"/>\r\n     <use style=\"fill:#1f77b4;stroke:#1f77b4;\" x=\"483.21317\" xlink:href=\"#m76929ae19e\" y=\"133.5541\"/>\r\n     <use style=\"fill:#1f77b4;stroke:#1f77b4;\" x=\"483.821898\" xlink:href=\"#m76929ae19e\" y=\"179.432089\"/>\r\n     <use style=\"fill:#1f77b4;stroke:#1f77b4;\" x=\"484.430625\" xlink:href=\"#m76929ae19e\" y=\"259.915661\"/>\r\n     <use style=\"fill:#1f77b4;stroke:#1f77b4;\" x=\"485.039352\" xlink:href=\"#m76929ae19e\" y=\"128.945399\"/>\r\n     <use style=\"fill:#1f77b4;stroke:#1f77b4;\" x=\"485.64808\" xlink:href=\"#m76929ae19e\" y=\"142.371232\"/>\r\n     <use style=\"fill:#1f77b4;stroke:#1f77b4;\" x=\"486.256807\" xlink:href=\"#m76929ae19e\" y=\"132.559679\"/>\r\n     <use style=\"fill:#1f77b4;stroke:#1f77b4;\" x=\"486.865534\" xlink:href=\"#m76929ae19e\" y=\"171.707141\"/>\r\n     <use style=\"fill:#1f77b4;stroke:#1f77b4;\" x=\"487.474261\" xlink:href=\"#m76929ae19e\" y=\"165.150415\"/>\r\n     <use style=\"fill:#1f77b4;stroke:#1f77b4;\" x=\"488.082989\" xlink:href=\"#m76929ae19e\" y=\"101.878126\"/>\r\n     <use style=\"fill:#1f77b4;stroke:#1f77b4;\" x=\"488.691716\" xlink:href=\"#m76929ae19e\" y=\"153.837849\"/>\r\n     <use style=\"fill:#1f77b4;stroke:#1f77b4;\" x=\"489.300443\" xlink:href=\"#m76929ae19e\" y=\"113.812822\"/>\r\n     <use style=\"fill:#1f77b4;stroke:#1f77b4;\" x=\"489.90917\" xlink:href=\"#m76929ae19e\" y=\"121.987744\"/>\r\n     <use style=\"fill:#1f77b4;stroke:#1f77b4;\" x=\"490.517898\" xlink:href=\"#m76929ae19e\" y=\"188.117554\"/>\r\n     <use style=\"fill:#1f77b4;stroke:#1f77b4;\" x=\"491.126625\" xlink:href=\"#m76929ae19e\" y=\"213.64991\"/>\r\n     <use style=\"fill:#1f77b4;stroke:#1f77b4;\" x=\"491.735352\" xlink:href=\"#m76929ae19e\" y=\"179.500886\"/>\r\n     <use style=\"fill:#1f77b4;stroke:#1f77b4;\" x=\"492.34408\" xlink:href=\"#m76929ae19e\" y=\"128.705763\"/>\r\n     <use style=\"fill:#1f77b4;stroke:#1f77b4;\" x=\"492.952807\" xlink:href=\"#m76929ae19e\" y=\"192.089312\"/>\r\n     <use style=\"fill:#1f77b4;stroke:#1f77b4;\" x=\"493.561534\" xlink:href=\"#m76929ae19e\" y=\"203.794248\"/>\r\n     <use style=\"fill:#1f77b4;stroke:#1f77b4;\" x=\"494.170261\" xlink:href=\"#m76929ae19e\" y=\"111.064915\"/>\r\n     <use style=\"fill:#1f77b4;stroke:#1f77b4;\" x=\"494.778989\" xlink:href=\"#m76929ae19e\" y=\"299.117436\"/>\r\n     <use style=\"fill:#1f77b4;stroke:#1f77b4;\" x=\"495.387716\" xlink:href=\"#m76929ae19e\" y=\"146.687302\"/>\r\n     <use style=\"fill:#1f77b4;stroke:#1f77b4;\" x=\"495.996443\" xlink:href=\"#m76929ae19e\" y=\"182.259325\"/>\r\n     <use style=\"fill:#1f77b4;stroke:#1f77b4;\" x=\"496.60517\" xlink:href=\"#m76929ae19e\" y=\"173.489264\"/>\r\n     <use style=\"fill:#1f77b4;stroke:#1f77b4;\" x=\"497.213898\" xlink:href=\"#m76929ae19e\" y=\"198.475857\"/>\r\n     <use style=\"fill:#1f77b4;stroke:#1f77b4;\" x=\"497.822625\" xlink:href=\"#m76929ae19e\" y=\"115.636749\"/>\r\n     <use style=\"fill:#1f77b4;stroke:#1f77b4;\" x=\"498.431352\" xlink:href=\"#m76929ae19e\" y=\"137.17233\"/>\r\n     <use style=\"fill:#1f77b4;stroke:#1f77b4;\" x=\"499.04008\" xlink:href=\"#m76929ae19e\" y=\"165.852534\"/>\r\n     <use style=\"fill:#1f77b4;stroke:#1f77b4;\" x=\"499.648807\" xlink:href=\"#m76929ae19e\" y=\"110.745292\"/>\r\n     <use style=\"fill:#1f77b4;stroke:#1f77b4;\" x=\"500.257534\" xlink:href=\"#m76929ae19e\" y=\"252.411585\"/>\r\n     <use style=\"fill:#1f77b4;stroke:#1f77b4;\" x=\"500.866261\" xlink:href=\"#m76929ae19e\" y=\"143.74749\"/>\r\n     <use style=\"fill:#1f77b4;stroke:#1f77b4;\" x=\"501.474989\" xlink:href=\"#m76929ae19e\" y=\"161.417963\"/>\r\n     <use style=\"fill:#1f77b4;stroke:#1f77b4;\" x=\"502.083716\" xlink:href=\"#m76929ae19e\" y=\"126.163588\"/>\r\n     <use style=\"fill:#1f77b4;stroke:#1f77b4;\" x=\"502.692443\" xlink:href=\"#m76929ae19e\" y=\"198.263872\"/>\r\n     <use style=\"fill:#1f77b4;stroke:#1f77b4;\" x=\"503.30117\" xlink:href=\"#m76929ae19e\" y=\"128.752835\"/>\r\n     <use style=\"fill:#1f77b4;stroke:#1f77b4;\" x=\"503.909898\" xlink:href=\"#m76929ae19e\" y=\"131.427995\"/>\r\n     <use style=\"fill:#1f77b4;stroke:#1f77b4;\" x=\"504.518625\" xlink:href=\"#m76929ae19e\" y=\"154.701261\"/>\r\n     <use style=\"fill:#1f77b4;stroke:#1f77b4;\" x=\"505.127352\" xlink:href=\"#m76929ae19e\" y=\"198.524904\"/>\r\n     <use style=\"fill:#1f77b4;stroke:#1f77b4;\" x=\"505.73608\" xlink:href=\"#m76929ae19e\" y=\"184.052311\"/>\r\n     <use style=\"fill:#1f77b4;stroke:#1f77b4;\" x=\"506.344807\" xlink:href=\"#m76929ae19e\" y=\"102.716849\"/>\r\n     <use style=\"fill:#1f77b4;stroke:#1f77b4;\" x=\"506.953534\" xlink:href=\"#m76929ae19e\" y=\"136.92677\"/>\r\n     <use style=\"fill:#1f77b4;stroke:#1f77b4;\" x=\"507.562261\" xlink:href=\"#m76929ae19e\" y=\"147.55598\"/>\r\n     <use style=\"fill:#1f77b4;stroke:#1f77b4;\" x=\"508.170989\" xlink:href=\"#m76929ae19e\" y=\"157.818166\"/>\r\n     <use style=\"fill:#1f77b4;stroke:#1f77b4;\" x=\"508.779716\" xlink:href=\"#m76929ae19e\" y=\"226.853883\"/>\r\n     <use style=\"fill:#1f77b4;stroke:#1f77b4;\" x=\"509.388443\" xlink:href=\"#m76929ae19e\" y=\"158.578547\"/>\r\n     <use style=\"fill:#1f77b4;stroke:#1f77b4;\" x=\"509.99717\" xlink:href=\"#m76929ae19e\" y=\"206.404232\"/>\r\n     <use style=\"fill:#1f77b4;stroke:#1f77b4;\" x=\"510.605898\" xlink:href=\"#m76929ae19e\" y=\"166.996397\"/>\r\n     <use style=\"fill:#1f77b4;stroke:#1f77b4;\" x=\"511.214625\" xlink:href=\"#m76929ae19e\" y=\"169.827584\"/>\r\n     <use style=\"fill:#1f77b4;stroke:#1f77b4;\" x=\"511.823352\" xlink:href=\"#m76929ae19e\" y=\"132.648226\"/>\r\n     <use style=\"fill:#1f77b4;stroke:#1f77b4;\" x=\"512.43208\" xlink:href=\"#m76929ae19e\" y=\"177.03409\"/>\r\n     <use style=\"fill:#1f77b4;stroke:#1f77b4;\" x=\"513.040807\" xlink:href=\"#m76929ae19e\" y=\"196.166076\"/>\r\n     <use style=\"fill:#1f77b4;stroke:#1f77b4;\" x=\"513.649534\" xlink:href=\"#m76929ae19e\" y=\"196.685176\"/>\r\n     <use style=\"fill:#1f77b4;stroke:#1f77b4;\" x=\"514.258261\" xlink:href=\"#m76929ae19e\" y=\"132.901686\"/>\r\n     <use style=\"fill:#1f77b4;stroke:#1f77b4;\" x=\"514.866989\" xlink:href=\"#m76929ae19e\" y=\"236.004793\"/>\r\n     <use style=\"fill:#1f77b4;stroke:#1f77b4;\" x=\"515.475716\" xlink:href=\"#m76929ae19e\" y=\"215.212806\"/>\r\n     <use style=\"fill:#1f77b4;stroke:#1f77b4;\" x=\"516.084443\" xlink:href=\"#m76929ae19e\" y=\"264.365702\"/>\r\n     <use style=\"fill:#1f77b4;stroke:#1f77b4;\" x=\"516.69317\" xlink:href=\"#m76929ae19e\" y=\"153.907304\"/>\r\n     <use style=\"fill:#1f77b4;stroke:#1f77b4;\" x=\"517.301898\" xlink:href=\"#m76929ae19e\" y=\"169.921397\"/>\r\n     <use style=\"fill:#1f77b4;stroke:#1f77b4;\" x=\"517.910625\" xlink:href=\"#m76929ae19e\" y=\"257.6095\"/>\r\n     <use style=\"fill:#1f77b4;stroke:#1f77b4;\" x=\"518.519352\" xlink:href=\"#m76929ae19e\" y=\"145.777148\"/>\r\n     <use style=\"fill:#1f77b4;stroke:#1f77b4;\" x=\"519.12808\" xlink:href=\"#m76929ae19e\" y=\"178.372164\"/>\r\n     <use style=\"fill:#1f77b4;stroke:#1f77b4;\" x=\"519.736807\" xlink:href=\"#m76929ae19e\" y=\"146.227452\"/>\r\n     <use style=\"fill:#1f77b4;stroke:#1f77b4;\" x=\"520.345534\" xlink:href=\"#m76929ae19e\" y=\"70.152447\"/>\r\n     <use style=\"fill:#1f77b4;stroke:#1f77b4;\" x=\"520.954261\" xlink:href=\"#m76929ae19e\" y=\"151.050113\"/>\r\n     <use style=\"fill:#1f77b4;stroke:#1f77b4;\" x=\"521.562989\" xlink:href=\"#m76929ae19e\" y=\"188.842385\"/>\r\n     <use style=\"fill:#1f77b4;stroke:#1f77b4;\" x=\"522.171716\" xlink:href=\"#m76929ae19e\" y=\"185.597433\"/>\r\n     <use style=\"fill:#1f77b4;stroke:#1f77b4;\" x=\"522.780443\" xlink:href=\"#m76929ae19e\" y=\"174.88593\"/>\r\n     <use style=\"fill:#1f77b4;stroke:#1f77b4;\" x=\"523.38917\" xlink:href=\"#m76929ae19e\" y=\"202.974945\"/>\r\n     <use style=\"fill:#1f77b4;stroke:#1f77b4;\" x=\"523.997898\" xlink:href=\"#m76929ae19e\" y=\"148.33677\"/>\r\n     <use style=\"fill:#1f77b4;stroke:#1f77b4;\" x=\"524.606625\" xlink:href=\"#m76929ae19e\" y=\"127.639254\"/>\r\n     <use style=\"fill:#1f77b4;stroke:#1f77b4;\" x=\"525.215352\" xlink:href=\"#m76929ae19e\" y=\"207.405895\"/>\r\n     <use style=\"fill:#1f77b4;stroke:#1f77b4;\" x=\"525.82408\" xlink:href=\"#m76929ae19e\" y=\"187.154404\"/>\r\n     <use style=\"fill:#1f77b4;stroke:#1f77b4;\" x=\"526.432807\" xlink:href=\"#m76929ae19e\" y=\"164.71657\"/>\r\n     <use style=\"fill:#1f77b4;stroke:#1f77b4;\" x=\"527.041534\" xlink:href=\"#m76929ae19e\" y=\"194.025816\"/>\r\n     <use style=\"fill:#1f77b4;stroke:#1f77b4;\" x=\"527.650261\" xlink:href=\"#m76929ae19e\" y=\"117.165741\"/>\r\n     <use style=\"fill:#1f77b4;stroke:#1f77b4;\" x=\"528.258989\" xlink:href=\"#m76929ae19e\" y=\"162.780066\"/>\r\n     <use style=\"fill:#1f77b4;stroke:#1f77b4;\" x=\"528.867716\" xlink:href=\"#m76929ae19e\" y=\"145.43547\"/>\r\n     <use style=\"fill:#1f77b4;stroke:#1f77b4;\" x=\"529.476443\" xlink:href=\"#m76929ae19e\" y=\"225.266299\"/>\r\n     <use style=\"fill:#1f77b4;stroke:#1f77b4;\" x=\"530.08517\" xlink:href=\"#m76929ae19e\" y=\"150.935892\"/>\r\n     <use style=\"fill:#1f77b4;stroke:#1f77b4;\" x=\"530.693898\" xlink:href=\"#m76929ae19e\" y=\"146.223502\"/>\r\n     <use style=\"fill:#1f77b4;stroke:#1f77b4;\" x=\"531.302625\" xlink:href=\"#m76929ae19e\" y=\"115.056095\"/>\r\n     <use style=\"fill:#1f77b4;stroke:#1f77b4;\" x=\"531.911352\" xlink:href=\"#m76929ae19e\" y=\"212.326649\"/>\r\n     <use style=\"fill:#1f77b4;stroke:#1f77b4;\" x=\"532.52008\" xlink:href=\"#m76929ae19e\" y=\"147.333791\"/>\r\n     <use style=\"fill:#1f77b4;stroke:#1f77b4;\" x=\"533.128807\" xlink:href=\"#m76929ae19e\" y=\"163.505885\"/>\r\n     <use style=\"fill:#1f77b4;stroke:#1f77b4;\" x=\"533.737534\" xlink:href=\"#m76929ae19e\" y=\"187.783447\"/>\r\n     <use style=\"fill:#1f77b4;stroke:#1f77b4;\" x=\"534.346261\" xlink:href=\"#m76929ae19e\" y=\"162.25142\"/>\r\n     <use style=\"fill:#1f77b4;stroke:#1f77b4;\" x=\"534.954989\" xlink:href=\"#m76929ae19e\" y=\"153.240407\"/>\r\n     <use style=\"fill:#1f77b4;stroke:#1f77b4;\" x=\"535.563716\" xlink:href=\"#m76929ae19e\" y=\"170.047469\"/>\r\n     <use style=\"fill:#1f77b4;stroke:#1f77b4;\" x=\"536.172443\" xlink:href=\"#m76929ae19e\" y=\"256.582491\"/>\r\n     <use style=\"fill:#1f77b4;stroke:#1f77b4;\" x=\"536.78117\" xlink:href=\"#m76929ae19e\" y=\"177.765175\"/>\r\n     <use style=\"fill:#1f77b4;stroke:#1f77b4;\" x=\"537.389898\" xlink:href=\"#m76929ae19e\" y=\"145.872937\"/>\r\n     <use style=\"fill:#1f77b4;stroke:#1f77b4;\" x=\"537.998625\" xlink:href=\"#m76929ae19e\" y=\"142.898232\"/>\r\n     <use style=\"fill:#1f77b4;stroke:#1f77b4;\" x=\"538.607352\" xlink:href=\"#m76929ae19e\" y=\"224.451605\"/>\r\n     <use style=\"fill:#1f77b4;stroke:#1f77b4;\" x=\"539.21608\" xlink:href=\"#m76929ae19e\" y=\"203.333411\"/>\r\n     <use style=\"fill:#1f77b4;stroke:#1f77b4;\" x=\"539.824807\" xlink:href=\"#m76929ae19e\" y=\"205.824565\"/>\r\n     <use style=\"fill:#1f77b4;stroke:#1f77b4;\" x=\"540.433534\" xlink:href=\"#m76929ae19e\" y=\"104.611549\"/>\r\n     <use style=\"fill:#1f77b4;stroke:#1f77b4;\" x=\"541.042261\" xlink:href=\"#m76929ae19e\" y=\"141.945287\"/>\r\n     <use style=\"fill:#1f77b4;stroke:#1f77b4;\" x=\"541.650989\" xlink:href=\"#m76929ae19e\" y=\"118.969261\"/>\r\n     <use style=\"fill:#1f77b4;stroke:#1f77b4;\" x=\"542.259716\" xlink:href=\"#m76929ae19e\" y=\"146.839049\"/>\r\n     <use style=\"fill:#1f77b4;stroke:#1f77b4;\" x=\"542.868443\" xlink:href=\"#m76929ae19e\" y=\"267.256798\"/>\r\n     <use style=\"fill:#1f77b4;stroke:#1f77b4;\" x=\"543.47717\" xlink:href=\"#m76929ae19e\" y=\"174.270054\"/>\r\n     <use style=\"fill:#1f77b4;stroke:#1f77b4;\" x=\"544.085898\" xlink:href=\"#m76929ae19e\" y=\"209.489537\"/>\r\n     <use style=\"fill:#1f77b4;stroke:#1f77b4;\" x=\"544.694625\" xlink:href=\"#m76929ae19e\" y=\"135.058404\"/>\r\n     <use style=\"fill:#1f77b4;stroke:#1f77b4;\" x=\"545.303352\" xlink:href=\"#m76929ae19e\" y=\"158.442601\"/>\r\n     <use style=\"fill:#1f77b4;stroke:#1f77b4;\" x=\"545.91208\" xlink:href=\"#m76929ae19e\" y=\"40.008756\"/>\r\n     <use style=\"fill:#1f77b4;stroke:#1f77b4;\" x=\"546.520807\" xlink:href=\"#m76929ae19e\" y=\"219.874175\"/>\r\n     <use style=\"fill:#1f77b4;stroke:#1f77b4;\" x=\"547.129534\" xlink:href=\"#m76929ae19e\" y=\"133.600842\"/>\r\n     <use style=\"fill:#1f77b4;stroke:#1f77b4;\" x=\"547.738261\" xlink:href=\"#m76929ae19e\" y=\"43.901185\"/>\r\n     <use style=\"fill:#1f77b4;stroke:#1f77b4;\" x=\"548.346989\" xlink:href=\"#m76929ae19e\" y=\"266.576733\"/>\r\n     <use style=\"fill:#1f77b4;stroke:#1f77b4;\" x=\"548.955716\" xlink:href=\"#m76929ae19e\" y=\"229.28052\"/>\r\n     <use style=\"fill:#1f77b4;stroke:#1f77b4;\" x=\"549.564443\" xlink:href=\"#m76929ae19e\" y=\"195.096275\"/>\r\n     <use style=\"fill:#1f77b4;stroke:#1f77b4;\" x=\"550.17317\" xlink:href=\"#m76929ae19e\" y=\"178.982115\"/>\r\n     <use style=\"fill:#1f77b4;stroke:#1f77b4;\" x=\"550.781898\" xlink:href=\"#m76929ae19e\" y=\"242.743221\"/>\r\n     <use style=\"fill:#1f77b4;stroke:#1f77b4;\" x=\"551.390625\" xlink:href=\"#m76929ae19e\" y=\"139.173351\"/>\r\n     <use style=\"fill:#1f77b4;stroke:#1f77b4;\" x=\"551.999352\" xlink:href=\"#m76929ae19e\" y=\"221.080251\"/>\r\n     <use style=\"fill:#1f77b4;stroke:#1f77b4;\" x=\"552.60808\" xlink:href=\"#m76929ae19e\" y=\"132.207797\"/>\r\n     <use style=\"fill:#1f77b4;stroke:#1f77b4;\" x=\"553.216807\" xlink:href=\"#m76929ae19e\" y=\"203.303456\"/>\r\n     <use style=\"fill:#1f77b4;stroke:#1f77b4;\" x=\"553.825534\" xlink:href=\"#m76929ae19e\" y=\"108.898322\"/>\r\n     <use style=\"fill:#1f77b4;stroke:#1f77b4;\" x=\"554.434261\" xlink:href=\"#m76929ae19e\" y=\"167.144524\"/>\r\n     <use style=\"fill:#1f77b4;stroke:#1f77b4;\" x=\"555.042989\" xlink:href=\"#m76929ae19e\" y=\"311.372414\"/>\r\n     <use style=\"fill:#1f77b4;stroke:#1f77b4;\" x=\"555.651716\" xlink:href=\"#m76929ae19e\" y=\"228.181424\"/>\r\n     <use style=\"fill:#1f77b4;stroke:#1f77b4;\" x=\"556.260443\" xlink:href=\"#m76929ae19e\" y=\"109.226504\"/>\r\n     <use style=\"fill:#1f77b4;stroke:#1f77b4;\" x=\"556.86917\" xlink:href=\"#m76929ae19e\" y=\"153.045868\"/>\r\n     <use style=\"fill:#1f77b4;stroke:#1f77b4;\" x=\"557.477898\" xlink:href=\"#m76929ae19e\" y=\"185.444369\"/>\r\n     <use style=\"fill:#1f77b4;stroke:#1f77b4;\" x=\"558.086625\" xlink:href=\"#m76929ae19e\" y=\"275.63383\"/>\r\n     <use style=\"fill:#1f77b4;stroke:#1f77b4;\" x=\"558.695352\" xlink:href=\"#m76929ae19e\" y=\"186.47039\"/>\r\n     <use style=\"fill:#1f77b4;stroke:#1f77b4;\" x=\"559.30408\" xlink:href=\"#m76929ae19e\" y=\"221.036472\"/>\r\n     <use style=\"fill:#1f77b4;stroke:#1f77b4;\" x=\"559.912807\" xlink:href=\"#m76929ae19e\" y=\"203.261981\"/>\r\n     <use style=\"fill:#1f77b4;stroke:#1f77b4;\" x=\"560.521534\" xlink:href=\"#m76929ae19e\" y=\"169.715995\"/>\r\n     <use style=\"fill:#1f77b4;stroke:#1f77b4;\" x=\"561.130261\" xlink:href=\"#m76929ae19e\" y=\"245.140233\"/>\r\n     <use style=\"fill:#1f77b4;stroke:#1f77b4;\" x=\"561.738989\" xlink:href=\"#m76929ae19e\" y=\"152.537959\"/>\r\n     <use style=\"fill:#1f77b4;stroke:#1f77b4;\" x=\"562.347716\" xlink:href=\"#m76929ae19e\" y=\"198.778693\"/>\r\n     <use style=\"fill:#1f77b4;stroke:#1f77b4;\" x=\"562.956443\" xlink:href=\"#m76929ae19e\" y=\"125.366998\"/>\r\n     <use style=\"fill:#1f77b4;stroke:#1f77b4;\" x=\"563.56517\" xlink:href=\"#m76929ae19e\" y=\"229.453993\"/>\r\n     <use style=\"fill:#1f77b4;stroke:#1f77b4;\" x=\"564.173898\" xlink:href=\"#m76929ae19e\" y=\"188.838435\"/>\r\n     <use style=\"fill:#1f77b4;stroke:#1f77b4;\" x=\"564.782625\" xlink:href=\"#m76929ae19e\" y=\"186.91049\"/>\r\n     <use style=\"fill:#1f77b4;stroke:#1f77b4;\" x=\"565.391352\" xlink:href=\"#m76929ae19e\" y=\"129.630071\"/>\r\n     <use style=\"fill:#1f77b4;stroke:#1f77b4;\" x=\"566.00008\" xlink:href=\"#m76929ae19e\" y=\"213.851032\"/>\r\n     <use style=\"fill:#1f77b4;stroke:#1f77b4;\" x=\"566.608807\" xlink:href=\"#m76929ae19e\" y=\"126.080966\"/>\r\n     <use style=\"fill:#1f77b4;stroke:#1f77b4;\" x=\"567.217534\" xlink:href=\"#m76929ae19e\" y=\"163.072369\"/>\r\n     <use style=\"fill:#1f77b4;stroke:#1f77b4;\" x=\"567.826261\" xlink:href=\"#m76929ae19e\" y=\"161.194786\"/>\r\n     <use style=\"fill:#1f77b4;stroke:#1f77b4;\" x=\"568.434989\" xlink:href=\"#m76929ae19e\" y=\"182.171766\"/>\r\n     <use style=\"fill:#1f77b4;stroke:#1f77b4;\" x=\"569.043716\" xlink:href=\"#m76929ae19e\" y=\"222.933805\"/>\r\n     <use style=\"fill:#1f77b4;stroke:#1f77b4;\" x=\"569.652443\" xlink:href=\"#m76929ae19e\" y=\"213.31712\"/>\r\n     <use style=\"fill:#1f77b4;stroke:#1f77b4;\" x=\"570.26117\" xlink:href=\"#m76929ae19e\" y=\"191.857906\"/>\r\n     <use style=\"fill:#1f77b4;stroke:#1f77b4;\" x=\"570.869898\" xlink:href=\"#m76929ae19e\" y=\"170.846363\"/>\r\n     <use style=\"fill:#1f77b4;stroke:#1f77b4;\" x=\"571.478625\" xlink:href=\"#m76929ae19e\" y=\"241.413047\"/>\r\n     <use style=\"fill:#1f77b4;stroke:#1f77b4;\" x=\"572.087352\" xlink:href=\"#m76929ae19e\" y=\"153.348045\"/>\r\n     <use style=\"fill:#1f77b4;stroke:#1f77b4;\" x=\"572.69608\" xlink:href=\"#m76929ae19e\" y=\"167.008247\"/>\r\n     <use style=\"fill:#1f77b4;stroke:#1f77b4;\" x=\"573.304807\" xlink:href=\"#m76929ae19e\" y=\"145.351861\"/>\r\n     <use style=\"fill:#1f77b4;stroke:#1f77b4;\" x=\"573.913534\" xlink:href=\"#m76929ae19e\" y=\"129.18668\"/>\r\n     <use style=\"fill:#1f77b4;stroke:#1f77b4;\" x=\"574.522261\" xlink:href=\"#m76929ae19e\" y=\"180.927177\"/>\r\n     <use style=\"fill:#1f77b4;stroke:#1f77b4;\" x=\"575.130989\" xlink:href=\"#m76929ae19e\" y=\"137.31124\"/>\r\n     <use style=\"fill:#1f77b4;stroke:#1f77b4;\" x=\"575.739716\" xlink:href=\"#m76929ae19e\" y=\"209.347007\"/>\r\n     <use style=\"fill:#1f77b4;stroke:#1f77b4;\" x=\"576.348443\" xlink:href=\"#m76929ae19e\" y=\"145.645481\"/>\r\n     <use style=\"fill:#1f77b4;stroke:#1f77b4;\" x=\"576.95717\" xlink:href=\"#m76929ae19e\" y=\"226.175136\"/>\r\n     <use style=\"fill:#1f77b4;stroke:#1f77b4;\" x=\"577.565898\" xlink:href=\"#m76929ae19e\" y=\"148.692273\"/>\r\n     <use style=\"fill:#1f77b4;stroke:#1f77b4;\" x=\"578.174625\" xlink:href=\"#m76929ae19e\" y=\"124.110887\"/>\r\n     <use style=\"fill:#1f77b4;stroke:#1f77b4;\" x=\"578.783352\" xlink:href=\"#m76929ae19e\" y=\"229.024756\"/>\r\n     <use style=\"fill:#1f77b4;stroke:#1f77b4;\" x=\"579.39208\" xlink:href=\"#m76929ae19e\" y=\"112.321684\"/>\r\n     <use style=\"fill:#1f77b4;stroke:#1f77b4;\" x=\"580.000807\" xlink:href=\"#m76929ae19e\" y=\"245.706075\"/>\r\n     <use style=\"fill:#1f77b4;stroke:#1f77b4;\" x=\"580.609534\" xlink:href=\"#m76929ae19e\" y=\"217.192102\"/>\r\n     <use style=\"fill:#1f77b4;stroke:#1f77b4;\" x=\"581.218261\" xlink:href=\"#m76929ae19e\" y=\"164.519068\"/>\r\n     <use style=\"fill:#1f77b4;stroke:#1f77b4;\" x=\"581.826989\" xlink:href=\"#m76929ae19e\" y=\"186.253467\"/>\r\n     <use style=\"fill:#1f77b4;stroke:#1f77b4;\" x=\"582.435716\" xlink:href=\"#m76929ae19e\" y=\"194.068608\"/>\r\n     <use style=\"fill:#1f77b4;stroke:#1f77b4;\" x=\"583.044443\" xlink:href=\"#m76929ae19e\" y=\"173.044556\"/>\r\n     <use style=\"fill:#1f77b4;stroke:#1f77b4;\" x=\"583.65317\" xlink:href=\"#m76929ae19e\" y=\"190.336485\"/>\r\n     <use style=\"fill:#1f77b4;stroke:#1f77b4;\" x=\"584.261898\" xlink:href=\"#m76929ae19e\" y=\"99.921542\"/>\r\n     <use style=\"fill:#1f77b4;stroke:#1f77b4;\" x=\"584.870625\" xlink:href=\"#m76929ae19e\" y=\"90.56161\"/>\r\n     <use style=\"fill:#1f77b4;stroke:#1f77b4;\" x=\"585.479352\" xlink:href=\"#m76929ae19e\" y=\"152.442829\"/>\r\n     <use style=\"fill:#1f77b4;stroke:#1f77b4;\" x=\"586.08808\" xlink:href=\"#m76929ae19e\" y=\"209.920091\"/>\r\n     <use style=\"fill:#1f77b4;stroke:#1f77b4;\" x=\"586.696807\" xlink:href=\"#m76929ae19e\" y=\"184.09247\"/>\r\n     <use style=\"fill:#1f77b4;stroke:#1f77b4;\" x=\"587.305534\" xlink:href=\"#m76929ae19e\" y=\"272.561692\"/>\r\n     <use style=\"fill:#1f77b4;stroke:#1f77b4;\" x=\"587.914261\" xlink:href=\"#m76929ae19e\" y=\"130.726864\"/>\r\n     <use style=\"fill:#1f77b4;stroke:#1f77b4;\" x=\"588.522989\" xlink:href=\"#m76929ae19e\" y=\"230.550127\"/>\r\n     <use style=\"fill:#1f77b4;stroke:#1f77b4;\" x=\"589.131716\" xlink:href=\"#m76929ae19e\" y=\"176.07489\"/>\r\n     <use style=\"fill:#1f77b4;stroke:#1f77b4;\" x=\"589.740443\" xlink:href=\"#m76929ae19e\" y=\"192.610387\"/>\r\n     <use style=\"fill:#1f77b4;stroke:#1f77b4;\" x=\"590.34917\" xlink:href=\"#m76929ae19e\" y=\"118.601578\"/>\r\n     <use style=\"fill:#1f77b4;stroke:#1f77b4;\" x=\"590.957898\" xlink:href=\"#m76929ae19e\" y=\"177.974856\"/>\r\n     <use style=\"fill:#1f77b4;stroke:#1f77b4;\" x=\"591.566625\" xlink:href=\"#m76929ae19e\" y=\"175.794767\"/>\r\n     <use style=\"fill:#1f77b4;stroke:#1f77b4;\" x=\"592.175352\" xlink:href=\"#m76929ae19e\" y=\"186.141879\"/>\r\n     <use style=\"fill:#1f77b4;stroke:#1f77b4;\" x=\"592.78408\" xlink:href=\"#m76929ae19e\" y=\"82.177335\"/>\r\n     <use style=\"fill:#1f77b4;stroke:#1f77b4;\" x=\"593.392807\" xlink:href=\"#m76929ae19e\" y=\"233.575523\"/>\r\n     <use style=\"fill:#1f77b4;stroke:#1f77b4;\" x=\"594.001534\" xlink:href=\"#m76929ae19e\" y=\"169.288404\"/>\r\n     <use style=\"fill:#1f77b4;stroke:#1f77b4;\" x=\"594.610261\" xlink:href=\"#m76929ae19e\" y=\"166.289671\"/>\r\n     <use style=\"fill:#1f77b4;stroke:#1f77b4;\" x=\"595.218989\" xlink:href=\"#m76929ae19e\" y=\"141.320523\"/>\r\n     <use style=\"fill:#1f77b4;stroke:#1f77b4;\" x=\"595.827716\" xlink:href=\"#m76929ae19e\" y=\"182.817597\"/>\r\n     <use style=\"fill:#1f77b4;stroke:#1f77b4;\" x=\"596.436443\" xlink:href=\"#m76929ae19e\" y=\"181.848522\"/>\r\n     <use style=\"fill:#1f77b4;stroke:#1f77b4;\" x=\"597.04517\" xlink:href=\"#m76929ae19e\" y=\"213.306915\"/>\r\n     <use style=\"fill:#1f77b4;stroke:#1f77b4;\" x=\"597.653898\" xlink:href=\"#m76929ae19e\" y=\"119.446886\"/>\r\n     <use style=\"fill:#1f77b4;stroke:#1f77b4;\" x=\"598.262625\" xlink:href=\"#m76929ae19e\" y=\"201.97822\"/>\r\n     <use style=\"fill:#1f77b4;stroke:#1f77b4;\" x=\"598.871352\" xlink:href=\"#m76929ae19e\" y=\"166.216595\"/>\r\n     <use style=\"fill:#1f77b4;stroke:#1f77b4;\" x=\"599.48008\" xlink:href=\"#m76929ae19e\" y=\"184.070745\"/>\r\n     <use style=\"fill:#1f77b4;stroke:#1f77b4;\" x=\"600.088807\" xlink:href=\"#m76929ae19e\" y=\"165.8183\"/>\r\n     <use style=\"fill:#1f77b4;stroke:#1f77b4;\" x=\"600.697534\" xlink:href=\"#m76929ae19e\" y=\"166.891063\"/>\r\n     <use style=\"fill:#1f77b4;stroke:#1f77b4;\" x=\"601.306261\" xlink:href=\"#m76929ae19e\" y=\"167.939797\"/>\r\n     <use style=\"fill:#1f77b4;stroke:#1f77b4;\" x=\"601.914989\" xlink:href=\"#m76929ae19e\" y=\"78.313544\"/>\r\n     <use style=\"fill:#1f77b4;stroke:#1f77b4;\" x=\"602.523716\" xlink:href=\"#m76929ae19e\" y=\"77.643685\"/>\r\n     <use style=\"fill:#1f77b4;stroke:#1f77b4;\" x=\"603.132443\" xlink:href=\"#m76929ae19e\" y=\"221.350829\"/>\r\n     <use style=\"fill:#1f77b4;stroke:#1f77b4;\" x=\"603.74117\" xlink:href=\"#m76929ae19e\" y=\"189.745297\"/>\r\n     <use style=\"fill:#1f77b4;stroke:#1f77b4;\" x=\"604.349898\" xlink:href=\"#m76929ae19e\" y=\"182.888039\"/>\r\n     <use style=\"fill:#1f77b4;stroke:#1f77b4;\" x=\"604.958625\" xlink:href=\"#m76929ae19e\" y=\"236.411647\"/>\r\n     <use style=\"fill:#1f77b4;stroke:#1f77b4;\" x=\"605.567352\" xlink:href=\"#m76929ae19e\" y=\"161.652332\"/>\r\n     <use style=\"fill:#1f77b4;stroke:#1f77b4;\" x=\"606.17608\" xlink:href=\"#m76929ae19e\" y=\"202.515425\"/>\r\n     <use style=\"fill:#1f77b4;stroke:#1f77b4;\" x=\"606.784807\" xlink:href=\"#m76929ae19e\" y=\"203.753431\"/>\r\n     <use style=\"fill:#1f77b4;stroke:#1f77b4;\" x=\"607.393534\" xlink:href=\"#m76929ae19e\" y=\"194.384281\"/>\r\n     <use style=\"fill:#1f77b4;stroke:#1f77b4;\" x=\"608.002261\" xlink:href=\"#m76929ae19e\" y=\"205.16063\"/>\r\n     <use style=\"fill:#1f77b4;stroke:#1f77b4;\" x=\"608.610989\" xlink:href=\"#m76929ae19e\" y=\"87.950309\"/>\r\n     <use style=\"fill:#1f77b4;stroke:#1f77b4;\" x=\"609.219716\" xlink:href=\"#m76929ae19e\" y=\"182.312322\"/>\r\n     <use style=\"fill:#1f77b4;stroke:#1f77b4;\" x=\"609.828443\" xlink:href=\"#m76929ae19e\" y=\"154.958671\"/>\r\n     <use style=\"fill:#1f77b4;stroke:#1f77b4;\" x=\"610.43717\" xlink:href=\"#m76929ae19e\" y=\"271.798019\"/>\r\n     <use style=\"fill:#1f77b4;stroke:#1f77b4;\" x=\"611.045898\" xlink:href=\"#m76929ae19e\" y=\"100.427476\"/>\r\n     <use style=\"fill:#1f77b4;stroke:#1f77b4;\" x=\"611.654625\" xlink:href=\"#m76929ae19e\" y=\"190.401661\"/>\r\n     <use style=\"fill:#1f77b4;stroke:#1f77b4;\" x=\"612.263352\" xlink:href=\"#m76929ae19e\" y=\"183.880156\"/>\r\n     <use style=\"fill:#1f77b4;stroke:#1f77b4;\" x=\"612.87208\" xlink:href=\"#m76929ae19e\" y=\"171.241366\"/>\r\n     <use style=\"fill:#1f77b4;stroke:#1f77b4;\" x=\"613.480807\" xlink:href=\"#m76929ae19e\" y=\"174.80265\"/>\r\n     <use style=\"fill:#1f77b4;stroke:#1f77b4;\" x=\"614.089534\" xlink:href=\"#m76929ae19e\" y=\"167.023389\"/>\r\n     <use style=\"fill:#1f77b4;stroke:#1f77b4;\" x=\"614.698261\" xlink:href=\"#m76929ae19e\" y=\"97.991951\"/>\r\n     <use style=\"fill:#1f77b4;stroke:#1f77b4;\" x=\"615.306989\" xlink:href=\"#m76929ae19e\" y=\"232.287812\"/>\r\n     <use style=\"fill:#1f77b4;stroke:#1f77b4;\" x=\"615.915716\" xlink:href=\"#m76929ae19e\" y=\"88.048072\"/>\r\n     <use style=\"fill:#1f77b4;stroke:#1f77b4;\" x=\"616.524443\" xlink:href=\"#m76929ae19e\" y=\"96.725966\"/>\r\n     <use style=\"fill:#1f77b4;stroke:#1f77b4;\" x=\"617.13317\" xlink:href=\"#m76929ae19e\" y=\"139.575596\"/>\r\n     <use style=\"fill:#1f77b4;stroke:#1f77b4;\" x=\"617.741898\" xlink:href=\"#m76929ae19e\" y=\"191.70583\"/>\r\n     <use style=\"fill:#1f77b4;stroke:#1f77b4;\" x=\"618.350625\" xlink:href=\"#m76929ae19e\" y=\"217.297107\"/>\r\n     <use style=\"fill:#1f77b4;stroke:#1f77b4;\" x=\"618.959352\" xlink:href=\"#m76929ae19e\" y=\"220.721457\"/>\r\n     <use style=\"fill:#1f77b4;stroke:#1f77b4;\" x=\"619.56808\" xlink:href=\"#m76929ae19e\" y=\"157.516647\"/>\r\n     <use style=\"fill:#1f77b4;stroke:#1f77b4;\" x=\"620.176807\" xlink:href=\"#m76929ae19e\" y=\"113.904002\"/>\r\n     <use style=\"fill:#1f77b4;stroke:#1f77b4;\" x=\"620.785534\" xlink:href=\"#m76929ae19e\" y=\"159.696736\"/>\r\n     <use style=\"fill:#1f77b4;stroke:#1f77b4;\" x=\"621.394261\" xlink:href=\"#m76929ae19e\" y=\"101.215508\"/>\r\n     <use style=\"fill:#1f77b4;stroke:#1f77b4;\" x=\"622.002989\" xlink:href=\"#m76929ae19e\" y=\"144.097068\"/>\r\n     <use style=\"fill:#1f77b4;stroke:#1f77b4;\" x=\"622.611716\" xlink:href=\"#m76929ae19e\" y=\"185.242259\"/>\r\n     <use style=\"fill:#1f77b4;stroke:#1f77b4;\" x=\"623.220443\" xlink:href=\"#m76929ae19e\" y=\"192.785506\"/>\r\n     <use style=\"fill:#1f77b4;stroke:#1f77b4;\" x=\"623.82917\" xlink:href=\"#m76929ae19e\" y=\"105.208333\"/>\r\n     <use style=\"fill:#1f77b4;stroke:#1f77b4;\" x=\"624.437898\" xlink:href=\"#m76929ae19e\" y=\"221.060501\"/>\r\n     <use style=\"fill:#1f77b4;stroke:#1f77b4;\" x=\"625.046625\" xlink:href=\"#m76929ae19e\" y=\"210.701539\"/>\r\n     <use style=\"fill:#1f77b4;stroke:#1f77b4;\" x=\"625.655352\" xlink:href=\"#m76929ae19e\" y=\"196.960691\"/>\r\n     <use style=\"fill:#1f77b4;stroke:#1f77b4;\" x=\"626.26408\" xlink:href=\"#m76929ae19e\" y=\"161.558518\"/>\r\n     <use style=\"fill:#1f77b4;stroke:#1f77b4;\" x=\"626.872807\" xlink:href=\"#m76929ae19e\" y=\"89.709719\"/>\r\n     <use style=\"fill:#1f77b4;stroke:#1f77b4;\" x=\"627.481534\" xlink:href=\"#m76929ae19e\" y=\"250.338476\"/>\r\n     <use style=\"fill:#1f77b4;stroke:#1f77b4;\" x=\"628.090261\" xlink:href=\"#m76929ae19e\" y=\"112.260129\"/>\r\n     <use style=\"fill:#1f77b4;stroke:#1f77b4;\" x=\"628.698989\" xlink:href=\"#m76929ae19e\" y=\"124.947636\"/>\r\n     <use style=\"fill:#1f77b4;stroke:#1f77b4;\" x=\"629.307716\" xlink:href=\"#m76929ae19e\" y=\"168.111953\"/>\r\n     <use style=\"fill:#1f77b4;stroke:#1f77b4;\" x=\"629.916443\" xlink:href=\"#m76929ae19e\" y=\"191.368102\"/>\r\n     <use style=\"fill:#1f77b4;stroke:#1f77b4;\" x=\"630.52517\" xlink:href=\"#m76929ae19e\" y=\"225.657682\"/>\r\n     <use style=\"fill:#1f77b4;stroke:#1f77b4;\" x=\"631.133898\" xlink:href=\"#m76929ae19e\" y=\"91.08466\"/>\r\n     <use style=\"fill:#1f77b4;stroke:#1f77b4;\" x=\"631.742625\" xlink:href=\"#m76929ae19e\" y=\"169.288075\"/>\r\n     <use style=\"fill:#1f77b4;stroke:#1f77b4;\" x=\"632.351352\" xlink:href=\"#m76929ae19e\" y=\"176.473185\"/>\r\n     <use style=\"fill:#1f77b4;stroke:#1f77b4;\" x=\"632.96008\" xlink:href=\"#m76929ae19e\" y=\"191.569554\"/>\r\n     <use style=\"fill:#1f77b4;stroke:#1f77b4;\" x=\"633.568807\" xlink:href=\"#m76929ae19e\" y=\"179.872518\"/>\r\n     <use style=\"fill:#1f77b4;stroke:#1f77b4;\" x=\"634.177534\" xlink:href=\"#m76929ae19e\" y=\"144.085547\"/>\r\n     <use style=\"fill:#1f77b4;stroke:#1f77b4;\" x=\"634.786261\" xlink:href=\"#m76929ae19e\" y=\"176.485035\"/>\r\n     <use style=\"fill:#1f77b4;stroke:#1f77b4;\" x=\"635.394989\" xlink:href=\"#m76929ae19e\" y=\"100.010418\"/>\r\n     <use style=\"fill:#1f77b4;stroke:#1f77b4;\" x=\"636.003716\" xlink:href=\"#m76929ae19e\" y=\"114.638379\"/>\r\n     <use style=\"fill:#1f77b4;stroke:#1f77b4;\" x=\"636.612443\" xlink:href=\"#m76929ae19e\" y=\"185.92726\"/>\r\n     <use style=\"fill:#1f77b4;stroke:#1f77b4;\" x=\"637.22117\" xlink:href=\"#m76929ae19e\" y=\"179.934402\"/>\r\n     <use style=\"fill:#1f77b4;stroke:#1f77b4;\" x=\"637.829898\" xlink:href=\"#m76929ae19e\" y=\"175.330638\"/>\r\n     <use style=\"fill:#1f77b4;stroke:#1f77b4;\" x=\"638.438625\" xlink:href=\"#m76929ae19e\" y=\"100.114765\"/>\r\n     <use style=\"fill:#1f77b4;stroke:#1f77b4;\" x=\"639.047352\" xlink:href=\"#m76929ae19e\" y=\"144.453229\"/>\r\n     <use style=\"fill:#1f77b4;stroke:#1f77b4;\" x=\"639.65608\" xlink:href=\"#m76929ae19e\" y=\"132.607409\"/>\r\n     <use style=\"fill:#1f77b4;stroke:#1f77b4;\" x=\"640.264807\" xlink:href=\"#m76929ae19e\" y=\"221.260307\"/>\r\n     <use style=\"fill:#1f77b4;stroke:#1f77b4;\" x=\"640.873534\" xlink:href=\"#m76929ae19e\" y=\"181.986444\"/>\r\n     <use style=\"fill:#1f77b4;stroke:#1f77b4;\" x=\"641.482261\" xlink:href=\"#m76929ae19e\" y=\"145.10663\"/>\r\n     <use style=\"fill:#1f77b4;stroke:#1f77b4;\" x=\"642.090989\" xlink:href=\"#m76929ae19e\" y=\"151.350316\"/>\r\n     <use style=\"fill:#1f77b4;stroke:#1f77b4;\" x=\"642.699716\" xlink:href=\"#m76929ae19e\" y=\"221.209944\"/>\r\n     <use style=\"fill:#1f77b4;stroke:#1f77b4;\" x=\"643.308443\" xlink:href=\"#m76929ae19e\" y=\"192.028087\"/>\r\n     <use style=\"fill:#1f77b4;stroke:#1f77b4;\" x=\"643.91717\" xlink:href=\"#m76929ae19e\" y=\"194.780601\"/>\r\n     <use style=\"fill:#1f77b4;stroke:#1f77b4;\" x=\"644.525898\" xlink:href=\"#m76929ae19e\" y=\"142.952875\"/>\r\n     <use style=\"fill:#1f77b4;stroke:#1f77b4;\" x=\"645.134625\" xlink:href=\"#m76929ae19e\" y=\"202.91372\"/>\r\n     <use style=\"fill:#1f77b4;stroke:#1f77b4;\" x=\"645.743352\" xlink:href=\"#m76929ae19e\" y=\"174.647612\"/>\r\n     <use style=\"fill:#1f77b4;stroke:#1f77b4;\" x=\"646.35208\" xlink:href=\"#m76929ae19e\" y=\"152.320378\"/>\r\n     <use style=\"fill:#1f77b4;stroke:#1f77b4;\" x=\"646.960807\" xlink:href=\"#m76929ae19e\" y=\"164.706036\"/>\r\n     <use style=\"fill:#1f77b4;stroke:#1f77b4;\" x=\"647.569534\" xlink:href=\"#m76929ae19e\" y=\"85.700436\"/>\r\n     <use style=\"fill:#1f77b4;stroke:#1f77b4;\" x=\"648.178261\" xlink:href=\"#m76929ae19e\" y=\"100.182245\"/>\r\n     <use style=\"fill:#1f77b4;stroke:#1f77b4;\" x=\"648.786989\" xlink:href=\"#m76929ae19e\" y=\"194.970203\"/>\r\n     <use style=\"fill:#1f77b4;stroke:#1f77b4;\" x=\"649.395716\" xlink:href=\"#m76929ae19e\" y=\"176.58609\"/>\r\n     <use style=\"fill:#1f77b4;stroke:#1f77b4;\" x=\"650.004443\" xlink:href=\"#m76929ae19e\" y=\"230.046498\"/>\r\n     <use style=\"fill:#1f77b4;stroke:#1f77b4;\" x=\"650.61317\" xlink:href=\"#m76929ae19e\" y=\"240.184916\"/>\r\n     <use style=\"fill:#1f77b4;stroke:#1f77b4;\" x=\"651.221898\" xlink:href=\"#m76929ae19e\" y=\"200.927511\"/>\r\n     <use style=\"fill:#1f77b4;stroke:#1f77b4;\" x=\"651.830625\" xlink:href=\"#m76929ae19e\" y=\"180.414989\"/>\r\n     <use style=\"fill:#1f77b4;stroke:#1f77b4;\" x=\"652.439352\" xlink:href=\"#m76929ae19e\" y=\"241.662558\"/>\r\n     <use style=\"fill:#1f77b4;stroke:#1f77b4;\" x=\"653.04808\" xlink:href=\"#m76929ae19e\" y=\"72.207122\"/>\r\n     <use style=\"fill:#1f77b4;stroke:#1f77b4;\" x=\"653.656807\" xlink:href=\"#m76929ae19e\" y=\"130.460236\"/>\r\n     <use style=\"fill:#1f77b4;stroke:#1f77b4;\" x=\"654.265534\" xlink:href=\"#m76929ae19e\" y=\"199.448224\"/>\r\n     <use style=\"fill:#1f77b4;stroke:#1f77b4;\" x=\"654.874261\" xlink:href=\"#m76929ae19e\" y=\"147.9128\"/>\r\n     <use style=\"fill:#1f77b4;stroke:#1f77b4;\" x=\"655.482989\" xlink:href=\"#m76929ae19e\" y=\"200.395903\"/>\r\n     <use style=\"fill:#1f77b4;stroke:#1f77b4;\" x=\"656.091716\" xlink:href=\"#m76929ae19e\" y=\"128.801881\"/>\r\n     <use style=\"fill:#1f77b4;stroke:#1f77b4;\" x=\"656.700443\" xlink:href=\"#m76929ae19e\" y=\"145.167527\"/>\r\n     <use style=\"fill:#1f77b4;stroke:#1f77b4;\" x=\"657.30917\" xlink:href=\"#m76929ae19e\" y=\"227.511893\"/>\r\n     <use style=\"fill:#1f77b4;stroke:#1f77b4;\" x=\"657.917898\" xlink:href=\"#m76929ae19e\" y=\"211.272319\"/>\r\n     <use style=\"fill:#1f77b4;stroke:#1f77b4;\" x=\"658.526625\" xlink:href=\"#m76929ae19e\" y=\"131.42964\"/>\r\n     <use style=\"fill:#1f77b4;stroke:#1f77b4;\" x=\"659.135352\" xlink:href=\"#m76929ae19e\" y=\"189.572154\"/>\r\n     <use style=\"fill:#1f77b4;stroke:#1f77b4;\" x=\"659.74408\" xlink:href=\"#m76929ae19e\" y=\"158.3873\"/>\r\n     <use style=\"fill:#1f77b4;stroke:#1f77b4;\" x=\"660.352807\" xlink:href=\"#m76929ae19e\" y=\"175.419843\"/>\r\n     <use style=\"fill:#1f77b4;stroke:#1f77b4;\" x=\"660.961534\" xlink:href=\"#m76929ae19e\" y=\"167.318654\"/>\r\n     <use style=\"fill:#1f77b4;stroke:#1f77b4;\" x=\"661.570261\" xlink:href=\"#m76929ae19e\" y=\"148.107668\"/>\r\n     <use style=\"fill:#1f77b4;stroke:#1f77b4;\" x=\"662.178989\" xlink:href=\"#m76929ae19e\" y=\"243.120778\"/>\r\n     <use style=\"fill:#1f77b4;stroke:#1f77b4;\" x=\"662.787716\" xlink:href=\"#m76929ae19e\" y=\"159.094356\"/>\r\n     <use style=\"fill:#1f77b4;stroke:#1f77b4;\" x=\"663.396443\" xlink:href=\"#m76929ae19e\" y=\"114.720013\"/>\r\n     <use style=\"fill:#1f77b4;stroke:#1f77b4;\" x=\"664.00517\" xlink:href=\"#m76929ae19e\" y=\"125.712955\"/>\r\n     <use style=\"fill:#1f77b4;stroke:#1f77b4;\" x=\"664.613898\" xlink:href=\"#m76929ae19e\" y=\"84.792915\"/>\r\n     <use style=\"fill:#1f77b4;stroke:#1f77b4;\" x=\"665.222625\" xlink:href=\"#m76929ae19e\" y=\"112.145249\"/>\r\n     <use style=\"fill:#1f77b4;stroke:#1f77b4;\" x=\"665.831352\" xlink:href=\"#m76929ae19e\" y=\"169.910534\"/>\r\n     <use style=\"fill:#1f77b4;stroke:#1f77b4;\" x=\"666.44008\" xlink:href=\"#m76929ae19e\" y=\"141.386357\"/>\r\n     <use style=\"fill:#1f77b4;stroke:#1f77b4;\" x=\"667.048807\" xlink:href=\"#m76929ae19e\" y=\"129.985903\"/>\r\n     <use style=\"fill:#1f77b4;stroke:#1f77b4;\" x=\"667.657534\" xlink:href=\"#m76929ae19e\" y=\"176.002144\"/>\r\n     <use style=\"fill:#1f77b4;stroke:#1f77b4;\" x=\"668.266261\" xlink:href=\"#m76929ae19e\" y=\"185.361747\"/>\r\n     <use style=\"fill:#1f77b4;stroke:#1f77b4;\" x=\"668.874989\" xlink:href=\"#m76929ae19e\" y=\"196.107483\"/>\r\n     <use style=\"fill:#1f77b4;stroke:#1f77b4;\" x=\"669.483716\" xlink:href=\"#m76929ae19e\" y=\"184.671808\"/>\r\n     <use style=\"fill:#1f77b4;stroke:#1f77b4;\" x=\"670.092443\" xlink:href=\"#m76929ae19e\" y=\"145.317628\"/>\r\n     <use style=\"fill:#1f77b4;stroke:#1f77b4;\" x=\"670.70117\" xlink:href=\"#m76929ae19e\" y=\"173.985981\"/>\r\n     <use style=\"fill:#1f77b4;stroke:#1f77b4;\" x=\"671.309898\" xlink:href=\"#m76929ae19e\" y=\"154.26577\"/>\r\n     <use style=\"fill:#1f77b4;stroke:#1f77b4;\" x=\"671.918625\" xlink:href=\"#m76929ae19e\" y=\"226.987526\"/>\r\n     <use style=\"fill:#1f77b4;stroke:#1f77b4;\" x=\"672.527352\" xlink:href=\"#m76929ae19e\" y=\"174.702254\"/>\r\n     <use style=\"fill:#1f77b4;stroke:#1f77b4;\" x=\"673.13608\" xlink:href=\"#m76929ae19e\" y=\"239.54139\"/>\r\n     <use style=\"fill:#1f77b4;stroke:#1f77b4;\" x=\"673.744807\" xlink:href=\"#m76929ae19e\" y=\"178.828063\"/>\r\n     <use style=\"fill:#1f77b4;stroke:#1f77b4;\" x=\"674.353534\" xlink:href=\"#m76929ae19e\" y=\"210.366445\"/>\r\n     <use style=\"fill:#1f77b4;stroke:#1f77b4;\" x=\"674.962261\" xlink:href=\"#m76929ae19e\" y=\"82.123022\"/>\r\n     <use style=\"fill:#1f77b4;stroke:#1f77b4;\" x=\"675.570989\" xlink:href=\"#m76929ae19e\" y=\"137.926457\"/>\r\n     <use style=\"fill:#1f77b4;stroke:#1f77b4;\" x=\"676.179716\" xlink:href=\"#m76929ae19e\" y=\"179.723733\"/>\r\n     <use style=\"fill:#1f77b4;stroke:#1f77b4;\" x=\"676.788443\" xlink:href=\"#m76929ae19e\" y=\"103.305733\"/>\r\n     <use style=\"fill:#1f77b4;stroke:#1f77b4;\" x=\"677.39717\" xlink:href=\"#m76929ae19e\" y=\"212.875374\"/>\r\n     <use style=\"fill:#1f77b4;stroke:#1f77b4;\" x=\"678.005898\" xlink:href=\"#m76929ae19e\" y=\"221.696127\"/>\r\n     <use style=\"fill:#1f77b4;stroke:#1f77b4;\" x=\"678.614625\" xlink:href=\"#m76929ae19e\" y=\"209.692306\"/>\r\n     <use style=\"fill:#1f77b4;stroke:#1f77b4;\" x=\"679.223352\" xlink:href=\"#m76929ae19e\" y=\"87.797245\"/>\r\n     <use style=\"fill:#1f77b4;stroke:#1f77b4;\" x=\"679.83208\" xlink:href=\"#m76929ae19e\" y=\"217.411329\"/>\r\n     <use style=\"fill:#1f77b4;stroke:#1f77b4;\" x=\"680.440807\" xlink:href=\"#m76929ae19e\" y=\"174.974148\"/>\r\n     <use style=\"fill:#1f77b4;stroke:#1f77b4;\" x=\"681.049534\" xlink:href=\"#m76929ae19e\" y=\"44.327788\"/>\r\n     <use style=\"fill:#1f77b4;stroke:#1f77b4;\" x=\"681.658261\" xlink:href=\"#m76929ae19e\" y=\"162.087164\"/>\r\n     <use style=\"fill:#1f77b4;stroke:#1f77b4;\" x=\"682.266989\" xlink:href=\"#m76929ae19e\" y=\"151.109035\"/>\r\n     <use style=\"fill:#1f77b4;stroke:#1f77b4;\" x=\"682.875716\" xlink:href=\"#m76929ae19e\" y=\"142.466691\"/>\r\n     <use style=\"fill:#1f77b4;stroke:#1f77b4;\" x=\"683.484443\" xlink:href=\"#m76929ae19e\" y=\"199.599642\"/>\r\n     <use style=\"fill:#1f77b4;stroke:#1f77b4;\" x=\"684.09317\" xlink:href=\"#m76929ae19e\" y=\"202.849203\"/>\r\n     <use style=\"fill:#1f77b4;stroke:#1f77b4;\" x=\"684.701898\" xlink:href=\"#m76929ae19e\" y=\"193.002428\"/>\r\n     <use style=\"fill:#1f77b4;stroke:#1f77b4;\" x=\"685.310625\" xlink:href=\"#m76929ae19e\" y=\"169.293012\"/>\r\n     <use style=\"fill:#1f77b4;stroke:#1f77b4;\" x=\"685.919352\" xlink:href=\"#m76929ae19e\" y=\"80.450841\"/>\r\n     <use style=\"fill:#1f77b4;stroke:#1f77b4;\" x=\"686.52808\" xlink:href=\"#m76929ae19e\" y=\"194.174601\"/>\r\n     <use style=\"fill:#1f77b4;stroke:#1f77b4;\" x=\"687.136807\" xlink:href=\"#m76929ae19e\" y=\"265.963491\"/>\r\n    </g>\r\n   </g>\r\n   <g id=\"patch_3\">\r\n    <path d=\"M 49.190625 336.607578 \r\nL 49.190625 10.447578 \r\n\" style=\"fill:none;stroke:#000000;stroke-linecap:square;stroke-linejoin:miter;stroke-width:0.8;\"/>\r\n   </g>\r\n   <g id=\"patch_4\">\r\n    <path d=\"M 718.790625 336.607578 \r\nL 718.790625 10.447578 \r\n\" style=\"fill:none;stroke:#000000;stroke-linecap:square;stroke-linejoin:miter;stroke-width:0.8;\"/>\r\n   </g>\r\n   <g id=\"patch_5\">\r\n    <path d=\"M 49.190625 336.607578 \r\nL 718.790625 336.607578 \r\n\" style=\"fill:none;stroke:#000000;stroke-linecap:square;stroke-linejoin:miter;stroke-width:0.8;\"/>\r\n   </g>\r\n   <g id=\"patch_6\">\r\n    <path d=\"M 49.190625 10.447578 \r\nL 718.790625 10.447578 \r\n\" style=\"fill:none;stroke:#000000;stroke-linecap:square;stroke-linejoin:miter;stroke-width:0.8;\"/>\r\n   </g>\r\n   <g id=\"legend_1\">\r\n    <g id=\"patch_7\">\r\n     <path d=\"M 673.428125 33.125703 \r\nL 711.790625 33.125703 \r\nQ 713.790625 33.125703 713.790625 31.125703 \r\nL 713.790625 17.447578 \r\nQ 713.790625 15.447578 711.790625 15.447578 \r\nL 673.428125 15.447578 \r\nQ 671.428125 15.447578 671.428125 17.447578 \r\nL 671.428125 31.125703 \r\nQ 671.428125 33.125703 673.428125 33.125703 \r\nz\r\n\" style=\"fill:#ffffff;opacity:0.8;stroke:#cccccc;stroke-linejoin:miter;\"/>\r\n    </g>\r\n    <g id=\"line2d_17\"/>\r\n    <g id=\"line2d_18\">\r\n     <g>\r\n      <use style=\"fill:#1f77b4;stroke:#1f77b4;\" x=\"685.428125\" xlink:href=\"#m76929ae19e\" y=\"23.546016\"/>\r\n     </g>\r\n    </g>\r\n    <g id=\"text_16\">\r\n     <!-- 0 -->\r\n     <g transform=\"translate(703.428125 27.046016)scale(0.1 -0.1)\">\r\n      <use xlink:href=\"#DejaVuSans-48\"/>\r\n     </g>\r\n    </g>\r\n   </g>\r\n  </g>\r\n </g>\r\n <defs>\r\n  <clipPath id=\"p9f99f6bfb4\">\r\n   <rect height=\"326.16\" width=\"669.6\" x=\"49.190625\" y=\"10.447578\"/>\r\n  </clipPath>\r\n </defs>\r\n</svg>\r\n",
      "image/png": "[encoded data removed]"
     },
     "metadata": {
      "needs_background": "light"
     }
    }
   ],
   "source": [
    "import matplotlib.pyplot as plt\n",
    "\n",
    "tamanho_simulacao = 1000\n",
    "\n",
    "medias = [renda_5000.sample(n = n).mean() for i in range(1, tamanho_simulacao)]\n",
    "medias = pd.DataFrame(medias)\n",
    "\n",
    "ax = medias.plot(style = '.')\n",
    "ax.figure.set_size_inches(12, 6)\n",
    "ax.hlines(y = media, xmin = 0, xmax = tamanho_simulacao, colors='black', linestyles='dashed')\n",
    "ax.hlines(y = intervalo[0], xmin = 0, xmax = tamanho_simulacao, colors='red', linestyles='dashed')\n",
    "ax.hlines(y = intervalo[1], xmin = 0, xmax = tamanho_simulacao, colors='red', linestyles='dashed')\n",
    "ax"
   ]
  },
  {
   "cell_type": "code",
   "execution_count": null,
   "metadata": {
    "colab": {},
    "colab_type": "code",
    "id": "L5BFsSI8G3IB"
   },
   "outputs": [],
   "source": []
  }
 ],
 "metadata": {
  "colab": {
   "collapsed_sections": [],
   "name": "Curso_de_Estatística_Parte_2.ipynb",
   "provenance": [],
   "toc_visible": true,
   "version": "0.3.2"
  },
  "kernelspec": {
   "name": "python388jvsc74a57bd0b3ba2566441a7c06988d0923437866b63cedc61552a5af99d1f4fb67d367b25f",
   "display_name": "Python 3.8.8 64-bit ('base': conda)"
  },
  "language_info": {
   "codemirror_mode": {
    "name": "ipython",
    "version": 3
   },
   "file_extension": ".py",
   "mimetype": "text/x-python",
   "name": "python",
   "nbconvert_exporter": "python",
   "pygments_lexer": "ipython3",
   "version": "3.8.8"
  }
 },
 "nbformat": 4,
 "nbformat_minor": 1
}