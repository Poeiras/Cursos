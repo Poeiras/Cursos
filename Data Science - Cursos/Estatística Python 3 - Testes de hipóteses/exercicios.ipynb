{
 "metadata": {
  "language_info": {
   "codemirror_mode": {
    "name": "ipython",
    "version": 3
   },
   "file_extension": ".py",
   "mimetype": "text/x-python",
   "name": "python",
   "nbconvert_exporter": "python",
   "pygments_lexer": "ipython3",
   "version": "3.8.8"
  },
  "orig_nbformat": 4,
  "kernelspec": {
   "name": "python3",
   "display_name": "Python 3.8.8 64-bit ('base': conda)"
  },
  "interpreter": {
   "hash": "b3ba2566441a7c06988d0923437866b63cedc61552a5af99d1f4fb67d367b25f"
  }
 },
 "nbformat": 4,
 "nbformat_minor": 2,
 "cells": [
  {
   "cell_type": "code",
   "execution_count": 1,
   "metadata": {},
   "outputs": [],
   "source": [
    "import pandas as pd \n",
    "import numpy as np \n",
    "\n",
    "from scipy.stats import normaltest\n",
    "from scipy.stats import norm\n",
    "from scipy.stats import t as t_student\n",
    "from scipy.stats import chi\n",
    "from scipy.stats import wilcoxon\n",
    "from scipy.stats import mannwhitneyu\n",
    "\n",
    "from statsmodels.stats.weightstats import ztest\n",
    "from statsmodels.stats.weightstats import DescrStatsW\n",
    "from statsmodels.stats.weightstats import CompareMeans"
   ]
  },
  {
   "source": [
    "# Teste de hipótese nula Ztest"
   ],
   "cell_type": "markdown",
   "metadata": {}
  },
  {
   "source": [
    "Um fabricante de farinha afirma que a quantidade média de farinha nas embalagens de seu principal produto é de 500 g. \n",
    "\n",
    "Um teste de pesagem em 30 embalagens amostradas ao acaso mostrou um peso médio igual à 485 g. \n",
    "\n",
    "Estudos anteriores afirmam que a distribuição dos pesos segue uma normal e que o desvio padrão populacional é igual a 20 g.\n",
    "\n",
    " Considerando um nível de significância igual a 5%, responda as seguintes questões:\n",
    "\n",
    "1) Qual a hipótese nula a ser testada?\n",
    "\n",
    "2) Qual o valor da estatística de teste?\n",
    "\n",
    "3) Qual a conclusão do teste?\n",
    "\n",
    "4) Teste a hipótese nula de que a média do processo é igual a 500 g e marque a alternativa que indica o p-valor do teste aplicado"
   ],
   "cell_type": "markdown",
   "metadata": {}
  },
  {
   "cell_type": "code",
   "execution_count": 2,
   "metadata": {},
   "outputs": [],
   "source": [
    "media = 500\n",
    "numero_amostras = 30\n",
    "media_amostra = 485\n",
    "desvio_padrao_populacional = 20\n",
    "significancia = 0.05"
   ]
  },
  {
   "cell_type": "code",
   "execution_count": 3,
   "metadata": {},
   "outputs": [
    {
     "output_type": "execute_result",
     "data": {
      "text/plain": [
       "0.725"
      ]
     },
     "metadata": {},
     "execution_count": 3
    }
   ],
   "source": [
    "confianca = 1 - significancia\n",
    "probabilidade = (0.5 + confianca) / 2\n",
    "probabilidade"
   ]
  },
  {
   "cell_type": "code",
   "execution_count": 4,
   "metadata": {},
   "outputs": [
    {
     "output_type": "execute_result",
     "data": {
      "text/plain": [
       "0.6"
      ]
     },
     "metadata": {},
     "execution_count": 4
    }
   ],
   "source": [
    "z_alfa_2 = norm.ppf(probabilidade)\n",
    "z_alfa_2.round(2)"
   ]
  },
  {
   "cell_type": "code",
   "execution_count": 5,
   "metadata": {},
   "outputs": [
    {
     "output_type": "execute_result",
     "data": {
      "text/plain": [
       "-4.11"
      ]
     },
     "metadata": {},
     "execution_count": 5
    }
   ],
   "source": [
    "zezao = (media_amostra - 500) / (desvio_padrao_populacional/ np.sqrt(numero_amostras))\n",
    "zezao.round(2)"
   ]
  },
  {
   "cell_type": "code",
   "execution_count": 6,
   "metadata": {},
   "outputs": [
    {
     "output_type": "stream",
     "name": "stdout",
     "text": [
      "Reijeitada Hipótese Nula\n"
     ]
    }
   ],
   "source": [
    "if(zezao <= z_alfa_2):\n",
    "    print('Reijeitada Hipótese Nula')\n",
    "else:\n",
    "    print('Hipótese Nula')"
   ]
  },
  {
   "cell_type": "code",
   "execution_count": 7,
   "metadata": {},
   "outputs": [
    {
     "output_type": "execute_result",
     "data": {
      "text/plain": [
       "3.992397476904053e-05"
      ]
     },
     "metadata": {},
     "execution_count": 7
    }
   ],
   "source": [
    "# O valor de Z é absoluto por o seu cálculo tem resultado NEGATIVO\n",
    "p_valor = 2 * (1 - norm.cdf(abs(zezao)))\n",
    "p_valor"
   ]
  },
  {
   "cell_type": "code",
   "execution_count": 8,
   "metadata": {},
   "outputs": [
    {
     "output_type": "execute_result",
     "data": {
      "text/plain": [
       "3.992397476901338e-05"
      ]
     },
     "metadata": {},
     "execution_count": 8
    }
   ],
   "source": [
    "p_valor = 2 * (norm.sf(abs(zezao)))\n",
    "p_valor"
   ]
  },
  {
   "cell_type": "code",
   "execution_count": 9,
   "metadata": {},
   "outputs": [
    {
     "output_type": "stream",
     "name": "stdout",
     "text": [
      "Reijeitada Hipótese Nula\n"
     ]
    }
   ],
   "source": [
    "if(p_valor <= significancia):\n",
    "    print('Reijeitada Hipótese Nula')\n",
    "else:\n",
    "    print('Hipótese Nula')"
   ]
  },
  {
   "source": [
    "<hr>"
   ],
   "cell_type": "markdown",
   "metadata": {}
  },
  {
   "source": [
    "# Teste de hipótese de Tstudent - distribuição normal"
   ],
   "cell_type": "markdown",
   "metadata": {}
  },
  {
   "source": [
    "A empresa Limpa Esgoto garante ser capaz de realizar o tratamento de esgoto e obter, no máximo, 150 g de impurezas para cada mil litros de esgoto tratado.\n",
    "\n",
    " Vinte amostras de mil litros de esgoto apresentaram, em média, 230 g de impurezas e desvio padrão amostral igual a 90 g.\n",
    "\n",
    "Assumindo alfa igual a 5% e população normalmente distribuída: \n",
    "\n",
    "Seria possível discordar da empresa Limpa Esgoto? "
   ],
   "cell_type": "markdown",
   "metadata": {}
  },
  {
   "cell_type": "code",
   "execution_count": 10,
   "metadata": {},
   "outputs": [],
   "source": [
    "media = 150\n",
    "media_amostra = 230\n",
    "desvio_padrao_amostral = 90\n",
    "numero_amostras = 20\n",
    "significancia = 0.05\n",
    "confianca = 1 - significancia\n",
    "graus_liberdade = numero_amostras - 1"
   ]
  },
  {
   "cell_type": "code",
   "execution_count": 11,
   "metadata": {},
   "outputs": [
    {
     "output_type": "execute_result",
     "data": {
      "text/plain": [
       "1.729132811521367"
      ]
     },
     "metadata": {},
     "execution_count": 11
    }
   ],
   "source": [
    "t_alfa = t_student.ppf(confianca, graus_liberdade)\n",
    "t_alfa"
   ]
  },
  {
   "cell_type": "code",
   "execution_count": 12,
   "metadata": {},
   "outputs": [
    {
     "output_type": "execute_result",
     "data": {
      "text/plain": [
       "3.9752319599996264"
      ]
     },
     "metadata": {},
     "execution_count": 12
    }
   ],
   "source": [
    "tezao = (media_amostra - media) / (desvio_padrao_amostral / np.sqrt(numero_amostras))\n",
    "tezao"
   ]
  },
  {
   "cell_type": "code",
   "execution_count": 13,
   "metadata": {},
   "outputs": [
    {
     "output_type": "stream",
     "name": "stdout",
     "text": [
      "Rejeitar hipótese nula\nA empresa não obtem no máximo 150g\n"
     ]
    }
   ],
   "source": [
    "if(tezao >=  t_alfa):\n",
    "    print('Rejeitar hipótese nula')\n",
    "    print('A empresa não obtem no máximo 150g')\n",
    "else:\n",
    "    print('Hipótese nula')"
   ]
  },
  {
   "source": [
    "<hr>\n",
    "\n",
    "# Teste para duas amostras"
   ],
   "cell_type": "markdown",
   "metadata": {}
  },
  {
   "source": [
    "A pizzaria Muito Queijo alega que a quantidade de queijo em suas pizzas tamanho família é de, no mínimo, 350 g.\n",
    "\n",
    "Uma amostra de 35 pizzas tamanho família revelou uma média de 330 g de queijo por pizza. \n",
    "\n",
    "O desvio padrão amostral foi de 80 g.\n",
    "\n",
    "Assumindo alfa igual a 5% e população normalmente distribuída, seria possível discordar da alegação da pizzaria? "
   ],
   "cell_type": "markdown",
   "metadata": {}
  },
  {
   "cell_type": "code",
   "execution_count": 14,
   "metadata": {},
   "outputs": [],
   "source": [
    "media = 350\n",
    "numero_amostras = 35\n",
    "media_amostra = 330\n",
    "desvio_padrao_amostral = 80\n",
    "significancia = 0.05\n",
    "confianca = 1 - significancia\n",
    "graus_liberdade = numero_amostras - 1"
   ]
  },
  {
   "cell_type": "code",
   "execution_count": 15,
   "metadata": {},
   "outputs": [
    {
     "output_type": "execute_result",
     "data": {
      "text/plain": [
       "1.645"
      ]
     },
     "metadata": {},
     "execution_count": 15
    }
   ],
   "source": [
    "z_alfa = norm.ppf(confianca)\n",
    "z_alfa.round(3)"
   ]
  },
  {
   "cell_type": "code",
   "execution_count": 16,
   "metadata": {},
   "outputs": [
    {
     "output_type": "execute_result",
     "data": {
      "text/plain": [
       "-1.479019945774904"
      ]
     },
     "metadata": {},
     "execution_count": 16
    }
   ],
   "source": [
    "zezao = (media_amostra - media) / (desvio_padrao_amostral / np.sqrt(numero_amostras))\n",
    "zezao"
   ]
  },
  {
   "cell_type": "code",
   "execution_count": 17,
   "metadata": {},
   "outputs": [
    {
     "output_type": "execute_result",
     "data": {
      "text/plain": [
       "0.9259601676927445"
      ]
     },
     "metadata": {},
     "execution_count": 17
    }
   ],
   "source": [
    "p_valor = t_student.sf(zezao, numero_amostras)\n",
    "p_valor"
   ]
  },
  {
   "cell_type": "code",
   "execution_count": 18,
   "metadata": {},
   "outputs": [
    {
     "output_type": "stream",
     "name": "stdout",
     "text": [
      "Hipótese nula\n"
     ]
    }
   ],
   "source": [
    "if(zezao >=  z_alfa):\n",
    "    print('Rejeitar hipótese nula')\n",
    "else:\n",
    "    print('Hipótese nula')"
   ]
  },
  {
   "cell_type": "code",
   "execution_count": 19,
   "metadata": {},
   "outputs": [
    {
     "output_type": "stream",
     "name": "stdout",
     "text": [
      "Hipótese nula\n"
     ]
    }
   ],
   "source": [
    "if(p_valor <= significancia):\n",
    "    print('Rejeitar hipótese nula')\n",
    "else:\n",
    "    print('Hipótese nula')"
   ]
  },
  {
   "source": [
    "<hr>\n",
    "\n",
    "# Teste de Chi-quadrado"
   ],
   "cell_type": "markdown",
   "metadata": {}
  },
  {
   "source": [
    "Um fabricante de cosméticos afirma que:\n",
    "\n",
    "### Diferença das médias\n",
    "A adição de um novo composto químico em sua linha de shampoos consegue promover em mais de 2 centímetros o crescimento dos fios de cabelo em um período de 60 dias. \n",
    "\n",
    "Duas amostras de pessoas foram selecionadas e testadas, uma utilizando o shampoo novo (com o composto) e a outra com o shampoo antigo (sem o composto).\n",
    "\n",
    "Os resultados (crescimento dos fios de cabelo em centímetros) podem ser verificados na tabela abaixo.\n",
    "\n",
    "Assumindo um nível de confiança de 95% e considerando que as populações se distribuem como uma normal, podemos acreditar na afirmação do fabricante do shampoo?"
   ],
   "cell_type": "markdown",
   "metadata": {}
  },
  {
   "cell_type": "code",
   "execution_count": 20,
   "metadata": {},
   "outputs": [],
   "source": [
    "shampoo_novo = pd.Series([3.4, 4.9, 2.8, 5.5, 3.7, 2.5, 4.3, 4.6, 3.7, 3.4])\n",
    "shampoo_antigo = pd.Series([0.3, 1.2, 1.2, 1.7, 1.1, 0.6, 1.2, 1.5, 0.5, 0.7])"
   ]
  },
  {
   "cell_type": "code",
   "execution_count": 21,
   "metadata": {},
   "outputs": [],
   "source": [
    "media_novo = shampoo_novo.mean()\n",
    "media_antigo = shampoo_antigo.mean()\n",
    "diferencia_medias = 2\n",
    "\n",
    "desvio_novo = shampoo_novo.std()\n",
    "desvio_antigo = shampoo_antigo.std()\n",
    "\n",
    "significancia = 0.05\n",
    "confiancia = 1 - significancia\n",
    "\n",
    "amostra_nova = len(shampoo_novo)\n",
    "amostra_antigo = len(shampoo_antigo)\n",
    "graus_liberdade = amostra_nova - amostra_antigo - 2"
   ]
  },
  {
   "cell_type": "code",
   "execution_count": 22,
   "metadata": {},
   "outputs": [
    {
     "output_type": "execute_result",
     "data": {
      "text/plain": [
       "1.6449"
      ]
     },
     "metadata": {},
     "execution_count": 22
    }
   ],
   "source": [
    "z_alfa = norm.ppf(confianca)\n",
    "z_alfa.round(4)"
   ]
  },
  {
   "cell_type": "code",
   "execution_count": 23,
   "metadata": {},
   "outputs": [
    {
     "output_type": "execute_result",
     "data": {
      "text/plain": [
       "2.6646"
      ]
     },
     "metadata": {},
     "execution_count": 23
    }
   ],
   "source": [
    "numerador = media_novo - media_antigo - diferencia_medias\n",
    "denominador = np.sqrt( (np.square(desvio_novo)/amostra_nova) + (np.square(desvio_antigo)/amostra_antigo) )\n",
    "zezao = numerador / denominador\n",
    "zezao.round(4)"
   ]
  },
  {
   "cell_type": "code",
   "execution_count": 24,
   "metadata": {},
   "outputs": [
    {
     "output_type": "stream",
     "name": "stdout",
     "text": [
      "Rejeita-se hipotese nula\nO fabricante tem afirmação verdadeira\n"
     ]
    }
   ],
   "source": [
    "if(zezao >= z_alfa):\n",
    "    print('Rejeita-se hipotese nula')\n",
    "    print('O fabricante tem afirmação verdadeira')\n",
    "else:\n",
    "    print('Hipótese nula')"
   ]
  },
  {
   "source": [
    "<hr>"
   ],
   "cell_type": "markdown",
   "metadata": {}
  },
  {
   "source": [
    "A realização de um teste não paramétrico Qui-quadrado, com apenas 5 graus de liberdade, obteve-se a estatística de teste no valor de 7,45.\n",
    "\n",
    "Qual seria o p-valor para este teste?\n"
   ],
   "cell_type": "markdown",
   "metadata": {}
  },
  {
   "cell_type": "code",
   "execution_count": 25,
   "metadata": {},
   "outputs": [
    {
     "output_type": "stream",
     "name": "stdout",
     "text": [
      "p_valor = 0.1893\n"
     ]
    }
   ],
   "source": [
    "chi_quadrado = 7.45\n",
    "raiz_chi = np.sqrt(chi_quadrado)\n",
    "p_valor = chi.sf(raiz_chi, df = 5)\n",
    "print('p_valor = ' + str(p_valor.round(4)))"
   ]
  },
  {
   "source": [
    "<hr>\n",
    "\n",
    "# Teste de Wilcoxon"
   ],
   "cell_type": "markdown",
   "metadata": {}
  },
  {
   "source": [
    "Desconfiado da eficiência dos cursos e materiais de estudo online da Alura, um professor resolveu realizar um teste com um grupo de 14 alunos de sua classe. \n",
    "\n",
    "Para isto, ele submeteu estes alunos a duas etapas distintas e logo depois de cada etapa, aplicou uma avaliação.\n",
    "\n",
    "Na etapa inicial, foram oferecidas aulas normais, sem a utilização do material de apoio da Alura. \n",
    " \n",
    "Na segunda etapa, foram também oferecidas aulas normais, mas com a utilização do material de apoio da Alura. \n",
    " \n",
    "As notas obtidas pelos alunos estão na tabela abaixo:\n",
    "\n",
    "Assinale a alternativa que apresenta o resultado do teste, não paramétrico de Wilcoxon, aplicado pelo professor (estatística de teste T e decisão do teste). \n",
    "\n",
    "Considere um nível de significância de 10%."
   ],
   "cell_type": "markdown",
   "metadata": {}
  },
  {
   "cell_type": "code",
   "execution_count": 26,
   "metadata": {},
   "outputs": [],
   "source": [
    "alunos = {  'Antes': [7,8,6,6,10,4,2,5,9,2,4,9,1,10],\n",
    "            'Depois': [10,10,9,9,9,7,5,8,10,6,3,7,4,8]\n",
    "        }\n",
    "alunos = pd.DataFrame(alunos)\n",
    "significancia = 0.1\n",
    "confiancia = 1 - significancia\n",
    "amostras = 14"
   ]
  },
  {
   "cell_type": "code",
   "execution_count": 27,
   "metadata": {},
   "outputs": [
    {
     "output_type": "execute_result",
     "data": {
      "text/plain": [
       "1.64"
      ]
     },
     "metadata": {},
     "execution_count": 27
    }
   ],
   "source": [
    "probablidade = 0.5 + (confianca / 2)\n",
    "z_alfa_2 = norm.ppf(confianca)\n",
    "z_alfa_2.round(2)"
   ]
  },
  {
   "cell_type": "code",
   "execution_count": 28,
   "metadata": {},
   "outputs": [
    {
     "output_type": "stream",
     "name": "stdout",
     "text": [
      "14.0\n0.013427734375\n"
     ]
    }
   ],
   "source": [
    "tezao, p_valor = wilcoxon(alunos.Antes,alunos.Depois)\n",
    "print(tezao)\n",
    "print(p_valor)"
   ]
  },
  {
   "cell_type": "code",
   "execution_count": 29,
   "metadata": {},
   "outputs": [
    {
     "output_type": "execute_result",
     "data": {
      "text/plain": [
       "52.5"
      ]
     },
     "metadata": {},
     "execution_count": 29
    }
   ],
   "source": [
    "mu_tezao = (amostras * (amostras + 1)) / 4\n",
    "mu_tezao"
   ]
  },
  {
   "cell_type": "code",
   "execution_count": 30,
   "metadata": {},
   "outputs": [
    {
     "output_type": "execute_result",
     "data": {
      "text/plain": [
       "15.92953232207399"
      ]
     },
     "metadata": {},
     "execution_count": 30
    }
   ],
   "source": [
    "numerador = amostras * (amostras + 1)*(2 * amostras + 1)\n",
    "denominador = 24\n",
    "sigma_tezao = np.sqrt(numerador / denominador)\n",
    "sigma_tezao"
   ]
  },
  {
   "cell_type": "code",
   "execution_count": 31,
   "metadata": {},
   "outputs": [
    {
     "output_type": "execute_result",
     "data": {
      "text/plain": [
       "-2.4169"
      ]
     },
     "metadata": {},
     "execution_count": 31
    }
   ],
   "source": [
    "z_teste = (tezao - mu_tezao) / sigma_tezao\n",
    "z_teste.round(4)"
   ]
  },
  {
   "cell_type": "code",
   "execution_count": 32,
   "metadata": {},
   "outputs": [
    {
     "output_type": "stream",
     "name": "stdout",
     "text": [
      "Rejeita-se hipótese nula\n"
     ]
    }
   ],
   "source": [
    "if (z_teste <= -z_alfa_2):\n",
    "    print('Rejeita-se hipótese nula')\n",
    "else:\n",
    "    print('Hipótese nula')"
   ]
  },
  {
   "source": [
    "<hr>\n",
    "\n",
    "# Teste de Mann Whitney"
   ],
   "cell_type": "markdown",
   "metadata": {}
  },
  {
   "source": [
    "Um professor acredita que alunos que praticam exercícios físicos têm uma performance média escolar superior àquela obtida por alunos que não praticam. \n",
    "\n",
    "Para provar sua teoria, selecionou duas amostras aleatórias, uma com 9 alunos que não praticam exercícios físicos e outra com 10 alunos que cultivam o hábito de se exercitar.\n",
    "\n",
    "A tabela abaixo mostra as notas dos alunos no último ano:\n",
    "\n",
    "Teste a hipótese da média das notas dos alunos que praticam exercícios ser maior que a média das notas dos alunos que não praticam.\n",
    " \n",
    "Assinale a alternativa que apresenta o resultado do teste (estatística de teste u e decisão do teste).\n",
    "  \n",
    "Considere um nível de significância de 10%."
   ],
   "cell_type": "markdown",
   "metadata": {}
  },
  {
   "source": [
    "### A ordem aqui faz diferença \n",
    "hipótese nula = não há diferença entre as médias\n",
    "\n",
    "hipotese alternativa = media CE > media SE"
   ],
   "cell_type": "markdown",
   "metadata": {}
  },
  {
   "cell_type": "code",
   "execution_count": 33,
   "metadata": {},
   "outputs": [],
   "source": [
    "alunos = {\n",
    "    'Sem Exercicio': [7,6,7,8,6,8,6,9,5],\n",
    "    'Com Exercicio': [8,7,6,6,8,6,10,6,7,8]\n",
    "}"
   ]
  },
  {
   "cell_type": "code",
   "execution_count": 34,
   "metadata": {},
   "outputs": [],
   "source": [
    "n_1 = len(alunos['Sem Exercicio'])\n",
    "n_2 = len(alunos['Com Exercicio'])\n",
    "significancia = 0.1\n",
    "confianca = 1 - significancia\n",
    "graus_liberdade = n_1 + n_2 - 2"
   ]
  },
  {
   "cell_type": "code",
   "execution_count": 35,
   "metadata": {},
   "outputs": [
    {
     "output_type": "execute_result",
     "data": {
      "text/plain": [
       "-1.3334"
      ]
     },
     "metadata": {},
     "execution_count": 35
    }
   ],
   "source": [
    "t_alfa = t_student.ppf(significancia,graus_liberdade)\n",
    "t_alfa.round(4)"
   ]
  },
  {
   "cell_type": "code",
   "execution_count": 36,
   "metadata": {},
   "outputs": [
    {
     "output_type": "stream",
     "name": "stdout",
     "text": [
      "50.0\n0.35118642828565927\n"
     ]
    }
   ],
   "source": [
    "# Atenção a ordem dos parâmetros\n",
    "uzao,p_valor = mannwhitneyu(alunos['Com Exercicio'], alunos['Sem Exercicio'], alternative = 'greater')\n",
    "print(uzao)\n",
    "print(p_valor)"
   ]
  },
  {
   "cell_type": "code",
   "execution_count": 37,
   "metadata": {},
   "outputs": [
    {
     "output_type": "stream",
     "name": "stdout",
     "text": [
      "Hipótese nula\n"
     ]
    }
   ],
   "source": [
    "if (p_valor <= significancia):\n",
    "    print('Rejeita-se hipótese nula')\n",
    "else:\n",
    "    print('Hipótese nula')"
   ]
  },
  {
   "source": [
    "<hr>\n",
    "\n",
    "# Exercício Final\n",
    "\n",
    "Você é um pesquisador que estuda o mercado de trabalho brasileiro e resolve estudar as diferenças salariais dos trabalhadores dos estados do Rio de Janeiro e de São Paulo. \n",
    "\n",
    "Durante sua pesquisa você verifica que, aparentemente, os rendimentos dos trabalhadores no estado do Rio de Janeiro são mais baixos que os rendimentos dos trabalhadores no estado de São Paulo.\n",
    "\n",
    "Para confirmar esta conclusão realize um teste de hipótese de comparação de médias em cima de duas amostras de trabalhadores dos dois estados.\n",
    "\n",
    "Siga as seguintes etapas:\n",
    "\n",
    "- Selecione duas amostras de **500 trabalhadores** para cada um dos dois estados (variável UF) para realizar o teste. Utilize o **parâmetro random_state=101**.\n",
    "- Considere o **nível de significância de 5%**.\n",
    "- Teste a hipótese de que a **renda média dos trabalhadores do Rio de Janeiro é menor que a renda média dos trabalhadores de São Paulo**.\n",
    "<hr>\n",
    "\n",
    "Código das UFs: \n",
    "\n",
    "Rio de Janeiro = 33\n",
    "\n",
    "São Paulo = 35"
   ],
   "cell_type": "markdown",
   "metadata": {}
  },
  {
   "cell_type": "code",
   "execution_count": 38,
   "metadata": {},
   "outputs": [
    {
     "output_type": "execute_result",
     "data": {
      "text/plain": [
       "   UF  Sexo  Idade  Cor  Anos de Estudo  Renda    Altura\n",
       "0  11     0     23    8              12    800  1.603808\n",
       "1  11     1     23    2              12   1150  1.739790\n",
       "2  11     1     35    8              15    880  1.760444\n",
       "3  11     0     46    2               6   3500  1.783158\n",
       "4  11     1     47    8               9    150  1.690631"
      ],
      "text/html": "<div>\n<style scoped>\n    .dataframe tbody tr th:only-of-type {\n        vertical-align: middle;\n    }\n\n    .dataframe tbody tr th {\n        vertical-align: top;\n    }\n\n    .dataframe thead th {\n        text-align: right;\n    }\n</style>\n<table border=\"1\" class=\"dataframe\">\n  <thead>\n    <tr style=\"text-align: right;\">\n      <th></th>\n      <th>UF</th>\n      <th>Sexo</th>\n      <th>Idade</th>\n      <th>Cor</th>\n      <th>Anos de Estudo</th>\n      <th>Renda</th>\n      <th>Altura</th>\n    </tr>\n  </thead>\n  <tbody>\n    <tr>\n      <th>0</th>\n      <td>11</td>\n      <td>0</td>\n      <td>23</td>\n      <td>8</td>\n      <td>12</td>\n      <td>800</td>\n      <td>1.603808</td>\n    </tr>\n    <tr>\n      <th>1</th>\n      <td>11</td>\n      <td>1</td>\n      <td>23</td>\n      <td>2</td>\n      <td>12</td>\n      <td>1150</td>\n      <td>1.739790</td>\n    </tr>\n    <tr>\n      <th>2</th>\n      <td>11</td>\n      <td>1</td>\n      <td>35</td>\n      <td>8</td>\n      <td>15</td>\n      <td>880</td>\n      <td>1.760444</td>\n    </tr>\n    <tr>\n      <th>3</th>\n      <td>11</td>\n      <td>0</td>\n      <td>46</td>\n      <td>2</td>\n      <td>6</td>\n      <td>3500</td>\n      <td>1.783158</td>\n    </tr>\n    <tr>\n      <th>4</th>\n      <td>11</td>\n      <td>1</td>\n      <td>47</td>\n      <td>8</td>\n      <td>9</td>\n      <td>150</td>\n      <td>1.690631</td>\n    </tr>\n  </tbody>\n</table>\n</div>"
     },
     "metadata": {},
     "execution_count": 38
    }
   ],
   "source": [
    "dados = pd.read_csv('dados.csv')\n",
    "dados.head()"
   ]
  },
  {
   "cell_type": "code",
   "execution_count": 39,
   "metadata": {},
   "outputs": [],
   "source": [
    "cariocas    = dados.query('UF == 33').sample(n = 500, random_state = 101).Renda\n",
    "paulistas   = dados.query('UF == 35').sample(n = 500, random_state = 101).Renda"
   ]
  },
  {
   "cell_type": "code",
   "execution_count": 40,
   "metadata": {},
   "outputs": [],
   "source": [
    "significancia = 0.05\n",
    "confiancia = 1 - significancia\n",
    "graus_liberdade = len(cariocas) + len(paulistas) - 2"
   ]
  },
  {
   "cell_type": "code",
   "execution_count": 41,
   "metadata": {},
   "outputs": [
    {
     "output_type": "execute_result",
     "data": {
      "text/plain": [
       "1.2816"
      ]
     },
     "metadata": {},
     "execution_count": 41
    }
   ],
   "source": [
    "z_alfa = norm.ppf(confianca)\n",
    "z_alfa.round(4)"
   ]
  },
  {
   "cell_type": "code",
   "execution_count": 42,
   "metadata": {},
   "outputs": [],
   "source": [
    "teste_cariocas = DescrStatsW(cariocas)\n",
    "teste_paulistas = DescrStatsW(paulistas)\n",
    "teste = teste_cariocas.get_compare(teste_paulistas)"
   ]
  },
  {
   "cell_type": "code",
   "execution_count": 43,
   "metadata": {},
   "outputs": [
    {
     "output_type": "stream",
     "name": "stdout",
     "text": [
      "-2.2553182736085575\n0.012056679215693415\n"
     ]
    }
   ],
   "source": [
    "zezao,p_valor = teste.ztest_ind(alternative = 'smaller', value = 0)\n",
    "print(zezao)\n",
    "print(p_valor)"
   ]
  },
  {
   "cell_type": "code",
   "execution_count": 44,
   "metadata": {},
   "outputs": [
    {
     "output_type": "stream",
     "name": "stdout",
     "text": [
      "Rejeita-se hipótese nula\nHá diferença entre as médias\n"
     ]
    }
   ],
   "source": [
    "if(abs(zezao) >= z_alfa):\n",
    "    print('Rejeita-se hipótese nula')\n",
    "    print('Há diferença entre as médias')\n",
    "else:\n",
    "    print('Hipótese nula')"
   ]
  },
  {
   "cell_type": "code",
   "execution_count": 45,
   "metadata": {},
   "outputs": [],
   "source": [
    "teste = CompareMeans(teste_cariocas,teste_paulistas)\n",
    "zezao,p_valor = teste.ztest_ind(alternative = 'smaller', value = 0)"
   ]
  },
  {
   "cell_type": "code",
   "execution_count": 46,
   "metadata": {},
   "outputs": [
    {
     "output_type": "stream",
     "name": "stdout",
     "text": [
      "Rejeita-se hipótese nula\nHá diferença entre as médias\n"
     ]
    }
   ],
   "source": [
    "if(abs(zezao) >= z_alfa):\n",
    "    print('Rejeita-se hipótese nula')\n",
    "    print('Há diferença entre as médias')\n",
    "else:\n",
    "    print('Hipótese nula')"
   ]
  },
  {
   "cell_type": "code",
   "execution_count": 47,
   "metadata": {},
   "outputs": [
    {
     "output_type": "stream",
     "name": "stdout",
     "text": [
      "Rejeita-se hipótese nula\nHá diferença entre as médias\n"
     ]
    }
   ],
   "source": [
    "if (p_valor <= z_alfa):\n",
    "    print('Rejeita-se hipótese nula')\n",
    "    print('Há diferença entre as médias')\n",
    "else:\n",
    "    print('Hipótese nula')    "
   ]
  }
 ]
}