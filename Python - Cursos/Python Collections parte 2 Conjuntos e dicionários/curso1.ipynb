{
 "cells": [
  {
   "cell_type": "markdown",
   "source": [
    "# Unidade 1: Conjuntos"
   ],
   "metadata": {}
  },
  {
   "cell_type": "code",
   "execution_count": 1,
   "source": [
    "usuarios_data = [15, 23, 43, 56]\r\n",
    "usuarios_machine = [13, 23, 56, 42]\r\n",
    "\r\n",
    "assistiram = usuarios_data.copy()\r\n",
    "assistiram.extend(usuarios_machine)"
   ],
   "outputs": [],
   "metadata": {}
  },
  {
   "cell_type": "code",
   "execution_count": 2,
   "source": [
    "set(assistiram)"
   ],
   "outputs": [
    {
     "output_type": "execute_result",
     "data": {
      "text/plain": [
       "{13, 15, 23, 42, 43, 56}"
      ]
     },
     "metadata": {},
     "execution_count": 2
    }
   ],
   "metadata": {}
  },
  {
   "cell_type": "code",
   "execution_count": 3,
   "source": [
    "# Conjuntos são bons quando a ordem não importa - de forma única e sem posição\r\n",
    "usuarios_data = {15, 23, 43, 56}\r\n",
    "usuarios_machine = {13, 23, 56, 42}\r\n",
    "usuarios_machine"
   ],
   "outputs": [
    {
     "output_type": "execute_result",
     "data": {
      "text/plain": [
       "{13, 23, 42, 56}"
      ]
     },
     "metadata": {},
     "execution_count": 3
    }
   ],
   "metadata": {}
  },
  {
   "cell_type": "code",
   "execution_count": 4,
   "source": [
    "for usuario in assistiram:\r\n",
    "    print(usuario)"
   ],
   "outputs": [
    {
     "output_type": "stream",
     "name": "stdout",
     "text": [
      "15\n",
      "23\n",
      "43\n",
      "56\n",
      "13\n",
      "23\n",
      "56\n",
      "42\n"
     ]
    }
   ],
   "metadata": {}
  },
  {
   "cell_type": "code",
   "execution_count": 5,
   "source": [
    "# Operação OU, união dos conjuntos\r\n",
    "usuarios_data | usuarios_machine "
   ],
   "outputs": [
    {
     "output_type": "execute_result",
     "data": {
      "text/plain": [
       "{13, 15, 23, 42, 43, 56}"
      ]
     },
     "metadata": {},
     "execution_count": 5
    }
   ],
   "metadata": {}
  },
  {
   "cell_type": "code",
   "execution_count": 6,
   "source": [
    "# Operação intersecção, juntos\r\n",
    "usuarios_data & usuarios_machine"
   ],
   "outputs": [
    {
     "output_type": "execute_result",
     "data": {
      "text/plain": [
       "{23, 56}"
      ]
     },
     "metadata": {},
     "execution_count": 6
    }
   ],
   "metadata": {}
  },
  {
   "cell_type": "code",
   "execution_count": 7,
   "source": [
    "# Operação de subtração\r\n",
    "usuarios_data - usuarios_machine"
   ],
   "outputs": [
    {
     "output_type": "execute_result",
     "data": {
      "text/plain": [
       "{15, 43}"
      ]
     },
     "metadata": {},
     "execution_count": 7
    }
   ],
   "metadata": {}
  },
  {
   "cell_type": "code",
   "execution_count": 8,
   "source": [
    "# Exclusivos dentro dos conjuntos\r\n",
    "usuarios_data ^ usuarios_machine"
   ],
   "outputs": [
    {
     "output_type": "execute_result",
     "data": {
      "text/plain": [
       "{13, 15, 42, 43}"
      ]
     },
     "metadata": {},
     "execution_count": 8
    }
   ],
   "metadata": {}
  },
  {
   "cell_type": "markdown",
   "source": [
    "# Unidade 2: Operações"
   ],
   "metadata": {}
  },
  {
   "cell_type": "code",
   "execution_count": 9,
   "source": [
    "usuarios = {1 ,5 , 76 , 34 , 52 ,13 ,17}\r\n",
    "usuarios"
   ],
   "outputs": [
    {
     "output_type": "execute_result",
     "data": {
      "text/plain": [
       "{1, 5, 13, 17, 34, 52, 76}"
      ]
     },
     "metadata": {},
     "execution_count": 9
    }
   ],
   "metadata": {}
  },
  {
   "cell_type": "code",
   "execution_count": 10,
   "source": [
    "usuarios.add(13)\r\n",
    "usuarios.add(765) \r\n",
    "usuarios"
   ],
   "outputs": [
    {
     "output_type": "execute_result",
     "data": {
      "text/plain": [
       "{1, 5, 13, 17, 34, 52, 76, 765}"
      ]
     },
     "metadata": {},
     "execution_count": 10
    }
   ],
   "metadata": {}
  },
  {
   "cell_type": "code",
   "execution_count": 11,
   "source": [
    "usuarios = frozenset(usuarios)\r\n",
    "type(usuarios) "
   ],
   "outputs": [
    {
     "output_type": "execute_result",
     "data": {
      "text/plain": [
       "frozenset"
      ]
     },
     "metadata": {},
     "execution_count": 11
    }
   ],
   "metadata": {}
  },
  {
   "cell_type": "code",
   "execution_count": 12,
   "source": [
    "texto = 'Bem vindo meu nome é Lucas eu gosto muito de nomes e tenho o meu cachorro e gosto muito de cachorro'\r\n",
    "texto"
   ],
   "outputs": [
    {
     "output_type": "execute_result",
     "data": {
      "text/plain": [
       "'Bem vindo meu nome é Lucas eu gosto muito de nomes e tenho o meu cachorro e gosto muito de cachorro'"
      ]
     },
     "metadata": {},
     "execution_count": 12
    }
   ],
   "metadata": {}
  },
  {
   "cell_type": "code",
   "execution_count": 13,
   "source": [
    "# Tira a duplicidade e transforma num conjunto\r\n",
    "set(texto.split())"
   ],
   "outputs": [
    {
     "output_type": "execute_result",
     "data": {
      "text/plain": [
       "{'Bem',\n",
       " 'Lucas',\n",
       " 'cachorro',\n",
       " 'de',\n",
       " 'e',\n",
       " 'eu',\n",
       " 'gosto',\n",
       " 'meu',\n",
       " 'muito',\n",
       " 'nome',\n",
       " 'nomes',\n",
       " 'o',\n",
       " 'tenho',\n",
       " 'vindo',\n",
       " 'é'}"
      ]
     },
     "metadata": {},
     "execution_count": 13
    }
   ],
   "metadata": {}
  },
  {
   "cell_type": "markdown",
   "source": [
    "# Unidade 3: Dicionários"
   ],
   "metadata": {}
  },
  {
   "cell_type": "code",
   "execution_count": 14,
   "source": [
    "# Mapa\r\n",
    "aparicoes = {\r\n",
    "    'Lucas' : 1,\r\n",
    "    'cachorro' : 2,\r\n",
    "    'nome' : 2,\r\n",
    "    'vindo': 1\r\n",
    "}\r\n",
    "aparicoes "
   ],
   "outputs": [
    {
     "output_type": "execute_result",
     "data": {
      "text/plain": [
       "{'Lucas': 1, 'cachorro': 2, 'nome': 2, 'vindo': 1}"
      ]
     },
     "metadata": {},
     "execution_count": 14
    }
   ],
   "metadata": {}
  },
  {
   "cell_type": "code",
   "execution_count": 15,
   "source": [
    "aparicoes['nome']"
   ],
   "outputs": [
    {
     "output_type": "execute_result",
     "data": {
      "text/plain": [
       "2"
      ]
     },
     "metadata": {},
     "execution_count": 15
    }
   ],
   "metadata": {}
  },
  {
   "cell_type": "code",
   "execution_count": 16,
   "source": [
    "aparicoes.get('doido', 0) "
   ],
   "outputs": [
    {
     "output_type": "execute_result",
     "data": {
      "text/plain": [
       "0"
      ]
     },
     "metadata": {},
     "execution_count": 16
    }
   ],
   "metadata": {}
  },
  {
   "cell_type": "code",
   "execution_count": 17,
   "source": [
    "aparicoes.get('Lucas', 0) "
   ],
   "outputs": [
    {
     "output_type": "execute_result",
     "data": {
      "text/plain": [
       "1"
      ]
     },
     "metadata": {},
     "execution_count": 17
    }
   ],
   "metadata": {}
  },
  {
   "cell_type": "code",
   "execution_count": 18,
   "source": [
    "aparicoes2 = dict(Lucas = 2, cachorro = 1)\r\n",
    "aparicoes2"
   ],
   "outputs": [
    {
     "output_type": "execute_result",
     "data": {
      "text/plain": [
       "{'Lucas': 2, 'cachorro': 1}"
      ]
     },
     "metadata": {},
     "execution_count": 18
    }
   ],
   "metadata": {}
  },
  {
   "cell_type": "code",
   "execution_count": 19,
   "source": [
    "aparicoes2['Cao'] = 2\r\n",
    "aparicoes2"
   ],
   "outputs": [
    {
     "output_type": "execute_result",
     "data": {
      "text/plain": [
       "{'Lucas': 2, 'cachorro': 1, 'Cao': 2}"
      ]
     },
     "metadata": {},
     "execution_count": 19
    }
   ],
   "metadata": {}
  },
  {
   "cell_type": "code",
   "execution_count": 20,
   "source": [
    "del aparicoes2['Cao']\r\n",
    "aparicoes2 "
   ],
   "outputs": [
    {
     "output_type": "execute_result",
     "data": {
      "text/plain": [
       "{'Lucas': 2, 'cachorro': 1}"
      ]
     },
     "metadata": {},
     "execution_count": 20
    }
   ],
   "metadata": {}
  },
  {
   "cell_type": "code",
   "execution_count": 21,
   "source": [
    "for elem in aparicoes2:\r\n",
    "    print(elem) "
   ],
   "outputs": [
    {
     "output_type": "stream",
     "name": "stdout",
     "text": [
      "Lucas\n",
      "cachorro\n"
     ]
    }
   ],
   "metadata": {}
  },
  {
   "cell_type": "code",
   "execution_count": 23,
   "source": [
    "for elem in aparicoes2.keys():\r\n",
    "    print(elem) \r\n",
    "\r\n",
    "for elem in aparicoes2.values():\r\n",
    "    print(elem) "
   ],
   "outputs": [
    {
     "output_type": "stream",
     "name": "stdout",
     "text": [
      "Lucas\n",
      "cachorro\n",
      "2\n",
      "1\n"
     ]
    }
   ],
   "metadata": {}
  },
  {
   "cell_type": "code",
   "execution_count": 24,
   "source": [
    "for elem in aparicoes2.values():\r\n",
    "    print(elem, aparicoes2) "
   ],
   "outputs": [
    {
     "output_type": "stream",
     "name": "stdout",
     "text": [
      "2 {'Lucas': 2, 'cachorro': 1}\n",
      "1 {'Lucas': 2, 'cachorro': 1}\n"
     ]
    }
   ],
   "metadata": {}
  },
  {
   "cell_type": "code",
   "execution_count": 25,
   "source": [
    "['palavra {}'.format(chave) for chave in aparicoes2.keys()]"
   ],
   "outputs": [
    {
     "output_type": "execute_result",
     "data": {
      "text/plain": [
       "['palavra Lucas', 'palavra cachorro']"
      ]
     },
     "metadata": {},
     "execution_count": 25
    }
   ],
   "metadata": {}
  },
  {
   "cell_type": "markdown",
   "source": [
    "# Unidade 4: Variações de dicionários"
   ],
   "metadata": {}
  },
  {
   "cell_type": "code",
   "execution_count": 26,
   "source": [
    "texto"
   ],
   "outputs": [
    {
     "output_type": "execute_result",
     "data": {
      "text/plain": [
       "'Bem vindo meu nome é Lucas eu gosto muito de nomes e tenho o meu cachorro e gosto muito de cachorro'"
      ]
     },
     "metadata": {},
     "execution_count": 26
    }
   ],
   "metadata": {}
  },
  {
   "cell_type": "code",
   "execution_count": 27,
   "source": [
    "texto.lower() "
   ],
   "outputs": [
    {
     "output_type": "execute_result",
     "data": {
      "text/plain": [
       "'bem vindo meu nome é lucas eu gosto muito de nomes e tenho o meu cachorro e gosto muito de cachorro'"
      ]
     },
     "metadata": {},
     "execution_count": 27
    }
   ],
   "metadata": {}
  }
 ],
 "metadata": {
  "orig_nbformat": 4,
  "language_info": {
   "name": "python"
  }
 },
 "nbformat": 4,
 "nbformat_minor": 2
}