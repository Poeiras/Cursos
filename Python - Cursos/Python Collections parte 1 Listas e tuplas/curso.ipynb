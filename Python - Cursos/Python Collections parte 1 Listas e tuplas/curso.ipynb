{
 "cells": [
  {
   "cell_type": "markdown",
   "metadata": {},
   "source": [
    "# Bibliotecas"
   ]
  },
  {
   "cell_type": "markdown",
   "metadata": {},
   "source": [
    "## Unidade 1: Listas e operações"
   ]
  },
  {
   "cell_type": "code",
   "execution_count": 1,
   "metadata": {},
   "outputs": [
    {
     "data": {
      "text/plain": [
       "list"
      ]
     },
     "execution_count": 1,
     "metadata": {},
     "output_type": "execute_result"
    }
   ],
   "source": [
    "idade = [10,20,30,40]\r\n",
    "type(idade)"
   ]
  },
  {
   "cell_type": "code",
   "execution_count": 2,
   "metadata": {},
   "outputs": [
    {
     "data": {
      "text/plain": [
       "[10, 20, 30, 40, 50]"
      ]
     },
     "execution_count": 2,
     "metadata": {},
     "output_type": "execute_result"
    }
   ],
   "source": [
    "idade.append(50)\r\n",
    "idade"
   ]
  },
  {
   "cell_type": "code",
   "execution_count": 3,
   "metadata": {},
   "outputs": [
    {
     "data": {
      "text/plain": [
       "[10, 20, 40, 50]"
      ]
     },
     "execution_count": 3,
     "metadata": {},
     "output_type": "execute_result"
    }
   ],
   "source": [
    "idade.remove(30)\r\n",
    "idade "
   ]
  },
  {
   "cell_type": "code",
   "execution_count": 4,
   "metadata": {},
   "outputs": [
    {
     "data": {
      "text/plain": [
       "[10, 20, 33, 40, 50]"
      ]
     },
     "execution_count": 4,
     "metadata": {},
     "output_type": "execute_result"
    }
   ],
   "source": [
    "idade.insert(2, 33)\r\n",
    "idade"
   ]
  },
  {
   "cell_type": "code",
   "execution_count": 5,
   "metadata": {},
   "outputs": [
    {
     "data": {
      "text/plain": [
       "[10, 20, 33, 40, 50, [12, 44]]"
      ]
     },
     "execution_count": 5,
     "metadata": {},
     "output_type": "execute_result"
    }
   ],
   "source": [
    "idade.append([12,44])\r\n",
    "idade"
   ]
  },
  {
   "cell_type": "code",
   "execution_count": 6,
   "metadata": {},
   "outputs": [
    {
     "name": "stdout",
     "output_type": "stream",
     "text": [
      "Recebi o elemento:  10\n",
      "Recebi o elemento:  20\n",
      "Recebi o elemento:  33\n",
      "Recebi o elemento:  40\n",
      "Recebi o elemento:  50\n",
      "Recebi o elemento:  [12, 44]\n"
     ]
    }
   ],
   "source": [
    "for elemento in idade:\r\n",
    "    print('Recebi o elemento: ', elemento)"
   ]
  },
  {
   "cell_type": "code",
   "execution_count": 7,
   "metadata": {},
   "outputs": [
    {
     "data": {
      "text/plain": [
       "[10, 20, 33, 40, 50, [12, 44], 12, 44]"
      ]
     },
     "execution_count": 7,
     "metadata": {},
     "output_type": "execute_result"
    }
   ],
   "source": [
    "idade.extend([12,44])\r\n",
    "idade"
   ]
  },
  {
   "cell_type": "markdown",
   "metadata": {},
   "source": [
    "## Unidade 2: Tuplas"
   ]
  },
  {
   "cell_type": "code",
   "execution_count": 8,
   "metadata": {},
   "outputs": [],
   "source": [
    "class ContaCorrente:\r\n",
    "\r\n",
    "    def __init__(self,codigo):\r\n",
    "        self.codigo = codigo\r\n",
    "        self.saldo = 0\r\n",
    "\r\n",
    "    def deposita(self,valor):\r\n",
    "        self.saldo += valor\r\n",
    "\r\n",
    "    def deposita_todas(contas, valor):\r\n",
    "        for conta in contas:\r\n",
    "            conta.deposita(valor)\r\n",
    "\r\n",
    "    def __str__(self):\r\n",
    "        return '[Codigo: {}, Saldo R$ {}]'.format(self.codigo, self.saldo)"
   ]
  },
  {
   "cell_type": "code",
   "execution_count": 9,
   "metadata": {},
   "outputs": [
    {
     "name": "stdout",
     "output_type": "stream",
     "text": [
      "[Codigo: 13, Saldo R$ 0]\n"
     ]
    }
   ],
   "source": [
    "conta_lucas = ContaCorrente(13)\r\n",
    "print(conta_lucas)"
   ]
  },
  {
   "cell_type": "code",
   "execution_count": 10,
   "metadata": {},
   "outputs": [
    {
     "name": "stdout",
     "output_type": "stream",
     "text": [
      "[Codigo: 13, Saldo R$ 400]\n"
     ]
    }
   ],
   "source": [
    "conta_lucas.deposita(400)\r\n",
    "print(conta_lucas)"
   ]
  },
  {
   "cell_type": "code",
   "execution_count": 11,
   "metadata": {},
   "outputs": [
    {
     "name": "stdout",
     "output_type": "stream",
     "text": [
      "[<__main__.ContaCorrente object at 0x0000018DFEA3ABB0>, <__main__.ContaCorrente object at 0x0000018DFEA240A0>]\n"
     ]
    }
   ],
   "source": [
    "conta_cao = ContaCorrente(10)\r\n",
    "conta_cao.deposita(100)\r\n",
    "contas = [conta_cao, conta_lucas]\r\n",
    "print(contas)"
   ]
  },
  {
   "cell_type": "code",
   "execution_count": 12,
   "metadata": {},
   "outputs": [
    {
     "name": "stdout",
     "output_type": "stream",
     "text": [
      "[Codigo: 10, Saldo R$ 100]\n",
      "[Codigo: 13, Saldo R$ 400]\n"
     ]
    }
   ],
   "source": [
    "for conta in contas:\r\n",
    "    print(conta)"
   ]
  },
  {
   "cell_type": "code",
   "execution_count": 13,
   "metadata": {},
   "outputs": [
    {
     "name": "stdout",
     "output_type": "stream",
     "text": [
      "[Codigo: 13, Saldo R$ 400]\n"
     ]
    }
   ],
   "source": [
    "contas = [conta_cao, conta_lucas, conta_lucas]\r\n",
    "print(contas[2])"
   ]
  },
  {
   "cell_type": "code",
   "execution_count": 14,
   "metadata": {},
   "outputs": [
    {
     "name": "stdout",
     "output_type": "stream",
     "text": [
      "[Codigo: 10, Saldo R$ 200]\n",
      "[Codigo: 13, Saldo R$ 600]\n",
      "[Codigo: 13, Saldo R$ 600]\n"
     ]
    }
   ],
   "source": [
    "def deposita_todas(contas, valor):\r\n",
    "    for conta in contas:\r\n",
    "        conta.deposita(valor)\r\n",
    "deposita_todas(contas, 100)\r\n",
    "for conta in contas:\r\n",
    "    print(conta) "
   ]
  },
  {
   "cell_type": "code",
   "execution_count": null,
   "metadata": {},
   "outputs": [],
   "source": []
  }
 ],
 "metadata": {
  "interpreter": {
   "hash": "2031f9519a7c89e6e764d298a7cc2bf310f53fcc368717afac921416e61cc7f7"
  },
  "kernelspec": {
   "display_name": "Python 3.9.4 64-bit",
   "name": "python3"
  },
  "language_info": {
   "codemirror_mode": {
    "name": "ipython",
    "version": 3
   },
   "file_extension": ".py",
   "mimetype": "text/x-python",
   "name": "python",
   "nbconvert_exporter": "python",
   "pygments_lexer": "ipython3",
   "version": "3.9.4"
  },
  "orig_nbformat": 4
 },
 "nbformat": 4,
 "nbformat_minor": 2
}